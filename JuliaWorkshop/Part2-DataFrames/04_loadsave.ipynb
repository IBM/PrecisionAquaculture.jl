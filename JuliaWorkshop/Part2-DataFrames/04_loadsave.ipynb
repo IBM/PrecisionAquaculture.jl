{
 "cells": [
  {
   "cell_type": "markdown",
   "metadata": {},
   "source": [
    "# Introduction to DataFrames\n",
    "**This is from the excellent Julia tutorial by [Bogumił Kamiński](http://bogumilkaminski.pl/about/)** <br>\n",
    "Entire tutorial available [here](https://github.com/bkamins/Julia-DataFrames-Tutorial)\n",
    "\n",
    "Later in this course we will use Julia to manipulate and transform environmental datasets before interrogating with the IBM AutoAI tool. The basic process involves:\n",
    "- Load data from CSV files\n",
    "- Manipulate and transform in Julia\n",
    "- Save to CSV and load to AutoAI dashboard\n",
    "This notebook illustrates the structure to load and save various dataforms in Julia"
   ]
  },
  {
   "cell_type": "code",
   "execution_count": 5,
   "metadata": {},
   "outputs": [],
   "source": [
    "using DataFrames"
   ]
  },
  {
   "cell_type": "markdown",
   "metadata": {},
   "source": [
    "## Load and save DataFrames\n",
    "We do not cover all features of the packages. Please refer to their documentation to learn them.\n",
    "\n",
    "Here we'll load CSV.jl to read and write CSV files and Arrow.jl, JLSO.jl, and serialization, which allow us to work with a binary format and JSONTables.jl for JSON interaction. Finally we consider a custom JDF.jl format."
   ]
  },
  {
   "cell_type": "code",
   "execution_count": 6,
   "metadata": {},
   "outputs": [],
   "source": [
    "using Arrow\n",
    "using CSV\n",
    "using Serialization\n",
    "using JLSO\n",
    "using JSONTables\n",
    "using CodecZlib\n",
    "using ZipFile\n",
    "using JDF\n",
    "using StatsPlots # for charts\n",
    "using Mmap # for compression"
   ]
  },
  {
   "cell_type": "markdown",
   "metadata": {},
   "source": [
    "Let's create a simple `DataFrame` for testing purposes,"
   ]
  },
  {
   "cell_type": "code",
   "execution_count": 7,
   "metadata": {},
   "outputs": [
    {
     "data": {
      "text/html": [
       "<div class=\"data-frame\"><p>3 rows × 4 columns</p><table class=\"data-frame\"><thead><tr><th></th><th>A</th><th>B</th><th>C</th><th>D</th></tr><tr><th></th><th title=\"Bool\">Bool</th><th title=\"Union{Missing, Int64}\">Int64?</th><th title=\"Union{Missing, String}\">String?</th><th title=\"Union{Missing, Char}\">Char?</th></tr></thead><tbody><tr><th>1</th><td>1</td><td>1</td><td><em>missing</em></td><td>a</td></tr><tr><th>2</th><td>0</td><td>2</td><td>b</td><td><em>missing</em></td></tr><tr><th>3</th><td>1</td><td><em>missing</em></td><td>c</td><td>c</td></tr></tbody></table></div>"
      ],
      "text/latex": [
       "\\begin{tabular}{r|cccc}\n",
       "\t& A & B & C & D\\\\\n",
       "\t\\hline\n",
       "\t& Bool & Int64? & String? & Char?\\\\\n",
       "\t\\hline\n",
       "\t1 & 1 & 1 & \\emph{missing} & a \\\\\n",
       "\t2 & 0 & 2 & b & \\emph{missing} \\\\\n",
       "\t3 & 1 & \\emph{missing} & c & c \\\\\n",
       "\\end{tabular}\n"
      ],
      "text/plain": [
       "\u001b[1m3×4 DataFrame\u001b[0m\n",
       "\u001b[1m Row \u001b[0m│\u001b[1m A     \u001b[0m\u001b[1m B       \u001b[0m\u001b[1m C       \u001b[0m\u001b[1m D       \u001b[0m\n",
       "\u001b[1m     \u001b[0m│\u001b[90m Bool  \u001b[0m\u001b[90m Int64?  \u001b[0m\u001b[90m String? \u001b[0m\u001b[90m Char?   \u001b[0m\n",
       "─────┼──────────────────────────────────\n",
       "   1 │  true        1 \u001b[90m missing \u001b[0m a\n",
       "   2 │ false        2  b       \u001b[90m missing \u001b[0m\n",
       "   3 │  true \u001b[90m missing \u001b[0m c        c"
      ]
     },
     "execution_count": 7,
     "metadata": {},
     "output_type": "execute_result"
    }
   ],
   "source": [
    "x = DataFrame(A=[true, false, true], B=[1, 2, missing],\n",
    "              C=[missing, \"b\", \"c\"], D=['a', missing, 'c'])"
   ]
  },
  {
   "cell_type": "markdown",
   "metadata": {},
   "source": [
    "and use `eltypes` to look at the columnwise types."
   ]
  },
  {
   "cell_type": "code",
   "execution_count": 8,
   "metadata": {},
   "outputs": [
    {
     "data": {
      "text/plain": [
       "4-element Vector{Type}:\n",
       " Bool\n",
       " Union{Missing, Int64}\n",
       " Union{Missing, String}\n",
       " Union{Missing, Char}"
      ]
     },
     "execution_count": 8,
     "metadata": {},
     "output_type": "execute_result"
    }
   ],
   "source": [
    "eltype.(eachcol(x))"
   ]
  },
  {
   "cell_type": "markdown",
   "metadata": {},
   "source": [
    "### CSV.jl"
   ]
  },
  {
   "cell_type": "markdown",
   "metadata": {},
   "source": [
    "Let's use `CSV` to save `x` to disk; make sure `x1.csv` does not conflict with some file in your working directory."
   ]
  },
  {
   "cell_type": "code",
   "execution_count": 9,
   "metadata": {},
   "outputs": [
    {
     "data": {
      "text/plain": [
       "\"x1.csv\""
      ]
     },
     "execution_count": 9,
     "metadata": {},
     "output_type": "execute_result"
    }
   ],
   "source": [
    "CSV.write(\"x1.csv\", x)"
   ]
  },
  {
   "cell_type": "markdown",
   "metadata": {},
   "source": [
    "Now we can see how it was saved by reading `x.csv`."
   ]
  },
  {
   "cell_type": "code",
   "execution_count": 10,
   "metadata": {},
   "outputs": [
    {
     "name": "stdout",
     "output_type": "stream",
     "text": [
      "A,B,C,D\n",
      "true,1,,a\n",
      "false,2,b,\n",
      "true,,c,c\n"
     ]
    }
   ],
   "source": [
    "print(read(\"x1.csv\", String))"
   ]
  },
  {
   "cell_type": "markdown",
   "metadata": {},
   "source": [
    "We can also load it back."
   ]
  },
  {
   "cell_type": "code",
   "execution_count": 11,
   "metadata": {},
   "outputs": [
    {
     "data": {
      "text/html": [
       "<div class=\"data-frame\"><p>3 rows × 4 columns</p><table class=\"data-frame\"><thead><tr><th></th><th>A</th><th>B</th><th>C</th><th>D</th></tr><tr><th></th><th title=\"Bool\">Bool</th><th title=\"Union{Missing, Int64}\">Int64?</th><th title=\"Union{Missing, String}\">String?</th><th title=\"Union{Missing, String}\">String?</th></tr></thead><tbody><tr><th>1</th><td>1</td><td>1</td><td><em>missing</em></td><td>a</td></tr><tr><th>2</th><td>0</td><td>2</td><td>b</td><td><em>missing</em></td></tr><tr><th>3</th><td>1</td><td><em>missing</em></td><td>c</td><td>c</td></tr></tbody></table></div>"
      ],
      "text/latex": [
       "\\begin{tabular}{r|cccc}\n",
       "\t& A & B & C & D\\\\\n",
       "\t\\hline\n",
       "\t& Bool & Int64? & String? & String?\\\\\n",
       "\t\\hline\n",
       "\t1 & 1 & 1 & \\emph{missing} & a \\\\\n",
       "\t2 & 0 & 2 & b & \\emph{missing} \\\\\n",
       "\t3 & 1 & \\emph{missing} & c & c \\\\\n",
       "\\end{tabular}\n"
      ],
      "text/plain": [
       "\u001b[1m3×4 DataFrame\u001b[0m\n",
       "\u001b[1m Row \u001b[0m│\u001b[1m A     \u001b[0m\u001b[1m B       \u001b[0m\u001b[1m C       \u001b[0m\u001b[1m D       \u001b[0m\n",
       "\u001b[1m     \u001b[0m│\u001b[90m Bool  \u001b[0m\u001b[90m Int64?  \u001b[0m\u001b[90m String? \u001b[0m\u001b[90m String? \u001b[0m\n",
       "─────┼──────────────────────────────────\n",
       "   1 │  true        1 \u001b[90m missing \u001b[0m a\n",
       "   2 │ false        2  b       \u001b[90m missing \u001b[0m\n",
       "   3 │  true \u001b[90m missing \u001b[0m c        c"
      ]
     },
     "execution_count": 11,
     "metadata": {},
     "output_type": "execute_result"
    }
   ],
   "source": [
    "y = CSV.read(\"x1.csv\", DataFrame)"
   ]
  },
  {
   "cell_type": "markdown",
   "metadata": {},
   "source": [
    "Note that when loading in a `DataFrame` from a `CSV` the column type for column `:D` has changed!"
   ]
  },
  {
   "cell_type": "code",
   "execution_count": 12,
   "metadata": {},
   "outputs": [
    {
     "data": {
      "text/plain": [
       "4-element Vector{Type}:\n",
       " Bool\n",
       " Union{Missing, Int64}\n",
       " Union{Missing, String}\n",
       " Union{Missing, String}"
      ]
     },
     "execution_count": 12,
     "metadata": {},
     "output_type": "execute_result"
    }
   ],
   "source": [
    "eltype.(eachcol(y))"
   ]
  },
  {
   "cell_type": "markdown",
   "metadata": {},
   "source": [
    "### Serialization, JDF.jl, and JLSO.jl\n",
    "\n",
    "#### Serialization\n",
    "Like other programming languages, Julia also provides support for Serialization and De-serialization. The process of conversion of an object into byte streams (IO buffers) for the purpose of storing it into memory, file, or database is termed as Serialization. It is performed to save the object state for later use. The reverse process is termed as De-serialization."
   ]
  },
  {
   "cell_type": "markdown",
   "metadata": {},
   "source": [
    "Now we use serialization to save `x`.\n",
    "\n",
    "There are two ways to perform serialization. The first way is to use the `Serialization.serialize` as below:"
   ]
  },
  {
   "cell_type": "markdown",
   "metadata": {},
   "source": [
    "Note that in general, this process will not work if the reading and writing are done by different versions of Julia, or an instance of Julia with a different system image."
   ]
  },
  {
   "cell_type": "code",
   "execution_count": 17,
   "metadata": {},
   "outputs": [],
   "source": [
    "open(\"x.bin\", \"w\") do io\n",
    "    serialize(io, x)\n",
    "end"
   ]
  },
  {
   "cell_type": "markdown",
   "metadata": {},
   "source": [
    "Now we load back the saved file to `y` variable. Again `y` is identical to `x`. However, please beware that if you session does not have DataFrames.jl loaded, then it may not recognise the content as DataFrames.jl"
   ]
  },
  {
   "cell_type": "code",
   "execution_count": 18,
   "metadata": {},
   "outputs": [
    {
     "data": {
      "text/html": [
       "<div class=\"data-frame\"><p>3 rows × 4 columns</p><table class=\"data-frame\"><thead><tr><th></th><th>A</th><th>B</th><th>C</th><th>D</th></tr><tr><th></th><th title=\"Bool\">Bool</th><th title=\"Union{Missing, Int64}\">Int64?</th><th title=\"Union{Missing, String}\">String?</th><th title=\"Union{Missing, Char}\">Char?</th></tr></thead><tbody><tr><th>1</th><td>1</td><td>1</td><td><em>missing</em></td><td>a</td></tr><tr><th>2</th><td>0</td><td>2</td><td>b</td><td><em>missing</em></td></tr><tr><th>3</th><td>1</td><td><em>missing</em></td><td>c</td><td>c</td></tr></tbody></table></div>"
      ],
      "text/latex": [
       "\\begin{tabular}{r|cccc}\n",
       "\t& A & B & C & D\\\\\n",
       "\t\\hline\n",
       "\t& Bool & Int64? & String? & Char?\\\\\n",
       "\t\\hline\n",
       "\t1 & 1 & 1 & \\emph{missing} & a \\\\\n",
       "\t2 & 0 & 2 & b & \\emph{missing} \\\\\n",
       "\t3 & 1 & \\emph{missing} & c & c \\\\\n",
       "\\end{tabular}\n"
      ],
      "text/plain": [
       "\u001b[1m3×4 DataFrame\u001b[0m\n",
       "\u001b[1m Row \u001b[0m│\u001b[1m A     \u001b[0m\u001b[1m B       \u001b[0m\u001b[1m C       \u001b[0m\u001b[1m D       \u001b[0m\n",
       "\u001b[1m     \u001b[0m│\u001b[90m Bool  \u001b[0m\u001b[90m Int64?  \u001b[0m\u001b[90m String? \u001b[0m\u001b[90m Char?   \u001b[0m\n",
       "─────┼──────────────────────────────────\n",
       "   1 │  true        1 \u001b[90m missing \u001b[0m a\n",
       "   2 │ false        2  b       \u001b[90m missing \u001b[0m\n",
       "   3 │  true \u001b[90m missing \u001b[0m c        c"
      ]
     },
     "execution_count": 18,
     "metadata": {},
     "output_type": "execute_result"
    }
   ],
   "source": [
    "y = open(deserialize, \"x.bin\")"
   ]
  },
  {
   "cell_type": "code",
   "execution_count": 19,
   "metadata": {},
   "outputs": [
    {
     "data": {
      "text/plain": [
       "4-element Vector{Type}:\n",
       " Bool\n",
       " Union{Missing, Int64}\n",
       " Union{Missing, String}\n",
       " Union{Missing, Char}"
      ]
     },
     "execution_count": 19,
     "metadata": {},
     "output_type": "execute_result"
    }
   ],
   "source": [
    "eltype.(eachcol(y))"
   ]
  },
  {
   "cell_type": "markdown",
   "metadata": {},
   "source": [
    "#### JDF.jl\n",
    "\n",
    "[JDF.jl](https://github.com/xiaodaigh/JDF) is a relatively new package designed to serialize DataFrames. You can save a DataFrame with the `savejdf` function."
   ]
  },
  {
   "cell_type": "code",
   "execution_count": 20,
   "metadata": {},
   "outputs": [],
   "source": [
    "JDF.save(\"x.jdf\", x);"
   ]
  },
  {
   "cell_type": "markdown",
   "metadata": {},
   "source": [
    "To load the saved JDF file, one can use the `loadjdf` function"
   ]
  },
  {
   "cell_type": "code",
   "execution_count": 21,
   "metadata": {},
   "outputs": [
    {
     "data": {
      "text/html": [
       "<div class=\"data-frame\"><p>3 rows × 4 columns</p><table class=\"data-frame\"><thead><tr><th></th><th>A</th><th>B</th><th>C</th><th>D</th></tr><tr><th></th><th title=\"Bool\">Bool</th><th title=\"Union{Missing, Int64}\">Int64?</th><th title=\"Union{Missing, String}\">String?</th><th title=\"Union{Missing, Char}\">Char?</th></tr></thead><tbody><tr><th>1</th><td>1</td><td>1</td><td><em>missing</em></td><td>a</td></tr><tr><th>2</th><td>0</td><td>2</td><td>b</td><td><em>missing</em></td></tr><tr><th>3</th><td>1</td><td><em>missing</em></td><td>c</td><td>c</td></tr></tbody></table></div>"
      ],
      "text/latex": [
       "\\begin{tabular}{r|cccc}\n",
       "\t& A & B & C & D\\\\\n",
       "\t\\hline\n",
       "\t& Bool & Int64? & String? & Char?\\\\\n",
       "\t\\hline\n",
       "\t1 & 1 & 1 & \\emph{missing} & a \\\\\n",
       "\t2 & 0 & 2 & b & \\emph{missing} \\\\\n",
       "\t3 & 1 & \\emph{missing} & c & c \\\\\n",
       "\\end{tabular}\n"
      ],
      "text/plain": [
       "\u001b[1m3×4 DataFrame\u001b[0m\n",
       "\u001b[1m Row \u001b[0m│\u001b[1m A     \u001b[0m\u001b[1m B       \u001b[0m\u001b[1m C       \u001b[0m\u001b[1m D       \u001b[0m\n",
       "\u001b[1m     \u001b[0m│\u001b[90m Bool  \u001b[0m\u001b[90m Int64?  \u001b[0m\u001b[90m String? \u001b[0m\u001b[90m Char?   \u001b[0m\n",
       "─────┼──────────────────────────────────\n",
       "   1 │  true        1 \u001b[90m missing \u001b[0m a\n",
       "   2 │ false        2  b       \u001b[90m missing \u001b[0m\n",
       "   3 │  true \u001b[90m missing \u001b[0m c        c"
      ]
     },
     "execution_count": 21,
     "metadata": {},
     "output_type": "execute_result"
    }
   ],
   "source": [
    "x_loaded = JDF.load(\"x.jdf\") |> DataFrame"
   ]
  },
  {
   "cell_type": "markdown",
   "metadata": {},
   "source": [
    "You can see that they are the same"
   ]
  },
  {
   "cell_type": "code",
   "execution_count": 22,
   "metadata": {},
   "outputs": [
    {
     "data": {
      "text/plain": [
       "true"
      ]
     },
     "execution_count": 22,
     "metadata": {},
     "output_type": "execute_result"
    }
   ],
   "source": [
    "isequal(x_loaded, x)"
   ]
  },
  {
   "cell_type": "markdown",
   "metadata": {},
   "source": [
    "JDF.jl offers the ability to load only certain columns from disk to help with working with large files"
   ]
  },
  {
   "cell_type": "code",
   "execution_count": 23,
   "metadata": {},
   "outputs": [
    {
     "data": {
      "text/plain": [
       "JDFFile{String}(\"x.jdf\")"
      ]
     },
     "execution_count": 23,
     "metadata": {},
     "output_type": "execute_result"
    }
   ],
   "source": [
    "# set up a JDFFile which is a on disk representation of `x` backed by JDF.jl\n",
    "x_ondisk = jdf\"x.jdf\""
   ]
  },
  {
   "cell_type": "markdown",
   "metadata": {},
   "source": [
    "We can see all the names of `x` without loading it into memory"
   ]
  },
  {
   "cell_type": "code",
   "execution_count": 24,
   "metadata": {},
   "outputs": [
    {
     "data": {
      "text/plain": [
       "4-element Vector{Symbol}:\n",
       " :A\n",
       " :B\n",
       " :C\n",
       " :D"
      ]
     },
     "execution_count": 24,
     "metadata": {},
     "output_type": "execute_result"
    }
   ],
   "source": [
    "names(x_ondisk)"
   ]
  },
  {
   "cell_type": "markdown",
   "metadata": {},
   "source": [
    "The below is an example of how to load only columns `:A` and `:D` "
   ]
  },
  {
   "cell_type": "code",
   "execution_count": 25,
   "metadata": {},
   "outputs": [
    {
     "data": {
      "text/html": [
       "<div class=\"data-frame\"><p>3 rows × 2 columns</p><table class=\"data-frame\"><thead><tr><th></th><th>A</th><th>D</th></tr><tr><th></th><th title=\"Bool\">Bool</th><th title=\"Union{Missing, Char}\">Char?</th></tr></thead><tbody><tr><th>1</th><td>1</td><td>a</td></tr><tr><th>2</th><td>0</td><td><em>missing</em></td></tr><tr><th>3</th><td>1</td><td>c</td></tr></tbody></table></div>"
      ],
      "text/latex": [
       "\\begin{tabular}{r|cc}\n",
       "\t& A & D\\\\\n",
       "\t\\hline\n",
       "\t& Bool & Char?\\\\\n",
       "\t\\hline\n",
       "\t1 & 1 & a \\\\\n",
       "\t2 & 0 & \\emph{missing} \\\\\n",
       "\t3 & 1 & c \\\\\n",
       "\\end{tabular}\n"
      ],
      "text/plain": [
       "\u001b[1m3×2 DataFrame\u001b[0m\n",
       "\u001b[1m Row \u001b[0m│\u001b[1m A     \u001b[0m\u001b[1m D       \u001b[0m\n",
       "\u001b[1m     \u001b[0m│\u001b[90m Bool  \u001b[0m\u001b[90m Char?   \u001b[0m\n",
       "─────┼────────────────\n",
       "   1 │  true  a\n",
       "   2 │ false \u001b[90m missing \u001b[0m\n",
       "   3 │  true  c"
      ]
     },
     "execution_count": 25,
     "metadata": {},
     "output_type": "execute_result"
    }
   ],
   "source": [
    "xd = JDF.load(x_ondisk; cols = [\"A\", \"D\"]) |> DataFrame"
   ]
  },
  {
   "cell_type": "markdown",
   "metadata": {},
   "source": [
    "##### JDF.jl vs others\n",
    "\n",
    "For more details about design assumptions and limitations of JDF.jl check out https://github.com/xiaodaigh/JDF.jl."
   ]
  },
  {
   "cell_type": "markdown",
   "metadata": {},
   "source": [
    "#### JLSO.jl\n",
    "\n",
    "Another way to perform serialization is by using the [JLSO.jl](https://github.com/invenia/JLSO.jl) library:"
   ]
  },
  {
   "cell_type": "code",
   "execution_count": 26,
   "metadata": {},
   "outputs": [],
   "source": [
    "JLSO.save(\"x.jlso\", :data => x)"
   ]
  },
  {
   "cell_type": "markdown",
   "metadata": {},
   "source": [
    "Now we can laod back the file to `y`"
   ]
  },
  {
   "cell_type": "code",
   "execution_count": 27,
   "metadata": {},
   "outputs": [
    {
     "data": {
      "text/html": [
       "<div class=\"data-frame\"><p>3 rows × 4 columns</p><table class=\"data-frame\"><thead><tr><th></th><th>A</th><th>B</th><th>C</th><th>D</th></tr><tr><th></th><th title=\"Bool\">Bool</th><th title=\"Union{Missing, Int64}\">Int64?</th><th title=\"Union{Missing, String}\">String?</th><th title=\"Union{Missing, Char}\">Char?</th></tr></thead><tbody><tr><th>1</th><td>1</td><td>1</td><td><em>missing</em></td><td>a</td></tr><tr><th>2</th><td>0</td><td>2</td><td>b</td><td><em>missing</em></td></tr><tr><th>3</th><td>1</td><td><em>missing</em></td><td>c</td><td>c</td></tr></tbody></table></div>"
      ],
      "text/latex": [
       "\\begin{tabular}{r|cccc}\n",
       "\t& A & B & C & D\\\\\n",
       "\t\\hline\n",
       "\t& Bool & Int64? & String? & Char?\\\\\n",
       "\t\\hline\n",
       "\t1 & 1 & 1 & \\emph{missing} & a \\\\\n",
       "\t2 & 0 & 2 & b & \\emph{missing} \\\\\n",
       "\t3 & 1 & \\emph{missing} & c & c \\\\\n",
       "\\end{tabular}\n"
      ],
      "text/plain": [
       "\u001b[1m3×4 DataFrame\u001b[0m\n",
       "\u001b[1m Row \u001b[0m│\u001b[1m A     \u001b[0m\u001b[1m B       \u001b[0m\u001b[1m C       \u001b[0m\u001b[1m D       \u001b[0m\n",
       "\u001b[1m     \u001b[0m│\u001b[90m Bool  \u001b[0m\u001b[90m Int64?  \u001b[0m\u001b[90m String? \u001b[0m\u001b[90m Char?   \u001b[0m\n",
       "─────┼──────────────────────────────────\n",
       "   1 │  true        1 \u001b[90m missing \u001b[0m a\n",
       "   2 │ false        2  b       \u001b[90m missing \u001b[0m\n",
       "   3 │  true \u001b[90m missing \u001b[0m c        c"
      ]
     },
     "execution_count": 27,
     "metadata": {},
     "output_type": "execute_result"
    }
   ],
   "source": [
    "y = JLSO.load(\"x.jlso\")[:data]"
   ]
  },
  {
   "cell_type": "code",
   "execution_count": 28,
   "metadata": {},
   "outputs": [
    {
     "data": {
      "text/plain": [
       "4-element Vector{Type}:\n",
       " Bool\n",
       " Union{Missing, Int64}\n",
       " Union{Missing, String}\n",
       " Union{Missing, Char}"
      ]
     },
     "execution_count": 28,
     "metadata": {},
     "output_type": "execute_result"
    }
   ],
   "source": [
    "eltype.(eachcol(y))"
   ]
  },
  {
   "cell_type": "markdown",
   "metadata": {},
   "source": [
    "### JSONTables.jl"
   ]
  },
  {
   "cell_type": "markdown",
   "metadata": {},
   "source": [
    "Often you might need to read and write data stored in JSON format. JSONTables.jl provides a way to process them in row-oriented or column-oriented layout. We present both options below."
   ]
  },
  {
   "cell_type": "code",
   "execution_count": 29,
   "metadata": {},
   "outputs": [
    {
     "data": {
      "text/plain": [
       "106"
      ]
     },
     "execution_count": 29,
     "metadata": {},
     "output_type": "execute_result"
    }
   ],
   "source": [
    "open(io -> arraytable(io, x), \"x1.json\", \"w\")"
   ]
  },
  {
   "cell_type": "code",
   "execution_count": 30,
   "metadata": {},
   "outputs": [
    {
     "data": {
      "text/plain": [
       "76"
      ]
     },
     "execution_count": 30,
     "metadata": {},
     "output_type": "execute_result"
    }
   ],
   "source": [
    "open(io -> objecttable(io, x), \"x2.json\", \"w\")"
   ]
  },
  {
   "cell_type": "code",
   "execution_count": 31,
   "metadata": {},
   "outputs": [
    {
     "name": "stdout",
     "output_type": "stream",
     "text": [
      "[{\"A\":true,\"B\":1,\"C\":null,\"D\":\"a\"},{\"A\":false,\"B\":2,\"C\":\"b\",\"D\":null},{\"A\":true,\"B\":null,\"C\":\"c\",\"D\":\"c\"}]"
     ]
    }
   ],
   "source": [
    "print(read(\"x1.json\", String))"
   ]
  },
  {
   "cell_type": "code",
   "execution_count": 32,
   "metadata": {},
   "outputs": [
    {
     "name": "stdout",
     "output_type": "stream",
     "text": [
      "{\"A\":[true,false,true],\"B\":[1,2,null],\"C\":[null,\"b\",\"c\"],\"D\":[\"a\",null,\"c\"]}"
     ]
    }
   ],
   "source": [
    "print(read(\"x2.json\", String))"
   ]
  },
  {
   "cell_type": "code",
   "execution_count": 33,
   "metadata": {},
   "outputs": [
    {
     "data": {
      "text/html": [
       "<div class=\"data-frame\"><p>3 rows × 4 columns</p><table class=\"data-frame\"><thead><tr><th></th><th>A</th><th>B</th><th>C</th><th>D</th></tr><tr><th></th><th title=\"Bool\">Bool</th><th title=\"Union{Missing, Int64}\">Int64?</th><th title=\"Union{Missing, String}\">String?</th><th title=\"Union{Missing, String}\">String?</th></tr></thead><tbody><tr><th>1</th><td>1</td><td>1</td><td><em>missing</em></td><td>a</td></tr><tr><th>2</th><td>0</td><td>2</td><td>b</td><td><em>missing</em></td></tr><tr><th>3</th><td>1</td><td><em>missing</em></td><td>c</td><td>c</td></tr></tbody></table></div>"
      ],
      "text/latex": [
       "\\begin{tabular}{r|cccc}\n",
       "\t& A & B & C & D\\\\\n",
       "\t\\hline\n",
       "\t& Bool & Int64? & String? & String?\\\\\n",
       "\t\\hline\n",
       "\t1 & 1 & 1 & \\emph{missing} & a \\\\\n",
       "\t2 & 0 & 2 & b & \\emph{missing} \\\\\n",
       "\t3 & 1 & \\emph{missing} & c & c \\\\\n",
       "\\end{tabular}\n"
      ],
      "text/plain": [
       "\u001b[1m3×4 DataFrame\u001b[0m\n",
       "\u001b[1m Row \u001b[0m│\u001b[1m A     \u001b[0m\u001b[1m B       \u001b[0m\u001b[1m C       \u001b[0m\u001b[1m D       \u001b[0m\n",
       "\u001b[1m     \u001b[0m│\u001b[90m Bool  \u001b[0m\u001b[90m Int64?  \u001b[0m\u001b[90m String? \u001b[0m\u001b[90m String? \u001b[0m\n",
       "─────┼──────────────────────────────────\n",
       "   1 │  true        1 \u001b[90m missing \u001b[0m a\n",
       "   2 │ false        2  b       \u001b[90m missing \u001b[0m\n",
       "   3 │  true \u001b[90m missing \u001b[0m c        c"
      ]
     },
     "execution_count": 33,
     "metadata": {},
     "output_type": "execute_result"
    }
   ],
   "source": [
    "y1 = open(jsontable, \"x1.json\") |> DataFrame"
   ]
  },
  {
   "cell_type": "code",
   "execution_count": 34,
   "metadata": {},
   "outputs": [
    {
     "data": {
      "text/plain": [
       "4-element Vector{Type}:\n",
       " Bool\n",
       " Union{Missing, Int64}\n",
       " Union{Missing, String}\n",
       " Union{Missing, String}"
      ]
     },
     "execution_count": 34,
     "metadata": {},
     "output_type": "execute_result"
    }
   ],
   "source": [
    "eltype.(eachcol(y1))"
   ]
  },
  {
   "cell_type": "code",
   "execution_count": 35,
   "metadata": {},
   "outputs": [
    {
     "data": {
      "text/html": [
       "<div class=\"data-frame\"><p>3 rows × 4 columns</p><table class=\"data-frame\"><thead><tr><th></th><th>A</th><th>B</th><th>C</th><th>D</th></tr><tr><th></th><th title=\"Bool\">Bool</th><th title=\"Union{Missing, Int64}\">Int64?</th><th title=\"Union{Missing, String}\">String?</th><th title=\"Union{Missing, String}\">String?</th></tr></thead><tbody><tr><th>1</th><td>1</td><td>1</td><td><em>missing</em></td><td>a</td></tr><tr><th>2</th><td>0</td><td>2</td><td>b</td><td><em>missing</em></td></tr><tr><th>3</th><td>1</td><td><em>missing</em></td><td>c</td><td>c</td></tr></tbody></table></div>"
      ],
      "text/latex": [
       "\\begin{tabular}{r|cccc}\n",
       "\t& A & B & C & D\\\\\n",
       "\t\\hline\n",
       "\t& Bool & Int64? & String? & String?\\\\\n",
       "\t\\hline\n",
       "\t1 & 1 & 1 & \\emph{missing} & a \\\\\n",
       "\t2 & 0 & 2 & b & \\emph{missing} \\\\\n",
       "\t3 & 1 & \\emph{missing} & c & c \\\\\n",
       "\\end{tabular}\n"
      ],
      "text/plain": [
       "\u001b[1m3×4 DataFrame\u001b[0m\n",
       "\u001b[1m Row \u001b[0m│\u001b[1m A     \u001b[0m\u001b[1m B       \u001b[0m\u001b[1m C       \u001b[0m\u001b[1m D       \u001b[0m\n",
       "\u001b[1m     \u001b[0m│\u001b[90m Bool  \u001b[0m\u001b[90m Int64?  \u001b[0m\u001b[90m String? \u001b[0m\u001b[90m String? \u001b[0m\n",
       "─────┼──────────────────────────────────\n",
       "   1 │  true        1 \u001b[90m missing \u001b[0m a\n",
       "   2 │ false        2  b       \u001b[90m missing \u001b[0m\n",
       "   3 │  true \u001b[90m missing \u001b[0m c        c"
      ]
     },
     "execution_count": 35,
     "metadata": {},
     "output_type": "execute_result"
    }
   ],
   "source": [
    "y2 = open(jsontable, \"x2.json\") |> DataFrame"
   ]
  },
  {
   "cell_type": "code",
   "execution_count": 36,
   "metadata": {},
   "outputs": [
    {
     "data": {
      "text/plain": [
       "4-element Vector{Type}:\n",
       " Bool\n",
       " Union{Missing, Int64}\n",
       " Union{Missing, String}\n",
       " Union{Missing, String}"
      ]
     },
     "execution_count": 36,
     "metadata": {},
     "output_type": "execute_result"
    }
   ],
   "source": [
    "eltype.(eachcol(y2))"
   ]
  },
  {
   "cell_type": "markdown",
   "metadata": {},
   "source": [
    "### Arrow.jl"
   ]
  },
  {
   "cell_type": "markdown",
   "metadata": {},
   "source": [
    "Finally we use Apache Arrow format that allows, in particular, for data interchange with R or Python."
   ]
  },
  {
   "cell_type": "code",
   "execution_count": 37,
   "metadata": {},
   "outputs": [
    {
     "data": {
      "text/plain": [
       "\"x.arrow\""
      ]
     },
     "execution_count": 37,
     "metadata": {},
     "output_type": "execute_result"
    }
   ],
   "source": [
    "Arrow.write(\"x.arrow\", x)"
   ]
  },
  {
   "cell_type": "code",
   "execution_count": 38,
   "metadata": {},
   "outputs": [
    {
     "data": {
      "text/html": [
       "<div class=\"data-frame\"><p>3 rows × 4 columns</p><table class=\"data-frame\"><thead><tr><th></th><th>A</th><th>B</th><th>C</th><th>D</th></tr><tr><th></th><th title=\"Bool\">Bool</th><th title=\"Union{Missing, Int64}\">Int64?</th><th title=\"Union{Missing, String}\">String?</th><th title=\"Union{Missing, Char}\">Char?</th></tr></thead><tbody><tr><th>1</th><td>1</td><td>1</td><td><em>missing</em></td><td>a</td></tr><tr><th>2</th><td>0</td><td>2</td><td>b</td><td><em>missing</em></td></tr><tr><th>3</th><td>1</td><td><em>missing</em></td><td>c</td><td>c</td></tr></tbody></table></div>"
      ],
      "text/latex": [
       "\\begin{tabular}{r|cccc}\n",
       "\t& A & B & C & D\\\\\n",
       "\t\\hline\n",
       "\t& Bool & Int64? & String? & Char?\\\\\n",
       "\t\\hline\n",
       "\t1 & 1 & 1 & \\emph{missing} & a \\\\\n",
       "\t2 & 0 & 2 & b & \\emph{missing} \\\\\n",
       "\t3 & 1 & \\emph{missing} & c & c \\\\\n",
       "\\end{tabular}\n"
      ],
      "text/plain": [
       "\u001b[1m3×4 DataFrame\u001b[0m\n",
       "\u001b[1m Row \u001b[0m│\u001b[1m A     \u001b[0m\u001b[1m B       \u001b[0m\u001b[1m C       \u001b[0m\u001b[1m D       \u001b[0m\n",
       "\u001b[1m     \u001b[0m│\u001b[90m Bool  \u001b[0m\u001b[90m Int64?  \u001b[0m\u001b[90m String? \u001b[0m\u001b[90m Char?   \u001b[0m\n",
       "─────┼──────────────────────────────────\n",
       "   1 │  true        1 \u001b[90m missing \u001b[0m a\n",
       "   2 │ false        2  b       \u001b[90m missing \u001b[0m\n",
       "   3 │  true \u001b[90m missing \u001b[0m c        c"
      ]
     },
     "execution_count": 38,
     "metadata": {},
     "output_type": "execute_result"
    }
   ],
   "source": [
    "y = Arrow.Table(\"x.arrow\") |> DataFrame"
   ]
  },
  {
   "cell_type": "code",
   "execution_count": 39,
   "metadata": {},
   "outputs": [
    {
     "data": {
      "text/plain": [
       "4-element Vector{Type}:\n",
       " Bool\n",
       " Union{Missing, Int64}\n",
       " Union{Missing, String}\n",
       " Union{Missing, Char}"
      ]
     },
     "execution_count": 39,
     "metadata": {},
     "output_type": "execute_result"
    }
   ],
   "source": [
    "eltype.(eachcol(y))"
   ]
  },
  {
   "cell_type": "markdown",
   "metadata": {},
   "source": [
    "Note that columns of `y` are immutable"
   ]
  },
  {
   "cell_type": "code",
   "execution_count": 40,
   "metadata": {},
   "outputs": [
    {
     "ename": "LoadError",
     "evalue": "ReadOnlyMemoryError()",
     "output_type": "error",
     "traceback": [
      "ReadOnlyMemoryError()",
      "",
      "Stacktrace:",
      " [1] setindex!",
      "   @ ./array.jl:839 [inlined]",
      " [2] setindex!(p::Arrow.BoolVector{Bool}, v::Bool, i::Int64)",
      "   @ Arrow ~/.julia/packages/Arrow/viADU/src/arraytypes/bool.jl:49",
      " [3] top-level scope",
      "   @ In[40]:1",
      " [4] eval",
      "   @ ./boot.jl:360 [inlined]",
      " [5] include_string(mapexpr::typeof(REPL.softscope), mod::Module, code::String, filename::String)",
      "   @ Base ./loading.jl:1094"
     ]
    }
   ],
   "source": [
    "y.A[1] = false"
   ]
  },
  {
   "cell_type": "markdown",
   "metadata": {},
   "source": [
    "This is because `Arrow.Table` uses memory mapping and thus uses a custom vector types:"
   ]
  },
  {
   "cell_type": "code",
   "execution_count": 41,
   "metadata": {},
   "outputs": [
    {
     "data": {
      "text/plain": [
       "3-element Arrow.BoolVector{Bool}:\n",
       " 1\n",
       " 0\n",
       " 1"
      ]
     },
     "execution_count": 41,
     "metadata": {},
     "output_type": "execute_result"
    }
   ],
   "source": [
    "y.A"
   ]
  },
  {
   "cell_type": "code",
   "execution_count": 42,
   "metadata": {},
   "outputs": [
    {
     "data": {
      "text/plain": [
       "3-element Arrow.Primitive{Union{Missing, Int64}, Vector{Int64}}:\n",
       " 1\n",
       " 2\n",
       "  missing"
      ]
     },
     "execution_count": 42,
     "metadata": {},
     "output_type": "execute_result"
    }
   ],
   "source": [
    "y.B"
   ]
  },
  {
   "cell_type": "markdown",
   "metadata": {},
   "source": [
    "You can get standard Julia Base vectors by copying a data frame"
   ]
  },
  {
   "cell_type": "code",
   "execution_count": 43,
   "metadata": {},
   "outputs": [
    {
     "data": {
      "text/html": [
       "<div class=\"data-frame\"><p>3 rows × 4 columns</p><table class=\"data-frame\"><thead><tr><th></th><th>A</th><th>B</th><th>C</th><th>D</th></tr><tr><th></th><th title=\"Bool\">Bool</th><th title=\"Union{Missing, Int64}\">Int64?</th><th title=\"Union{Missing, String}\">String?</th><th title=\"Union{Missing, Char}\">Char?</th></tr></thead><tbody><tr><th>1</th><td>1</td><td>1</td><td><em>missing</em></td><td>a</td></tr><tr><th>2</th><td>0</td><td>2</td><td>b</td><td><em>missing</em></td></tr><tr><th>3</th><td>1</td><td><em>missing</em></td><td>c</td><td>c</td></tr></tbody></table></div>"
      ],
      "text/latex": [
       "\\begin{tabular}{r|cccc}\n",
       "\t& A & B & C & D\\\\\n",
       "\t\\hline\n",
       "\t& Bool & Int64? & String? & Char?\\\\\n",
       "\t\\hline\n",
       "\t1 & 1 & 1 & \\emph{missing} & a \\\\\n",
       "\t2 & 0 & 2 & b & \\emph{missing} \\\\\n",
       "\t3 & 1 & \\emph{missing} & c & c \\\\\n",
       "\\end{tabular}\n"
      ],
      "text/plain": [
       "\u001b[1m3×4 DataFrame\u001b[0m\n",
       "\u001b[1m Row \u001b[0m│\u001b[1m A     \u001b[0m\u001b[1m B       \u001b[0m\u001b[1m C       \u001b[0m\u001b[1m D       \u001b[0m\n",
       "\u001b[1m     \u001b[0m│\u001b[90m Bool  \u001b[0m\u001b[90m Int64?  \u001b[0m\u001b[90m String? \u001b[0m\u001b[90m Char?   \u001b[0m\n",
       "─────┼──────────────────────────────────\n",
       "   1 │  true        1 \u001b[90m missing \u001b[0m a\n",
       "   2 │ false        2  b       \u001b[90m missing \u001b[0m\n",
       "   3 │  true \u001b[90m missing \u001b[0m c        c"
      ]
     },
     "execution_count": 43,
     "metadata": {},
     "output_type": "execute_result"
    }
   ],
   "source": [
    "y2 = copy(y)"
   ]
  },
  {
   "cell_type": "code",
   "execution_count": 44,
   "metadata": {},
   "outputs": [
    {
     "data": {
      "text/plain": [
       "3-element Vector{Bool}:\n",
       " 1\n",
       " 0\n",
       " 1"
      ]
     },
     "execution_count": 44,
     "metadata": {},
     "output_type": "execute_result"
    }
   ],
   "source": [
    "y2.A"
   ]
  },
  {
   "cell_type": "code",
   "execution_count": 45,
   "metadata": {},
   "outputs": [
    {
     "data": {
      "text/plain": [
       "3-element Vector{Union{Missing, Int64}}:\n",
       " 1\n",
       " 2\n",
       "  missing"
      ]
     },
     "execution_count": 45,
     "metadata": {},
     "output_type": "execute_result"
    }
   ],
   "source": [
    "y2.B"
   ]
  },
  {
   "cell_type": "markdown",
   "metadata": {},
   "source": [
    "### Basic bechmarking\n",
    "\n",
    "**The remainder of this notebook can be useful to give insight into the performance of different file loadsave implementations**"
   ]
  },
  {
   "cell_type": "markdown",
   "metadata": {},
   "source": [
    "Next, we'll create some files, so be careful that you don't already have these files in your working directory!\n",
    "\n",
    "In particular, we'll time how long it takes us to write a `DataFrame` with 10^3 rows and 10^5 columns."
   ]
  },
  {
   "cell_type": "code",
   "execution_count": 46,
   "metadata": {},
   "outputs": [
    {
     "name": "stdout",
     "output_type": "stream",
     "text": [
      "First run\n",
      "CSV.jl\n",
      " 65.425496 seconds (598.99 M allocations: 17.922 GiB, 6.15% gc time, 8.94% compilation time)\n",
      "Serialization\n",
      "  3.795168 seconds (424.62 k allocations: 21.350 MiB, 0.83% compilation time)\n",
      "JDF.jl\n",
      "  0.748985 seconds (68.72 k allocations: 323.632 MiB, 8.35% gc time, 7.11% compilation time)\n",
      "JLSO.jl\n",
      " 11.633628 seconds (327.90 k allocations: 47.189 MiB, 0.66% compilation time)\n",
      "Arrow.jl\n",
      "  6.383272 seconds (9.67 M allocations: 662.062 MiB, 2.79% gc time, 85.19% compilation time)\n",
      "JSONTables.jl arraytable\n",
      "144.976666 seconds (2.30 G allocations: 54.625 GiB, 9.26% gc time, 0.14% compilation time)\n",
      "JSONTables.jl objecttable\n",
      "  5.667482 seconds (321.70 k allocations: 3.087 GiB, 5.21% gc time, 5.56% compilation time)\n",
      "Second run\n",
      "CSV.jl\n",
      " 72.878736 seconds (597.48 M allocations: 17.848 GiB, 6.06% gc time)\n",
      "Serialization\n",
      "  4.392322 seconds (106.79 k allocations: 2.320 MiB, 0.94% compilation time)\n",
      "JDF.jl\n",
      "  1.331878 seconds (32.65 k allocations: 321.584 MiB, 23.94% gc time)\n",
      "JLSO.jl\n",
      " 11.863728 seconds (125.71 k allocations: 36.024 MiB)\n",
      "Arrow.jl\n",
      "  0.938952 seconds (56.63 k allocations: 21.207 MiB)\n",
      "JSONTables.jl arraytable\n",
      "136.368028 seconds (2.30 G allocations: 54.590 GiB, 9.03% gc time, 0.01% compilation time)\n",
      "JSONTables.jl objecttable\n",
      "  6.206493 seconds (18.42 k allocations: 3.071 GiB, 3.68% gc time, 0.47% compilation time)\n"
     ]
    },
    {
     "data": {
      "text/plain": [
       "6.207271831"
      ]
     },
     "execution_count": 46,
     "metadata": {},
     "output_type": "execute_result"
    }
   ],
   "source": [
    "bigdf = DataFrame(rand(Bool, 10^5, 1000), :auto)\n",
    "bigdf[!, 1] = Int.(bigdf[!, 1])\n",
    "bigdf[!, 2] = bigdf[!, 2] .+ 0.5\n",
    "bigdf[!, 3] = string.(bigdf[!, 3], \", as string\")\n",
    "println(\"First run\")\n",
    "println(\"CSV.jl\")\n",
    "csvwrite1 = @elapsed @time CSV.write(\"bigdf1.csv\", bigdf)\n",
    "println(\"Serialization\")\n",
    "serializewrite1 = @elapsed @time open(io -> serialize(io, bigdf), \"bigdf.bin\", \"w\")\n",
    "println(\"JDF.jl\")\n",
    "jdfwrite1 = @elapsed @time JDF.save(\"bigdf.jdf\", bigdf)\n",
    "println(\"JLSO.jl\")\n",
    "jlsowrite1 = @elapsed @time JLSO.save(\"bigdf.jlso\", :data => bigdf)\n",
    "println(\"Arrow.jl\")\n",
    "arrowwrite1 = @elapsed @time Arrow.write(\"bigdf.arrow\", bigdf)\n",
    "println(\"JSONTables.jl arraytable\")\n",
    "jsontablesawrite1 = @elapsed @time open(io -> arraytable(io, bigdf), \"bigdf1.json\", \"w\")\n",
    "println(\"JSONTables.jl objecttable\")\n",
    "jsontablesowrite1 = @elapsed @time open(io -> objecttable(io, bigdf), \"bigdf2.json\", \"w\")\n",
    "println(\"Second run\")\n",
    "println(\"CSV.jl\")\n",
    "csvwrite2 = @elapsed @time CSV.write(\"bigdf1.csv\", bigdf)\n",
    "println(\"Serialization\")\n",
    "serializewrite2 = @elapsed @time open(io -> serialize(io, bigdf), \"bigdf.bin\", \"w\")\n",
    "println(\"JDF.jl\")\n",
    "jdfwrite2 = @elapsed @time JDF.save(\"bigdf.jdf\", bigdf)\n",
    "println(\"JLSO.jl\")\n",
    "jlsowrite2 = @elapsed @time JLSO.save(\"bigdf.jlso\", :data => bigdf)\n",
    "println(\"Arrow.jl\")\n",
    "arrowwrite2 = @elapsed @time Arrow.write(\"bigdf.arrow\", bigdf)\n",
    "println(\"JSONTables.jl arraytable\")\n",
    "jsontablesawrite2 = @elapsed @time open(io -> arraytable(io, bigdf), \"bigdf1.json\", \"w\")\n",
    "println(\"JSONTables.jl objecttable\")\n",
    "jsontablesowrite2 = @elapsed @time open(io -> objecttable(io, bigdf), \"bigdf2.json\", \"w\")"
   ]
  },
  {
   "cell_type": "code",
   "execution_count": 47,
   "metadata": {},
   "outputs": [
    {
     "name": "stderr",
     "output_type": "stream",
     "text": [
      "┌ Info: Precompiling GR_jll [d2c73de3-f751-5644-a686-071e5b155ba9]\n",
      "└ @ Base loading.jl:1317\n"
     ]
    },
    {
     "data": {
      "image/svg+xml": [
       "<?xml version=\"1.0\" encoding=\"utf-8\"?>\n",
       "<svg xmlns=\"http://www.w3.org/2000/svg\" xmlns:xlink=\"http://www.w3.org/1999/xlink\" width=\"600\" height=\"400\" viewBox=\"0 0 2400 1600\">\n",
       "<defs>\n",
       "  <clipPath id=\"clip660\">\n",
       "    <rect x=\"0\" y=\"0\" width=\"2400\" height=\"1600\"/>\n",
       "  </clipPath>\n",
       "</defs>\n",
       "<path clip-path=\"url(#clip660)\" d=\"\n",
       "M0 1600 L2400 1600 L2400 0 L0 0  Z\n",
       "  \" fill=\"#ffffff\" fill-rule=\"evenodd\" fill-opacity=\"1\"/>\n",
       "<defs>\n",
       "  <clipPath id=\"clip661\">\n",
       "    <rect x=\"480\" y=\"0\" width=\"1681\" height=\"1600\"/>\n",
       "  </clipPath>\n",
       "</defs>\n",
       "<path clip-path=\"url(#clip660)\" d=\"\n",
       "M205.121 1451.89 L2352.76 1451.89 L2352.76 244.432 L205.121 244.432  Z\n",
       "  \" fill=\"#ffffff\" fill-rule=\"evenodd\" fill-opacity=\"1\"/>\n",
       "<defs>\n",
       "  <clipPath id=\"clip662\">\n",
       "    <rect x=\"205\" y=\"244\" width=\"2149\" height=\"1208\"/>\n",
       "  </clipPath>\n",
       "</defs>\n",
       "<polyline clip-path=\"url(#clip662)\" style=\"stroke:#000000; stroke-linecap:butt; stroke-linejoin:round; stroke-width:2; stroke-opacity:0.1; fill:none\" points=\"\n",
       "  451.836,1451.89 451.836,244.432 \n",
       "  \"/>\n",
       "<polyline clip-path=\"url(#clip662)\" style=\"stroke:#000000; stroke-linecap:butt; stroke-linejoin:round; stroke-width:2; stroke-opacity:0.1; fill:none\" points=\"\n",
       "  782.677,1451.89 782.677,244.432 \n",
       "  \"/>\n",
       "<polyline clip-path=\"url(#clip662)\" style=\"stroke:#000000; stroke-linecap:butt; stroke-linejoin:round; stroke-width:2; stroke-opacity:0.1; fill:none\" points=\"\n",
       "  1113.52,1451.89 1113.52,244.432 \n",
       "  \"/>\n",
       "<polyline clip-path=\"url(#clip662)\" style=\"stroke:#000000; stroke-linecap:butt; stroke-linejoin:round; stroke-width:2; stroke-opacity:0.1; fill:none\" points=\"\n",
       "  1444.36,1451.89 1444.36,244.432 \n",
       "  \"/>\n",
       "<polyline clip-path=\"url(#clip662)\" style=\"stroke:#000000; stroke-linecap:butt; stroke-linejoin:round; stroke-width:2; stroke-opacity:0.1; fill:none\" points=\"\n",
       "  1775.2,1451.89 1775.2,244.432 \n",
       "  \"/>\n",
       "<polyline clip-path=\"url(#clip662)\" style=\"stroke:#000000; stroke-linecap:butt; stroke-linejoin:round; stroke-width:2; stroke-opacity:0.1; fill:none\" points=\"\n",
       "  2106.04,1451.89 2106.04,244.432 \n",
       "  \"/>\n",
       "<polyline clip-path=\"url(#clip660)\" style=\"stroke:#000000; stroke-linecap:butt; stroke-linejoin:round; stroke-width:4; stroke-opacity:1; fill:none\" points=\"\n",
       "  205.121,1451.89 2352.76,1451.89 \n",
       "  \"/>\n",
       "<polyline clip-path=\"url(#clip660)\" style=\"stroke:#000000; stroke-linecap:butt; stroke-linejoin:round; stroke-width:4; stroke-opacity:1; fill:none\" points=\"\n",
       "  451.836,1451.89 451.836,1437.4 \n",
       "  \"/>\n",
       "<polyline clip-path=\"url(#clip660)\" style=\"stroke:#000000; stroke-linecap:butt; stroke-linejoin:round; stroke-width:4; stroke-opacity:1; fill:none\" points=\"\n",
       "  782.677,1451.89 782.677,1437.4 \n",
       "  \"/>\n",
       "<polyline clip-path=\"url(#clip660)\" style=\"stroke:#000000; stroke-linecap:butt; stroke-linejoin:round; stroke-width:4; stroke-opacity:1; fill:none\" points=\"\n",
       "  1113.52,1451.89 1113.52,1437.4 \n",
       "  \"/>\n",
       "<polyline clip-path=\"url(#clip660)\" style=\"stroke:#000000; stroke-linecap:butt; stroke-linejoin:round; stroke-width:4; stroke-opacity:1; fill:none\" points=\"\n",
       "  1444.36,1451.89 1444.36,1437.4 \n",
       "  \"/>\n",
       "<polyline clip-path=\"url(#clip660)\" style=\"stroke:#000000; stroke-linecap:butt; stroke-linejoin:round; stroke-width:4; stroke-opacity:1; fill:none\" points=\"\n",
       "  1775.2,1451.89 1775.2,1437.4 \n",
       "  \"/>\n",
       "<polyline clip-path=\"url(#clip660)\" style=\"stroke:#000000; stroke-linecap:butt; stroke-linejoin:round; stroke-width:4; stroke-opacity:1; fill:none\" points=\"\n",
       "  2106.04,1451.89 2106.04,1437.4 \n",
       "  \"/>\n",
       "<path clip-path=\"url(#clip660)\" d=\"M382.889 1482.61 L376.547 1499.81 L389.255 1499.81 L382.889 1482.61 M380.251 1478 L385.551 1478 L398.723 1512.56 L393.862 1512.56 L390.713 1503.69 L375.135 1503.69 L371.987 1512.56 L367.056 1512.56 L380.251 1478 Z\" fill=\"#000000\" fill-rule=\"evenodd\" fill-opacity=\"1\" /><path clip-path=\"url(#clip660)\" d=\"M418.607 1490.62 Q417.889 1490.2 417.033 1490.01 Q416.199 1489.81 415.181 1489.81 Q411.57 1489.81 409.625 1492.17 Q407.704 1494.5 407.704 1498.9 L407.704 1512.56 L403.422 1512.56 L403.422 1486.63 L407.704 1486.63 L407.704 1490.66 Q409.047 1488.3 411.199 1487.17 Q413.352 1486.01 416.431 1486.01 Q416.871 1486.01 417.403 1486.08 Q417.935 1486.12 418.584 1486.24 L418.607 1490.62 Z\" fill=\"#000000\" fill-rule=\"evenodd\" fill-opacity=\"1\" /><path clip-path=\"url(#clip660)\" d=\"M437.264 1490.62 Q436.547 1490.2 435.69 1490.01 Q434.857 1489.81 433.838 1489.81 Q430.227 1489.81 428.283 1492.17 Q426.361 1494.5 426.361 1498.9 L426.361 1512.56 L422.079 1512.56 L422.079 1486.63 L426.361 1486.63 L426.361 1490.66 Q427.704 1488.3 429.857 1487.17 Q432.009 1486.01 435.088 1486.01 Q435.528 1486.01 436.06 1486.08 Q436.593 1486.12 437.241 1486.24 L437.264 1490.62 Z\" fill=\"#000000\" fill-rule=\"evenodd\" fill-opacity=\"1\" /><path clip-path=\"url(#clip660)\" d=\"M450.736 1489.62 Q447.31 1489.62 445.32 1492.31 Q443.329 1494.97 443.329 1499.62 Q443.329 1504.27 445.296 1506.96 Q447.287 1509.62 450.736 1509.62 Q454.139 1509.62 456.13 1506.93 Q458.12 1504.25 458.12 1499.62 Q458.12 1495.01 456.13 1492.33 Q454.139 1489.62 450.736 1489.62 M450.736 1486.01 Q456.292 1486.01 459.463 1489.62 Q462.634 1493.23 462.634 1499.62 Q462.634 1505.99 459.463 1509.62 Q456.292 1513.23 450.736 1513.23 Q445.158 1513.23 441.986 1509.62 Q438.838 1505.99 438.838 1499.62 Q438.838 1493.23 441.986 1489.62 Q445.158 1486.01 450.736 1486.01 Z\" fill=\"#000000\" fill-rule=\"evenodd\" fill-opacity=\"1\" /><path clip-path=\"url(#clip660)\" d=\"M467.218 1486.63 L471.477 1486.63 L476.801 1506.87 L482.102 1486.63 L487.125 1486.63 L492.449 1506.87 L497.75 1486.63 L502.009 1486.63 L495.227 1512.56 L490.204 1512.56 L484.625 1491.31 L479.023 1512.56 L474 1512.56 L467.218 1486.63 Z\" fill=\"#000000\" fill-rule=\"evenodd\" fill-opacity=\"1\" /><path clip-path=\"url(#clip660)\" d=\"M504.717 1506.68 L509.602 1506.68 L509.602 1512.56 L504.717 1512.56 L504.717 1506.68 Z\" fill=\"#000000\" fill-rule=\"evenodd\" fill-opacity=\"1\" /><path clip-path=\"url(#clip660)\" d=\"M519.185 1486.63 L523.444 1486.63 L523.444 1513.02 Q523.444 1517.98 521.546 1520.2 Q519.671 1522.42 515.481 1522.42 L513.861 1522.42 L513.861 1518.81 L514.995 1518.81 Q517.426 1518.81 518.305 1517.68 Q519.185 1516.56 519.185 1513.02 L519.185 1486.63 M519.185 1476.54 L523.444 1476.54 L523.444 1481.94 L519.185 1481.94 L519.185 1476.54 Z\" fill=\"#000000\" fill-rule=\"evenodd\" fill-opacity=\"1\" /><path clip-path=\"url(#clip660)\" d=\"M532.356 1476.54 L536.615 1476.54 L536.615 1512.56 L532.356 1512.56 L532.356 1476.54 Z\" fill=\"#000000\" fill-rule=\"evenodd\" fill-opacity=\"1\" /><path clip-path=\"url(#clip660)\" d=\"M748.638 1480.66 L748.638 1485.59 Q746.277 1483.39 743.591 1482.31 Q740.929 1481.22 737.92 1481.22 Q731.994 1481.22 728.846 1484.85 Q725.698 1488.46 725.698 1495.31 Q725.698 1502.14 728.846 1505.78 Q731.994 1509.39 737.92 1509.39 Q740.929 1509.39 743.591 1508.3 Q746.277 1507.21 748.638 1505.01 L748.638 1509.9 Q746.184 1511.56 743.429 1512.4 Q740.698 1513.23 737.642 1513.23 Q729.795 1513.23 725.281 1508.44 Q720.767 1503.62 720.767 1495.31 Q720.767 1486.98 725.281 1482.19 Q729.795 1477.37 737.642 1477.37 Q740.744 1477.37 743.476 1478.21 Q746.23 1479.02 748.638 1480.66 Z\" fill=\"#000000\" fill-rule=\"evenodd\" fill-opacity=\"1\" /><path clip-path=\"url(#clip660)\" d=\"M776.577 1479.13 L776.577 1483.69 Q773.915 1482.42 771.554 1481.8 Q769.193 1481.17 766.994 1481.17 Q763.175 1481.17 761.091 1482.65 Q759.031 1484.13 759.031 1486.87 Q759.031 1489.16 760.397 1490.34 Q761.786 1491.5 765.628 1492.21 L768.452 1492.79 Q773.684 1493.79 776.161 1496.31 Q778.661 1498.81 778.661 1503.02 Q778.661 1508.05 775.281 1510.64 Q771.925 1513.23 765.42 1513.23 Q762.966 1513.23 760.189 1512.68 Q757.434 1512.12 754.471 1511.03 L754.471 1506.22 Q757.318 1507.81 760.05 1508.62 Q762.781 1509.43 765.42 1509.43 Q769.425 1509.43 771.601 1507.86 Q773.776 1506.29 773.776 1503.37 Q773.776 1500.82 772.202 1499.39 Q770.651 1497.95 767.087 1497.24 L764.239 1496.68 Q759.008 1495.64 756.67 1493.42 Q754.332 1491.19 754.332 1487.24 Q754.332 1482.65 757.55 1480.01 Q760.79 1477.37 766.462 1477.37 Q768.892 1477.37 771.415 1477.81 Q773.938 1478.25 776.577 1479.13 Z\" fill=\"#000000\" fill-rule=\"evenodd\" fill-opacity=\"1\" /><path clip-path=\"url(#clip660)\" d=\"M794.864 1512.56 L781.67 1478 L786.554 1478 L797.503 1507.1 L808.475 1478 L813.336 1478 L800.165 1512.56 L794.864 1512.56 Z\" fill=\"#000000\" fill-rule=\"evenodd\" fill-opacity=\"1\" /><path clip-path=\"url(#clip660)\" d=\"M812.688 1506.68 L817.572 1506.68 L817.572 1512.56 L812.688 1512.56 L812.688 1506.68 Z\" fill=\"#000000\" fill-rule=\"evenodd\" fill-opacity=\"1\" /><path clip-path=\"url(#clip660)\" d=\"M827.156 1486.63 L831.415 1486.63 L831.415 1513.02 Q831.415 1517.98 829.517 1520.2 Q827.642 1522.42 823.452 1522.42 L821.832 1522.42 L821.832 1518.81 L822.966 1518.81 Q825.397 1518.81 826.276 1517.68 Q827.156 1516.56 827.156 1513.02 L827.156 1486.63 M827.156 1476.54 L831.415 1476.54 L831.415 1481.94 L827.156 1481.94 L827.156 1476.54 Z\" fill=\"#000000\" fill-rule=\"evenodd\" fill-opacity=\"1\" /><path clip-path=\"url(#clip660)\" d=\"M840.327 1476.54 L844.586 1476.54 L844.586 1512.56 L840.327 1512.56 L840.327 1476.54 Z\" fill=\"#000000\" fill-rule=\"evenodd\" fill-opacity=\"1\" /><path clip-path=\"url(#clip660)\" d=\"M1065.84 1478 L1070.52 1478 L1070.52 1510.15 Q1070.52 1516.4 1068.14 1519.23 Q1065.78 1522.05 1060.52 1522.05 L1058.74 1522.05 L1058.74 1518.12 L1060.2 1518.12 Q1063.3 1518.12 1064.57 1516.38 Q1065.84 1514.64 1065.84 1510.15 L1065.84 1478 Z\" fill=\"#000000\" fill-rule=\"evenodd\" fill-opacity=\"1\" /><path clip-path=\"url(#clip660)\" d=\"M1084.5 1481.84 L1084.5 1508.72 L1090.15 1508.72 Q1097.3 1508.72 1100.61 1505.48 Q1103.95 1502.24 1103.95 1495.25 Q1103.95 1488.3 1100.61 1485.08 Q1097.3 1481.84 1090.15 1481.84 L1084.5 1481.84 M1079.83 1478 L1089.43 1478 Q1099.48 1478 1104.18 1482.19 Q1108.88 1486.36 1108.88 1495.25 Q1108.88 1504.18 1104.15 1508.37 Q1099.43 1512.56 1089.43 1512.56 L1079.83 1512.56 L1079.83 1478 Z\" fill=\"#000000\" fill-rule=\"evenodd\" fill-opacity=\"1\" /><path clip-path=\"url(#clip660)\" d=\"M1116.33 1478 L1136.19 1478 L1136.19 1481.94 L1121.01 1481.94 L1121.01 1492.12 L1134.71 1492.12 L1134.71 1496.06 L1121.01 1496.06 L1121.01 1512.56 L1116.33 1512.56 L1116.33 1478 Z\" fill=\"#000000\" fill-rule=\"evenodd\" fill-opacity=\"1\" /><path clip-path=\"url(#clip660)\" d=\"M1136.4 1506.68 L1141.28 1506.68 L1141.28 1512.56 L1136.4 1512.56 L1136.4 1506.68 Z\" fill=\"#000000\" fill-rule=\"evenodd\" fill-opacity=\"1\" /><path clip-path=\"url(#clip660)\" d=\"M1150.87 1486.63 L1155.13 1486.63 L1155.13 1513.02 Q1155.13 1517.98 1153.23 1520.2 Q1151.35 1522.42 1147.16 1522.42 L1145.54 1522.42 L1145.54 1518.81 L1146.68 1518.81 Q1149.11 1518.81 1149.99 1517.68 Q1150.87 1516.56 1150.87 1513.02 L1150.87 1486.63 M1150.87 1476.54 L1155.13 1476.54 L1155.13 1481.94 L1150.87 1481.94 L1150.87 1476.54 Z\" fill=\"#000000\" fill-rule=\"evenodd\" fill-opacity=\"1\" /><path clip-path=\"url(#clip660)\" d=\"M1164.04 1476.54 L1168.3 1476.54 L1168.3 1512.56 L1164.04 1512.56 L1164.04 1476.54 Z\" fill=\"#000000\" fill-rule=\"evenodd\" fill-opacity=\"1\" /><path clip-path=\"url(#clip660)\" d=\"M1378.82 1478 L1383.49 1478 L1383.49 1510.15 Q1383.49 1516.4 1381.11 1519.23 Q1378.75 1522.05 1373.49 1522.05 L1371.71 1522.05 L1371.71 1518.12 L1373.17 1518.12 Q1376.27 1518.12 1377.54 1516.38 Q1378.82 1514.64 1378.82 1510.15 L1378.82 1478 Z\" fill=\"#000000\" fill-rule=\"evenodd\" fill-opacity=\"1\" /><path clip-path=\"url(#clip660)\" d=\"M1392.8 1478 L1397.47 1478 L1397.47 1508.62 L1414.3 1508.62 L1414.3 1512.56 L1392.8 1512.56 L1392.8 1478 Z\" fill=\"#000000\" fill-rule=\"evenodd\" fill-opacity=\"1\" /><path clip-path=\"url(#clip660)\" d=\"M1439.93 1479.13 L1439.93 1483.69 Q1437.26 1482.42 1434.9 1481.8 Q1432.54 1481.17 1430.34 1481.17 Q1426.52 1481.17 1424.44 1482.65 Q1422.38 1484.13 1422.38 1486.87 Q1422.38 1489.16 1423.75 1490.34 Q1425.13 1491.5 1428.98 1492.21 L1431.8 1492.79 Q1437.03 1493.79 1439.51 1496.31 Q1442.01 1498.81 1442.01 1503.02 Q1442.01 1508.05 1438.63 1510.64 Q1435.27 1513.23 1428.77 1513.23 Q1426.32 1513.23 1423.54 1512.68 Q1420.78 1512.12 1417.82 1511.03 L1417.82 1506.22 Q1420.67 1507.81 1423.4 1508.62 Q1426.13 1509.43 1428.77 1509.43 Q1432.77 1509.43 1434.95 1507.86 Q1437.13 1506.29 1437.13 1503.37 Q1437.13 1500.82 1435.55 1499.39 Q1434 1497.95 1430.44 1497.24 L1427.59 1496.68 Q1422.36 1495.64 1420.02 1493.42 Q1417.68 1491.19 1417.68 1487.24 Q1417.68 1482.65 1420.9 1480.01 Q1424.14 1477.37 1429.81 1477.37 Q1432.24 1477.37 1434.76 1477.81 Q1437.29 1478.25 1439.93 1479.13 Z\" fill=\"#000000\" fill-rule=\"evenodd\" fill-opacity=\"1\" /><path clip-path=\"url(#clip660)\" d=\"M1463.33 1481.17 Q1458.24 1481.17 1455.23 1484.97 Q1452.24 1488.76 1452.24 1495.31 Q1452.24 1501.84 1455.23 1505.64 Q1458.24 1509.43 1463.33 1509.43 Q1468.42 1509.43 1471.38 1505.64 Q1474.37 1501.84 1474.37 1495.31 Q1474.37 1488.76 1471.38 1484.97 Q1468.42 1481.17 1463.33 1481.17 M1463.33 1477.37 Q1470.6 1477.37 1474.95 1482.26 Q1479.3 1487.12 1479.3 1495.31 Q1479.3 1503.49 1474.95 1508.37 Q1470.6 1513.23 1463.33 1513.23 Q1456.04 1513.23 1451.66 1508.37 Q1447.31 1503.51 1447.31 1495.31 Q1447.31 1487.12 1451.66 1482.26 Q1456.04 1477.37 1463.33 1477.37 Z\" fill=\"#000000\" fill-rule=\"evenodd\" fill-opacity=\"1\" /><path clip-path=\"url(#clip660)\" d=\"M1485.11 1506.68 L1490 1506.68 L1490 1512.56 L1485.11 1512.56 L1485.11 1506.68 Z\" fill=\"#000000\" fill-rule=\"evenodd\" fill-opacity=\"1\" /><path clip-path=\"url(#clip660)\" d=\"M1499.58 1486.63 L1503.84 1486.63 L1503.84 1513.02 Q1503.84 1517.98 1501.94 1520.2 Q1500.06 1522.42 1495.87 1522.42 L1494.25 1522.42 L1494.25 1518.81 L1495.39 1518.81 Q1497.82 1518.81 1498.7 1517.68 Q1499.58 1516.56 1499.58 1513.02 L1499.58 1486.63 M1499.58 1476.54 L1503.84 1476.54 L1503.84 1481.94 L1499.58 1481.94 L1499.58 1476.54 Z\" fill=\"#000000\" fill-rule=\"evenodd\" fill-opacity=\"1\" /><path clip-path=\"url(#clip660)\" d=\"M1512.75 1476.54 L1517.01 1476.54 L1517.01 1512.56 L1512.75 1512.56 L1512.75 1476.54 Z\" fill=\"#000000\" fill-rule=\"evenodd\" fill-opacity=\"1\" /><path clip-path=\"url(#clip660)\" d=\"M1630.52 1478 L1635.2 1478 L1635.2 1510.15 Q1635.2 1516.4 1632.82 1519.23 Q1630.46 1522.05 1625.2 1522.05 L1623.42 1522.05 L1623.42 1518.12 L1624.88 1518.12 Q1627.98 1518.12 1629.25 1516.38 Q1630.52 1514.64 1630.52 1510.15 L1630.52 1478 Z\" fill=\"#000000\" fill-rule=\"evenodd\" fill-opacity=\"1\" /><path clip-path=\"url(#clip660)\" d=\"M1665.22 1479.13 L1665.22 1483.69 Q1662.56 1482.42 1660.2 1481.8 Q1657.84 1481.17 1655.64 1481.17 Q1651.82 1481.17 1649.74 1482.65 Q1647.68 1484.13 1647.68 1486.87 Q1647.68 1489.16 1649.04 1490.34 Q1650.43 1491.5 1654.27 1492.21 L1657.1 1492.79 Q1662.33 1493.79 1664.81 1496.31 Q1667.31 1498.81 1667.31 1503.02 Q1667.31 1508.05 1663.93 1510.64 Q1660.57 1513.23 1654.07 1513.23 Q1651.61 1513.23 1648.83 1512.68 Q1646.08 1512.12 1643.12 1511.03 L1643.12 1506.22 Q1645.96 1507.81 1648.7 1508.62 Q1651.43 1509.43 1654.07 1509.43 Q1658.07 1509.43 1660.25 1507.86 Q1662.42 1506.29 1662.42 1503.37 Q1662.42 1500.82 1660.85 1499.39 Q1659.3 1497.95 1655.73 1497.24 L1652.89 1496.68 Q1647.65 1495.64 1645.32 1493.42 Q1642.98 1491.19 1642.98 1487.24 Q1642.98 1482.65 1646.2 1480.01 Q1649.44 1477.37 1655.11 1477.37 Q1657.54 1477.37 1660.06 1477.81 Q1662.58 1478.25 1665.22 1479.13 Z\" fill=\"#000000\" fill-rule=\"evenodd\" fill-opacity=\"1\" /><path clip-path=\"url(#clip660)\" d=\"M1688.63 1481.17 Q1683.53 1481.17 1680.52 1484.97 Q1677.54 1488.76 1677.54 1495.31 Q1677.54 1501.84 1680.52 1505.64 Q1683.53 1509.43 1688.63 1509.43 Q1693.72 1509.43 1696.68 1505.64 Q1699.67 1501.84 1699.67 1495.31 Q1699.67 1488.76 1696.68 1484.97 Q1693.72 1481.17 1688.63 1481.17 M1688.63 1477.37 Q1695.89 1477.37 1700.25 1482.26 Q1704.6 1487.12 1704.6 1495.31 Q1704.6 1503.49 1700.25 1508.37 Q1695.89 1513.23 1688.63 1513.23 Q1681.33 1513.23 1676.96 1508.37 Q1672.61 1503.51 1672.61 1495.31 Q1672.61 1487.12 1676.96 1482.26 Q1681.33 1477.37 1688.63 1477.37 Z\" fill=\"#000000\" fill-rule=\"evenodd\" fill-opacity=\"1\" /><path clip-path=\"url(#clip660)\" d=\"M1711.91 1478 L1718.21 1478 L1733.53 1506.91 L1733.53 1478 L1738.07 1478 L1738.07 1512.56 L1731.77 1512.56 L1716.45 1483.65 L1716.45 1512.56 L1711.91 1512.56 L1711.91 1478 Z\" fill=\"#000000\" fill-rule=\"evenodd\" fill-opacity=\"1\" /><path clip-path=\"url(#clip660)\" d=\"M1742.58 1478 L1771.82 1478 L1771.82 1481.94 L1759.55 1481.94 L1759.55 1512.56 L1754.85 1512.56 L1754.85 1481.94 L1742.58 1481.94 L1742.58 1478 Z\" fill=\"#000000\" fill-rule=\"evenodd\" fill-opacity=\"1\" /><path clip-path=\"url(#clip660)\" d=\"M1780.08 1499.53 Q1774.92 1499.53 1772.93 1500.71 Q1770.94 1501.89 1770.94 1504.74 Q1770.94 1507 1772.42 1508.35 Q1773.93 1509.67 1776.5 1509.67 Q1780.04 1509.67 1782.17 1507.17 Q1784.32 1504.64 1784.32 1500.48 L1784.32 1499.53 L1780.08 1499.53 M1788.58 1497.77 L1788.58 1512.56 L1784.32 1512.56 L1784.32 1508.62 Q1782.86 1510.99 1780.69 1512.12 Q1778.51 1513.23 1775.36 1513.23 Q1771.38 1513.23 1769.02 1511.01 Q1766.68 1508.76 1766.68 1505.01 Q1766.68 1500.64 1769.6 1498.42 Q1772.54 1496.19 1778.35 1496.19 L1784.32 1496.19 L1784.32 1495.78 Q1784.32 1492.84 1782.38 1491.24 Q1780.45 1489.62 1776.96 1489.62 Q1774.74 1489.62 1772.63 1490.15 Q1770.52 1490.68 1768.58 1491.75 L1768.58 1487.81 Q1770.92 1486.91 1773.12 1486.47 Q1775.32 1486.01 1777.4 1486.01 Q1783.02 1486.01 1785.8 1488.93 Q1788.58 1491.84 1788.58 1497.77 Z\" fill=\"#000000\" fill-rule=\"evenodd\" fill-opacity=\"1\" /><path clip-path=\"url(#clip660)\" d=\"M1815.96 1499.62 Q1815.96 1494.92 1814.02 1492.26 Q1812.1 1489.57 1808.72 1489.57 Q1805.34 1489.57 1803.39 1492.26 Q1801.47 1494.92 1801.47 1499.62 Q1801.47 1504.32 1803.39 1507 Q1805.34 1509.67 1808.72 1509.67 Q1812.1 1509.67 1814.02 1507 Q1815.96 1504.32 1815.96 1499.62 M1801.47 1490.57 Q1802.82 1488.25 1804.85 1487.14 Q1806.91 1486.01 1809.76 1486.01 Q1814.48 1486.01 1817.42 1489.76 Q1820.38 1493.51 1820.38 1499.62 Q1820.38 1505.73 1817.42 1509.48 Q1814.48 1513.23 1809.76 1513.23 Q1806.91 1513.23 1804.85 1512.12 Q1802.82 1510.99 1801.47 1508.67 L1801.47 1512.56 L1797.19 1512.56 L1797.19 1476.54 L1801.47 1476.54 L1801.47 1490.57 Z\" fill=\"#000000\" fill-rule=\"evenodd\" fill-opacity=\"1\" /><path clip-path=\"url(#clip660)\" d=\"M1827.45 1476.54 L1831.7 1476.54 L1831.7 1512.56 L1827.45 1512.56 L1827.45 1476.54 Z\" fill=\"#000000\" fill-rule=\"evenodd\" fill-opacity=\"1\" /><path clip-path=\"url(#clip660)\" d=\"M1862.79 1498.53 L1862.79 1500.62 L1843.21 1500.62 Q1843.49 1505.01 1845.85 1507.33 Q1848.23 1509.62 1852.47 1509.62 Q1854.92 1509.62 1857.21 1509.02 Q1859.53 1508.42 1861.8 1507.21 L1861.8 1511.24 Q1859.51 1512.21 1857.1 1512.72 Q1854.69 1513.23 1852.21 1513.23 Q1846.01 1513.23 1842.38 1509.62 Q1838.76 1506.01 1838.76 1499.85 Q1838.76 1493.49 1842.19 1489.76 Q1845.64 1486.01 1851.47 1486.01 Q1856.7 1486.01 1859.74 1489.39 Q1862.79 1492.75 1862.79 1498.53 M1858.53 1497.28 Q1858.49 1493.79 1856.57 1491.7 Q1854.67 1489.62 1851.52 1489.62 Q1847.95 1489.62 1845.8 1491.63 Q1843.67 1493.65 1843.35 1497.31 L1858.53 1497.28 Z\" fill=\"#000000\" fill-rule=\"evenodd\" fill-opacity=\"1\" /><path clip-path=\"url(#clip660)\" d=\"M1886.31 1487.4 L1886.31 1491.43 Q1884.51 1490.5 1882.56 1490.04 Q1880.62 1489.57 1878.53 1489.57 Q1875.36 1489.57 1873.76 1490.55 Q1872.19 1491.52 1872.19 1493.46 Q1872.19 1494.94 1873.32 1495.8 Q1874.46 1496.63 1877.88 1497.4 L1879.34 1497.72 Q1883.88 1498.69 1885.78 1500.48 Q1887.7 1502.24 1887.7 1505.41 Q1887.7 1509.02 1884.83 1511.12 Q1881.98 1513.23 1876.98 1513.23 Q1874.9 1513.23 1872.63 1512.81 Q1870.38 1512.42 1867.88 1511.61 L1867.88 1507.21 Q1870.25 1508.44 1872.54 1509.06 Q1874.83 1509.67 1877.07 1509.67 Q1880.08 1509.67 1881.7 1508.65 Q1883.32 1507.61 1883.32 1505.73 Q1883.32 1504 1882.14 1503.07 Q1880.99 1502.14 1877.03 1501.29 L1875.55 1500.94 Q1871.59 1500.11 1869.83 1498.39 Q1868.07 1496.66 1868.07 1493.65 Q1868.07 1489.99 1870.66 1488 Q1873.26 1486.01 1878.02 1486.01 Q1880.38 1486.01 1882.47 1486.36 Q1884.55 1486.7 1886.31 1487.4 Z\" fill=\"#000000\" fill-rule=\"evenodd\" fill-opacity=\"1\" /><path clip-path=\"url(#clip660)\" d=\"M1895.08 1506.68 L1899.97 1506.68 L1899.97 1512.56 L1895.08 1512.56 L1895.08 1506.68 Z\" fill=\"#000000\" fill-rule=\"evenodd\" fill-opacity=\"1\" /><path clip-path=\"url(#clip660)\" d=\"M1909.55 1486.63 L1913.81 1486.63 L1913.81 1513.02 Q1913.81 1517.98 1911.91 1520.2 Q1910.04 1522.42 1905.85 1522.42 L1904.23 1522.42 L1904.23 1518.81 L1905.36 1518.81 Q1907.79 1518.81 1908.67 1517.68 Q1909.55 1516.56 1909.55 1513.02 L1909.55 1486.63 M1909.55 1476.54 L1913.81 1476.54 L1913.81 1481.94 L1909.55 1481.94 L1909.55 1476.54 Z\" fill=\"#000000\" fill-rule=\"evenodd\" fill-opacity=\"1\" /><path clip-path=\"url(#clip660)\" d=\"M1922.72 1476.54 L1926.98 1476.54 L1926.98 1512.56 L1922.72 1512.56 L1922.72 1476.54 Z\" fill=\"#000000\" fill-rule=\"evenodd\" fill-opacity=\"1\" /><path clip-path=\"url(#clip660)\" d=\"M1656.59 1541.46 Q1653.16 1541.46 1651.17 1544.15 Q1649.18 1546.81 1649.18 1551.46 Q1649.18 1556.11 1651.15 1558.8 Q1653.14 1561.46 1656.59 1561.46 Q1659.99 1561.46 1661.98 1558.77 Q1663.97 1556.09 1663.97 1551.46 Q1663.97 1546.85 1661.98 1544.17 Q1659.99 1541.46 1656.59 1541.46 M1656.59 1537.85 Q1662.15 1537.85 1665.32 1541.46 Q1668.49 1545.07 1668.49 1551.46 Q1668.49 1557.83 1665.32 1561.46 Q1662.15 1565.07 1656.59 1565.07 Q1651.01 1565.07 1647.84 1561.46 Q1644.69 1557.83 1644.69 1551.46 Q1644.69 1545.07 1647.84 1541.46 Q1651.01 1537.85 1656.59 1537.85 Z\" fill=\"#000000\" fill-rule=\"evenodd\" fill-opacity=\"1\" /><path clip-path=\"url(#clip660)\" d=\"M1694.16 1551.46 Q1694.16 1546.76 1692.21 1544.1 Q1690.29 1541.41 1686.91 1541.41 Q1683.53 1541.41 1681.59 1544.1 Q1679.67 1546.76 1679.67 1551.46 Q1679.67 1556.16 1681.59 1558.84 Q1683.53 1561.51 1686.91 1561.51 Q1690.29 1561.51 1692.21 1558.84 Q1694.16 1556.16 1694.16 1551.46 M1679.67 1542.41 Q1681.01 1540.09 1683.05 1538.98 Q1685.11 1537.85 1687.96 1537.85 Q1692.68 1537.85 1695.62 1541.6 Q1698.58 1545.35 1698.58 1551.46 Q1698.58 1557.57 1695.62 1561.32 Q1692.68 1565.07 1687.96 1565.07 Q1685.11 1565.07 1683.05 1563.96 Q1681.01 1562.83 1679.67 1560.51 L1679.67 1564.4 L1675.39 1564.4 L1675.39 1528.38 L1679.67 1528.38 L1679.67 1542.41 Z\" fill=\"#000000\" fill-rule=\"evenodd\" fill-opacity=\"1\" /><path clip-path=\"url(#clip660)\" d=\"M1705.64 1538.47 L1709.9 1538.47 L1709.9 1564.86 Q1709.9 1569.82 1708 1572.04 Q1706.13 1574.26 1701.94 1574.26 L1700.32 1574.26 L1700.32 1570.65 L1701.45 1570.65 Q1703.88 1570.65 1704.76 1569.52 Q1705.64 1568.4 1705.64 1564.86 L1705.64 1538.47 M1705.64 1528.38 L1709.9 1528.38 L1709.9 1533.78 L1705.64 1533.78 L1705.64 1528.38 Z\" fill=\"#000000\" fill-rule=\"evenodd\" fill-opacity=\"1\" /><path clip-path=\"url(#clip660)\" d=\"M1740.99 1550.37 L1740.99 1552.46 L1721.4 1552.46 Q1721.68 1556.85 1724.04 1559.17 Q1726.43 1561.46 1730.66 1561.46 Q1733.12 1561.46 1735.41 1560.86 Q1737.72 1560.26 1739.99 1559.05 L1739.99 1563.08 Q1737.7 1564.05 1735.29 1564.56 Q1732.89 1565.07 1730.41 1565.07 Q1724.2 1565.07 1720.57 1561.46 Q1716.96 1557.85 1716.96 1551.69 Q1716.96 1545.33 1720.39 1541.6 Q1723.83 1537.85 1729.67 1537.85 Q1734.9 1537.85 1737.93 1541.23 Q1740.99 1544.59 1740.99 1550.37 M1736.73 1549.12 Q1736.68 1545.63 1734.76 1543.54 Q1732.86 1541.46 1729.71 1541.46 Q1726.15 1541.46 1724 1543.47 Q1721.87 1545.49 1721.54 1549.15 L1736.73 1549.12 Z\" fill=\"#000000\" fill-rule=\"evenodd\" fill-opacity=\"1\" /><path clip-path=\"url(#clip660)\" d=\"M1766.64 1539.47 L1766.64 1543.45 Q1764.83 1542.46 1763 1541.97 Q1761.2 1541.46 1759.34 1541.46 Q1755.2 1541.46 1752.91 1544.1 Q1750.62 1546.71 1750.62 1551.46 Q1750.62 1556.21 1752.91 1558.84 Q1755.2 1561.46 1759.34 1561.46 Q1761.2 1561.46 1763 1560.97 Q1764.83 1560.46 1766.64 1559.47 L1766.64 1563.4 Q1764.85 1564.24 1762.93 1564.65 Q1761.03 1565.07 1758.88 1565.07 Q1753.02 1565.07 1749.58 1561.39 Q1746.13 1557.71 1746.13 1551.46 Q1746.13 1545.12 1749.6 1541.48 Q1753.09 1537.85 1759.16 1537.85 Q1761.13 1537.85 1763 1538.27 Q1764.88 1538.66 1766.64 1539.47 Z\" fill=\"#000000\" fill-rule=\"evenodd\" fill-opacity=\"1\" /><path clip-path=\"url(#clip660)\" d=\"M1778.26 1531.11 L1778.26 1538.47 L1787.03 1538.47 L1787.03 1541.78 L1778.26 1541.78 L1778.26 1555.86 Q1778.26 1559.03 1779.11 1559.93 Q1779.99 1560.84 1782.65 1560.84 L1787.03 1560.84 L1787.03 1564.4 L1782.65 1564.4 Q1777.72 1564.4 1775.85 1562.57 Q1773.97 1560.72 1773.97 1555.86 L1773.97 1541.78 L1770.85 1541.78 L1770.85 1538.47 L1773.97 1538.47 L1773.97 1531.11 L1778.26 1531.11 Z\" fill=\"#000000\" fill-rule=\"evenodd\" fill-opacity=\"1\" /><path clip-path=\"url(#clip660)\" d=\"M1796.84 1531.11 L1796.84 1538.47 L1805.62 1538.47 L1805.62 1541.78 L1796.84 1541.78 L1796.84 1555.86 Q1796.84 1559.03 1797.7 1559.93 Q1798.58 1560.84 1801.24 1560.84 L1805.62 1560.84 L1805.62 1564.4 L1801.24 1564.4 Q1796.31 1564.4 1794.44 1562.57 Q1792.56 1560.72 1792.56 1555.86 L1792.56 1541.78 L1789.44 1541.78 L1789.44 1538.47 L1792.56 1538.47 L1792.56 1531.11 L1796.84 1531.11 Z\" fill=\"#000000\" fill-rule=\"evenodd\" fill-opacity=\"1\" /><path clip-path=\"url(#clip660)\" d=\"M1823 1551.37 Q1817.84 1551.37 1815.85 1552.55 Q1813.86 1553.73 1813.86 1556.58 Q1813.86 1558.84 1815.34 1560.19 Q1816.84 1561.51 1819.41 1561.51 Q1822.95 1561.51 1825.08 1559.01 Q1827.24 1556.48 1827.24 1552.32 L1827.24 1551.37 L1823 1551.37 M1831.5 1549.61 L1831.5 1564.4 L1827.24 1564.4 L1827.24 1560.46 Q1825.78 1562.83 1823.6 1563.96 Q1821.43 1565.07 1818.28 1565.07 Q1814.3 1565.07 1811.94 1562.85 Q1809.6 1560.6 1809.6 1556.85 Q1809.6 1552.48 1812.51 1550.26 Q1815.45 1548.03 1821.26 1548.03 L1827.24 1548.03 L1827.24 1547.62 Q1827.24 1544.68 1825.29 1543.08 Q1823.37 1541.46 1819.88 1541.46 Q1817.65 1541.46 1815.55 1541.99 Q1813.44 1542.52 1811.5 1543.59 L1811.5 1539.65 Q1813.83 1538.75 1816.03 1538.31 Q1818.23 1537.85 1820.32 1537.85 Q1825.94 1537.85 1828.72 1540.77 Q1831.5 1543.68 1831.5 1549.61 Z\" fill=\"#000000\" fill-rule=\"evenodd\" fill-opacity=\"1\" /><path clip-path=\"url(#clip660)\" d=\"M1858.88 1551.46 Q1858.88 1546.76 1856.94 1544.1 Q1855.01 1541.41 1851.63 1541.41 Q1848.26 1541.41 1846.31 1544.1 Q1844.39 1546.76 1844.39 1551.46 Q1844.39 1556.16 1846.31 1558.84 Q1848.26 1561.51 1851.63 1561.51 Q1855.01 1561.51 1856.94 1558.84 Q1858.88 1556.16 1858.88 1551.46 M1844.39 1542.41 Q1845.73 1540.09 1847.77 1538.98 Q1849.83 1537.85 1852.68 1537.85 Q1857.4 1537.85 1860.34 1541.6 Q1863.3 1545.35 1863.3 1551.46 Q1863.3 1557.57 1860.34 1561.32 Q1857.4 1565.07 1852.68 1565.07 Q1849.83 1565.07 1847.77 1563.96 Q1845.73 1562.83 1844.39 1560.51 L1844.39 1564.4 L1840.11 1564.4 L1840.11 1528.38 L1844.39 1528.38 L1844.39 1542.41 Z\" fill=\"#000000\" fill-rule=\"evenodd\" fill-opacity=\"1\" /><path clip-path=\"url(#clip660)\" d=\"M1870.36 1528.38 L1874.62 1528.38 L1874.62 1564.4 L1870.36 1564.4 L1870.36 1528.38 Z\" fill=\"#000000\" fill-rule=\"evenodd\" fill-opacity=\"1\" /><path clip-path=\"url(#clip660)\" d=\"M1905.71 1550.37 L1905.71 1552.46 L1886.13 1552.46 Q1886.4 1556.85 1888.76 1559.17 Q1891.15 1561.46 1895.38 1561.46 Q1897.84 1561.46 1900.13 1560.86 Q1902.44 1560.26 1904.71 1559.05 L1904.71 1563.08 Q1902.42 1564.05 1900.01 1564.56 Q1897.61 1565.07 1895.13 1565.07 Q1888.93 1565.07 1885.29 1561.46 Q1881.68 1557.85 1881.68 1551.69 Q1881.68 1545.33 1885.11 1541.6 Q1888.56 1537.85 1894.39 1537.85 Q1899.62 1537.85 1902.65 1541.23 Q1905.71 1544.59 1905.71 1550.37 M1901.45 1549.12 Q1901.4 1545.63 1899.48 1543.54 Q1897.58 1541.46 1894.44 1541.46 Q1890.87 1541.46 1888.72 1543.47 Q1886.59 1545.49 1886.26 1549.15 L1901.45 1549.12 Z\" fill=\"#000000\" fill-rule=\"evenodd\" fill-opacity=\"1\" /><path clip-path=\"url(#clip660)\" d=\"M1985.83 1479.13 L1985.83 1483.69 Q1983.17 1482.42 1980.81 1481.8 Q1978.45 1481.17 1976.25 1481.17 Q1972.43 1481.17 1970.35 1482.65 Q1968.29 1484.13 1968.29 1486.87 Q1968.29 1489.16 1969.65 1490.34 Q1971.04 1491.5 1974.88 1492.21 L1977.71 1492.79 Q1982.94 1493.79 1985.42 1496.31 Q1987.92 1498.81 1987.92 1503.02 Q1987.92 1508.05 1984.54 1510.64 Q1981.18 1513.23 1974.68 1513.23 Q1972.22 1513.23 1969.44 1512.68 Q1966.69 1512.12 1963.73 1511.03 L1963.73 1506.22 Q1966.57 1507.81 1969.31 1508.62 Q1972.04 1509.43 1974.68 1509.43 Q1978.68 1509.43 1980.86 1507.86 Q1983.03 1506.29 1983.03 1503.37 Q1983.03 1500.82 1981.46 1499.39 Q1979.91 1497.95 1976.34 1497.24 L1973.5 1496.68 Q1968.26 1495.64 1965.93 1493.42 Q1963.59 1491.19 1963.59 1487.24 Q1963.59 1482.65 1966.81 1480.01 Q1970.05 1477.37 1975.72 1477.37 Q1978.15 1477.37 1980.67 1477.81 Q1983.19 1478.25 1985.83 1479.13 Z\" fill=\"#000000\" fill-rule=\"evenodd\" fill-opacity=\"1\" /><path clip-path=\"url(#clip660)\" d=\"M2017.2 1498.53 L2017.2 1500.62 L1997.62 1500.62 Q1997.89 1505.01 2000.25 1507.33 Q2002.64 1509.62 2006.87 1509.62 Q2009.33 1509.62 2011.62 1509.02 Q2013.94 1508.42 2016.2 1507.21 L2016.2 1511.24 Q2013.91 1512.21 2011.5 1512.72 Q2009.1 1513.23 2006.62 1513.23 Q2000.42 1513.23 1996.78 1509.62 Q1993.17 1506.01 1993.17 1499.85 Q1993.17 1493.49 1996.6 1489.76 Q2000.05 1486.01 2005.88 1486.01 Q2011.11 1486.01 2014.14 1489.39 Q2017.2 1492.75 2017.2 1498.53 M2012.94 1497.28 Q2012.89 1493.79 2010.97 1491.7 Q2009.07 1489.62 2005.93 1489.62 Q2002.36 1489.62 2000.21 1491.63 Q1998.08 1493.65 1997.75 1497.31 L2012.94 1497.28 Z\" fill=\"#000000\" fill-rule=\"evenodd\" fill-opacity=\"1\" /><path clip-path=\"url(#clip660)\" d=\"M2039.21 1490.62 Q2038.5 1490.2 2037.64 1490.01 Q2036.81 1489.81 2035.79 1489.81 Q2032.18 1489.81 2030.23 1492.17 Q2028.31 1494.5 2028.31 1498.9 L2028.31 1512.56 L2024.03 1512.56 L2024.03 1486.63 L2028.31 1486.63 L2028.31 1490.66 Q2029.65 1488.3 2031.81 1487.17 Q2033.96 1486.01 2037.04 1486.01 Q2037.48 1486.01 2038.01 1486.08 Q2038.54 1486.12 2039.19 1486.24 L2039.21 1490.62 Z\" fill=\"#000000\" fill-rule=\"evenodd\" fill-opacity=\"1\" /><path clip-path=\"url(#clip660)\" d=\"M2043.68 1486.63 L2047.94 1486.63 L2047.94 1512.56 L2043.68 1512.56 L2043.68 1486.63 M2043.68 1476.54 L2047.94 1476.54 L2047.94 1481.94 L2043.68 1481.94 L2043.68 1476.54 Z\" fill=\"#000000\" fill-rule=\"evenodd\" fill-opacity=\"1\" /><path clip-path=\"url(#clip660)\" d=\"M2068.63 1499.53 Q2063.47 1499.53 2061.48 1500.71 Q2059.49 1501.89 2059.49 1504.74 Q2059.49 1507 2060.97 1508.35 Q2062.48 1509.67 2065.05 1509.67 Q2068.59 1509.67 2070.72 1507.17 Q2072.87 1504.64 2072.87 1500.48 L2072.87 1499.53 L2068.63 1499.53 M2077.13 1497.77 L2077.13 1512.56 L2072.87 1512.56 L2072.87 1508.62 Q2071.41 1510.99 2069.24 1512.12 Q2067.06 1513.23 2063.91 1513.23 Q2059.93 1513.23 2057.57 1511.01 Q2055.23 1508.76 2055.23 1505.01 Q2055.23 1500.64 2058.15 1498.42 Q2061.09 1496.19 2066.9 1496.19 L2072.87 1496.19 L2072.87 1495.78 Q2072.87 1492.84 2070.93 1491.24 Q2069 1489.62 2065.51 1489.62 Q2063.29 1489.62 2061.18 1490.15 Q2059.07 1490.68 2057.13 1491.75 L2057.13 1487.81 Q2059.47 1486.91 2061.67 1486.47 Q2063.87 1486.01 2065.95 1486.01 Q2071.57 1486.01 2074.35 1488.93 Q2077.13 1491.84 2077.13 1497.77 Z\" fill=\"#000000\" fill-rule=\"evenodd\" fill-opacity=\"1\" /><path clip-path=\"url(#clip660)\" d=\"M2085.9 1476.54 L2090.16 1476.54 L2090.16 1512.56 L2085.9 1512.56 L2085.9 1476.54 Z\" fill=\"#000000\" fill-rule=\"evenodd\" fill-opacity=\"1\" /><path clip-path=\"url(#clip660)\" d=\"M2099.07 1486.63 L2103.33 1486.63 L2103.33 1512.56 L2099.07 1512.56 L2099.07 1486.63 M2099.07 1476.54 L2103.33 1476.54 L2103.33 1481.94 L2099.07 1481.94 L2099.07 1476.54 Z\" fill=\"#000000\" fill-rule=\"evenodd\" fill-opacity=\"1\" /><path clip-path=\"url(#clip660)\" d=\"M2110.39 1486.63 L2130.62 1486.63 L2130.62 1490.52 L2114.61 1509.16 L2130.62 1509.16 L2130.62 1512.56 L2109.81 1512.56 L2109.81 1508.67 L2125.83 1490.04 L2110.39 1490.04 L2110.39 1486.63 Z\" fill=\"#000000\" fill-rule=\"evenodd\" fill-opacity=\"1\" /><path clip-path=\"url(#clip660)\" d=\"M2148.91 1499.53 Q2143.75 1499.53 2141.76 1500.71 Q2139.77 1501.89 2139.77 1504.74 Q2139.77 1507 2141.25 1508.35 Q2142.75 1509.67 2145.32 1509.67 Q2148.86 1509.67 2150.99 1507.17 Q2153.15 1504.64 2153.15 1500.48 L2153.15 1499.53 L2148.91 1499.53 M2157.41 1497.77 L2157.41 1512.56 L2153.15 1512.56 L2153.15 1508.62 Q2151.69 1510.99 2149.51 1512.12 Q2147.34 1513.23 2144.19 1513.23 Q2140.21 1513.23 2137.85 1511.01 Q2135.51 1508.76 2135.51 1505.01 Q2135.51 1500.64 2138.43 1498.42 Q2141.36 1496.19 2147.18 1496.19 L2153.15 1496.19 L2153.15 1495.78 Q2153.15 1492.84 2151.2 1491.24 Q2149.28 1489.62 2145.79 1489.62 Q2143.56 1489.62 2141.46 1490.15 Q2139.35 1490.68 2137.41 1491.75 L2137.41 1487.81 Q2139.74 1486.91 2141.94 1486.47 Q2144.14 1486.01 2146.23 1486.01 Q2151.85 1486.01 2154.63 1488.93 Q2157.41 1491.84 2157.41 1497.77 Z\" fill=\"#000000\" fill-rule=\"evenodd\" fill-opacity=\"1\" /><path clip-path=\"url(#clip660)\" d=\"M2170.39 1479.27 L2170.39 1486.63 L2179.17 1486.63 L2179.17 1489.94 L2170.39 1489.94 L2170.39 1504.02 Q2170.39 1507.19 2171.25 1508.09 Q2172.13 1509 2174.79 1509 L2179.17 1509 L2179.17 1512.56 L2174.79 1512.56 Q2169.86 1512.56 2167.99 1510.73 Q2166.11 1508.88 2166.11 1504.02 L2166.11 1489.94 L2162.99 1489.94 L2162.99 1486.63 L2166.11 1486.63 L2166.11 1479.27 L2170.39 1479.27 Z\" fill=\"#000000\" fill-rule=\"evenodd\" fill-opacity=\"1\" /><path clip-path=\"url(#clip660)\" d=\"M2184.77 1486.63 L2189.03 1486.63 L2189.03 1512.56 L2184.77 1512.56 L2184.77 1486.63 M2184.77 1476.54 L2189.03 1476.54 L2189.03 1481.94 L2184.77 1481.94 L2184.77 1476.54 Z\" fill=\"#000000\" fill-rule=\"evenodd\" fill-opacity=\"1\" /><path clip-path=\"url(#clip660)\" d=\"M2207.99 1489.62 Q2204.56 1489.62 2202.57 1492.31 Q2200.58 1494.97 2200.58 1499.62 Q2200.58 1504.27 2202.55 1506.96 Q2204.54 1509.62 2207.99 1509.62 Q2211.39 1509.62 2213.38 1506.93 Q2215.37 1504.25 2215.37 1499.62 Q2215.37 1495.01 2213.38 1492.33 Q2211.39 1489.62 2207.99 1489.62 M2207.99 1486.01 Q2213.54 1486.01 2216.71 1489.62 Q2219.88 1493.23 2219.88 1499.62 Q2219.88 1505.99 2216.71 1509.62 Q2213.54 1513.23 2207.99 1513.23 Q2202.41 1513.23 2199.24 1509.62 Q2196.09 1505.99 2196.09 1499.62 Q2196.09 1493.23 2199.24 1489.62 Q2202.41 1486.01 2207.99 1486.01 Z\" fill=\"#000000\" fill-rule=\"evenodd\" fill-opacity=\"1\" /><path clip-path=\"url(#clip660)\" d=\"M2248.49 1496.91 L2248.49 1512.56 L2244.23 1512.56 L2244.23 1497.05 Q2244.23 1493.37 2242.8 1491.54 Q2241.36 1489.71 2238.49 1489.71 Q2235.05 1489.71 2233.05 1491.91 Q2231.06 1494.11 2231.06 1497.91 L2231.06 1512.56 L2226.78 1512.56 L2226.78 1486.63 L2231.06 1486.63 L2231.06 1490.66 Q2232.59 1488.32 2234.65 1487.17 Q2236.73 1486.01 2239.44 1486.01 Q2243.91 1486.01 2246.2 1488.79 Q2248.49 1491.54 2248.49 1496.91 Z\" fill=\"#000000\" fill-rule=\"evenodd\" fill-opacity=\"1\" /><polyline clip-path=\"url(#clip662)\" style=\"stroke:#000000; stroke-linecap:butt; stroke-linejoin:round; stroke-width:2; stroke-opacity:0.1; fill:none\" points=\"\n",
       "  205.121,1417.71 2352.76,1417.71 \n",
       "  \"/>\n",
       "<polyline clip-path=\"url(#clip662)\" style=\"stroke:#000000; stroke-linecap:butt; stroke-linejoin:round; stroke-width:2; stroke-opacity:0.1; fill:none\" points=\"\n",
       "  205.121,1105.12 2352.76,1105.12 \n",
       "  \"/>\n",
       "<polyline clip-path=\"url(#clip662)\" style=\"stroke:#000000; stroke-linecap:butt; stroke-linejoin:round; stroke-width:2; stroke-opacity:0.1; fill:none\" points=\"\n",
       "  205.121,792.522 2352.76,792.522 \n",
       "  \"/>\n",
       "<polyline clip-path=\"url(#clip662)\" style=\"stroke:#000000; stroke-linecap:butt; stroke-linejoin:round; stroke-width:2; stroke-opacity:0.1; fill:none\" points=\"\n",
       "  205.121,479.926 2352.76,479.926 \n",
       "  \"/>\n",
       "<polyline clip-path=\"url(#clip660)\" style=\"stroke:#000000; stroke-linecap:butt; stroke-linejoin:round; stroke-width:4; stroke-opacity:1; fill:none\" points=\"\n",
       "  205.121,1451.89 205.121,244.432 \n",
       "  \"/>\n",
       "<polyline clip-path=\"url(#clip660)\" style=\"stroke:#000000; stroke-linecap:butt; stroke-linejoin:round; stroke-width:4; stroke-opacity:1; fill:none\" points=\"\n",
       "  205.121,1417.71 230.893,1417.71 \n",
       "  \"/>\n",
       "<polyline clip-path=\"url(#clip660)\" style=\"stroke:#000000; stroke-linecap:butt; stroke-linejoin:round; stroke-width:4; stroke-opacity:1; fill:none\" points=\"\n",
       "  205.121,1105.12 230.893,1105.12 \n",
       "  \"/>\n",
       "<polyline clip-path=\"url(#clip660)\" style=\"stroke:#000000; stroke-linecap:butt; stroke-linejoin:round; stroke-width:4; stroke-opacity:1; fill:none\" points=\"\n",
       "  205.121,792.522 230.893,792.522 \n",
       "  \"/>\n",
       "<polyline clip-path=\"url(#clip660)\" style=\"stroke:#000000; stroke-linecap:butt; stroke-linejoin:round; stroke-width:4; stroke-opacity:1; fill:none\" points=\"\n",
       "  205.121,479.926 230.893,479.926 \n",
       "  \"/>\n",
       "<path clip-path=\"url(#clip660)\" d=\"M157.177 1403.51 Q153.566 1403.51 151.737 1407.08 Q149.931 1410.62 149.931 1417.75 Q149.931 1424.86 151.737 1428.42 Q153.566 1431.96 157.177 1431.96 Q160.811 1431.96 162.616 1428.42 Q164.445 1424.86 164.445 1417.75 Q164.445 1410.62 162.616 1407.08 Q160.811 1403.51 157.177 1403.51 M157.177 1399.81 Q162.987 1399.81 166.042 1404.42 Q169.121 1409 169.121 1417.75 Q169.121 1426.48 166.042 1431.08 Q162.987 1435.67 157.177 1435.67 Q151.366 1435.67 148.288 1431.08 Q145.232 1426.48 145.232 1417.75 Q145.232 1409 148.288 1404.42 Q151.366 1399.81 157.177 1399.81 Z\" fill=\"#000000\" fill-rule=\"evenodd\" fill-opacity=\"1\" /><path clip-path=\"url(#clip660)\" d=\"M121.043 1118.46 L137.362 1118.46 L137.362 1122.4 L115.418 1122.4 L115.418 1118.46 Q118.08 1115.71 122.663 1111.08 Q127.269 1106.43 128.45 1105.08 Q130.695 1102.56 131.575 1100.82 Q132.478 1099.07 132.478 1097.38 Q132.478 1094.62 130.533 1092.88 Q128.612 1091.15 125.51 1091.15 Q123.311 1091.15 120.857 1091.91 Q118.427 1092.68 115.649 1094.23 L115.649 1089.51 Q118.473 1088.37 120.927 1087.79 Q123.38 1087.21 125.418 1087.21 Q130.788 1087.21 133.982 1089.9 Q137.177 1092.58 137.177 1097.07 Q137.177 1099.2 136.367 1101.13 Q135.579 1103.02 133.473 1105.62 Q132.894 1106.29 129.792 1109.5 Q126.691 1112.7 121.043 1118.46 Z\" fill=\"#000000\" fill-rule=\"evenodd\" fill-opacity=\"1\" /><path clip-path=\"url(#clip660)\" d=\"M157.177 1090.92 Q153.566 1090.92 151.737 1094.48 Q149.931 1098.02 149.931 1105.15 Q149.931 1112.26 151.737 1115.82 Q153.566 1119.37 157.177 1119.37 Q160.811 1119.37 162.616 1115.82 Q164.445 1112.26 164.445 1105.15 Q164.445 1098.02 162.616 1094.48 Q160.811 1090.92 157.177 1090.92 M157.177 1087.21 Q162.987 1087.21 166.042 1091.82 Q169.121 1096.4 169.121 1105.15 Q169.121 1113.88 166.042 1118.49 Q162.987 1123.07 157.177 1123.07 Q151.366 1123.07 148.288 1118.49 Q145.232 1113.88 145.232 1105.15 Q145.232 1096.4 148.288 1091.82 Q151.366 1087.21 157.177 1087.21 Z\" fill=\"#000000\" fill-rule=\"evenodd\" fill-opacity=\"1\" /><path clip-path=\"url(#clip660)\" d=\"M129.862 779.316 L118.056 797.765 L129.862 797.765 L129.862 779.316 M128.635 775.242 L134.515 775.242 L134.515 797.765 L139.445 797.765 L139.445 801.654 L134.515 801.654 L134.515 809.802 L129.862 809.802 L129.862 801.654 L114.26 801.654 L114.26 797.14 L128.635 775.242 Z\" fill=\"#000000\" fill-rule=\"evenodd\" fill-opacity=\"1\" /><path clip-path=\"url(#clip660)\" d=\"M157.177 778.321 Q153.566 778.321 151.737 781.886 Q149.931 785.427 149.931 792.557 Q149.931 799.663 151.737 803.228 Q153.566 806.77 157.177 806.77 Q160.811 806.77 162.616 803.228 Q164.445 799.663 164.445 792.557 Q164.445 785.427 162.616 781.886 Q160.811 778.321 157.177 778.321 M157.177 774.617 Q162.987 774.617 166.042 779.224 Q169.121 783.807 169.121 792.557 Q169.121 801.284 166.042 805.89 Q162.987 810.473 157.177 810.473 Q151.366 810.473 148.288 805.89 Q145.232 801.284 145.232 792.557 Q145.232 783.807 148.288 779.224 Q151.366 774.617 157.177 774.617 Z\" fill=\"#000000\" fill-rule=\"evenodd\" fill-opacity=\"1\" /><path clip-path=\"url(#clip660)\" d=\"M127.593 478.063 Q124.445 478.063 122.593 480.215 Q120.765 482.368 120.765 486.118 Q120.765 489.845 122.593 492.021 Q124.445 494.174 127.593 494.174 Q130.742 494.174 132.57 492.021 Q134.422 489.845 134.422 486.118 Q134.422 482.368 132.57 480.215 Q130.742 478.063 127.593 478.063 M136.876 463.41 L136.876 467.669 Q135.117 466.836 133.311 466.396 Q131.529 465.956 129.769 465.956 Q125.14 465.956 122.686 469.081 Q120.255 472.206 119.908 478.526 Q121.274 476.512 123.334 475.447 Q125.394 474.359 127.871 474.359 Q133.08 474.359 136.089 477.53 Q139.121 480.678 139.121 486.118 Q139.121 491.442 135.973 494.66 Q132.825 497.877 127.593 497.877 Q121.598 497.877 118.427 493.294 Q115.256 488.688 115.256 479.961 Q115.256 471.766 119.144 466.905 Q123.033 462.021 129.584 462.021 Q131.343 462.021 133.126 462.368 Q134.931 462.715 136.876 463.41 Z\" fill=\"#000000\" fill-rule=\"evenodd\" fill-opacity=\"1\" /><path clip-path=\"url(#clip660)\" d=\"M157.177 465.725 Q153.566 465.725 151.737 469.289 Q149.931 472.831 149.931 479.961 Q149.931 487.067 151.737 490.632 Q153.566 494.174 157.177 494.174 Q160.811 494.174 162.616 490.632 Q164.445 487.067 164.445 479.961 Q164.445 472.831 162.616 469.289 Q160.811 465.725 157.177 465.725 M157.177 462.021 Q162.987 462.021 166.042 466.627 Q169.121 471.211 169.121 479.961 Q169.121 488.688 166.042 493.294 Q162.987 497.877 157.177 497.877 Q151.366 497.877 148.288 493.294 Q145.232 488.688 145.232 479.961 Q145.232 471.211 148.288 466.627 Q151.366 462.021 157.177 462.021 Z\" fill=\"#000000\" fill-rule=\"evenodd\" fill-opacity=\"1\" /><path clip-path=\"url(#clip660)\" d=\"M18.0438 932.41 L24.314 932.41 Q22.5634 936.07 21.704 939.317 Q20.8447 942.563 20.8447 945.587 Q20.8447 950.839 22.8817 953.703 Q24.9187 956.536 28.6745 956.536 Q31.8255 956.536 33.4488 954.658 Q35.0402 952.749 36.0269 947.465 L36.8226 943.582 Q38.1912 936.389 41.6605 932.983 Q45.098 929.546 50.8908 929.546 Q57.7976 929.546 61.3624 934.193 Q64.9272 938.808 64.9272 947.751 Q64.9272 951.125 64.1633 954.945 Q63.3994 958.732 61.9035 962.806 L55.2831 962.806 Q57.4793 958.891 58.5933 955.136 Q59.7073 951.38 59.7073 947.751 Q59.7073 942.245 57.543 939.253 Q55.3786 936.261 51.3682 936.261 Q47.8671 936.261 45.8937 938.426 Q43.9204 940.558 42.9337 945.46 L42.1698 949.375 Q40.7375 956.568 37.682 959.783 Q34.6264 962.997 29.1837 962.997 Q22.8817 962.997 19.2532 958.573 Q15.6248 954.117 15.6248 946.319 Q15.6248 942.977 16.2295 939.508 Q16.8343 936.039 18.0438 932.41 Z\" fill=\"#000000\" fill-rule=\"evenodd\" fill-opacity=\"1\" /><path clip-path=\"url(#clip660)\" d=\"M44.7161 889.282 L47.5806 889.282 L47.5806 916.209 Q53.6281 915.827 56.8109 912.581 Q59.9619 909.303 59.9619 903.478 Q59.9619 900.104 59.1344 896.953 Q58.3069 893.77 56.6518 890.651 L62.1899 890.651 Q63.5267 893.802 64.227 897.112 Q64.9272 900.422 64.9272 903.828 Q64.9272 912.358 59.9619 917.355 Q54.9967 922.32 46.5303 922.32 Q37.7774 922.32 32.6531 917.61 Q27.4968 912.867 27.4968 904.847 Q27.4968 897.653 32.1438 893.484 Q36.7589 889.282 44.7161 889.282 M42.9973 895.139 Q38.1912 895.203 35.3266 897.844 Q32.4621 900.454 32.4621 904.783 Q32.4621 909.685 35.2312 912.645 Q38.0002 915.573 43.0292 916.018 L42.9973 895.139 Z\" fill=\"#000000\" fill-rule=\"evenodd\" fill-opacity=\"1\" /><path clip-path=\"url(#clip660)\" d=\"M29.7248 854.016 L35.1993 854.016 Q33.8307 856.499 33.1623 859.014 Q32.4621 861.496 32.4621 864.042 Q32.4621 869.74 36.0905 872.891 Q39.6872 876.042 46.212 876.042 Q52.7369 876.042 56.3653 872.891 Q59.9619 869.74 59.9619 864.042 Q59.9619 861.496 59.2935 859.014 Q58.5933 856.499 57.2247 854.016 L62.6355 854.016 Q63.7814 856.467 64.3543 859.109 Q64.9272 861.719 64.9272 864.679 Q64.9272 872.732 59.8664 877.474 Q54.8057 882.217 46.212 882.217 Q37.491 882.217 32.4939 877.442 Q27.4968 872.636 27.4968 864.297 Q27.4968 861.592 28.0697 859.014 Q28.6108 856.435 29.7248 854.016 Z\" fill=\"#000000\" fill-rule=\"evenodd\" fill-opacity=\"1\" /><path clip-path=\"url(#clip660)\" d=\"M32.4621 830.018 Q32.4621 834.728 36.1542 837.466 Q39.8145 840.203 46.212 840.203 Q52.6095 840.203 56.3017 837.497 Q59.9619 834.76 59.9619 830.018 Q59.9619 825.339 56.2698 822.602 Q52.5777 819.864 46.212 819.864 Q39.8781 819.864 36.186 822.602 Q32.4621 825.339 32.4621 830.018 M27.4968 830.018 Q27.4968 822.379 32.4621 818.018 Q37.4273 813.658 46.212 813.658 Q54.9649 813.658 59.9619 818.018 Q64.9272 822.379 64.9272 830.018 Q64.9272 837.688 59.9619 842.049 Q54.9649 846.378 46.212 846.378 Q37.4273 846.378 32.4621 842.049 Q27.4968 837.688 27.4968 830.018 Z\" fill=\"#000000\" fill-rule=\"evenodd\" fill-opacity=\"1\" /><path clip-path=\"url(#clip660)\" d=\"M42.4881 774.318 L64.0042 774.318 L64.0042 780.174 L42.679 780.174 Q37.6183 780.174 35.1038 782.148 Q32.5894 784.121 32.5894 788.068 Q32.5894 792.81 35.6131 795.547 Q38.6368 798.285 43.8567 798.285 L64.0042 798.285 L64.0042 804.173 L28.3562 804.173 L28.3562 798.285 L33.8944 798.285 Q30.6797 796.184 29.0883 793.351 Q27.4968 790.487 27.4968 786.763 Q27.4968 780.62 31.3163 777.469 Q35.1038 774.318 42.4881 774.318 Z\" fill=\"#000000\" fill-rule=\"evenodd\" fill-opacity=\"1\" /><path clip-path=\"url(#clip660)\" d=\"M33.7671 739.179 L14.479 739.179 L14.479 733.323 L64.0042 733.323 L64.0042 739.179 L58.657 739.179 Q61.8398 741.025 63.3994 743.858 Q64.9272 746.659 64.9272 750.606 Q64.9272 757.067 59.771 761.141 Q54.6147 765.183 46.212 765.183 Q37.8093 765.183 32.6531 761.141 Q27.4968 757.067 27.4968 750.606 Q27.4968 746.659 29.0564 743.858 Q30.5842 741.025 33.7671 739.179 M46.212 759.136 Q52.6732 759.136 56.3653 756.494 Q60.0256 753.82 60.0256 749.173 Q60.0256 744.526 56.3653 741.853 Q52.6732 739.179 46.212 739.179 Q39.7508 739.179 36.0905 741.853 Q32.3984 744.526 32.3984 749.173 Q32.3984 753.82 36.0905 756.494 Q39.7508 759.136 46.212 759.136 Z\" fill=\"#000000\" fill-rule=\"evenodd\" fill-opacity=\"1\" /><path clip-path=\"url(#clip660)\" d=\"M896.958 12.096 L905.222 12.096 L917.942 63.2184 L930.621 12.096 L939.817 12.096 L952.537 63.2184 L965.216 12.096 L973.521 12.096 L958.33 72.576 L948.04 72.576 L935.28 20.0763 L922.398 72.576 L912.109 72.576 L896.958 12.096 Z\" fill=\"#000000\" fill-rule=\"evenodd\" fill-opacity=\"1\" /><path clip-path=\"url(#clip660)\" d=\"M1006.62 34.1734 Q1005.36 33.4443 1003.86 33.1202 Q1002.4 32.7556 1000.62 32.7556 Q994.302 32.7556 990.899 36.8875 Q987.537 40.9789 987.537 48.6757 L987.537 72.576 L980.042 72.576 L980.042 27.2059 L987.537 27.2059 L987.537 34.2544 Q989.886 30.1225 993.654 28.1376 Q997.421 26.1121 1002.81 26.1121 Q1003.58 26.1121 1004.51 26.2337 Q1005.44 26.3147 1006.58 26.5172 L1006.62 34.1734 Z\" fill=\"#000000\" fill-rule=\"evenodd\" fill-opacity=\"1\" /><path clip-path=\"url(#clip660)\" d=\"M1014.43 27.2059 L1021.89 27.2059 L1021.89 72.576 L1014.43 72.576 L1014.43 27.2059 M1014.43 9.54393 L1021.89 9.54393 L1021.89 18.9825 L1014.43 18.9825 L1014.43 9.54393 Z\" fill=\"#000000\" fill-rule=\"evenodd\" fill-opacity=\"1\" /><path clip-path=\"url(#clip660)\" d=\"M1044.86 14.324 L1044.86 27.2059 L1060.21 27.2059 L1060.21 32.9987 L1044.86 32.9987 L1044.86 57.6282 Q1044.86 63.1779 1046.36 64.7578 Q1047.9 66.3376 1052.55 66.3376 L1060.21 66.3376 L1060.21 72.576 L1052.55 72.576 Q1043.93 72.576 1040.64 69.3758 Q1037.36 66.1351 1037.36 57.6282 L1037.36 32.9987 L1031.89 32.9987 L1031.89 27.2059 L1037.36 27.2059 L1037.36 14.324 L1044.86 14.324 Z\" fill=\"#000000\" fill-rule=\"evenodd\" fill-opacity=\"1\" /><path clip-path=\"url(#clip660)\" d=\"M1108.82 48.0275 L1108.82 51.6733 L1074.55 51.6733 Q1075.04 59.3701 1079.17 63.421 Q1083.34 67.4314 1090.75 67.4314 Q1095.05 67.4314 1099.06 66.3781 Q1103.11 65.3249 1107.08 63.2184 L1107.08 70.267 Q1103.07 71.9684 1098.86 72.8596 Q1094.64 73.7508 1090.31 73.7508 Q1079.45 73.7508 1073.09 67.4314 Q1066.77 61.1119 1066.77 50.3365 Q1066.77 39.1965 1072.77 32.6746 Q1078.8 26.1121 1089.01 26.1121 Q1098.17 26.1121 1103.47 32.0264 Q1108.82 37.9003 1108.82 48.0275 M1101.37 45.84 Q1101.29 39.7232 1097.92 36.0774 Q1094.6 32.4315 1089.09 32.4315 Q1082.85 32.4315 1079.09 35.9558 Q1075.36 39.4801 1074.79 45.8805 L1101.37 45.84 Z\" fill=\"#000000\" fill-rule=\"evenodd\" fill-opacity=\"1\" /><path clip-path=\"url(#clip660)\" d=\"M1155.93 18.8205 L1155.93 41.5461 L1166.22 41.5461 Q1171.93 41.5461 1175.05 38.5889 Q1178.17 35.6318 1178.17 30.163 Q1178.17 24.7348 1175.05 21.7777 Q1171.93 18.8205 1166.22 18.8205 L1155.93 18.8205 M1147.75 12.096 L1166.22 12.096 Q1176.39 12.096 1181.57 16.714 Q1186.8 21.2916 1186.8 30.163 Q1186.8 39.1155 1181.57 43.6931 Q1176.39 48.2706 1166.22 48.2706 L1155.93 48.2706 L1155.93 72.576 L1147.75 72.576 L1147.75 12.096 Z\" fill=\"#000000\" fill-rule=\"evenodd\" fill-opacity=\"1\" /><path clip-path=\"url(#clip660)\" d=\"M1233.31 48.0275 L1233.31 51.6733 L1199.03 51.6733 Q1199.52 59.3701 1203.65 63.421 Q1207.82 67.4314 1215.24 67.4314 Q1219.53 67.4314 1223.54 66.3781 Q1227.59 65.3249 1231.56 63.2184 L1231.56 70.267 Q1227.55 71.9684 1223.34 72.8596 Q1219.13 73.7508 1214.79 73.7508 Q1203.94 73.7508 1197.58 67.4314 Q1191.26 61.1119 1191.26 50.3365 Q1191.26 39.1965 1197.25 32.6746 Q1203.29 26.1121 1213.5 26.1121 Q1222.65 26.1121 1227.96 32.0264 Q1233.31 37.9003 1233.31 48.0275 M1225.85 45.84 Q1225.77 39.7232 1222.41 36.0774 Q1219.09 32.4315 1213.58 32.4315 Q1207.34 32.4315 1203.57 35.9558 Q1199.84 39.4801 1199.28 45.8805 L1225.85 45.84 Z\" fill=\"#000000\" fill-rule=\"evenodd\" fill-opacity=\"1\" /><path clip-path=\"url(#clip660)\" d=\"M1271.83 34.1734 Q1270.57 33.4443 1269.07 33.1202 Q1267.62 32.7556 1265.83 32.7556 Q1259.51 32.7556 1256.11 36.8875 Q1252.75 40.9789 1252.75 48.6757 L1252.75 72.576 L1245.26 72.576 L1245.26 27.2059 L1252.75 27.2059 L1252.75 34.2544 Q1255.1 30.1225 1258.87 28.1376 Q1262.63 26.1121 1268.02 26.1121 Q1268.79 26.1121 1269.72 26.2337 Q1270.65 26.3147 1271.79 26.5172 L1271.83 34.1734 Z\" fill=\"#000000\" fill-rule=\"evenodd\" fill-opacity=\"1\" /><path clip-path=\"url(#clip660)\" d=\"M1302.62 9.54393 L1302.62 15.7418 L1295.49 15.7418 Q1291.48 15.7418 1289.9 17.3622 Q1288.36 18.9825 1288.36 23.1955 L1288.36 27.2059 L1300.63 27.2059 L1300.63 32.9987 L1288.36 32.9987 L1288.36 72.576 L1280.86 72.576 L1280.86 32.9987 L1273.73 32.9987 L1273.73 27.2059 L1280.86 27.2059 L1280.86 24.0462 Q1280.86 16.471 1284.39 13.0277 Q1287.91 9.54393 1295.57 9.54393 L1302.62 9.54393 Z\" fill=\"#000000\" fill-rule=\"evenodd\" fill-opacity=\"1\" /><path clip-path=\"url(#clip660)\" d=\"M1326.44 32.4315 Q1320.44 32.4315 1316.96 37.1306 Q1313.47 41.7891 1313.47 49.9314 Q1313.47 58.0738 1316.92 62.7728 Q1320.4 67.4314 1326.44 67.4314 Q1332.39 67.4314 1335.87 62.7323 Q1339.36 58.0333 1339.36 49.9314 Q1339.36 41.8701 1335.87 37.1711 Q1332.39 32.4315 1326.44 32.4315 M1326.44 26.1121 Q1336.16 26.1121 1341.71 32.4315 Q1347.26 38.7509 1347.26 49.9314 Q1347.26 61.0714 1341.71 67.4314 Q1336.16 73.7508 1326.44 73.7508 Q1316.67 73.7508 1311.12 67.4314 Q1305.61 61.0714 1305.61 49.9314 Q1305.61 38.7509 1311.12 32.4315 Q1316.67 26.1121 1326.44 26.1121 Z\" fill=\"#000000\" fill-rule=\"evenodd\" fill-opacity=\"1\" /><path clip-path=\"url(#clip660)\" d=\"M1385.9 34.1734 Q1384.65 33.4443 1383.15 33.1202 Q1381.69 32.7556 1379.91 32.7556 Q1373.59 32.7556 1370.19 36.8875 Q1366.82 40.9789 1366.82 48.6757 L1366.82 72.576 L1359.33 72.576 L1359.33 27.2059 L1366.82 27.2059 L1366.82 34.2544 Q1369.17 30.1225 1372.94 28.1376 Q1376.71 26.1121 1382.09 26.1121 Q1382.86 26.1121 1383.8 26.2337 Q1384.73 26.3147 1385.86 26.5172 L1385.9 34.1734 Z\" fill=\"#000000\" fill-rule=\"evenodd\" fill-opacity=\"1\" /><path clip-path=\"url(#clip660)\" d=\"M1427.59 35.9153 Q1430.38 30.8922 1434.27 28.5022 Q1438.16 26.1121 1443.43 26.1121 Q1450.51 26.1121 1454.36 31.0947 Q1458.21 36.0368 1458.21 45.1919 L1458.21 72.576 L1450.72 72.576 L1450.72 45.4349 Q1450.72 38.913 1448.41 35.7533 Q1446.1 32.5936 1441.36 32.5936 Q1435.57 32.5936 1432.2 36.4419 Q1428.84 40.2903 1428.84 46.9338 L1428.84 72.576 L1421.35 72.576 L1421.35 45.4349 Q1421.35 38.8725 1419.04 35.7533 Q1416.73 32.5936 1411.91 32.5936 Q1406.2 32.5936 1402.84 36.4824 Q1399.47 40.3308 1399.47 46.9338 L1399.47 72.576 L1391.98 72.576 L1391.98 27.2059 L1399.47 27.2059 L1399.47 34.2544 Q1402.03 30.082 1405.59 28.0971 Q1409.15 26.1121 1414.06 26.1121 Q1419 26.1121 1422.44 28.6237 Q1425.93 31.1352 1427.59 35.9153 Z\" fill=\"#000000\" fill-rule=\"evenodd\" fill-opacity=\"1\" /><path clip-path=\"url(#clip660)\" d=\"M1493.7 49.7694 Q1484.66 49.7694 1481.18 51.8354 Q1477.7 53.9013 1477.7 58.8839 Q1477.7 62.8538 1480.29 65.2034 Q1482.92 67.5124 1487.42 67.5124 Q1493.62 67.5124 1497.34 63.1374 Q1501.11 58.7219 1501.11 51.4303 L1501.11 49.7694 L1493.7 49.7694 M1508.56 46.6907 L1508.56 72.576 L1501.11 72.576 L1501.11 65.6895 Q1498.56 69.8214 1494.75 71.8063 Q1490.94 73.7508 1485.43 73.7508 Q1478.47 73.7508 1474.33 69.8619 Q1470.24 65.9325 1470.24 59.3701 Q1470.24 51.7138 1475.35 47.825 Q1480.49 43.9361 1490.66 43.9361 L1501.11 43.9361 L1501.11 43.2069 Q1501.11 38.0623 1497.71 35.2672 Q1494.35 32.4315 1488.23 32.4315 Q1484.34 32.4315 1480.65 33.3632 Q1476.97 34.295 1473.56 36.1584 L1473.56 29.2718 Q1477.66 27.692 1481.5 26.9223 Q1485.35 26.1121 1489 26.1121 Q1498.84 26.1121 1503.7 31.2163 Q1508.56 36.3204 1508.56 46.6907 Z\" fill=\"#000000\" fill-rule=\"evenodd\" fill-opacity=\"1\" /><path clip-path=\"url(#clip660)\" d=\"M1561.63 45.1919 L1561.63 72.576 L1554.18 72.576 L1554.18 45.4349 Q1554.18 38.994 1551.67 35.7938 Q1549.15 32.5936 1544.13 32.5936 Q1538.1 32.5936 1534.61 36.4419 Q1531.13 40.2903 1531.13 46.9338 L1531.13 72.576 L1523.63 72.576 L1523.63 27.2059 L1531.13 27.2059 L1531.13 34.2544 Q1533.8 30.163 1537.41 28.1376 Q1541.05 26.1121 1545.79 26.1121 Q1553.61 26.1121 1557.62 30.9732 Q1561.63 35.7938 1561.63 45.1919 Z\" fill=\"#000000\" fill-rule=\"evenodd\" fill-opacity=\"1\" /><path clip-path=\"url(#clip660)\" d=\"M1609.15 28.9478 L1609.15 35.9153 Q1605.99 34.1734 1602.79 33.3227 Q1599.63 32.4315 1596.39 32.4315 Q1589.14 32.4315 1585.13 37.0496 Q1581.12 41.6271 1581.12 49.9314 Q1581.12 58.2358 1585.13 62.8538 Q1589.14 67.4314 1596.39 67.4314 Q1599.63 67.4314 1602.79 66.5807 Q1605.99 65.6895 1609.15 63.9476 L1609.15 70.8341 Q1606.03 72.2924 1602.67 73.0216 Q1599.34 73.7508 1595.58 73.7508 Q1585.33 73.7508 1579.29 67.3098 Q1573.26 60.8689 1573.26 49.9314 Q1573.26 38.832 1579.33 32.472 Q1585.45 26.1121 1596.06 26.1121 Q1599.51 26.1121 1602.79 26.8413 Q1606.07 27.5299 1609.15 28.9478 Z\" fill=\"#000000\" fill-rule=\"evenodd\" fill-opacity=\"1\" /><path clip-path=\"url(#clip660)\" d=\"M1660.92 48.0275 L1660.92 51.6733 L1626.65 51.6733 Q1627.13 59.3701 1631.27 63.421 Q1635.44 67.4314 1642.85 67.4314 Q1647.15 67.4314 1651.16 66.3781 Q1655.21 65.3249 1659.18 63.2184 L1659.18 70.267 Q1655.17 71.9684 1650.95 72.8596 Q1646.74 73.7508 1642.41 73.7508 Q1631.55 73.7508 1625.19 67.4314 Q1618.87 61.1119 1618.87 50.3365 Q1618.87 39.1965 1624.87 32.6746 Q1630.9 26.1121 1641.11 26.1121 Q1650.26 26.1121 1655.57 32.0264 Q1660.92 37.9003 1660.92 48.0275 M1653.46 45.84 Q1653.38 39.7232 1650.02 36.0774 Q1646.7 32.4315 1641.19 32.4315 Q1634.95 32.4315 1631.18 35.9558 Q1627.46 39.4801 1626.89 45.8805 L1653.46 45.84 Z\" fill=\"#000000\" fill-rule=\"evenodd\" fill-opacity=\"1\" /><path clip-path=\"url(#clip660)\" d=\"M929.832 109.541 L929.832 156.571 L939.716 156.571 Q952.233 156.571 958.026 150.9 Q963.859 145.229 963.859 132.995 Q963.859 120.843 958.026 115.212 Q952.233 109.541 939.716 109.541 L929.832 109.541 M921.649 102.816 L938.46 102.816 Q956.041 102.816 964.264 110.148 Q972.488 117.44 972.488 132.995 Q972.488 148.632 964.224 155.964 Q955.96 163.296 938.46 163.296 L921.649 163.296 L921.649 102.816 Z\" fill=\"#000000\" fill-rule=\"evenodd\" fill-opacity=\"1\" /><path clip-path=\"url(#clip660)\" d=\"M1005.83 140.489 Q996.793 140.489 993.309 142.555 Q989.825 144.621 989.825 149.604 Q989.825 153.574 992.418 155.923 Q995.051 158.232 999.548 158.232 Q1005.75 158.232 1009.47 153.857 Q1013.24 149.442 1013.24 142.15 L1013.24 140.489 L1005.83 140.489 M1020.69 137.411 L1020.69 163.296 L1013.24 163.296 L1013.24 156.409 Q1010.69 160.541 1006.88 162.526 Q1003.07 164.471 997.563 164.471 Q990.595 164.471 986.463 160.582 Q982.372 156.653 982.372 150.09 Q982.372 142.434 987.476 138.545 Q992.621 134.656 1002.79 134.656 L1013.24 134.656 L1013.24 133.927 Q1013.24 128.782 1009.84 125.987 Q1006.47 123.152 1000.36 123.152 Q996.469 123.152 992.783 124.083 Q989.096 125.015 985.693 126.878 L985.693 119.992 Q989.785 118.412 993.633 117.642 Q997.482 116.832 1001.13 116.832 Q1010.97 116.832 1015.83 121.936 Q1020.69 127.04 1020.69 137.411 Z\" fill=\"#000000\" fill-rule=\"evenodd\" fill-opacity=\"1\" /><path clip-path=\"url(#clip660)\" d=\"M1043.42 105.044 L1043.42 117.926 L1058.77 117.926 L1058.77 123.719 L1043.42 123.719 L1043.42 148.348 Q1043.42 153.898 1044.92 155.478 Q1046.46 157.058 1051.12 157.058 L1058.77 157.058 L1058.77 163.296 L1051.12 163.296 Q1042.49 163.296 1039.21 160.096 Q1035.92 156.855 1035.92 148.348 L1035.92 123.719 L1030.46 123.719 L1030.46 117.926 L1035.92 117.926 L1035.92 105.044 L1043.42 105.044 Z\" fill=\"#000000\" fill-rule=\"evenodd\" fill-opacity=\"1\" /><path clip-path=\"url(#clip660)\" d=\"M1089.19 140.489 Q1080.16 140.489 1076.68 142.555 Q1073.19 144.621 1073.19 149.604 Q1073.19 153.574 1075.79 155.923 Q1078.42 158.232 1082.92 158.232 Q1089.11 158.232 1092.84 153.857 Q1096.61 149.442 1096.61 142.15 L1096.61 140.489 L1089.19 140.489 M1104.06 137.411 L1104.06 163.296 L1096.61 163.296 L1096.61 156.409 Q1094.06 160.541 1090.25 162.526 Q1086.44 164.471 1080.93 164.471 Q1073.96 164.471 1069.83 160.582 Q1065.74 156.653 1065.74 150.09 Q1065.74 142.434 1070.84 138.545 Q1075.99 134.656 1086.16 134.656 L1096.61 134.656 L1096.61 133.927 Q1096.61 128.782 1093.2 125.987 Q1089.84 123.152 1083.73 123.152 Q1079.84 123.152 1076.15 124.083 Q1072.46 125.015 1069.06 126.878 L1069.06 119.992 Q1073.15 118.412 1077 117.642 Q1080.85 116.832 1084.5 116.832 Q1094.34 116.832 1099.2 121.936 Q1104.06 127.04 1104.06 137.411 Z\" fill=\"#000000\" fill-rule=\"evenodd\" fill-opacity=\"1\" /><path clip-path=\"url(#clip660)\" d=\"M1119.74 102.816 L1154.49 102.816 L1154.49 109.703 L1127.92 109.703 L1127.92 127.527 L1151.9 127.527 L1151.9 134.413 L1127.92 134.413 L1127.92 163.296 L1119.74 163.296 L1119.74 102.816 Z\" fill=\"#000000\" fill-rule=\"evenodd\" fill-opacity=\"1\" /><path clip-path=\"url(#clip660)\" d=\"M1187.39 124.893 Q1186.13 124.164 1184.63 123.84 Q1183.18 123.476 1181.39 123.476 Q1175.07 123.476 1171.67 127.608 Q1168.31 131.699 1168.31 139.396 L1168.31 163.296 L1160.81 163.296 L1160.81 117.926 L1168.31 117.926 L1168.31 124.974 Q1170.66 120.843 1174.43 118.858 Q1178.19 116.832 1183.58 116.832 Q1184.35 116.832 1185.28 116.954 Q1186.21 117.035 1187.35 117.237 L1187.39 124.893 Z\" fill=\"#000000\" fill-rule=\"evenodd\" fill-opacity=\"1\" /><path clip-path=\"url(#clip660)\" d=\"M1215.83 140.489 Q1206.79 140.489 1203.31 142.555 Q1199.82 144.621 1199.82 149.604 Q1199.82 153.574 1202.42 155.923 Q1205.05 158.232 1209.55 158.232 Q1215.74 158.232 1219.47 153.857 Q1223.24 149.442 1223.24 142.15 L1223.24 140.489 L1215.83 140.489 M1230.69 137.411 L1230.69 163.296 L1223.24 163.296 L1223.24 156.409 Q1220.69 160.541 1216.88 162.526 Q1213.07 164.471 1207.56 164.471 Q1200.59 164.471 1196.46 160.582 Q1192.37 156.653 1192.37 150.09 Q1192.37 142.434 1197.47 138.545 Q1202.62 134.656 1212.79 134.656 L1223.24 134.656 L1223.24 133.927 Q1223.24 128.782 1219.84 125.987 Q1216.47 123.152 1210.36 123.152 Q1206.47 123.152 1202.78 124.083 Q1199.1 125.015 1195.69 126.878 L1195.69 119.992 Q1199.78 118.412 1203.63 117.642 Q1207.48 116.832 1211.13 116.832 Q1220.97 116.832 1225.83 121.936 Q1230.69 127.04 1230.69 137.411 Z\" fill=\"#000000\" fill-rule=\"evenodd\" fill-opacity=\"1\" /><path clip-path=\"url(#clip660)\" d=\"M1281.37 126.635 Q1284.16 121.612 1288.05 119.222 Q1291.94 116.832 1297.21 116.832 Q1304.3 116.832 1308.15 121.815 Q1311.99 126.757 1311.99 135.912 L1311.99 163.296 L1304.5 163.296 L1304.5 136.155 Q1304.5 129.633 1302.19 126.473 Q1299.88 123.314 1295.14 123.314 Q1289.35 123.314 1285.99 127.162 Q1282.62 131.01 1282.62 137.654 L1282.62 163.296 L1275.13 163.296 L1275.13 136.155 Q1275.13 129.592 1272.82 126.473 Q1270.51 123.314 1265.69 123.314 Q1259.98 123.314 1256.62 127.202 Q1253.26 131.051 1253.26 137.654 L1253.26 163.296 L1245.76 163.296 L1245.76 117.926 L1253.26 117.926 L1253.26 124.974 Q1255.81 120.802 1259.37 118.817 Q1262.94 116.832 1267.84 116.832 Q1272.78 116.832 1276.22 119.344 Q1279.71 121.855 1281.37 126.635 Z\" fill=\"#000000\" fill-rule=\"evenodd\" fill-opacity=\"1\" /><path clip-path=\"url(#clip660)\" d=\"M1365.67 138.748 L1365.67 142.393 L1331.4 142.393 Q1331.88 150.09 1336.02 154.141 Q1340.19 158.151 1347.6 158.151 Q1351.9 158.151 1355.91 157.098 Q1359.96 156.045 1363.93 153.938 L1363.93 160.987 Q1359.92 162.688 1355.7 163.58 Q1351.49 164.471 1347.16 164.471 Q1336.3 164.471 1329.94 158.151 Q1323.62 151.832 1323.62 141.057 Q1323.62 129.917 1329.62 123.395 Q1335.65 116.832 1345.86 116.832 Q1355.01 116.832 1360.32 122.746 Q1365.67 128.62 1365.67 138.748 M1358.21 136.56 Q1358.13 130.443 1354.77 126.797 Q1351.45 123.152 1345.94 123.152 Q1339.7 123.152 1335.93 126.676 Q1332.21 130.2 1331.64 136.601 L1358.21 136.56 Z\" fill=\"#000000\" fill-rule=\"evenodd\" fill-opacity=\"1\" /><path clip-path=\"url(#clip660)\" d=\"M1379.81 153.007 L1388.35 153.007 L1388.35 163.296 L1379.81 163.296 L1379.81 153.007 M1379.81 120.397 L1388.35 120.397 L1388.35 130.686 L1379.81 130.686 L1379.81 120.397 Z\" fill=\"#000000\" fill-rule=\"evenodd\" fill-opacity=\"1\" /><path clip-path=\"url(#clip660)\" d=\"M1464.79 140.651 Q1464.79 132.428 1461.39 127.77 Q1458.03 123.071 1452.11 123.071 Q1446.2 123.071 1442.8 127.77 Q1439.44 132.428 1439.44 140.651 Q1439.44 148.875 1442.8 153.574 Q1446.2 158.232 1452.11 158.232 Q1458.03 158.232 1461.39 153.574 Q1464.79 148.875 1464.79 140.651 M1439.44 124.812 Q1441.78 120.762 1445.35 118.817 Q1448.95 116.832 1453.94 116.832 Q1462.2 116.832 1467.35 123.395 Q1472.53 129.957 1472.53 140.651 Q1472.53 151.346 1467.35 157.908 Q1462.2 164.471 1453.94 164.471 Q1448.95 164.471 1445.35 162.526 Q1441.78 160.541 1439.44 156.49 L1439.44 163.296 L1431.94 163.296 L1431.94 100.264 L1439.44 100.264 L1439.44 124.812 Z\" fill=\"#000000\" fill-rule=\"evenodd\" fill-opacity=\"1\" /><path clip-path=\"url(#clip660)\" d=\"M1484.89 117.926 L1492.34 117.926 L1492.34 163.296 L1484.89 163.296 L1484.89 117.926 M1484.89 100.264 L1492.34 100.264 L1492.34 109.703 L1484.89 109.703 L1484.89 100.264 Z\" fill=\"#000000\" fill-rule=\"evenodd\" fill-opacity=\"1\" /><path clip-path=\"url(#clip660)\" d=\"M1537.79 140.084 Q1537.79 131.983 1534.43 127.527 Q1531.11 123.071 1525.07 123.071 Q1519.08 123.071 1515.71 127.527 Q1512.39 131.983 1512.39 140.084 Q1512.39 148.146 1515.71 152.602 Q1519.08 157.058 1525.07 157.058 Q1531.11 157.058 1534.43 152.602 Q1537.79 148.146 1537.79 140.084 M1545.24 157.665 Q1545.24 169.251 1540.1 174.882 Q1534.96 180.553 1524.34 180.553 Q1520.41 180.553 1516.93 179.945 Q1513.45 179.378 1510.16 178.163 L1510.16 170.912 Q1513.45 172.694 1516.65 173.545 Q1519.85 174.395 1523.17 174.395 Q1530.5 174.395 1534.15 170.547 Q1537.79 166.739 1537.79 159.002 L1537.79 155.316 Q1535.48 159.326 1531.88 161.311 Q1528.27 163.296 1523.25 163.296 Q1514.9 163.296 1509.8 156.936 Q1504.7 150.576 1504.7 140.084 Q1504.7 129.552 1509.8 123.192 Q1514.9 116.832 1523.25 116.832 Q1528.27 116.832 1531.88 118.817 Q1535.48 120.802 1537.79 124.812 L1537.79 117.926 L1545.24 117.926 L1545.24 157.665 Z\" fill=\"#000000\" fill-rule=\"evenodd\" fill-opacity=\"1\" /><path clip-path=\"url(#clip660)\" d=\"M1590.45 124.812 L1590.45 100.264 L1597.91 100.264 L1597.91 163.296 L1590.45 163.296 L1590.45 156.49 Q1588.1 160.541 1584.5 162.526 Q1580.93 164.471 1575.91 164.471 Q1567.69 164.471 1562.5 157.908 Q1557.36 151.346 1557.36 140.651 Q1557.36 129.957 1562.5 123.395 Q1567.69 116.832 1575.91 116.832 Q1580.93 116.832 1584.5 118.817 Q1588.1 120.762 1590.45 124.812 M1565.05 140.651 Q1565.05 148.875 1568.42 153.574 Q1571.82 158.232 1577.73 158.232 Q1583.65 158.232 1587.05 153.574 Q1590.45 148.875 1590.45 140.651 Q1590.45 132.428 1587.05 127.77 Q1583.65 123.071 1577.73 123.071 Q1571.82 123.071 1568.42 127.77 Q1565.05 132.428 1565.05 140.651 Z\" fill=\"#000000\" fill-rule=\"evenodd\" fill-opacity=\"1\" /><path clip-path=\"url(#clip660)\" d=\"M1636.23 100.264 L1636.23 106.462 L1629.1 106.462 Q1625.09 106.462 1623.51 108.082 Q1621.97 109.703 1621.97 113.915 L1621.97 117.926 L1634.24 117.926 L1634.24 123.719 L1621.97 123.719 L1621.97 163.296 L1614.47 163.296 L1614.47 123.719 L1607.35 123.719 L1607.35 117.926 L1614.47 117.926 L1614.47 114.766 Q1614.47 107.191 1618 103.748 Q1621.52 100.264 1629.18 100.264 L1636.23 100.264 Z\" fill=\"#000000\" fill-rule=\"evenodd\" fill-opacity=\"1\" /><path clip-path=\"url(#clip660)\" d=\"M889.201 195.521 L889.201 203.501 Q884.542 201.273 880.41 200.179 Q876.279 199.086 872.43 199.086 Q865.746 199.086 862.1 201.678 Q858.495 204.271 858.495 209.051 Q858.495 213.061 860.885 215.127 Q863.316 217.153 870.04 218.409 L874.982 219.421 Q884.137 221.163 888.472 225.579 Q892.847 229.954 892.847 237.326 Q892.847 246.117 886.932 250.654 Q881.059 255.191 869.676 255.191 Q865.382 255.191 860.521 254.219 Q855.7 253.246 850.515 251.342 L850.515 242.917 Q855.497 245.712 860.277 247.129 Q865.058 248.547 869.676 248.547 Q876.684 248.547 880.492 245.793 Q884.299 243.038 884.299 237.934 Q884.299 233.478 881.545 230.966 Q878.831 228.455 872.592 227.199 L867.61 226.227 Q858.455 224.404 854.363 220.515 Q850.272 216.626 850.272 209.699 Q850.272 201.678 855.903 197.06 Q861.574 192.442 871.498 192.442 Q875.752 192.442 880.167 193.212 Q884.583 193.982 889.201 195.521 Z\" fill=\"#000000\" fill-rule=\"evenodd\" fill-opacity=\"1\" /><path clip-path=\"url(#clip660)\" d=\"M905.283 208.646 L912.737 208.646 L912.737 254.016 L905.283 254.016 L905.283 208.646 M905.283 190.984 L912.737 190.984 L912.737 200.423 L905.283 200.423 L905.283 190.984 Z\" fill=\"#000000\" fill-rule=\"evenodd\" fill-opacity=\"1\" /><path clip-path=\"url(#clip660)\" d=\"M925.092 208.646 L960.497 208.646 L960.497 215.451 L932.465 248.061 L960.497 248.061 L960.497 254.016 L924.079 254.016 L924.079 247.21 L952.111 214.601 L925.092 214.601 L925.092 208.646 Z\" fill=\"#000000\" fill-rule=\"evenodd\" fill-opacity=\"1\" /><path clip-path=\"url(#clip660)\" d=\"M1010.69 229.468 L1010.69 233.113 L976.417 233.113 Q976.903 240.81 981.035 244.861 Q985.207 248.871 992.621 248.871 Q996.914 248.871 1000.92 247.818 Q1004.98 246.765 1008.95 244.658 L1008.95 251.707 Q1004.94 253.408 1000.72 254.3 Q996.509 255.191 992.175 255.191 Q981.319 255.191 974.959 248.871 Q968.639 242.552 968.639 231.777 Q968.639 220.637 974.635 214.115 Q980.67 207.552 990.879 207.552 Q1000.03 207.552 1005.34 213.466 Q1010.69 219.34 1010.69 229.468 M1003.23 227.28 Q1003.15 221.163 999.791 217.517 Q996.469 213.872 990.96 213.872 Q984.721 213.872 980.954 217.396 Q977.227 220.92 976.66 227.321 L1003.23 227.28 Z\" fill=\"#000000\" fill-rule=\"evenodd\" fill-opacity=\"1\" /><path clip-path=\"url(#clip660)\" d=\"M1024.83 243.727 L1033.37 243.727 L1033.37 254.016 L1024.83 254.016 L1024.83 243.727 M1024.83 211.117 L1033.37 211.117 L1033.37 221.406 L1024.83 221.406 L1024.83 211.117 Z\" fill=\"#000000\" fill-rule=\"evenodd\" fill-opacity=\"1\" /><path clip-path=\"url(#clip660)\" d=\"M1095.15 191.065 Q1089.72 200.382 1087.09 209.497 Q1084.45 218.611 1084.45 227.969 Q1084.45 237.326 1087.09 246.522 Q1089.76 255.677 1095.15 264.953 L1088.67 264.953 Q1082.59 255.434 1079.55 246.238 Q1076.56 237.043 1076.56 227.969 Q1076.56 218.935 1079.55 209.78 Q1082.55 200.625 1088.67 191.065 L1095.15 191.065 Z\" fill=\"#000000\" fill-rule=\"evenodd\" fill-opacity=\"1\" /><path clip-path=\"url(#clip660)\" d=\"M1112.08 247.129 L1125.45 247.129 L1125.45 200.99 L1110.91 203.906 L1110.91 196.453 L1125.37 193.536 L1133.55 193.536 L1133.55 247.129 L1146.92 247.129 L1146.92 254.016 L1112.08 254.016 L1112.08 247.129 Z\" fill=\"#000000\" fill-rule=\"evenodd\" fill-opacity=\"1\" /><path clip-path=\"url(#clip660)\" d=\"M1180.95 198.924 Q1174.63 198.924 1171.43 205.162 Q1168.27 211.36 1168.27 223.837 Q1168.27 236.273 1171.43 242.511 Q1174.63 248.709 1180.95 248.709 Q1187.31 248.709 1190.47 242.511 Q1193.67 236.273 1193.67 223.837 Q1193.67 211.36 1190.47 205.162 Q1187.31 198.924 1180.95 198.924 M1180.95 192.442 Q1191.11 192.442 1196.46 200.504 Q1201.85 208.524 1201.85 223.837 Q1201.85 239.109 1196.46 247.17 Q1191.11 255.191 1180.95 255.191 Q1170.78 255.191 1165.39 247.17 Q1160.04 239.109 1160.04 223.837 Q1160.04 208.524 1165.39 200.504 Q1170.78 192.442 1180.95 192.442 Z\" fill=\"#000000\" fill-rule=\"evenodd\" fill-opacity=\"1\" /><path clip-path=\"url(#clip660)\" d=\"M1233.73 198.924 Q1227.41 198.924 1224.21 205.162 Q1221.05 211.36 1221.05 223.837 Q1221.05 236.273 1224.21 242.511 Q1227.41 248.709 1233.73 248.709 Q1240.09 248.709 1243.25 242.511 Q1246.45 236.273 1246.45 223.837 Q1246.45 211.36 1243.25 205.162 Q1240.09 198.924 1233.73 198.924 M1233.73 192.442 Q1243.9 192.442 1249.25 200.504 Q1254.63 208.524 1254.63 223.837 Q1254.63 239.109 1249.25 247.17 Q1243.9 255.191 1233.73 255.191 Q1223.56 255.191 1218.17 247.17 Q1212.83 239.109 1212.83 223.837 Q1212.83 208.524 1218.17 200.504 Q1223.56 192.442 1233.73 192.442 Z\" fill=\"#000000\" fill-rule=\"evenodd\" fill-opacity=\"1\" /><path clip-path=\"url(#clip660)\" d=\"M1286.51 198.924 Q1280.19 198.924 1276.99 205.162 Q1273.83 211.36 1273.83 223.837 Q1273.83 236.273 1276.99 242.511 Q1280.19 248.709 1286.51 248.709 Q1292.87 248.709 1296.03 242.511 Q1299.23 236.273 1299.23 223.837 Q1299.23 211.36 1296.03 205.162 Q1292.87 198.924 1286.51 198.924 M1286.51 192.442 Q1296.68 192.442 1302.03 200.504 Q1307.42 208.524 1307.42 223.837 Q1307.42 239.109 1302.03 247.17 Q1296.68 255.191 1286.51 255.191 Q1276.35 255.191 1270.96 247.17 Q1265.61 239.109 1265.61 223.837 Q1265.61 208.524 1270.96 200.504 Q1276.35 192.442 1286.51 192.442 Z\" fill=\"#000000\" fill-rule=\"evenodd\" fill-opacity=\"1\" /><path clip-path=\"url(#clip660)\" d=\"M1339.3 198.924 Q1332.98 198.924 1329.78 205.162 Q1326.62 211.36 1326.62 223.837 Q1326.62 236.273 1329.78 242.511 Q1332.98 248.709 1339.3 248.709 Q1345.66 248.709 1348.82 242.511 Q1352.02 236.273 1352.02 223.837 Q1352.02 211.36 1348.82 205.162 Q1345.66 198.924 1339.3 198.924 M1339.3 192.442 Q1349.46 192.442 1354.81 200.504 Q1360.2 208.524 1360.2 223.837 Q1360.2 239.109 1354.81 247.17 Q1349.46 255.191 1339.3 255.191 Q1329.13 255.191 1323.74 247.17 Q1318.39 239.109 1318.39 223.837 Q1318.39 208.524 1323.74 200.504 Q1329.13 192.442 1339.3 192.442 Z\" fill=\"#000000\" fill-rule=\"evenodd\" fill-opacity=\"1\" /><path clip-path=\"url(#clip660)\" d=\"M1392.08 198.924 Q1385.76 198.924 1382.56 205.162 Q1379.4 211.36 1379.4 223.837 Q1379.4 236.273 1382.56 242.511 Q1385.76 248.709 1392.08 248.709 Q1398.44 248.709 1401.6 242.511 Q1404.8 236.273 1404.8 223.837 Q1404.8 211.36 1401.6 205.162 Q1398.44 198.924 1392.08 198.924 M1392.08 192.442 Q1402.25 192.442 1407.6 200.504 Q1412.98 208.524 1412.98 223.837 Q1412.98 239.109 1407.6 247.17 Q1402.25 255.191 1392.08 255.191 Q1381.91 255.191 1376.52 247.17 Q1371.18 239.109 1371.18 223.837 Q1371.18 208.524 1376.52 200.504 Q1381.91 192.442 1392.08 192.442 Z\" fill=\"#000000\" fill-rule=\"evenodd\" fill-opacity=\"1\" /><path clip-path=\"url(#clip660)\" d=\"M1428.21 243.727 L1436.76 243.727 L1436.76 250.694 L1430.12 263.657 L1424.89 263.657 L1428.21 250.694 L1428.21 243.727 Z\" fill=\"#000000\" fill-rule=\"evenodd\" fill-opacity=\"1\" /><path clip-path=\"url(#clip660)\" d=\"M1481.52 247.129 L1494.89 247.129 L1494.89 200.99 L1480.35 203.906 L1480.35 196.453 L1494.81 193.536 L1502.99 193.536 L1502.99 247.129 L1516.36 247.129 L1516.36 254.016 L1481.52 254.016 L1481.52 247.129 Z\" fill=\"#000000\" fill-rule=\"evenodd\" fill-opacity=\"1\" /><path clip-path=\"url(#clip660)\" d=\"M1550.39 198.924 Q1544.07 198.924 1540.87 205.162 Q1537.71 211.36 1537.71 223.837 Q1537.71 236.273 1540.87 242.511 Q1544.07 248.709 1550.39 248.709 Q1556.75 248.709 1559.91 242.511 Q1563.11 236.273 1563.11 223.837 Q1563.11 211.36 1559.91 205.162 Q1556.75 198.924 1550.39 198.924 M1550.39 192.442 Q1560.56 192.442 1565.9 200.504 Q1571.29 208.524 1571.29 223.837 Q1571.29 239.109 1565.9 247.17 Q1560.56 255.191 1550.39 255.191 Q1540.22 255.191 1534.83 247.17 Q1529.49 239.109 1529.49 223.837 Q1529.49 208.524 1534.83 200.504 Q1540.22 192.442 1550.39 192.442 Z\" fill=\"#000000\" fill-rule=\"evenodd\" fill-opacity=\"1\" /><path clip-path=\"url(#clip660)\" d=\"M1603.17 198.924 Q1596.85 198.924 1593.65 205.162 Q1590.49 211.36 1590.49 223.837 Q1590.49 236.273 1593.65 242.511 Q1596.85 248.709 1603.17 248.709 Q1609.53 248.709 1612.69 242.511 Q1615.89 236.273 1615.89 223.837 Q1615.89 211.36 1612.69 205.162 Q1609.53 198.924 1603.17 198.924 M1603.17 192.442 Q1613.34 192.442 1618.69 200.504 Q1624.08 208.524 1624.08 223.837 Q1624.08 239.109 1618.69 247.17 Q1613.34 255.191 1603.17 255.191 Q1593.01 255.191 1587.62 247.17 Q1582.27 239.109 1582.27 223.837 Q1582.27 208.524 1587.62 200.504 Q1593.01 192.442 1603.17 192.442 Z\" fill=\"#000000\" fill-rule=\"evenodd\" fill-opacity=\"1\" /><path clip-path=\"url(#clip660)\" d=\"M1655.96 198.924 Q1649.64 198.924 1646.44 205.162 Q1643.28 211.36 1643.28 223.837 Q1643.28 236.273 1646.44 242.511 Q1649.64 248.709 1655.96 248.709 Q1662.32 248.709 1665.48 242.511 Q1668.68 236.273 1668.68 223.837 Q1668.68 211.36 1665.48 205.162 Q1662.32 198.924 1655.96 198.924 M1655.96 192.442 Q1666.12 192.442 1671.47 200.504 Q1676.86 208.524 1676.86 223.837 Q1676.86 239.109 1671.47 247.17 Q1666.12 255.191 1655.96 255.191 Q1645.79 255.191 1640.4 247.17 Q1635.05 239.109 1635.05 223.837 Q1635.05 208.524 1640.4 200.504 Q1645.79 192.442 1655.96 192.442 Z\" fill=\"#000000\" fill-rule=\"evenodd\" fill-opacity=\"1\" /><path clip-path=\"url(#clip660)\" d=\"M1689.01 191.065 L1695.49 191.065 Q1701.57 200.625 1704.57 209.78 Q1707.61 218.935 1707.61 227.969 Q1707.61 237.043 1704.57 246.238 Q1701.57 255.434 1695.49 264.953 L1689.01 264.953 Q1694.4 255.677 1697.03 246.522 Q1699.71 237.326 1699.71 227.969 Q1699.71 218.611 1697.03 209.497 Q1694.4 200.382 1689.01 191.065 Z\" fill=\"#000000\" fill-rule=\"evenodd\" fill-opacity=\"1\" /><path clip-path=\"url(#clip662)\" d=\"\n",
       "M319.499 1317.94 L319.499 1417.71 L451.836 1417.71 L451.836 1317.94 L319.499 1317.94 L319.499 1317.94  Z\n",
       "  \" fill=\"#009af9\" fill-rule=\"evenodd\" fill-opacity=\"1\"/>\n",
       "<polyline clip-path=\"url(#clip662)\" style=\"stroke:#000000; stroke-linecap:butt; stroke-linejoin:round; stroke-width:4; stroke-opacity:1; fill:none\" points=\"\n",
       "  319.499,1317.94 319.499,1417.71 451.836,1417.71 451.836,1317.94 319.499,1317.94 \n",
       "  \"/>\n",
       "<path clip-path=\"url(#clip662)\" d=\"\n",
       "M650.34 394.873 L650.34 1417.71 L782.677 1417.71 L782.677 394.873 L650.34 394.873 L650.34 394.873  Z\n",
       "  \" fill=\"#009af9\" fill-rule=\"evenodd\" fill-opacity=\"1\"/>\n",
       "<polyline clip-path=\"url(#clip662)\" style=\"stroke:#000000; stroke-linecap:butt; stroke-linejoin:round; stroke-width:4; stroke-opacity:1; fill:none\" points=\"\n",
       "  650.34,394.873 650.34,1417.71 782.677,1417.71 782.677,394.873 650.34,394.873 \n",
       "  \"/>\n",
       "<path clip-path=\"url(#clip662)\" d=\"\n",
       "M981.181 1406 L981.181 1417.71 L1113.52 1417.71 L1113.52 1406 L981.181 1406 L981.181 1406  Z\n",
       "  \" fill=\"#009af9\" fill-rule=\"evenodd\" fill-opacity=\"1\"/>\n",
       "<polyline clip-path=\"url(#clip662)\" style=\"stroke:#000000; stroke-linecap:butt; stroke-linejoin:round; stroke-width:4; stroke-opacity:1; fill:none\" points=\"\n",
       "  981.181,1406 981.181,1417.71 1113.52,1417.71 1113.52,1406 981.181,1406 \n",
       "  \"/>\n",
       "<path clip-path=\"url(#clip662)\" d=\"\n",
       "M1312.02 1235.87 L1312.02 1417.71 L1444.36 1417.71 L1444.36 1235.87 L1312.02 1235.87 L1312.02 1235.87  Z\n",
       "  \" fill=\"#009af9\" fill-rule=\"evenodd\" fill-opacity=\"1\"/>\n",
       "<polyline clip-path=\"url(#clip662)\" style=\"stroke:#000000; stroke-linecap:butt; stroke-linejoin:round; stroke-width:4; stroke-opacity:1; fill:none\" points=\"\n",
       "  1312.02,1235.87 1312.02,1417.71 1444.36,1417.71 1444.36,1235.87 1312.02,1235.87 \n",
       "  \"/>\n",
       "<path clip-path=\"url(#clip662)\" d=\"\n",
       "M1642.86 1320.7 L1642.86 1417.71 L1775.2 1417.71 L1775.2 1320.7 L1642.86 1320.7 L1642.86 1320.7  Z\n",
       "  \" fill=\"#009af9\" fill-rule=\"evenodd\" fill-opacity=\"1\"/>\n",
       "<polyline clip-path=\"url(#clip662)\" style=\"stroke:#000000; stroke-linecap:butt; stroke-linejoin:round; stroke-width:4; stroke-opacity:1; fill:none\" points=\"\n",
       "  1642.86,1320.7 1642.86,1417.71 1775.2,1417.71 1775.2,1320.7 1642.86,1320.7 \n",
       "  \"/>\n",
       "<path clip-path=\"url(#clip662)\" d=\"\n",
       "M1973.7 1358.03 L1973.7 1417.71 L2106.04 1417.71 L2106.04 1358.03 L1973.7 1358.03 L1973.7 1358.03  Z\n",
       "  \" fill=\"#009af9\" fill-rule=\"evenodd\" fill-opacity=\"1\"/>\n",
       "<polyline clip-path=\"url(#clip662)\" style=\"stroke:#000000; stroke-linecap:butt; stroke-linejoin:round; stroke-width:4; stroke-opacity:1; fill:none\" points=\"\n",
       "  1973.7,1358.03 1973.7,1417.71 2106.04,1417.71 2106.04,1358.03 1973.7,1358.03 \n",
       "  \"/>\n",
       "<path clip-path=\"url(#clip662)\" d=\"\n",
       "M451.836 1403.03 L451.836 1417.71 L584.172 1417.71 L584.172 1403.03 L451.836 1403.03 L451.836 1403.03  Z\n",
       "  \" fill=\"#e26f46\" fill-rule=\"evenodd\" fill-opacity=\"1\"/>\n",
       "<polyline clip-path=\"url(#clip662)\" style=\"stroke:#000000; stroke-linecap:butt; stroke-linejoin:round; stroke-width:4; stroke-opacity:1; fill:none\" points=\"\n",
       "  451.836,1403.03 451.836,1417.71 584.172,1417.71 584.172,1403.03 451.836,1403.03 \n",
       "  \"/>\n",
       "<path clip-path=\"url(#clip662)\" d=\"\n",
       "M782.677 278.605 L782.677 1417.71 L915.013 1417.71 L915.013 278.605 L782.677 278.605 L782.677 278.605  Z\n",
       "  \" fill=\"#e26f46\" fill-rule=\"evenodd\" fill-opacity=\"1\"/>\n",
       "<polyline clip-path=\"url(#clip662)\" style=\"stroke:#000000; stroke-linecap:butt; stroke-linejoin:round; stroke-width:4; stroke-opacity:1; fill:none\" points=\"\n",
       "  782.677,278.605 782.677,1417.71 915.013,1417.71 915.013,278.605 782.677,278.605 \n",
       "  \"/>\n",
       "<path clip-path=\"url(#clip662)\" d=\"\n",
       "M1113.52 1396.79 L1113.52 1417.71 L1245.85 1417.71 L1245.85 1396.79 L1113.52 1396.79 L1113.52 1396.79  Z\n",
       "  \" fill=\"#e26f46\" fill-rule=\"evenodd\" fill-opacity=\"1\"/>\n",
       "<polyline clip-path=\"url(#clip662)\" style=\"stroke:#000000; stroke-linecap:butt; stroke-linejoin:round; stroke-width:4; stroke-opacity:1; fill:none\" points=\"\n",
       "  1113.52,1396.79 1113.52,1417.71 1245.85,1417.71 1245.85,1396.79 1113.52,1396.79 \n",
       "  \"/>\n",
       "<path clip-path=\"url(#clip662)\" d=\"\n",
       "M1444.36 1232.28 L1444.36 1417.71 L1576.7 1417.71 L1576.7 1232.28 L1444.36 1232.28 L1444.36 1232.28  Z\n",
       "  \" fill=\"#e26f46\" fill-rule=\"evenodd\" fill-opacity=\"1\"/>\n",
       "<polyline clip-path=\"url(#clip662)\" style=\"stroke:#000000; stroke-linecap:butt; stroke-linejoin:round; stroke-width:4; stroke-opacity:1; fill:none\" points=\"\n",
       "  1444.36,1232.28 1444.36,1417.71 1576.7,1417.71 1576.7,1232.28 1444.36,1232.28 \n",
       "  \"/>\n",
       "<path clip-path=\"url(#clip662)\" d=\"\n",
       "M1775.2 1320.7 L1775.2 1417.71 L1907.54 1417.71 L1907.54 1320.7 L1775.2 1320.7 L1775.2 1320.7  Z\n",
       "  \" fill=\"#e26f46\" fill-rule=\"evenodd\" fill-opacity=\"1\"/>\n",
       "<polyline clip-path=\"url(#clip662)\" style=\"stroke:#000000; stroke-linecap:butt; stroke-linejoin:round; stroke-width:4; stroke-opacity:1; fill:none\" points=\"\n",
       "  1775.2,1320.7 1775.2,1417.71 1907.54,1417.71 1907.54,1320.7 1775.2,1320.7 \n",
       "  \"/>\n",
       "<path clip-path=\"url(#clip662)\" d=\"\n",
       "M2106.04 1358.03 L2106.04 1417.71 L2238.38 1417.71 L2238.38 1358.03 L2106.04 1358.03 L2106.04 1358.03  Z\n",
       "  \" fill=\"#e26f46\" fill-rule=\"evenodd\" fill-opacity=\"1\"/>\n",
       "<polyline clip-path=\"url(#clip662)\" style=\"stroke:#000000; stroke-linecap:butt; stroke-linejoin:round; stroke-width:4; stroke-opacity:1; fill:none\" points=\"\n",
       "  2106.04,1358.03 2106.04,1417.71 2238.38,1417.71 2238.38,1358.03 2106.04,1358.03 \n",
       "  \"/>\n",
       "<path clip-path=\"url(#clip660)\" d=\"\n",
       "M1960.02 440.201 L2281.17 440.201 L2281.17 284.681 L1960.02 284.681  Z\n",
       "  \" fill=\"#ffffff\" fill-rule=\"evenodd\" fill-opacity=\"1\"/>\n",
       "<polyline clip-path=\"url(#clip660)\" style=\"stroke:#000000; stroke-linecap:butt; stroke-linejoin:round; stroke-width:4; stroke-opacity:1; fill:none\" points=\"\n",
       "  1960.02,440.201 2281.17,440.201 2281.17,284.681 1960.02,284.681 1960.02,440.201 \n",
       "  \"/>\n",
       "<path clip-path=\"url(#clip660)\" d=\"\n",
       "M1983.88 357.257 L2127.06 357.257 L2127.06 315.785 L1983.88 315.785 L1983.88 357.257  Z\n",
       "  \" fill=\"#009af9\" fill-rule=\"evenodd\" fill-opacity=\"1\"/>\n",
       "<polyline clip-path=\"url(#clip660)\" style=\"stroke:#000000; stroke-linecap:butt; stroke-linejoin:round; stroke-width:4; stroke-opacity:1; fill:none\" points=\"\n",
       "  1983.88,357.257 2127.06,357.257 2127.06,315.785 1983.88,315.785 1983.88,357.257 \n",
       "  \"/>\n",
       "<path clip-path=\"url(#clip660)\" d=\"M2151.59 349.865 L2159.23 349.865 L2159.23 323.5 L2150.92 325.167 L2150.92 320.907 L2159.18 319.241 L2163.86 319.241 L2163.86 349.865 L2171.5 349.865 L2171.5 353.801 L2151.59 353.801 L2151.59 349.865 Z\" fill=\"#000000\" fill-rule=\"evenodd\" fill-opacity=\"1\" /><path clip-path=\"url(#clip660)\" d=\"M2196.87 328.639 L2196.87 332.667 Q2195.06 331.741 2193.12 331.278 Q2191.17 330.815 2189.09 330.815 Q2185.92 330.815 2184.32 331.787 Q2182.75 332.759 2182.75 334.704 Q2182.75 336.185 2183.88 337.041 Q2185.02 337.875 2188.44 338.639 L2189.9 338.963 Q2194.44 339.935 2196.34 341.717 Q2198.26 343.477 2198.26 346.648 Q2198.26 350.259 2195.39 352.365 Q2192.54 354.472 2187.54 354.472 Q2185.46 354.472 2183.19 354.055 Q2180.94 353.662 2178.44 352.852 L2178.44 348.453 Q2180.8 349.68 2183.1 350.305 Q2185.39 350.907 2187.63 350.907 Q2190.64 350.907 2192.26 349.889 Q2193.88 348.847 2193.88 346.972 Q2193.88 345.236 2192.7 344.31 Q2191.54 343.384 2187.59 342.528 L2186.11 342.18 Q2182.15 341.347 2180.39 339.634 Q2178.63 337.898 2178.63 334.889 Q2178.63 331.231 2181.22 329.241 Q2183.81 327.25 2188.58 327.25 Q2190.94 327.25 2193.03 327.597 Q2195.11 327.944 2196.87 328.639 Z\" fill=\"#000000\" fill-rule=\"evenodd\" fill-opacity=\"1\" /><path clip-path=\"url(#clip660)\" d=\"M2209.25 320.514 L2209.25 327.875 L2218.03 327.875 L2218.03 331.185 L2209.25 331.185 L2209.25 345.259 Q2209.25 348.43 2210.11 349.333 Q2210.99 350.236 2213.65 350.236 L2218.03 350.236 L2218.03 353.801 L2213.65 353.801 Q2208.72 353.801 2206.85 351.972 Q2204.97 350.12 2204.97 345.259 L2204.97 331.185 L2201.85 331.185 L2201.85 327.875 L2204.97 327.875 L2204.97 320.514 L2209.25 320.514 Z\" fill=\"#000000\" fill-rule=\"evenodd\" fill-opacity=\"1\" /><path clip-path=\"url(#clip660)\" d=\"\n",
       "M1983.88 409.097 L2127.06 409.097 L2127.06 367.625 L1983.88 367.625 L1983.88 409.097  Z\n",
       "  \" fill=\"#e26f46\" fill-rule=\"evenodd\" fill-opacity=\"1\"/>\n",
       "<polyline clip-path=\"url(#clip660)\" style=\"stroke:#000000; stroke-linecap:butt; stroke-linejoin:round; stroke-width:4; stroke-opacity:1; fill:none\" points=\"\n",
       "  1983.88,409.097 2127.06,409.097 2127.06,367.625 1983.88,367.625 1983.88,409.097 \n",
       "  \"/>\n",
       "<path clip-path=\"url(#clip660)\" d=\"M2156.55 401.705 L2172.86 401.705 L2172.86 405.641 L2150.92 405.641 L2150.92 401.705 Q2153.58 398.951 2158.17 394.321 Q2162.77 389.669 2163.95 388.326 Q2166.2 385.803 2167.08 384.067 Q2167.98 382.307 2167.98 380.618 Q2167.98 377.863 2166.04 376.127 Q2164.11 374.391 2161.01 374.391 Q2158.81 374.391 2156.36 375.155 Q2153.93 375.919 2151.15 377.47 L2151.15 372.747 Q2153.98 371.613 2156.43 371.034 Q2158.88 370.456 2160.92 370.456 Q2166.29 370.456 2169.48 373.141 Q2172.68 375.826 2172.68 380.317 Q2172.68 382.446 2171.87 384.368 Q2171.08 386.266 2168.98 388.858 Q2168.4 389.53 2165.3 392.747 Q2162.19 395.942 2156.55 401.705 Z\" fill=\"#000000\" fill-rule=\"evenodd\" fill-opacity=\"1\" /><path clip-path=\"url(#clip660)\" d=\"M2203.63 389.993 L2203.63 405.641 L2199.37 405.641 L2199.37 390.131 Q2199.37 386.451 2197.93 384.622 Q2196.5 382.794 2193.63 382.794 Q2190.18 382.794 2188.19 384.993 Q2186.2 387.192 2186.2 390.988 L2186.2 405.641 L2181.92 405.641 L2181.92 379.715 L2186.2 379.715 L2186.2 383.743 Q2187.73 381.405 2189.79 380.247 Q2191.87 379.09 2194.58 379.09 Q2199.04 379.09 2201.34 381.868 Q2203.63 384.622 2203.63 389.993 Z\" fill=\"#000000\" fill-rule=\"evenodd\" fill-opacity=\"1\" /><path clip-path=\"url(#clip660)\" d=\"M2229.18 383.65 L2229.18 369.622 L2233.44 369.622 L2233.44 405.641 L2229.18 405.641 L2229.18 401.752 Q2227.84 404.067 2225.78 405.201 Q2223.74 406.312 2220.87 406.312 Q2216.17 406.312 2213.21 402.562 Q2210.27 398.812 2210.27 392.701 Q2210.27 386.59 2213.21 382.84 Q2216.17 379.09 2220.87 379.09 Q2223.74 379.09 2225.78 380.224 Q2227.84 381.335 2229.18 383.65 M2214.67 392.701 Q2214.67 397.4 2216.59 400.085 Q2218.54 402.747 2221.92 402.747 Q2225.29 402.747 2227.24 400.085 Q2229.18 397.4 2229.18 392.701 Q2229.18 388.002 2227.24 385.34 Q2225.29 382.655 2221.92 382.655 Q2218.54 382.655 2216.59 385.34 Q2214.67 388.002 2214.67 392.701 Z\" fill=\"#000000\" fill-rule=\"evenodd\" fill-opacity=\"1\" /></svg>\n"
      ]
     },
     "execution_count": 47,
     "metadata": {},
     "output_type": "execute_result"
    }
   ],
   "source": [
    "groupedbar(\n",
    "    # Exclude JSONTables.jl arraytable due to timing\n",
    "    repeat([\"CSV.jl\", \"Serialization\", \"JDF.jl\", \"JLSO.jl\", \"Arrow.jl\", \"JSONTables.jl\\nobjecttable\"],\n",
    "            inner = 2),\n",
    "    [csvwrite1, csvwrite2, serializewrite1, serializewrite1, jdfwrite1, jdfwrite2,\n",
    "     jlsowrite1, jlsowrite2, arrowwrite1, arrowwrite2, jsontablesowrite2, jsontablesowrite2],\n",
    "    group = repeat([\"1st\", \"2nd\"], outer = 6),\n",
    "    ylab = \"Second\",\n",
    "    title = \"Write Performance\\nDataFrame: bigdf\\nSize: $(size(bigdf))\"\n",
    ")"
   ]
  },
  {
   "cell_type": "code",
   "execution_count": 48,
   "metadata": {},
   "outputs": [
    {
     "data": {
      "text/html": [
       "<div class=\"data-frame\"><p>6 rows × 2 columns</p><table class=\"data-frame\"><thead><tr><th></th><th>file</th><th>size</th></tr><tr><th></th><th title=\"String\">String</th><th title=\"Int64\">Int64</th></tr></thead><tbody><tr><th>1</th><td>bigdf.arrow</td><td>16152106</td></tr><tr><th>2</th><td>bigdf.bin</td><td>51774521</td></tr><tr><th>3</th><td>bigdf.jdf</td><td>100765595</td></tr><tr><th>4</th><td>bigdf1.csv</td><td>550810955</td></tr><tr><th>5</th><td>bigdf2.json</td><td>550814956</td></tr><tr><th>6</th><td>bigdf1.json</td><td>1240306063</td></tr></tbody></table></div>"
      ],
      "text/latex": [
       "\\begin{tabular}{r|cc}\n",
       "\t& file & size\\\\\n",
       "\t\\hline\n",
       "\t& String & Int64\\\\\n",
       "\t\\hline\n",
       "\t1 & bigdf.arrow & 16152106 \\\\\n",
       "\t2 & bigdf.bin & 51774521 \\\\\n",
       "\t3 & bigdf.jdf & 100765595 \\\\\n",
       "\t4 & bigdf1.csv & 550810955 \\\\\n",
       "\t5 & bigdf2.json & 550814956 \\\\\n",
       "\t6 & bigdf1.json & 1240306063 \\\\\n",
       "\\end{tabular}\n"
      ],
      "text/plain": [
       "\u001b[1m6×2 DataFrame\u001b[0m\n",
       "\u001b[1m Row \u001b[0m│\u001b[1m file        \u001b[0m\u001b[1m size       \u001b[0m\n",
       "\u001b[1m     \u001b[0m│\u001b[90m String      \u001b[0m\u001b[90m Int64      \u001b[0m\n",
       "─────┼─────────────────────────\n",
       "   1 │ bigdf.arrow    16152106\n",
       "   2 │ bigdf.bin      51774521\n",
       "   3 │ bigdf.jdf     100765595\n",
       "   4 │ bigdf1.csv    550810955\n",
       "   5 │ bigdf2.json   550814956\n",
       "   6 │ bigdf1.json  1240306063"
      ]
     },
     "execution_count": 48,
     "metadata": {},
     "output_type": "execute_result"
    }
   ],
   "source": [
    "data_files = [\"bigdf1.csv\", \"bigdf.bin\", \"bigdf.arrow\", \"bigdf1.json\", \"bigdf2.json\"]\n",
    "df = DataFrame(file = data_files, size = getfield.(stat.(data_files), :size))\n",
    "append!(df, DataFrame(file = \"bigdf.jdf\", size=reduce((x,y)->x+y.size,\n",
    "                                                      stat.(joinpath.(\"bigdf.jdf\", readdir(\"bigdf.jdf\"))),\n",
    "                                                      init=0)))\n",
    "sort!(df, :size)"
   ]
  },
  {
   "cell_type": "code",
   "execution_count": 49,
   "metadata": {},
   "outputs": [
    {
     "data": {
      "image/svg+xml": [
       "<?xml version=\"1.0\" encoding=\"utf-8\"?>\n",
       "<svg xmlns=\"http://www.w3.org/2000/svg\" xmlns:xlink=\"http://www.w3.org/1999/xlink\" width=\"600\" height=\"400\" viewBox=\"0 0 2400 1600\">\n",
       "<defs>\n",
       "  <clipPath id=\"clip700\">\n",
       "    <rect x=\"0\" y=\"0\" width=\"2400\" height=\"1600\"/>\n",
       "  </clipPath>\n",
       "</defs>\n",
       "<path clip-path=\"url(#clip700)\" d=\"\n",
       "M0 1600 L2400 1600 L2400 0 L0 0  Z\n",
       "  \" fill=\"#ffffff\" fill-rule=\"evenodd\" fill-opacity=\"1\"/>\n",
       "<defs>\n",
       "  <clipPath id=\"clip701\">\n",
       "    <rect x=\"480\" y=\"0\" width=\"1681\" height=\"1600\"/>\n",
       "  </clipPath>\n",
       "</defs>\n",
       "<path clip-path=\"url(#clip700)\" d=\"\n",
       "M262.551 1486.45 L2352.76 1486.45 L2352.76 123.472 L262.551 123.472  Z\n",
       "  \" fill=\"#ffffff\" fill-rule=\"evenodd\" fill-opacity=\"1\"/>\n",
       "<defs>\n",
       "  <clipPath id=\"clip702\">\n",
       "    <rect x=\"262\" y=\"123\" width=\"2091\" height=\"1364\"/>\n",
       "  </clipPath>\n",
       "</defs>\n",
       "<polyline clip-path=\"url(#clip702)\" style=\"stroke:#000000; stroke-linecap:butt; stroke-linejoin:round; stroke-width:2; stroke-opacity:0.1; fill:none\" points=\"\n",
       "  505.811,1486.45 505.811,123.472 \n",
       "  \"/>\n",
       "<polyline clip-path=\"url(#clip702)\" style=\"stroke:#000000; stroke-linecap:butt; stroke-linejoin:round; stroke-width:2; stroke-opacity:0.1; fill:none\" points=\"\n",
       "  826.548,1486.45 826.548,123.472 \n",
       "  \"/>\n",
       "<polyline clip-path=\"url(#clip702)\" style=\"stroke:#000000; stroke-linecap:butt; stroke-linejoin:round; stroke-width:2; stroke-opacity:0.1; fill:none\" points=\"\n",
       "  1147.29,1486.45 1147.29,123.472 \n",
       "  \"/>\n",
       "<polyline clip-path=\"url(#clip702)\" style=\"stroke:#000000; stroke-linecap:butt; stroke-linejoin:round; stroke-width:2; stroke-opacity:0.1; fill:none\" points=\"\n",
       "  1468.02,1486.45 1468.02,123.472 \n",
       "  \"/>\n",
       "<polyline clip-path=\"url(#clip702)\" style=\"stroke:#000000; stroke-linecap:butt; stroke-linejoin:round; stroke-width:2; stroke-opacity:0.1; fill:none\" points=\"\n",
       "  1788.76,1486.45 1788.76,123.472 \n",
       "  \"/>\n",
       "<polyline clip-path=\"url(#clip702)\" style=\"stroke:#000000; stroke-linecap:butt; stroke-linejoin:round; stroke-width:2; stroke-opacity:0.1; fill:none\" points=\"\n",
       "  2109.5,1486.45 2109.5,123.472 \n",
       "  \"/>\n",
       "<polyline clip-path=\"url(#clip700)\" style=\"stroke:#000000; stroke-linecap:butt; stroke-linejoin:round; stroke-width:4; stroke-opacity:1; fill:none\" points=\"\n",
       "  262.551,1486.45 2352.76,1486.45 \n",
       "  \"/>\n",
       "<polyline clip-path=\"url(#clip700)\" style=\"stroke:#000000; stroke-linecap:butt; stroke-linejoin:round; stroke-width:4; stroke-opacity:1; fill:none\" points=\"\n",
       "  505.811,1486.45 505.811,1470.09 \n",
       "  \"/>\n",
       "<polyline clip-path=\"url(#clip700)\" style=\"stroke:#000000; stroke-linecap:butt; stroke-linejoin:round; stroke-width:4; stroke-opacity:1; fill:none\" points=\"\n",
       "  826.548,1486.45 826.548,1470.09 \n",
       "  \"/>\n",
       "<polyline clip-path=\"url(#clip700)\" style=\"stroke:#000000; stroke-linecap:butt; stroke-linejoin:round; stroke-width:4; stroke-opacity:1; fill:none\" points=\"\n",
       "  1147.29,1486.45 1147.29,1470.09 \n",
       "  \"/>\n",
       "<polyline clip-path=\"url(#clip700)\" style=\"stroke:#000000; stroke-linecap:butt; stroke-linejoin:round; stroke-width:4; stroke-opacity:1; fill:none\" points=\"\n",
       "  1468.02,1486.45 1468.02,1470.09 \n",
       "  \"/>\n",
       "<polyline clip-path=\"url(#clip700)\" style=\"stroke:#000000; stroke-linecap:butt; stroke-linejoin:round; stroke-width:4; stroke-opacity:1; fill:none\" points=\"\n",
       "  1788.76,1486.45 1788.76,1470.09 \n",
       "  \"/>\n",
       "<polyline clip-path=\"url(#clip700)\" style=\"stroke:#000000; stroke-linecap:butt; stroke-linejoin:round; stroke-width:4; stroke-opacity:1; fill:none\" points=\"\n",
       "  2109.5,1486.45 2109.5,1470.09 \n",
       "  \"/>\n",
       "<path clip-path=\"url(#clip700)\" d=\"M394.886 1534.18 Q394.886 1529.48 392.941 1526.82 Q391.02 1524.13 387.64 1524.13 Q384.261 1524.13 382.316 1526.82 Q380.395 1529.48 380.395 1534.18 Q380.395 1538.88 382.316 1541.56 Q384.261 1544.23 387.64 1544.23 Q391.02 1544.23 392.941 1541.56 Q394.886 1538.88 394.886 1534.18 M380.395 1525.13 Q381.738 1522.81 383.775 1521.7 Q385.835 1520.57 388.682 1520.57 Q393.404 1520.57 396.344 1524.32 Q399.307 1528.07 399.307 1534.18 Q399.307 1540.29 396.344 1544.04 Q393.404 1547.79 388.682 1547.79 Q385.835 1547.79 383.775 1546.68 Q381.738 1545.55 380.395 1543.23 L380.395 1547.12 L376.113 1547.12 L376.113 1511.1 L380.395 1511.1 L380.395 1525.13 Z\" fill=\"#000000\" fill-rule=\"evenodd\" fill-opacity=\"1\" /><path clip-path=\"url(#clip700)\" d=\"M406.367 1521.19 L410.626 1521.19 L410.626 1547.12 L406.367 1547.12 L406.367 1521.19 M406.367 1511.1 L410.626 1511.1 L410.626 1516.5 L406.367 1516.5 L406.367 1511.1 Z\" fill=\"#000000\" fill-rule=\"evenodd\" fill-opacity=\"1\" /><path clip-path=\"url(#clip700)\" d=\"M436.598 1533.86 Q436.598 1529.23 434.677 1526.68 Q432.779 1524.13 429.33 1524.13 Q425.904 1524.13 423.983 1526.68 Q422.085 1529.23 422.085 1533.86 Q422.085 1538.46 423.983 1541.01 Q425.904 1543.56 429.33 1543.56 Q432.779 1543.56 434.677 1541.01 Q436.598 1538.46 436.598 1533.86 M440.858 1543.9 Q440.858 1550.52 437.918 1553.74 Q434.978 1556.98 428.913 1556.98 Q426.668 1556.98 424.677 1556.63 Q422.686 1556.31 420.811 1555.62 L420.811 1551.47 Q422.686 1552.49 424.515 1552.98 Q426.344 1553.46 428.242 1553.46 Q432.432 1553.46 434.515 1551.26 Q436.598 1549.09 436.598 1544.67 L436.598 1542.56 Q435.279 1544.85 433.219 1545.99 Q431.159 1547.12 428.288 1547.12 Q423.52 1547.12 420.603 1543.49 Q417.686 1539.85 417.686 1533.86 Q417.686 1527.84 420.603 1524.2 Q423.52 1520.57 428.288 1520.57 Q431.159 1520.57 433.219 1521.7 Q435.279 1522.84 436.598 1525.13 L436.598 1521.19 L440.858 1521.19 L440.858 1543.9 Z\" fill=\"#000000\" fill-rule=\"evenodd\" fill-opacity=\"1\" /><path clip-path=\"url(#clip700)\" d=\"M466.691 1525.13 L466.691 1511.1 L470.95 1511.1 L470.95 1547.12 L466.691 1547.12 L466.691 1543.23 Q465.348 1545.55 463.288 1546.68 Q461.251 1547.79 458.381 1547.79 Q453.682 1547.79 450.719 1544.04 Q447.779 1540.29 447.779 1534.18 Q447.779 1528.07 450.719 1524.32 Q453.682 1520.57 458.381 1520.57 Q461.251 1520.57 463.288 1521.7 Q465.348 1522.81 466.691 1525.13 M452.177 1534.18 Q452.177 1538.88 454.098 1541.56 Q456.043 1544.23 459.422 1544.23 Q462.802 1544.23 464.746 1541.56 Q466.691 1538.88 466.691 1534.18 Q466.691 1529.48 464.746 1526.82 Q462.802 1524.13 459.422 1524.13 Q456.043 1524.13 454.098 1526.82 Q452.177 1529.48 452.177 1534.18 Z\" fill=\"#000000\" fill-rule=\"evenodd\" fill-opacity=\"1\" /><path clip-path=\"url(#clip700)\" d=\"M492.848 1511.1 L492.848 1514.64 L488.774 1514.64 Q486.482 1514.64 485.58 1515.57 Q484.7 1516.5 484.7 1518.9 L484.7 1521.19 L491.714 1521.19 L491.714 1524.5 L484.7 1524.5 L484.7 1547.12 L480.418 1547.12 L480.418 1524.5 L476.344 1524.5 L476.344 1521.19 L480.418 1521.19 L480.418 1519.39 Q480.418 1515.06 482.432 1513.09 Q484.445 1511.1 488.82 1511.1 L492.848 1511.1 Z\" fill=\"#000000\" fill-rule=\"evenodd\" fill-opacity=\"1\" /><path clip-path=\"url(#clip700)\" d=\"M493.566 1541.24 L498.45 1541.24 L498.45 1547.12 L493.566 1547.12 L493.566 1541.24 Z\" fill=\"#000000\" fill-rule=\"evenodd\" fill-opacity=\"1\" /><path clip-path=\"url(#clip700)\" d=\"M519.816 1534.09 Q514.654 1534.09 512.663 1535.27 Q510.672 1536.45 510.672 1539.3 Q510.672 1541.56 512.154 1542.91 Q513.658 1544.23 516.228 1544.23 Q519.769 1544.23 521.899 1541.73 Q524.052 1539.2 524.052 1535.04 L524.052 1534.09 L519.816 1534.09 M528.311 1532.33 L528.311 1547.12 L524.052 1547.12 L524.052 1543.18 Q522.593 1545.55 520.417 1546.68 Q518.241 1547.79 515.093 1547.79 Q511.112 1547.79 508.751 1545.57 Q506.413 1543.32 506.413 1539.57 Q506.413 1535.2 509.33 1532.98 Q512.269 1530.75 518.079 1530.75 L524.052 1530.75 L524.052 1530.34 Q524.052 1527.4 522.107 1525.8 Q520.186 1524.18 516.691 1524.18 Q514.468 1524.18 512.362 1524.71 Q510.255 1525.24 508.311 1526.31 L508.311 1522.37 Q510.649 1521.47 512.848 1521.03 Q515.047 1520.57 517.13 1520.57 Q522.755 1520.57 525.533 1523.49 Q528.311 1526.4 528.311 1532.33 Z\" fill=\"#000000\" fill-rule=\"evenodd\" fill-opacity=\"1\" /><path clip-path=\"url(#clip700)\" d=\"M552.107 1525.18 Q551.389 1524.76 550.533 1524.57 Q549.7 1524.37 548.681 1524.37 Q545.07 1524.37 543.126 1526.73 Q541.204 1529.06 541.204 1533.46 L541.204 1547.12 L536.922 1547.12 L536.922 1521.19 L541.204 1521.19 L541.204 1525.22 Q542.547 1522.86 544.7 1521.73 Q546.852 1520.57 549.931 1520.57 Q550.371 1520.57 550.903 1520.64 Q551.436 1520.68 552.084 1520.8 L552.107 1525.18 Z\" fill=\"#000000\" fill-rule=\"evenodd\" fill-opacity=\"1\" /><path clip-path=\"url(#clip700)\" d=\"M570.764 1525.18 Q570.047 1524.76 569.19 1524.57 Q568.357 1524.37 567.338 1524.37 Q563.727 1524.37 561.783 1526.73 Q559.862 1529.06 559.862 1533.46 L559.862 1547.12 L555.579 1547.12 L555.579 1521.19 L559.862 1521.19 L559.862 1525.22 Q561.204 1522.86 563.357 1521.73 Q565.51 1520.57 568.588 1520.57 Q569.028 1520.57 569.561 1520.64 Q570.093 1520.68 570.741 1520.8 L570.764 1525.18 Z\" fill=\"#000000\" fill-rule=\"evenodd\" fill-opacity=\"1\" /><path clip-path=\"url(#clip700)\" d=\"M584.237 1524.18 Q580.811 1524.18 578.82 1526.87 Q576.829 1529.53 576.829 1534.18 Q576.829 1538.83 578.797 1541.52 Q580.787 1544.18 584.237 1544.18 Q587.639 1544.18 589.63 1541.49 Q591.621 1538.81 591.621 1534.18 Q591.621 1529.57 589.63 1526.89 Q587.639 1524.18 584.237 1524.18 M584.237 1520.57 Q589.792 1520.57 592.963 1524.18 Q596.135 1527.79 596.135 1534.18 Q596.135 1540.55 592.963 1544.18 Q589.792 1547.79 584.237 1547.79 Q578.658 1547.79 575.487 1544.18 Q572.338 1540.55 572.338 1534.18 Q572.338 1527.79 575.487 1524.18 Q578.658 1520.57 584.237 1520.57 Z\" fill=\"#000000\" fill-rule=\"evenodd\" fill-opacity=\"1\" /><path clip-path=\"url(#clip700)\" d=\"M600.718 1521.19 L604.977 1521.19 L610.301 1541.43 L615.602 1521.19 L620.625 1521.19 L625.949 1541.43 L631.25 1521.19 L635.509 1521.19 L628.727 1547.12 L623.704 1547.12 L618.125 1525.87 L612.523 1547.12 L607.5 1547.12 L600.718 1521.19 Z\" fill=\"#000000\" fill-rule=\"evenodd\" fill-opacity=\"1\" /><path clip-path=\"url(#clip700)\" d=\"M746.954 1534.18 Q746.954 1529.48 745.009 1526.82 Q743.088 1524.13 739.708 1524.13 Q736.329 1524.13 734.384 1526.82 Q732.463 1529.48 732.463 1534.18 Q732.463 1538.88 734.384 1541.56 Q736.329 1544.23 739.708 1544.23 Q743.088 1544.23 745.009 1541.56 Q746.954 1538.88 746.954 1534.18 M732.463 1525.13 Q733.805 1522.81 735.842 1521.7 Q737.903 1520.57 740.75 1520.57 Q745.472 1520.57 748.412 1524.32 Q751.375 1528.07 751.375 1534.18 Q751.375 1540.29 748.412 1544.04 Q745.472 1547.79 740.75 1547.79 Q737.903 1547.79 735.842 1546.68 Q733.805 1545.55 732.463 1543.23 L732.463 1547.12 L728.181 1547.12 L728.181 1511.1 L732.463 1511.1 L732.463 1525.13 Z\" fill=\"#000000\" fill-rule=\"evenodd\" fill-opacity=\"1\" /><path clip-path=\"url(#clip700)\" d=\"M758.435 1521.19 L762.694 1521.19 L762.694 1547.12 L758.435 1547.12 L758.435 1521.19 M758.435 1511.1 L762.694 1511.1 L762.694 1516.5 L758.435 1516.5 L758.435 1511.1 Z\" fill=\"#000000\" fill-rule=\"evenodd\" fill-opacity=\"1\" /><path clip-path=\"url(#clip700)\" d=\"M788.666 1533.86 Q788.666 1529.23 786.745 1526.68 Q784.847 1524.13 781.398 1524.13 Q777.972 1524.13 776.051 1526.68 Q774.152 1529.23 774.152 1533.86 Q774.152 1538.46 776.051 1541.01 Q777.972 1543.56 781.398 1543.56 Q784.847 1543.56 786.745 1541.01 Q788.666 1538.46 788.666 1533.86 M792.926 1543.9 Q792.926 1550.52 789.986 1553.74 Q787.046 1556.98 780.981 1556.98 Q778.736 1556.98 776.745 1556.63 Q774.754 1556.31 772.879 1555.62 L772.879 1551.47 Q774.754 1552.49 776.583 1552.98 Q778.412 1553.46 780.31 1553.46 Q784.5 1553.46 786.583 1551.26 Q788.666 1549.09 788.666 1544.67 L788.666 1542.56 Q787.347 1544.85 785.287 1545.99 Q783.227 1547.12 780.356 1547.12 Q775.588 1547.12 772.671 1543.49 Q769.754 1539.85 769.754 1533.86 Q769.754 1527.84 772.671 1524.2 Q775.588 1520.57 780.356 1520.57 Q783.227 1520.57 785.287 1521.7 Q787.347 1522.84 788.666 1525.13 L788.666 1521.19 L792.926 1521.19 L792.926 1543.9 Z\" fill=\"#000000\" fill-rule=\"evenodd\" fill-opacity=\"1\" /><path clip-path=\"url(#clip700)\" d=\"M818.759 1525.13 L818.759 1511.1 L823.018 1511.1 L823.018 1547.12 L818.759 1547.12 L818.759 1543.23 Q817.416 1545.55 815.356 1546.68 Q813.319 1547.79 810.449 1547.79 Q805.75 1547.79 802.787 1544.04 Q799.847 1540.29 799.847 1534.18 Q799.847 1528.07 802.787 1524.32 Q805.75 1520.57 810.449 1520.57 Q813.319 1520.57 815.356 1521.7 Q817.416 1522.81 818.759 1525.13 M804.245 1534.18 Q804.245 1538.88 806.166 1541.56 Q808.111 1544.23 811.49 1544.23 Q814.87 1544.23 816.814 1541.56 Q818.759 1538.88 818.759 1534.18 Q818.759 1529.48 816.814 1526.82 Q814.87 1524.13 811.49 1524.13 Q808.111 1524.13 806.166 1526.82 Q804.245 1529.48 804.245 1534.18 Z\" fill=\"#000000\" fill-rule=\"evenodd\" fill-opacity=\"1\" /><path clip-path=\"url(#clip700)\" d=\"M844.916 1511.1 L844.916 1514.64 L840.842 1514.64 Q838.55 1514.64 837.648 1515.57 Q836.768 1516.5 836.768 1518.9 L836.768 1521.19 L843.782 1521.19 L843.782 1524.5 L836.768 1524.5 L836.768 1547.12 L832.485 1547.12 L832.485 1524.5 L828.411 1524.5 L828.411 1521.19 L832.485 1521.19 L832.485 1519.39 Q832.485 1515.06 834.499 1513.09 Q836.513 1511.1 840.888 1511.1 L844.916 1511.1 Z\" fill=\"#000000\" fill-rule=\"evenodd\" fill-opacity=\"1\" /><path clip-path=\"url(#clip700)\" d=\"M845.634 1541.24 L850.518 1541.24 L850.518 1547.12 L845.634 1547.12 L845.634 1541.24 Z\" fill=\"#000000\" fill-rule=\"evenodd\" fill-opacity=\"1\" /><path clip-path=\"url(#clip700)\" d=\"M878.712 1534.18 Q878.712 1529.48 876.768 1526.82 Q874.846 1524.13 871.467 1524.13 Q868.087 1524.13 866.143 1526.82 Q864.221 1529.48 864.221 1534.18 Q864.221 1538.88 866.143 1541.56 Q868.087 1544.23 871.467 1544.23 Q874.846 1544.23 876.768 1541.56 Q878.712 1538.88 878.712 1534.18 M864.221 1525.13 Q865.564 1522.81 867.601 1521.7 Q869.661 1520.57 872.508 1520.57 Q877.231 1520.57 880.17 1524.32 Q883.133 1528.07 883.133 1534.18 Q883.133 1540.29 880.17 1544.04 Q877.231 1547.79 872.508 1547.79 Q869.661 1547.79 867.601 1546.68 Q865.564 1545.55 864.221 1543.23 L864.221 1547.12 L859.939 1547.12 L859.939 1511.1 L864.221 1511.1 L864.221 1525.13 Z\" fill=\"#000000\" fill-rule=\"evenodd\" fill-opacity=\"1\" /><path clip-path=\"url(#clip700)\" d=\"M890.194 1521.19 L894.453 1521.19 L894.453 1547.12 L890.194 1547.12 L890.194 1521.19 M890.194 1511.1 L894.453 1511.1 L894.453 1516.5 L890.194 1516.5 L890.194 1511.1 Z\" fill=\"#000000\" fill-rule=\"evenodd\" fill-opacity=\"1\" /><path clip-path=\"url(#clip700)\" d=\"M924.916 1531.47 L924.916 1547.12 L920.656 1547.12 L920.656 1531.61 Q920.656 1527.93 919.221 1526.1 Q917.786 1524.27 914.916 1524.27 Q911.467 1524.27 909.476 1526.47 Q907.485 1528.67 907.485 1532.47 L907.485 1547.12 L903.203 1547.12 L903.203 1521.19 L907.485 1521.19 L907.485 1525.22 Q909.013 1522.88 911.073 1521.73 Q913.156 1520.57 915.865 1520.57 Q920.332 1520.57 922.624 1523.35 Q924.916 1526.1 924.916 1531.47 Z\" fill=\"#000000\" fill-rule=\"evenodd\" fill-opacity=\"1\" /><path clip-path=\"url(#clip700)\" d=\"M1071.9 1534.18 Q1071.9 1529.48 1069.96 1526.82 Q1068.04 1524.13 1064.66 1524.13 Q1061.28 1524.13 1059.33 1526.82 Q1057.41 1529.48 1057.41 1534.18 Q1057.41 1538.88 1059.33 1541.56 Q1061.28 1544.23 1064.66 1544.23 Q1068.04 1544.23 1069.96 1541.56 Q1071.9 1538.88 1071.9 1534.18 M1057.41 1525.13 Q1058.76 1522.81 1060.79 1521.7 Q1062.85 1520.57 1065.7 1520.57 Q1070.42 1520.57 1073.36 1524.32 Q1076.32 1528.07 1076.32 1534.18 Q1076.32 1540.29 1073.36 1544.04 Q1070.42 1547.79 1065.7 1547.79 Q1062.85 1547.79 1060.79 1546.68 Q1058.76 1545.55 1057.41 1543.23 L1057.41 1547.12 L1053.13 1547.12 L1053.13 1511.1 L1057.41 1511.1 L1057.41 1525.13 Z\" fill=\"#000000\" fill-rule=\"evenodd\" fill-opacity=\"1\" /><path clip-path=\"url(#clip700)\" d=\"M1083.38 1521.19 L1087.64 1521.19 L1087.64 1547.12 L1083.38 1547.12 L1083.38 1521.19 M1083.38 1511.1 L1087.64 1511.1 L1087.64 1516.5 L1083.38 1516.5 L1083.38 1511.1 Z\" fill=\"#000000\" fill-rule=\"evenodd\" fill-opacity=\"1\" /><path clip-path=\"url(#clip700)\" d=\"M1113.62 1533.86 Q1113.62 1529.23 1111.69 1526.68 Q1109.8 1524.13 1106.35 1524.13 Q1102.92 1524.13 1101 1526.68 Q1099.1 1529.23 1099.1 1533.86 Q1099.1 1538.46 1101 1541.01 Q1102.92 1543.56 1106.35 1543.56 Q1109.8 1543.56 1111.69 1541.01 Q1113.62 1538.46 1113.62 1533.86 M1117.88 1543.9 Q1117.88 1550.52 1114.94 1553.74 Q1112 1556.98 1105.93 1556.98 Q1103.69 1556.98 1101.7 1556.63 Q1099.7 1556.31 1097.83 1555.62 L1097.83 1551.47 Q1099.7 1552.49 1101.53 1552.98 Q1103.36 1553.46 1105.26 1553.46 Q1109.45 1553.46 1111.53 1551.26 Q1113.62 1549.09 1113.62 1544.67 L1113.62 1542.56 Q1112.3 1544.85 1110.24 1545.99 Q1108.18 1547.12 1105.31 1547.12 Q1100.54 1547.12 1097.62 1543.49 Q1094.7 1539.85 1094.7 1533.86 Q1094.7 1527.84 1097.62 1524.2 Q1100.54 1520.57 1105.31 1520.57 Q1108.18 1520.57 1110.24 1521.7 Q1112.3 1522.84 1113.62 1525.13 L1113.62 1521.19 L1117.88 1521.19 L1117.88 1543.9 Z\" fill=\"#000000\" fill-rule=\"evenodd\" fill-opacity=\"1\" /><path clip-path=\"url(#clip700)\" d=\"M1143.71 1525.13 L1143.71 1511.1 L1147.97 1511.1 L1147.97 1547.12 L1143.71 1547.12 L1143.71 1543.23 Q1142.37 1545.55 1140.31 1546.68 Q1138.27 1547.79 1135.4 1547.79 Q1130.7 1547.79 1127.74 1544.04 Q1124.8 1540.29 1124.8 1534.18 Q1124.8 1528.07 1127.74 1524.32 Q1130.7 1520.57 1135.4 1520.57 Q1138.27 1520.57 1140.31 1521.7 Q1142.37 1522.81 1143.71 1525.13 M1129.19 1534.18 Q1129.19 1538.88 1131.12 1541.56 Q1133.06 1544.23 1136.44 1544.23 Q1139.82 1544.23 1141.76 1541.56 Q1143.71 1538.88 1143.71 1534.18 Q1143.71 1529.48 1141.76 1526.82 Q1139.82 1524.13 1136.44 1524.13 Q1133.06 1524.13 1131.12 1526.82 Q1129.19 1529.48 1129.19 1534.18 Z\" fill=\"#000000\" fill-rule=\"evenodd\" fill-opacity=\"1\" /><path clip-path=\"url(#clip700)\" d=\"M1169.87 1511.1 L1169.87 1514.64 L1165.79 1514.64 Q1163.5 1514.64 1162.6 1515.57 Q1161.72 1516.5 1161.72 1518.9 L1161.72 1521.19 L1168.73 1521.19 L1168.73 1524.5 L1161.72 1524.5 L1161.72 1547.12 L1157.44 1547.12 L1157.44 1524.5 L1153.36 1524.5 L1153.36 1521.19 L1157.44 1521.19 L1157.44 1519.39 Q1157.44 1515.06 1159.45 1513.09 Q1161.46 1511.1 1165.84 1511.1 L1169.87 1511.1 Z\" fill=\"#000000\" fill-rule=\"evenodd\" fill-opacity=\"1\" /><path clip-path=\"url(#clip700)\" d=\"M1170.58 1541.24 L1175.47 1541.24 L1175.47 1547.12 L1170.58 1547.12 L1170.58 1541.24 Z\" fill=\"#000000\" fill-rule=\"evenodd\" fill-opacity=\"1\" /><path clip-path=\"url(#clip700)\" d=\"M1185.05 1521.19 L1189.31 1521.19 L1189.31 1547.58 Q1189.31 1552.54 1187.41 1554.76 Q1185.54 1556.98 1181.35 1556.98 L1179.73 1556.98 L1179.73 1553.37 L1180.86 1553.37 Q1183.29 1553.37 1184.17 1552.24 Q1185.05 1551.12 1185.05 1547.58 L1185.05 1521.19 M1185.05 1511.1 L1189.31 1511.1 L1189.31 1516.5 L1185.05 1516.5 L1185.05 1511.1 Z\" fill=\"#000000\" fill-rule=\"evenodd\" fill-opacity=\"1\" /><path clip-path=\"url(#clip700)\" d=\"M1215.28 1525.13 L1215.28 1511.1 L1219.54 1511.1 L1219.54 1547.12 L1215.28 1547.12 L1215.28 1543.23 Q1213.94 1545.55 1211.88 1546.68 Q1209.84 1547.79 1206.97 1547.79 Q1202.27 1547.79 1199.31 1544.04 Q1196.37 1540.29 1196.37 1534.18 Q1196.37 1528.07 1199.31 1524.32 Q1202.27 1520.57 1206.97 1520.57 Q1209.84 1520.57 1211.88 1521.7 Q1213.94 1522.81 1215.28 1525.13 M1200.77 1534.18 Q1200.77 1538.88 1202.69 1541.56 Q1204.63 1544.23 1208.01 1544.23 Q1211.39 1544.23 1213.34 1541.56 Q1215.28 1538.88 1215.28 1534.18 Q1215.28 1529.48 1213.34 1526.82 Q1211.39 1524.13 1208.01 1524.13 Q1204.63 1524.13 1202.69 1526.82 Q1200.77 1529.48 1200.77 1534.18 Z\" fill=\"#000000\" fill-rule=\"evenodd\" fill-opacity=\"1\" /><path clip-path=\"url(#clip700)\" d=\"M1241.44 1511.1 L1241.44 1514.64 L1237.37 1514.64 Q1235.07 1514.64 1234.17 1515.57 Q1233.29 1516.5 1233.29 1518.9 L1233.29 1521.19 L1240.31 1521.19 L1240.31 1524.5 L1233.29 1524.5 L1233.29 1547.12 L1229.01 1547.12 L1229.01 1524.5 L1224.94 1524.5 L1224.94 1521.19 L1229.01 1521.19 L1229.01 1519.39 Q1229.01 1515.06 1231.02 1513.09 Q1233.04 1511.1 1237.41 1511.1 L1241.44 1511.1 Z\" fill=\"#000000\" fill-rule=\"evenodd\" fill-opacity=\"1\" /><path clip-path=\"url(#clip700)\" d=\"M1367.56 1534.18 Q1367.56 1529.48 1365.62 1526.82 Q1363.69 1524.13 1360.31 1524.13 Q1356.93 1524.13 1354.99 1526.82 Q1353.07 1529.48 1353.07 1534.18 Q1353.07 1538.88 1354.99 1541.56 Q1356.93 1544.23 1360.31 1544.23 Q1363.69 1544.23 1365.62 1541.56 Q1367.56 1538.88 1367.56 1534.18 M1353.07 1525.13 Q1354.41 1522.81 1356.45 1521.7 Q1358.51 1520.57 1361.36 1520.57 Q1366.08 1520.57 1369.02 1524.32 Q1371.98 1528.07 1371.98 1534.18 Q1371.98 1540.29 1369.02 1544.04 Q1366.08 1547.79 1361.36 1547.79 Q1358.51 1547.79 1356.45 1546.68 Q1354.41 1545.55 1353.07 1543.23 L1353.07 1547.12 L1348.79 1547.12 L1348.79 1511.1 L1353.07 1511.1 L1353.07 1525.13 Z\" fill=\"#000000\" fill-rule=\"evenodd\" fill-opacity=\"1\" /><path clip-path=\"url(#clip700)\" d=\"M1379.04 1521.19 L1383.3 1521.19 L1383.3 1547.12 L1379.04 1547.12 L1379.04 1521.19 M1379.04 1511.1 L1383.3 1511.1 L1383.3 1516.5 L1379.04 1516.5 L1379.04 1511.1 Z\" fill=\"#000000\" fill-rule=\"evenodd\" fill-opacity=\"1\" /><path clip-path=\"url(#clip700)\" d=\"M1409.27 1533.86 Q1409.27 1529.23 1407.35 1526.68 Q1405.45 1524.13 1402 1524.13 Q1398.58 1524.13 1396.66 1526.68 Q1394.76 1529.23 1394.76 1533.86 Q1394.76 1538.46 1396.66 1541.01 Q1398.58 1543.56 1402 1543.56 Q1405.45 1543.56 1407.35 1541.01 Q1409.27 1538.46 1409.27 1533.86 M1413.53 1543.9 Q1413.53 1550.52 1410.59 1553.74 Q1407.65 1556.98 1401.59 1556.98 Q1399.34 1556.98 1397.35 1556.63 Q1395.36 1556.31 1393.49 1555.62 L1393.49 1551.47 Q1395.36 1552.49 1397.19 1552.98 Q1399.02 1553.46 1400.92 1553.46 Q1405.11 1553.46 1407.19 1551.26 Q1409.27 1549.09 1409.27 1544.67 L1409.27 1542.56 Q1407.95 1544.85 1405.89 1545.99 Q1403.83 1547.12 1400.96 1547.12 Q1396.19 1547.12 1393.28 1543.49 Q1390.36 1539.85 1390.36 1533.86 Q1390.36 1527.84 1393.28 1524.2 Q1396.19 1520.57 1400.96 1520.57 Q1403.83 1520.57 1405.89 1521.7 Q1407.95 1522.84 1409.27 1525.13 L1409.27 1521.19 L1413.53 1521.19 L1413.53 1543.9 Z\" fill=\"#000000\" fill-rule=\"evenodd\" fill-opacity=\"1\" /><path clip-path=\"url(#clip700)\" d=\"M1439.36 1525.13 L1439.36 1511.1 L1443.62 1511.1 L1443.62 1547.12 L1439.36 1547.12 L1439.36 1543.23 Q1438.02 1545.55 1435.96 1546.68 Q1433.93 1547.79 1431.05 1547.79 Q1426.36 1547.79 1423.39 1544.04 Q1420.45 1540.29 1420.45 1534.18 Q1420.45 1528.07 1423.39 1524.32 Q1426.36 1520.57 1431.05 1520.57 Q1433.93 1520.57 1435.96 1521.7 Q1438.02 1522.81 1439.36 1525.13 M1424.85 1534.18 Q1424.85 1538.88 1426.77 1541.56 Q1428.72 1544.23 1432.1 1544.23 Q1435.48 1544.23 1437.42 1541.56 Q1439.36 1538.88 1439.36 1534.18 Q1439.36 1529.48 1437.42 1526.82 Q1435.48 1524.13 1432.1 1524.13 Q1428.72 1524.13 1426.77 1526.82 Q1424.85 1529.48 1424.85 1534.18 Z\" fill=\"#000000\" fill-rule=\"evenodd\" fill-opacity=\"1\" /><path clip-path=\"url(#clip700)\" d=\"M1465.52 1511.1 L1465.52 1514.64 L1461.45 1514.64 Q1459.16 1514.64 1458.25 1515.57 Q1457.37 1516.5 1457.37 1518.9 L1457.37 1521.19 L1464.39 1521.19 L1464.39 1524.5 L1457.37 1524.5 L1457.37 1547.12 L1453.09 1547.12 L1453.09 1524.5 L1449.02 1524.5 L1449.02 1521.19 L1453.09 1521.19 L1453.09 1519.39 Q1453.09 1515.06 1455.11 1513.09 Q1457.12 1511.1 1461.49 1511.1 L1465.52 1511.1 Z\" fill=\"#000000\" fill-rule=\"evenodd\" fill-opacity=\"1\" /><path clip-path=\"url(#clip700)\" d=\"M1470.5 1543.18 L1478.14 1543.18 L1478.14 1516.82 L1469.83 1518.49 L1469.83 1514.23 L1478.09 1512.56 L1482.77 1512.56 L1482.77 1543.18 L1490.41 1543.18 L1490.41 1547.12 L1470.5 1547.12 L1470.5 1543.18 Z\" fill=\"#000000\" fill-rule=\"evenodd\" fill-opacity=\"1\" /><path clip-path=\"url(#clip700)\" d=\"M1499.85 1541.24 L1504.73 1541.24 L1504.73 1547.12 L1499.85 1547.12 L1499.85 1541.24 Z\" fill=\"#000000\" fill-rule=\"evenodd\" fill-opacity=\"1\" /><path clip-path=\"url(#clip700)\" d=\"M1532.98 1522.19 L1532.98 1526.17 Q1531.17 1525.18 1529.34 1524.69 Q1527.54 1524.18 1525.68 1524.18 Q1521.54 1524.18 1519.25 1526.82 Q1516.96 1529.43 1516.96 1534.18 Q1516.96 1538.93 1519.25 1541.56 Q1521.54 1544.18 1525.68 1544.18 Q1527.54 1544.18 1529.34 1543.69 Q1531.17 1543.18 1532.98 1542.19 L1532.98 1546.12 Q1531.19 1546.96 1529.27 1547.37 Q1527.37 1547.79 1525.22 1547.79 Q1519.36 1547.79 1515.92 1544.11 Q1512.47 1540.43 1512.47 1534.18 Q1512.47 1527.84 1515.94 1524.2 Q1519.43 1520.57 1525.5 1520.57 Q1527.47 1520.57 1529.34 1520.99 Q1531.22 1521.38 1532.98 1522.19 Z\" fill=\"#000000\" fill-rule=\"evenodd\" fill-opacity=\"1\" /><path clip-path=\"url(#clip700)\" d=\"M1556.91 1521.96 L1556.91 1525.99 Q1555.1 1525.06 1553.16 1524.6 Q1551.22 1524.13 1549.13 1524.13 Q1545.96 1524.13 1544.36 1525.11 Q1542.79 1526.08 1542.79 1528.02 Q1542.79 1529.5 1543.92 1530.36 Q1545.06 1531.19 1548.48 1531.96 L1549.94 1532.28 Q1554.48 1533.25 1556.38 1535.04 Q1558.3 1536.8 1558.3 1539.97 Q1558.3 1543.58 1555.43 1545.68 Q1552.58 1547.79 1547.58 1547.79 Q1545.5 1547.79 1543.23 1547.37 Q1540.98 1546.98 1538.48 1546.17 L1538.48 1541.77 Q1540.85 1543 1543.14 1543.62 Q1545.43 1544.23 1547.67 1544.23 Q1550.68 1544.23 1552.3 1543.21 Q1553.92 1542.17 1553.92 1540.29 Q1553.92 1538.56 1552.74 1537.63 Q1551.59 1536.7 1547.63 1535.85 L1546.15 1535.5 Q1542.19 1534.67 1540.43 1532.95 Q1538.67 1531.22 1538.67 1528.21 Q1538.67 1524.55 1541.26 1522.56 Q1543.86 1520.57 1548.62 1520.57 Q1550.98 1520.57 1553.07 1520.92 Q1555.15 1521.26 1556.91 1521.96 Z\" fill=\"#000000\" fill-rule=\"evenodd\" fill-opacity=\"1\" /><path clip-path=\"url(#clip700)\" d=\"M1562.03 1521.19 L1566.54 1521.19 L1574.64 1542.95 L1582.74 1521.19 L1587.26 1521.19 L1577.54 1547.12 L1571.75 1547.12 L1562.03 1521.19 Z\" fill=\"#000000\" fill-rule=\"evenodd\" fill-opacity=\"1\" /><path clip-path=\"url(#clip700)\" d=\"M1680.55 1534.18 Q1680.55 1529.48 1678.61 1526.82 Q1676.69 1524.13 1673.31 1524.13 Q1669.93 1524.13 1667.98 1526.82 Q1666.06 1529.48 1666.06 1534.18 Q1666.06 1538.88 1667.98 1541.56 Q1669.93 1544.23 1673.31 1544.23 Q1676.69 1544.23 1678.61 1541.56 Q1680.55 1538.88 1680.55 1534.18 M1666.06 1525.13 Q1667.41 1522.81 1669.44 1521.7 Q1671.5 1520.57 1674.35 1520.57 Q1679.07 1520.57 1682.01 1524.32 Q1684.97 1528.07 1684.97 1534.18 Q1684.97 1540.29 1682.01 1544.04 Q1679.07 1547.79 1674.35 1547.79 Q1671.5 1547.79 1669.44 1546.68 Q1667.41 1545.55 1666.06 1543.23 L1666.06 1547.12 L1661.78 1547.12 L1661.78 1511.1 L1666.06 1511.1 L1666.06 1525.13 Z\" fill=\"#000000\" fill-rule=\"evenodd\" fill-opacity=\"1\" /><path clip-path=\"url(#clip700)\" d=\"M1692.04 1521.19 L1696.29 1521.19 L1696.29 1547.12 L1692.04 1547.12 L1692.04 1521.19 M1692.04 1511.1 L1696.29 1511.1 L1696.29 1516.5 L1692.04 1516.5 L1692.04 1511.1 Z\" fill=\"#000000\" fill-rule=\"evenodd\" fill-opacity=\"1\" /><path clip-path=\"url(#clip700)\" d=\"M1722.27 1533.86 Q1722.27 1529.23 1720.35 1526.68 Q1718.45 1524.13 1715 1524.13 Q1711.57 1524.13 1709.65 1526.68 Q1707.75 1529.23 1707.75 1533.86 Q1707.75 1538.46 1709.65 1541.01 Q1711.57 1543.56 1715 1543.56 Q1718.45 1543.56 1720.35 1541.01 Q1722.27 1538.46 1722.27 1533.86 M1726.53 1543.9 Q1726.53 1550.52 1723.59 1553.74 Q1720.65 1556.98 1714.58 1556.98 Q1712.34 1556.98 1710.35 1556.63 Q1708.35 1556.31 1706.48 1555.62 L1706.48 1551.47 Q1708.35 1552.49 1710.18 1552.98 Q1712.01 1553.46 1713.91 1553.46 Q1718.1 1553.46 1720.18 1551.26 Q1722.27 1549.09 1722.27 1544.67 L1722.27 1542.56 Q1720.95 1544.85 1718.89 1545.99 Q1716.83 1547.12 1713.96 1547.12 Q1709.19 1547.12 1706.27 1543.49 Q1703.35 1539.85 1703.35 1533.86 Q1703.35 1527.84 1706.27 1524.2 Q1709.19 1520.57 1713.96 1520.57 Q1716.83 1520.57 1718.89 1521.7 Q1720.95 1522.84 1722.27 1525.13 L1722.27 1521.19 L1726.53 1521.19 L1726.53 1543.9 Z\" fill=\"#000000\" fill-rule=\"evenodd\" fill-opacity=\"1\" /><path clip-path=\"url(#clip700)\" d=\"M1752.36 1525.13 L1752.36 1511.1 L1756.62 1511.1 L1756.62 1547.12 L1752.36 1547.12 L1752.36 1543.23 Q1751.02 1545.55 1748.96 1546.68 Q1746.92 1547.79 1744.05 1547.79 Q1739.35 1547.79 1736.39 1544.04 Q1733.45 1540.29 1733.45 1534.18 Q1733.45 1528.07 1736.39 1524.32 Q1739.35 1520.57 1744.05 1520.57 Q1746.92 1520.57 1748.96 1521.7 Q1751.02 1522.81 1752.36 1525.13 M1737.85 1534.18 Q1737.85 1538.88 1739.77 1541.56 Q1741.71 1544.23 1745.09 1544.23 Q1748.47 1544.23 1750.41 1541.56 Q1752.36 1538.88 1752.36 1534.18 Q1752.36 1529.48 1750.41 1526.82 Q1748.47 1524.13 1745.09 1524.13 Q1741.71 1524.13 1739.77 1526.82 Q1737.85 1529.48 1737.85 1534.18 Z\" fill=\"#000000\" fill-rule=\"evenodd\" fill-opacity=\"1\" /><path clip-path=\"url(#clip700)\" d=\"M1778.52 1511.1 L1778.52 1514.64 L1774.44 1514.64 Q1772.15 1514.64 1771.25 1515.57 Q1770.37 1516.5 1770.37 1518.9 L1770.37 1521.19 L1777.38 1521.19 L1777.38 1524.5 L1770.37 1524.5 L1770.37 1547.12 L1766.09 1547.12 L1766.09 1524.5 L1762.01 1524.5 L1762.01 1521.19 L1766.09 1521.19 L1766.09 1519.39 Q1766.09 1515.06 1768.1 1513.09 Q1770.11 1511.1 1774.49 1511.1 L1778.52 1511.1 Z\" fill=\"#000000\" fill-rule=\"evenodd\" fill-opacity=\"1\" /><path clip-path=\"url(#clip700)\" d=\"M1786.71 1543.18 L1803.03 1543.18 L1803.03 1547.12 L1781.09 1547.12 L1781.09 1543.18 Q1783.75 1540.43 1788.33 1535.8 Q1792.94 1531.15 1794.12 1529.81 Q1796.36 1527.28 1797.24 1525.55 Q1798.15 1523.79 1798.15 1522.1 Q1798.15 1519.34 1796.2 1517.61 Q1794.28 1515.87 1791.18 1515.87 Q1788.98 1515.87 1786.53 1516.63 Q1784.09 1517.4 1781.32 1518.95 L1781.32 1514.23 Q1784.14 1513.09 1786.59 1512.51 Q1789.05 1511.93 1791.09 1511.93 Q1796.46 1511.93 1799.65 1514.62 Q1802.84 1517.31 1802.84 1521.8 Q1802.84 1523.93 1802.03 1525.85 Q1801.25 1527.74 1799.14 1530.34 Q1798.56 1531.01 1795.46 1534.23 Q1792.36 1537.42 1786.71 1543.18 Z\" fill=\"#000000\" fill-rule=\"evenodd\" fill-opacity=\"1\" /><path clip-path=\"url(#clip700)\" d=\"M1812.84 1541.24 L1817.73 1541.24 L1817.73 1547.12 L1812.84 1547.12 L1812.84 1541.24 Z\" fill=\"#000000\" fill-rule=\"evenodd\" fill-opacity=\"1\" /><path clip-path=\"url(#clip700)\" d=\"M1827.31 1521.19 L1831.57 1521.19 L1831.57 1547.58 Q1831.57 1552.54 1829.67 1554.76 Q1827.8 1556.98 1823.61 1556.98 L1821.99 1556.98 L1821.99 1553.37 L1823.12 1553.37 Q1825.55 1553.37 1826.43 1552.24 Q1827.31 1551.12 1827.31 1547.58 L1827.31 1521.19 M1827.31 1511.1 L1831.57 1511.1 L1831.57 1516.5 L1827.31 1516.5 L1827.31 1511.1 Z\" fill=\"#000000\" fill-rule=\"evenodd\" fill-opacity=\"1\" /><path clip-path=\"url(#clip700)\" d=\"M1857.01 1521.96 L1857.01 1525.99 Q1855.21 1525.06 1853.26 1524.6 Q1851.32 1524.13 1849.23 1524.13 Q1846.06 1524.13 1844.46 1525.11 Q1842.89 1526.08 1842.89 1528.02 Q1842.89 1529.5 1844.03 1530.36 Q1845.16 1531.19 1848.59 1531.96 L1850.04 1532.28 Q1854.58 1533.25 1856.48 1535.04 Q1858.4 1536.8 1858.4 1539.97 Q1858.4 1543.58 1855.53 1545.68 Q1852.68 1547.79 1847.68 1547.79 Q1845.6 1547.79 1843.33 1547.37 Q1841.09 1546.98 1838.59 1546.17 L1838.59 1541.77 Q1840.95 1543 1843.24 1543.62 Q1845.53 1544.23 1847.77 1544.23 Q1850.78 1544.23 1852.4 1543.21 Q1854.02 1542.17 1854.02 1540.29 Q1854.02 1538.56 1852.84 1537.63 Q1851.69 1536.7 1847.73 1535.85 L1846.25 1535.5 Q1842.29 1534.67 1840.53 1532.95 Q1838.77 1531.22 1838.77 1528.21 Q1838.77 1524.55 1841.36 1522.56 Q1843.96 1520.57 1848.72 1520.57 Q1851.09 1520.57 1853.17 1520.92 Q1855.25 1521.26 1857.01 1521.96 Z\" fill=\"#000000\" fill-rule=\"evenodd\" fill-opacity=\"1\" /><path clip-path=\"url(#clip700)\" d=\"M1875.23 1524.18 Q1871.8 1524.18 1869.81 1526.87 Q1867.82 1529.53 1867.82 1534.18 Q1867.82 1538.83 1869.79 1541.52 Q1871.78 1544.18 1875.23 1544.18 Q1878.63 1544.18 1880.62 1541.49 Q1882.61 1538.81 1882.61 1534.18 Q1882.61 1529.57 1880.62 1526.89 Q1878.63 1524.18 1875.23 1524.18 M1875.23 1520.57 Q1880.78 1520.57 1883.96 1524.18 Q1887.13 1527.79 1887.13 1534.18 Q1887.13 1540.55 1883.96 1544.18 Q1880.78 1547.79 1875.23 1547.79 Q1869.65 1547.79 1866.48 1544.18 Q1863.33 1540.55 1863.33 1534.18 Q1863.33 1527.79 1866.48 1524.18 Q1869.65 1520.57 1875.23 1520.57 Z\" fill=\"#000000\" fill-rule=\"evenodd\" fill-opacity=\"1\" /><path clip-path=\"url(#clip700)\" d=\"M1915.74 1531.47 L1915.74 1547.12 L1911.48 1547.12 L1911.48 1531.61 Q1911.48 1527.93 1910.04 1526.1 Q1908.61 1524.27 1905.74 1524.27 Q1902.29 1524.27 1900.3 1526.47 Q1898.31 1528.67 1898.31 1532.47 L1898.31 1547.12 L1894.02 1547.12 L1894.02 1521.19 L1898.31 1521.19 L1898.31 1525.22 Q1899.83 1522.88 1901.9 1521.73 Q1903.98 1520.57 1906.69 1520.57 Q1911.15 1520.57 1913.45 1523.35 Q1915.74 1526.1 1915.74 1531.47 Z\" fill=\"#000000\" fill-rule=\"evenodd\" fill-opacity=\"1\" /><path clip-path=\"url(#clip700)\" d=\"M2001.29 1534.18 Q2001.29 1529.48 1999.35 1526.82 Q1997.42 1524.13 1994.05 1524.13 Q1990.67 1524.13 1988.72 1526.82 Q1986.8 1529.48 1986.8 1534.18 Q1986.8 1538.88 1988.72 1541.56 Q1990.67 1544.23 1994.05 1544.23 Q1997.42 1544.23 1999.35 1541.56 Q2001.29 1538.88 2001.29 1534.18 M1986.8 1525.13 Q1988.14 1522.81 1990.18 1521.7 Q1992.24 1520.57 1995.09 1520.57 Q1999.81 1520.57 2002.75 1524.32 Q2005.71 1528.07 2005.71 1534.18 Q2005.71 1540.29 2002.75 1544.04 Q1999.81 1547.79 1995.09 1547.79 Q1992.24 1547.79 1990.18 1546.68 Q1988.14 1545.55 1986.8 1543.23 L1986.8 1547.12 L1982.52 1547.12 L1982.52 1511.1 L1986.8 1511.1 L1986.8 1525.13 Z\" fill=\"#000000\" fill-rule=\"evenodd\" fill-opacity=\"1\" /><path clip-path=\"url(#clip700)\" d=\"M2012.77 1521.19 L2017.03 1521.19 L2017.03 1547.12 L2012.77 1547.12 L2012.77 1521.19 M2012.77 1511.1 L2017.03 1511.1 L2017.03 1516.5 L2012.77 1516.5 L2012.77 1511.1 Z\" fill=\"#000000\" fill-rule=\"evenodd\" fill-opacity=\"1\" /><path clip-path=\"url(#clip700)\" d=\"M2043 1533.86 Q2043 1529.23 2041.08 1526.68 Q2039.18 1524.13 2035.73 1524.13 Q2032.31 1524.13 2030.39 1526.68 Q2028.49 1529.23 2028.49 1533.86 Q2028.49 1538.46 2030.39 1541.01 Q2032.31 1543.56 2035.73 1543.56 Q2039.18 1543.56 2041.08 1541.01 Q2043 1538.46 2043 1533.86 M2047.26 1543.9 Q2047.26 1550.52 2044.32 1553.74 Q2041.38 1556.98 2035.32 1556.98 Q2033.07 1556.98 2031.08 1556.63 Q2029.09 1556.31 2027.22 1555.62 L2027.22 1551.47 Q2029.09 1552.49 2030.92 1552.98 Q2032.75 1553.46 2034.65 1553.46 Q2038.84 1553.46 2040.92 1551.26 Q2043 1549.09 2043 1544.67 L2043 1542.56 Q2041.68 1544.85 2039.62 1545.99 Q2037.56 1547.12 2034.69 1547.12 Q2029.92 1547.12 2027.01 1543.49 Q2024.09 1539.85 2024.09 1533.86 Q2024.09 1527.84 2027.01 1524.2 Q2029.92 1520.57 2034.69 1520.57 Q2037.56 1520.57 2039.62 1521.7 Q2041.68 1522.84 2043 1525.13 L2043 1521.19 L2047.26 1521.19 L2047.26 1543.9 Z\" fill=\"#000000\" fill-rule=\"evenodd\" fill-opacity=\"1\" /><path clip-path=\"url(#clip700)\" d=\"M2073.1 1525.13 L2073.1 1511.1 L2077.36 1511.1 L2077.36 1547.12 L2073.1 1547.12 L2073.1 1543.23 Q2071.75 1545.55 2069.69 1546.68 Q2067.66 1547.79 2064.79 1547.79 Q2060.09 1547.79 2057.12 1544.04 Q2054.18 1540.29 2054.18 1534.18 Q2054.18 1528.07 2057.12 1524.32 Q2060.09 1520.57 2064.79 1520.57 Q2067.66 1520.57 2069.69 1521.7 Q2071.75 1522.81 2073.1 1525.13 M2058.58 1534.18 Q2058.58 1538.88 2060.5 1541.56 Q2062.45 1544.23 2065.83 1544.23 Q2069.21 1544.23 2071.15 1541.56 Q2073.1 1538.88 2073.1 1534.18 Q2073.1 1529.48 2071.15 1526.82 Q2069.21 1524.13 2065.83 1524.13 Q2062.45 1524.13 2060.5 1526.82 Q2058.58 1529.48 2058.58 1534.18 Z\" fill=\"#000000\" fill-rule=\"evenodd\" fill-opacity=\"1\" /><path clip-path=\"url(#clip700)\" d=\"M2099.25 1511.1 L2099.25 1514.64 L2095.18 1514.64 Q2092.89 1514.64 2091.98 1515.57 Q2091.11 1516.5 2091.11 1518.9 L2091.11 1521.19 L2098.12 1521.19 L2098.12 1524.5 L2091.11 1524.5 L2091.11 1547.12 L2086.82 1547.12 L2086.82 1524.5 L2082.75 1524.5 L2082.75 1521.19 L2086.82 1521.19 L2086.82 1519.39 Q2086.82 1515.06 2088.84 1513.09 Q2090.85 1511.1 2095.23 1511.1 L2099.25 1511.1 Z\" fill=\"#000000\" fill-rule=\"evenodd\" fill-opacity=\"1\" /><path clip-path=\"url(#clip700)\" d=\"M2104.23 1543.18 L2111.87 1543.18 L2111.87 1516.82 L2103.56 1518.49 L2103.56 1514.23 L2111.82 1512.56 L2116.5 1512.56 L2116.5 1543.18 L2124.14 1543.18 L2124.14 1547.12 L2104.23 1547.12 L2104.23 1543.18 Z\" fill=\"#000000\" fill-rule=\"evenodd\" fill-opacity=\"1\" /><path clip-path=\"url(#clip700)\" d=\"M2133.58 1541.24 L2138.47 1541.24 L2138.47 1547.12 L2133.58 1547.12 L2133.58 1541.24 Z\" fill=\"#000000\" fill-rule=\"evenodd\" fill-opacity=\"1\" /><path clip-path=\"url(#clip700)\" d=\"M2148.05 1521.19 L2152.31 1521.19 L2152.31 1547.58 Q2152.31 1552.54 2150.41 1554.76 Q2148.54 1556.98 2144.35 1556.98 L2142.73 1556.98 L2142.73 1553.37 L2143.86 1553.37 Q2146.29 1553.37 2147.17 1552.24 Q2148.05 1551.12 2148.05 1547.58 L2148.05 1521.19 M2148.05 1511.1 L2152.31 1511.1 L2152.31 1516.5 L2148.05 1516.5 L2148.05 1511.1 Z\" fill=\"#000000\" fill-rule=\"evenodd\" fill-opacity=\"1\" /><path clip-path=\"url(#clip700)\" d=\"M2177.75 1521.96 L2177.75 1525.99 Q2175.94 1525.06 2174 1524.6 Q2172.05 1524.13 2169.97 1524.13 Q2166.8 1524.13 2165.2 1525.11 Q2163.63 1526.08 2163.63 1528.02 Q2163.63 1529.5 2164.76 1530.36 Q2165.9 1531.19 2169.32 1531.96 L2170.78 1532.28 Q2175.32 1533.25 2177.22 1535.04 Q2179.14 1536.8 2179.14 1539.97 Q2179.14 1543.58 2176.27 1545.68 Q2173.42 1547.79 2168.42 1547.79 Q2166.34 1547.79 2164.07 1547.37 Q2161.82 1546.98 2159.32 1546.17 L2159.32 1541.77 Q2161.68 1543 2163.97 1543.62 Q2166.27 1544.23 2168.51 1544.23 Q2171.52 1544.23 2173.14 1543.21 Q2174.76 1542.17 2174.76 1540.29 Q2174.76 1538.56 2173.58 1537.63 Q2172.42 1536.7 2168.47 1535.85 L2166.98 1535.5 Q2163.03 1534.67 2161.27 1532.95 Q2159.51 1531.22 2159.51 1528.21 Q2159.51 1524.55 2162.1 1522.56 Q2164.69 1520.57 2169.46 1520.57 Q2171.82 1520.57 2173.91 1520.92 Q2175.99 1521.26 2177.75 1521.96 Z\" fill=\"#000000\" fill-rule=\"evenodd\" fill-opacity=\"1\" /><path clip-path=\"url(#clip700)\" d=\"M2195.97 1524.18 Q2192.54 1524.18 2190.55 1526.87 Q2188.56 1529.53 2188.56 1534.18 Q2188.56 1538.83 2190.53 1541.52 Q2192.52 1544.18 2195.97 1544.18 Q2199.37 1544.18 2201.36 1541.49 Q2203.35 1538.81 2203.35 1534.18 Q2203.35 1529.57 2201.36 1526.89 Q2199.37 1524.18 2195.97 1524.18 M2195.97 1520.57 Q2201.52 1520.57 2204.69 1524.18 Q2207.86 1527.79 2207.86 1534.18 Q2207.86 1540.55 2204.69 1544.18 Q2201.52 1547.79 2195.97 1547.79 Q2190.39 1547.79 2187.22 1544.18 Q2184.07 1540.55 2184.07 1534.18 Q2184.07 1527.79 2187.22 1524.18 Q2190.39 1520.57 2195.97 1520.57 Z\" fill=\"#000000\" fill-rule=\"evenodd\" fill-opacity=\"1\" /><path clip-path=\"url(#clip700)\" d=\"M2236.47 1531.47 L2236.47 1547.12 L2232.22 1547.12 L2232.22 1531.61 Q2232.22 1527.93 2230.78 1526.1 Q2229.35 1524.27 2226.47 1524.27 Q2223.03 1524.27 2221.03 1526.47 Q2219.04 1528.67 2219.04 1532.47 L2219.04 1547.12 L2214.76 1547.12 L2214.76 1521.19 L2219.04 1521.19 L2219.04 1525.22 Q2220.57 1522.88 2222.63 1521.73 Q2224.72 1520.57 2227.42 1520.57 Q2231.89 1520.57 2234.18 1523.35 Q2236.47 1526.1 2236.47 1531.47 Z\" fill=\"#000000\" fill-rule=\"evenodd\" fill-opacity=\"1\" /><polyline clip-path=\"url(#clip702)\" style=\"stroke:#000000; stroke-linecap:butt; stroke-linejoin:round; stroke-width:2; stroke-opacity:0.1; fill:none\" points=\"\n",
       "  262.551,1447.87 2352.76,1447.87 \n",
       "  \"/>\n",
       "<polyline clip-path=\"url(#clip702)\" style=\"stroke:#000000; stroke-linecap:butt; stroke-linejoin:round; stroke-width:2; stroke-opacity:0.1; fill:none\" points=\"\n",
       "  262.551,1176.11 2352.76,1176.11 \n",
       "  \"/>\n",
       "<polyline clip-path=\"url(#clip702)\" style=\"stroke:#000000; stroke-linecap:butt; stroke-linejoin:round; stroke-width:2; stroke-opacity:0.1; fill:none\" points=\"\n",
       "  262.551,904.343 2352.76,904.343 \n",
       "  \"/>\n",
       "<polyline clip-path=\"url(#clip702)\" style=\"stroke:#000000; stroke-linecap:butt; stroke-linejoin:round; stroke-width:2; stroke-opacity:0.1; fill:none\" points=\"\n",
       "  262.551,632.578 2352.76,632.578 \n",
       "  \"/>\n",
       "<polyline clip-path=\"url(#clip702)\" style=\"stroke:#000000; stroke-linecap:butt; stroke-linejoin:round; stroke-width:2; stroke-opacity:0.1; fill:none\" points=\"\n",
       "  262.551,360.814 2352.76,360.814 \n",
       "  \"/>\n",
       "<polyline clip-path=\"url(#clip700)\" style=\"stroke:#000000; stroke-linecap:butt; stroke-linejoin:round; stroke-width:4; stroke-opacity:1; fill:none\" points=\"\n",
       "  262.551,1486.45 262.551,123.472 \n",
       "  \"/>\n",
       "<polyline clip-path=\"url(#clip700)\" style=\"stroke:#000000; stroke-linecap:butt; stroke-linejoin:round; stroke-width:4; stroke-opacity:1; fill:none\" points=\"\n",
       "  262.551,1447.87 287.634,1447.87 \n",
       "  \"/>\n",
       "<polyline clip-path=\"url(#clip700)\" style=\"stroke:#000000; stroke-linecap:butt; stroke-linejoin:round; stroke-width:4; stroke-opacity:1; fill:none\" points=\"\n",
       "  262.551,1176.11 287.634,1176.11 \n",
       "  \"/>\n",
       "<polyline clip-path=\"url(#clip700)\" style=\"stroke:#000000; stroke-linecap:butt; stroke-linejoin:round; stroke-width:4; stroke-opacity:1; fill:none\" points=\"\n",
       "  262.551,904.343 287.634,904.343 \n",
       "  \"/>\n",
       "<polyline clip-path=\"url(#clip700)\" style=\"stroke:#000000; stroke-linecap:butt; stroke-linejoin:round; stroke-width:4; stroke-opacity:1; fill:none\" points=\"\n",
       "  262.551,632.578 287.634,632.578 \n",
       "  \"/>\n",
       "<polyline clip-path=\"url(#clip700)\" style=\"stroke:#000000; stroke-linecap:butt; stroke-linejoin:round; stroke-width:4; stroke-opacity:1; fill:none\" points=\"\n",
       "  262.551,360.814 287.634,360.814 \n",
       "  \"/>\n",
       "<path clip-path=\"url(#clip700)\" d=\"M214.607 1433.67 Q210.996 1433.67 209.167 1437.24 Q207.362 1440.78 207.362 1447.91 Q207.362 1455.01 209.167 1458.58 Q210.996 1462.12 214.607 1462.12 Q218.241 1462.12 220.047 1458.58 Q221.875 1455.01 221.875 1447.91 Q221.875 1440.78 220.047 1437.24 Q218.241 1433.67 214.607 1433.67 M214.607 1429.97 Q220.417 1429.97 223.473 1434.57 Q226.551 1439.16 226.551 1447.91 Q226.551 1456.63 223.473 1461.24 Q220.417 1465.82 214.607 1465.82 Q208.797 1465.82 205.718 1461.24 Q202.662 1456.63 202.662 1447.91 Q202.662 1439.16 205.718 1434.57 Q208.797 1429.97 214.607 1429.97 Z\" fill=\"#000000\" fill-rule=\"evenodd\" fill-opacity=\"1\" /><path clip-path=\"url(#clip700)\" d=\"M148.311 1189.45 L164.63 1189.45 L164.63 1193.39 L142.686 1193.39 L142.686 1189.45 Q145.348 1186.7 149.931 1182.07 Q154.538 1177.42 155.718 1176.07 Q157.964 1173.55 158.843 1171.81 Q159.746 1170.06 159.746 1168.37 Q159.746 1165.61 157.802 1163.87 Q155.88 1162.14 152.778 1162.14 Q150.579 1162.14 148.126 1162.9 Q145.695 1163.67 142.917 1165.22 L142.917 1160.49 Q145.741 1159.36 148.195 1158.78 Q150.649 1158.2 152.686 1158.2 Q158.056 1158.2 161.251 1160.89 Q164.445 1163.57 164.445 1168.06 Q164.445 1170.19 163.635 1172.12 Q162.848 1174.01 160.741 1176.61 Q160.163 1177.28 157.061 1180.49 Q153.959 1183.69 148.311 1189.45 Z\" fill=\"#000000\" fill-rule=\"evenodd\" fill-opacity=\"1\" /><path clip-path=\"url(#clip700)\" d=\"M174.491 1158.83 L192.848 1158.83 L192.848 1162.76 L178.774 1162.76 L178.774 1171.24 Q179.792 1170.89 180.811 1170.73 Q181.829 1170.54 182.848 1170.54 Q188.635 1170.54 192.014 1173.71 Q195.394 1176.88 195.394 1182.3 Q195.394 1187.88 191.922 1190.98 Q188.45 1194.06 182.13 1194.06 Q179.954 1194.06 177.686 1193.69 Q175.44 1193.32 173.033 1192.58 L173.033 1187.88 Q175.116 1189.01 177.339 1189.57 Q179.561 1190.12 182.038 1190.12 Q186.042 1190.12 188.38 1188.02 Q190.718 1185.91 190.718 1182.3 Q190.718 1178.69 188.38 1176.58 Q186.042 1174.48 182.038 1174.48 Q180.163 1174.48 178.288 1174.89 Q176.436 1175.31 174.491 1176.19 L174.491 1158.83 Z\" fill=\"#000000\" fill-rule=\"evenodd\" fill-opacity=\"1\" /><path clip-path=\"url(#clip700)\" d=\"M214.607 1161.91 Q210.996 1161.91 209.167 1165.47 Q207.362 1169.01 207.362 1176.14 Q207.362 1183.25 209.167 1186.81 Q210.996 1190.36 214.607 1190.36 Q218.241 1190.36 220.047 1186.81 Q221.875 1183.25 221.875 1176.14 Q221.875 1169.01 220.047 1165.47 Q218.241 1161.91 214.607 1161.91 M214.607 1158.2 Q220.417 1158.2 223.473 1162.81 Q226.551 1167.39 226.551 1176.14 Q226.551 1184.87 223.473 1189.48 Q220.417 1194.06 214.607 1194.06 Q208.797 1194.06 205.718 1189.48 Q202.662 1184.87 202.662 1176.14 Q202.662 1167.39 205.718 1162.81 Q208.797 1158.2 214.607 1158.2 Z\" fill=\"#000000\" fill-rule=\"evenodd\" fill-opacity=\"1\" /><path clip-path=\"url(#clip700)\" d=\"M144.329 887.063 L162.686 887.063 L162.686 890.999 L148.612 890.999 L148.612 899.471 Q149.63 899.123 150.649 898.961 Q151.667 898.776 152.686 898.776 Q158.473 898.776 161.852 901.948 Q165.232 905.119 165.232 910.535 Q165.232 916.114 161.76 919.216 Q158.288 922.295 151.968 922.295 Q149.792 922.295 147.524 921.924 Q145.279 921.554 142.871 920.813 L142.871 916.114 Q144.954 917.248 147.177 917.804 Q149.399 918.359 151.876 918.359 Q155.88 918.359 158.218 916.253 Q160.556 914.147 160.556 910.535 Q160.556 906.924 158.218 904.818 Q155.88 902.711 151.876 902.711 Q150.001 902.711 148.126 903.128 Q146.274 903.545 144.329 904.424 L144.329 887.063 Z\" fill=\"#000000\" fill-rule=\"evenodd\" fill-opacity=\"1\" /><path clip-path=\"url(#clip700)\" d=\"M184.445 890.142 Q180.834 890.142 179.005 893.707 Q177.2 897.248 177.2 904.378 Q177.2 911.485 179.005 915.049 Q180.834 918.591 184.445 918.591 Q188.079 918.591 189.885 915.049 Q191.713 911.485 191.713 904.378 Q191.713 897.248 189.885 893.707 Q188.079 890.142 184.445 890.142 M184.445 886.438 Q190.255 886.438 193.311 891.045 Q196.389 895.628 196.389 904.378 Q196.389 913.105 193.311 917.711 Q190.255 922.295 184.445 922.295 Q178.635 922.295 175.556 917.711 Q172.501 913.105 172.501 904.378 Q172.501 895.628 175.556 891.045 Q178.635 886.438 184.445 886.438 Z\" fill=\"#000000\" fill-rule=\"evenodd\" fill-opacity=\"1\" /><path clip-path=\"url(#clip700)\" d=\"M214.607 890.142 Q210.996 890.142 209.167 893.707 Q207.362 897.248 207.362 904.378 Q207.362 911.485 209.167 915.049 Q210.996 918.591 214.607 918.591 Q218.241 918.591 220.047 915.049 Q221.875 911.485 221.875 904.378 Q221.875 897.248 220.047 893.707 Q218.241 890.142 214.607 890.142 M214.607 886.438 Q220.417 886.438 223.473 891.045 Q226.551 895.628 226.551 904.378 Q226.551 913.105 223.473 917.711 Q220.417 922.295 214.607 922.295 Q208.797 922.295 205.718 917.711 Q202.662 913.105 202.662 904.378 Q202.662 895.628 205.718 891.045 Q208.797 886.438 214.607 886.438 Z\" fill=\"#000000\" fill-rule=\"evenodd\" fill-opacity=\"1\" /><path clip-path=\"url(#clip700)\" d=\"M143.103 615.298 L165.325 615.298 L165.325 617.289 L152.778 649.858 L147.894 649.858 L159.7 619.234 L143.103 619.234 L143.103 615.298 Z\" fill=\"#000000\" fill-rule=\"evenodd\" fill-opacity=\"1\" /><path clip-path=\"url(#clip700)\" d=\"M174.491 615.298 L192.848 615.298 L192.848 619.234 L178.774 619.234 L178.774 627.706 Q179.792 627.359 180.811 627.197 Q181.829 627.011 182.848 627.011 Q188.635 627.011 192.014 630.183 Q195.394 633.354 195.394 638.771 Q195.394 644.349 191.922 647.451 Q188.45 650.53 182.13 650.53 Q179.954 650.53 177.686 650.159 Q175.44 649.789 173.033 649.048 L173.033 644.349 Q175.116 645.483 177.339 646.039 Q179.561 646.595 182.038 646.595 Q186.042 646.595 188.38 644.488 Q190.718 642.382 190.718 638.771 Q190.718 635.159 188.38 633.053 Q186.042 630.947 182.038 630.947 Q180.163 630.947 178.288 631.363 Q176.436 631.78 174.491 632.659 L174.491 615.298 Z\" fill=\"#000000\" fill-rule=\"evenodd\" fill-opacity=\"1\" /><path clip-path=\"url(#clip700)\" d=\"M214.607 618.377 Q210.996 618.377 209.167 621.942 Q207.362 625.484 207.362 632.613 Q207.362 639.72 209.167 643.284 Q210.996 646.826 214.607 646.826 Q218.241 646.826 220.047 643.284 Q221.875 639.72 221.875 632.613 Q221.875 625.484 220.047 621.942 Q218.241 618.377 214.607 618.377 M214.607 614.673 Q220.417 614.673 223.473 619.28 Q226.551 623.863 226.551 632.613 Q226.551 641.34 223.473 645.946 Q220.417 650.53 214.607 650.53 Q208.797 650.53 205.718 645.946 Q202.662 641.34 202.662 632.613 Q202.662 623.863 205.718 619.28 Q208.797 614.673 214.607 614.673 Z\" fill=\"#000000\" fill-rule=\"evenodd\" fill-opacity=\"1\" /><path clip-path=\"url(#clip700)\" d=\"M114.931 374.158 L122.57 374.158 L122.57 347.793 L114.26 349.459 L114.26 345.2 L122.524 343.534 L127.2 343.534 L127.2 374.158 L134.839 374.158 L134.839 378.094 L114.931 378.094 L114.931 374.158 Z\" fill=\"#000000\" fill-rule=\"evenodd\" fill-opacity=\"1\" /><path clip-path=\"url(#clip700)\" d=\"M154.283 346.612 Q150.672 346.612 148.843 350.177 Q147.038 353.719 147.038 360.848 Q147.038 367.955 148.843 371.52 Q150.672 375.061 154.283 375.061 Q157.917 375.061 159.723 371.52 Q161.552 367.955 161.552 360.848 Q161.552 353.719 159.723 350.177 Q157.917 346.612 154.283 346.612 M154.283 342.909 Q160.093 342.909 163.149 347.515 Q166.227 352.098 166.227 360.848 Q166.227 369.575 163.149 374.182 Q160.093 378.765 154.283 378.765 Q148.473 378.765 145.394 374.182 Q142.339 369.575 142.339 360.848 Q142.339 352.098 145.394 347.515 Q148.473 342.909 154.283 342.909 Z\" fill=\"#000000\" fill-rule=\"evenodd\" fill-opacity=\"1\" /><path clip-path=\"url(#clip700)\" d=\"M184.445 346.612 Q180.834 346.612 179.005 350.177 Q177.2 353.719 177.2 360.848 Q177.2 367.955 179.005 371.52 Q180.834 375.061 184.445 375.061 Q188.079 375.061 189.885 371.52 Q191.713 367.955 191.713 360.848 Q191.713 353.719 189.885 350.177 Q188.079 346.612 184.445 346.612 M184.445 342.909 Q190.255 342.909 193.311 347.515 Q196.389 352.098 196.389 360.848 Q196.389 369.575 193.311 374.182 Q190.255 378.765 184.445 378.765 Q178.635 378.765 175.556 374.182 Q172.501 369.575 172.501 360.848 Q172.501 352.098 175.556 347.515 Q178.635 342.909 184.445 342.909 Z\" fill=\"#000000\" fill-rule=\"evenodd\" fill-opacity=\"1\" /><path clip-path=\"url(#clip700)\" d=\"M214.607 346.612 Q210.996 346.612 209.167 350.177 Q207.362 353.719 207.362 360.848 Q207.362 367.955 209.167 371.52 Q210.996 375.061 214.607 375.061 Q218.241 375.061 220.047 371.52 Q221.875 367.955 221.875 360.848 Q221.875 353.719 220.047 350.177 Q218.241 346.612 214.607 346.612 M214.607 342.909 Q220.417 342.909 223.473 347.515 Q226.551 352.098 226.551 360.848 Q226.551 369.575 223.473 374.182 Q220.417 378.765 214.607 378.765 Q208.797 378.765 205.718 374.182 Q202.662 369.575 202.662 360.848 Q202.662 352.098 205.718 347.515 Q208.797 342.909 214.607 342.909 Z\" fill=\"#000000\" fill-rule=\"evenodd\" fill-opacity=\"1\" /><path clip-path=\"url(#clip700)\" d=\"M16.4842 849.934 L16.4842 840.353 L48.8219 828.227 L16.4842 816.036 L16.4842 806.456 L64.0042 806.456 L64.0042 812.726 L22.277 812.726 L54.8694 824.98 L54.8694 831.441 L22.277 843.695 L64.0042 843.695 L64.0042 849.934 L16.4842 849.934 Z\" fill=\"#000000\" fill-rule=\"evenodd\" fill-opacity=\"1\" /><path clip-path=\"url(#clip700)\" d=\"M41.3104 787.263 L58.7206 787.263 L58.7206 776.951 Q58.7206 771.763 56.5881 769.28 Q54.4238 766.766 49.9996 766.766 Q45.5436 766.766 43.4429 769.28 Q41.3104 771.763 41.3104 776.951 L41.3104 787.263 M21.7677 787.263 L36.0905 787.263 L36.0905 777.747 Q36.0905 773.036 34.34 770.744 Q32.5576 768.421 28.9291 768.421 Q25.3325 768.421 23.5501 770.744 Q21.7677 773.036 21.7677 777.747 L21.7677 787.263 M16.4842 793.693 L16.4842 777.269 Q16.4842 769.917 19.5397 765.938 Q22.5952 761.96 28.2289 761.96 Q32.5894 761.96 35.1675 763.997 Q37.7456 766.034 38.3822 769.98 Q39.4007 765.238 42.6472 762.628 Q45.8619 759.986 50.6998 759.986 Q57.0655 759.986 60.5348 764.315 Q64.0042 768.644 64.0042 776.633 L64.0042 793.693 L16.4842 793.693 Z\" fill=\"#000000\" fill-rule=\"evenodd\" fill-opacity=\"1\" /><path clip-path=\"url(#clip700)\" d=\"M878.379 12.096 L913.136 12.096 L913.136 18.9825 L886.562 18.9825 L886.562 36.8065 L910.543 36.8065 L910.543 43.6931 L886.562 43.6931 L886.562 72.576 L878.379 72.576 L878.379 12.096 Z\" fill=\"#000000\" fill-rule=\"evenodd\" fill-opacity=\"1\" /><path clip-path=\"url(#clip700)\" d=\"M940.399 32.4315 Q934.403 32.4315 930.919 37.1306 Q927.436 41.7891 927.436 49.9314 Q927.436 58.0738 930.879 62.7728 Q934.363 67.4314 940.399 67.4314 Q946.353 67.4314 949.837 62.7323 Q953.321 58.0333 953.321 49.9314 Q953.321 41.8701 949.837 37.1711 Q946.353 32.4315 940.399 32.4315 M940.399 26.1121 Q950.121 26.1121 955.67 32.4315 Q961.22 38.7509 961.22 49.9314 Q961.22 61.0714 955.67 67.4314 Q950.121 73.7508 940.399 73.7508 Q930.636 73.7508 925.086 67.4314 Q919.577 61.0714 919.577 49.9314 Q919.577 38.7509 925.086 32.4315 Q930.636 26.1121 940.399 26.1121 Z\" fill=\"#000000\" fill-rule=\"evenodd\" fill-opacity=\"1\" /><path clip-path=\"url(#clip700)\" d=\"M999.866 34.1734 Q998.61 33.4443 997.111 33.1202 Q995.653 32.7556 993.871 32.7556 Q987.551 32.7556 984.148 36.8875 Q980.786 40.9789 980.786 48.6757 L980.786 72.576 L973.292 72.576 L973.292 27.2059 L980.786 27.2059 L980.786 34.2544 Q983.136 30.1225 986.903 28.1376 Q990.67 26.1121 996.058 26.1121 Q996.828 26.1121 997.759 26.2337 Q998.691 26.3147 999.825 26.5172 L999.866 34.1734 Z\" fill=\"#000000\" fill-rule=\"evenodd\" fill-opacity=\"1\" /><path clip-path=\"url(#clip700)\" d=\"M1041.55 35.9153 Q1044.34 30.8922 1048.23 28.5022 Q1052.12 26.1121 1057.39 26.1121 Q1064.48 26.1121 1068.33 31.0947 Q1072.17 36.0368 1072.17 45.1919 L1072.17 72.576 L1064.68 72.576 L1064.68 45.4349 Q1064.68 38.913 1062.37 35.7533 Q1060.06 32.5936 1055.32 32.5936 Q1049.53 32.5936 1046.17 36.4419 Q1042.81 40.2903 1042.81 46.9338 L1042.81 72.576 L1035.31 72.576 L1035.31 45.4349 Q1035.31 38.8725 1033 35.7533 Q1030.69 32.5936 1025.87 32.5936 Q1020.16 32.5936 1016.8 36.4824 Q1013.44 40.3308 1013.44 46.9338 L1013.44 72.576 L1005.94 72.576 L1005.94 27.2059 L1013.44 27.2059 L1013.44 34.2544 Q1015.99 30.082 1019.55 28.0971 Q1023.12 26.1121 1028.02 26.1121 Q1032.96 26.1121 1036.41 28.6237 Q1039.89 31.1352 1041.55 35.9153 Z\" fill=\"#000000\" fill-rule=\"evenodd\" fill-opacity=\"1\" /><path clip-path=\"url(#clip700)\" d=\"M1107.66 49.7694 Q1098.63 49.7694 1095.14 51.8354 Q1091.66 53.9013 1091.66 58.8839 Q1091.66 62.8538 1094.25 65.2034 Q1096.89 67.5124 1101.38 67.5124 Q1107.58 67.5124 1111.31 63.1374 Q1115.07 58.7219 1115.07 51.4303 L1115.07 49.7694 L1107.66 49.7694 M1122.53 46.6907 L1122.53 72.576 L1115.07 72.576 L1115.07 65.6895 Q1112.52 69.8214 1108.71 71.8063 Q1104.91 73.7508 1099.4 73.7508 Q1092.43 73.7508 1088.3 69.8619 Q1084.21 65.9325 1084.21 59.3701 Q1084.21 51.7138 1089.31 47.825 Q1094.45 43.9361 1104.62 43.9361 L1115.07 43.9361 L1115.07 43.2069 Q1115.07 38.0623 1111.67 35.2672 Q1108.31 32.4315 1102.19 32.4315 Q1098.3 32.4315 1094.62 33.3632 Q1090.93 34.295 1087.53 36.1584 L1087.53 29.2718 Q1091.62 27.692 1095.47 26.9223 Q1099.32 26.1121 1102.96 26.1121 Q1112.81 26.1121 1117.67 31.2163 Q1122.53 36.3204 1122.53 46.6907 Z\" fill=\"#000000\" fill-rule=\"evenodd\" fill-opacity=\"1\" /><path clip-path=\"url(#clip700)\" d=\"M1145.25 14.324 L1145.25 27.2059 L1160.61 27.2059 L1160.61 32.9987 L1145.25 32.9987 L1145.25 57.6282 Q1145.25 63.1779 1146.75 64.7578 Q1148.29 66.3376 1152.95 66.3376 L1160.61 66.3376 L1160.61 72.576 L1152.95 72.576 Q1144.32 72.576 1141.04 69.3758 Q1137.76 66.1351 1137.76 57.6282 L1137.76 32.9987 L1132.29 32.9987 L1132.29 27.2059 L1137.76 27.2059 L1137.76 14.324 L1145.25 14.324 Z\" fill=\"#000000\" fill-rule=\"evenodd\" fill-opacity=\"1\" /><path clip-path=\"url(#clip700)\" d=\"M1197.1 12.096 L1231.86 12.096 L1231.86 18.9825 L1205.29 18.9825 L1205.29 36.8065 L1229.27 36.8065 L1229.27 43.6931 L1205.29 43.6931 L1205.29 72.576 L1197.1 72.576 L1197.1 12.096 Z\" fill=\"#000000\" fill-rule=\"evenodd\" fill-opacity=\"1\" /><path clip-path=\"url(#clip700)\" d=\"M1238.46 27.2059 L1245.92 27.2059 L1245.92 72.576 L1238.46 72.576 L1238.46 27.2059 M1238.46 9.54393 L1245.92 9.54393 L1245.92 18.9825 L1238.46 18.9825 L1238.46 9.54393 Z\" fill=\"#000000\" fill-rule=\"evenodd\" fill-opacity=\"1\" /><path clip-path=\"url(#clip700)\" d=\"M1261.51 9.54393 L1268.97 9.54393 L1268.97 72.576 L1261.51 72.576 L1261.51 9.54393 Z\" fill=\"#000000\" fill-rule=\"evenodd\" fill-opacity=\"1\" /><path clip-path=\"url(#clip700)\" d=\"M1323.37 48.0275 L1323.37 51.6733 L1289.1 51.6733 Q1289.59 59.3701 1293.72 63.421 Q1297.89 67.4314 1305.3 67.4314 Q1309.6 67.4314 1313.61 66.3781 Q1317.66 65.3249 1321.63 63.2184 L1321.63 70.267 Q1317.62 71.9684 1313.41 72.8596 Q1309.19 73.7508 1304.86 73.7508 Q1294 73.7508 1287.64 67.4314 Q1281.32 61.1119 1281.32 50.3365 Q1281.32 39.1965 1287.32 32.6746 Q1293.35 26.1121 1303.56 26.1121 Q1312.72 26.1121 1318.02 32.0264 Q1323.37 37.9003 1323.37 48.0275 M1315.92 45.84 Q1315.84 39.7232 1312.47 36.0774 Q1309.15 32.4315 1303.64 32.4315 Q1297.4 32.4315 1293.64 35.9558 Q1289.91 39.4801 1289.34 45.8805 L1315.92 45.84 Z\" fill=\"#000000\" fill-rule=\"evenodd\" fill-opacity=\"1\" /><path clip-path=\"url(#clip700)\" d=\"M1398.56 14.0809 L1398.56 22.0612 Q1393.9 19.8332 1389.77 18.7395 Q1385.63 17.6457 1381.79 17.6457 Q1375.1 17.6457 1371.46 20.2383 Q1367.85 22.8309 1367.85 27.611 Q1367.85 31.6214 1370.24 33.6873 Q1372.67 35.7128 1379.4 36.9686 L1384.34 37.9813 Q1393.49 39.7232 1397.83 44.1387 Q1402.2 48.5136 1402.2 55.8863 Q1402.2 64.6767 1396.29 69.2137 Q1390.41 73.7508 1379.03 73.7508 Q1374.74 73.7508 1369.88 72.7785 Q1365.05 71.8063 1359.87 69.9024 L1359.87 61.4765 Q1364.85 64.2716 1369.63 65.6895 Q1374.41 67.1073 1379.03 67.1073 Q1386.04 67.1073 1389.85 64.3527 Q1393.65 61.598 1393.65 56.4939 Q1393.65 52.0379 1390.9 49.5264 Q1388.19 47.0148 1381.95 45.759 L1376.96 44.7868 Q1367.81 42.9639 1363.72 39.075 Q1359.63 35.1862 1359.63 28.2591 Q1359.63 20.2383 1365.26 15.6203 Q1370.93 11.0023 1380.85 11.0023 Q1385.11 11.0023 1389.52 11.7719 Q1393.94 12.5416 1398.56 14.0809 Z\" fill=\"#000000\" fill-rule=\"evenodd\" fill-opacity=\"1\" /><path clip-path=\"url(#clip700)\" d=\"M1414.64 27.2059 L1422.09 27.2059 L1422.09 72.576 L1414.64 72.576 L1414.64 27.2059 M1414.64 9.54393 L1422.09 9.54393 L1422.09 18.9825 L1414.64 18.9825 L1414.64 9.54393 Z\" fill=\"#000000\" fill-rule=\"evenodd\" fill-opacity=\"1\" /><path clip-path=\"url(#clip700)\" d=\"M1434.45 27.2059 L1469.85 27.2059 L1469.85 34.0114 L1441.82 66.6212 L1469.85 66.6212 L1469.85 72.576 L1433.43 72.576 L1433.43 65.7705 L1461.47 33.1607 L1434.45 33.1607 L1434.45 27.2059 Z\" fill=\"#000000\" fill-rule=\"evenodd\" fill-opacity=\"1\" /><path clip-path=\"url(#clip700)\" d=\"M1520.04 48.0275 L1520.04 51.6733 L1485.77 51.6733 Q1486.26 59.3701 1490.39 63.421 Q1494.56 67.4314 1501.98 67.4314 Q1506.27 67.4314 1510.28 66.3781 Q1514.33 65.3249 1518.3 63.2184 L1518.3 70.267 Q1514.29 71.9684 1510.08 72.8596 Q1505.86 73.7508 1501.53 73.7508 Q1490.67 73.7508 1484.31 67.4314 Q1477.99 61.1119 1477.99 50.3365 Q1477.99 39.1965 1483.99 32.6746 Q1490.03 26.1121 1500.23 26.1121 Q1509.39 26.1121 1514.7 32.0264 Q1520.04 37.9003 1520.04 48.0275 M1512.59 45.84 Q1512.51 39.7232 1509.15 36.0774 Q1505.82 32.4315 1500.31 32.4315 Q1494.08 32.4315 1490.31 35.9558 Q1486.58 39.4801 1486.01 45.8805 L1512.59 45.84 Z\" fill=\"#000000\" fill-rule=\"evenodd\" fill-opacity=\"1\" /><path clip-path=\"url(#clip700)\" d=\"M1576.55 9.62495 Q1571.12 18.942 1568.49 28.0566 Q1565.86 37.1711 1565.86 46.5287 Q1565.86 55.8863 1568.49 65.0818 Q1571.16 74.2369 1576.55 83.5134 L1570.07 83.5134 Q1563.99 73.9938 1560.96 64.7983 Q1557.96 55.6027 1557.96 46.5287 Q1557.96 37.4952 1560.96 28.3401 Q1563.95 19.1851 1570.07 9.62495 L1576.55 9.62495 Z\" fill=\"#000000\" fill-rule=\"evenodd\" fill-opacity=\"1\" /><path clip-path=\"url(#clip700)\" d=\"M1591.34 12.096 L1603.53 12.096 L1618.97 53.2532 L1634.48 12.096 L1646.67 12.096 L1646.67 72.576 L1638.69 72.576 L1638.69 19.4686 L1623.1 60.9499 L1614.87 60.9499 L1599.28 19.4686 L1599.28 72.576 L1591.34 72.576 L1591.34 12.096 Z\" fill=\"#000000\" fill-rule=\"evenodd\" fill-opacity=\"1\" /><path clip-path=\"url(#clip700)\" d=\"M1671.1 43.6931 L1671.1 65.8515 L1684.23 65.8515 Q1690.83 65.8515 1693.99 63.1374 Q1697.19 60.3828 1697.19 54.752 Q1697.19 49.0808 1693.99 46.4072 Q1690.83 43.6931 1684.23 43.6931 L1671.1 43.6931 M1671.1 18.8205 L1671.1 37.0496 L1683.21 37.0496 Q1689.21 37.0496 1692.12 34.8216 Q1695.08 32.5531 1695.08 27.935 Q1695.08 23.3575 1692.12 21.089 Q1689.21 18.8205 1683.21 18.8205 L1671.1 18.8205 M1662.92 12.096 L1683.82 12.096 Q1693.18 12.096 1698.24 15.9849 Q1703.31 19.8737 1703.31 27.0438 Q1703.31 32.5936 1700.71 35.8748 Q1698.12 39.156 1693.1 39.9662 Q1699.13 41.2625 1702.45 45.3944 Q1705.82 49.4858 1705.82 55.6432 Q1705.82 63.745 1700.31 68.1605 Q1694.8 72.576 1684.63 72.576 L1662.92 72.576 L1662.92 12.096 Z\" fill=\"#000000\" fill-rule=\"evenodd\" fill-opacity=\"1\" /><path clip-path=\"url(#clip700)\" d=\"M1718.33 9.62495 L1724.82 9.62495 Q1730.89 19.1851 1733.89 28.3401 Q1736.93 37.4952 1736.93 46.5287 Q1736.93 55.6027 1733.89 64.7983 Q1730.89 73.9938 1724.82 83.5134 L1718.33 83.5134 Q1723.72 74.2369 1726.36 65.0818 Q1729.03 55.8863 1729.03 46.5287 Q1729.03 37.1711 1726.36 28.0566 Q1723.72 18.942 1718.33 9.62495 Z\" fill=\"#000000\" fill-rule=\"evenodd\" fill-opacity=\"1\" /><path clip-path=\"url(#clip702)\" d=\"\n",
       "M377.516 1431.13 L377.516 1447.87 L634.106 1447.87 L634.106 1431.13 L377.516 1431.13 L377.516 1431.13  Z\n",
       "  \" fill=\"#009af9\" fill-rule=\"evenodd\" fill-opacity=\"1\"/>\n",
       "<polyline clip-path=\"url(#clip702)\" style=\"stroke:#000000; stroke-linecap:butt; stroke-linejoin:round; stroke-width:4; stroke-opacity:1; fill:none\" points=\"\n",
       "  377.516,1431.13 377.516,1447.87 634.106,1447.87 634.106,1431.13 377.516,1431.13 \n",
       "  \"/>\n",
       "<path clip-path=\"url(#clip702)\" d=\"\n",
       "M698.253 1394.2 L698.253 1447.87 L954.843 1447.87 L954.843 1394.2 L698.253 1394.2 L698.253 1394.2  Z\n",
       "  \" fill=\"#009af9\" fill-rule=\"evenodd\" fill-opacity=\"1\"/>\n",
       "<polyline clip-path=\"url(#clip702)\" style=\"stroke:#000000; stroke-linecap:butt; stroke-linejoin:round; stroke-width:4; stroke-opacity:1; fill:none\" points=\"\n",
       "  698.253,1394.2 698.253,1447.87 954.843,1447.87 954.843,1394.2 698.253,1394.2 \n",
       "  \"/>\n",
       "<path clip-path=\"url(#clip702)\" d=\"\n",
       "M1018.99 1343.41 L1018.99 1447.87 L1275.58 1447.87 L1275.58 1343.41 L1018.99 1343.41 L1018.99 1343.41  Z\n",
       "  \" fill=\"#009af9\" fill-rule=\"evenodd\" fill-opacity=\"1\"/>\n",
       "<polyline clip-path=\"url(#clip702)\" style=\"stroke:#000000; stroke-linecap:butt; stroke-linejoin:round; stroke-width:4; stroke-opacity:1; fill:none\" points=\"\n",
       "  1018.99,1343.41 1018.99,1447.87 1275.58,1447.87 1275.58,1343.41 1018.99,1343.41 \n",
       "  \"/>\n",
       "<path clip-path=\"url(#clip702)\" d=\"\n",
       "M1339.73 876.847 L1339.73 1447.87 L1596.32 1447.87 L1596.32 876.847 L1339.73 876.847 L1339.73 876.847  Z\n",
       "  \" fill=\"#009af9\" fill-rule=\"evenodd\" fill-opacity=\"1\"/>\n",
       "<polyline clip-path=\"url(#clip702)\" style=\"stroke:#000000; stroke-linecap:butt; stroke-linejoin:round; stroke-width:4; stroke-opacity:1; fill:none\" points=\"\n",
       "  1339.73,876.847 1339.73,1447.87 1596.32,1447.87 1596.32,876.847 1339.73,876.847 \n",
       "  \"/>\n",
       "<path clip-path=\"url(#clip702)\" d=\"\n",
       "M1660.46 876.843 L1660.46 1447.87 L1917.05 1447.87 L1917.05 876.843 L1660.46 876.843 L1660.46 876.843  Z\n",
       "  \" fill=\"#009af9\" fill-rule=\"evenodd\" fill-opacity=\"1\"/>\n",
       "<polyline clip-path=\"url(#clip702)\" style=\"stroke:#000000; stroke-linecap:butt; stroke-linejoin:round; stroke-width:4; stroke-opacity:1; fill:none\" points=\"\n",
       "  1660.46,876.843 1660.46,1447.87 1917.05,1447.87 1917.05,876.843 1660.46,876.843 \n",
       "  \"/>\n",
       "<path clip-path=\"url(#clip702)\" d=\"\n",
       "M1981.2 162.047 L1981.2 1447.87 L2237.79 1447.87 L2237.79 162.047 L1981.2 162.047 L1981.2 162.047  Z\n",
       "  \" fill=\"#009af9\" fill-rule=\"evenodd\" fill-opacity=\"1\"/>\n",
       "<polyline clip-path=\"url(#clip702)\" style=\"stroke:#000000; stroke-linecap:butt; stroke-linejoin:round; stroke-width:4; stroke-opacity:1; fill:none\" points=\"\n",
       "  1981.2,162.047 1981.2,1447.87 2237.79,1447.87 2237.79,162.047 1981.2,162.047 \n",
       "  \"/>\n",
       "<path clip-path=\"url(#clip700)\" d=\"\n",
       "M1959.17 272.585 L2283.08 272.585 L2283.08 168.905 L1959.17 168.905  Z\n",
       "  \" fill=\"#ffffff\" fill-rule=\"evenodd\" fill-opacity=\"1\"/>\n",
       "<polyline clip-path=\"url(#clip700)\" style=\"stroke:#000000; stroke-linecap:butt; stroke-linejoin:round; stroke-width:4; stroke-opacity:1; fill:none\" points=\"\n",
       "  1959.17,272.585 2283.08,272.585 2283.08,168.905 1959.17,168.905 1959.17,272.585 \n",
       "  \"/>\n",
       "<path clip-path=\"url(#clip700)\" d=\"\n",
       "M1982.4 241.481 L2121.74 241.481 L2121.74 200.009 L1982.4 200.009 L1982.4 241.481  Z\n",
       "  \" fill=\"#009af9\" fill-rule=\"evenodd\" fill-opacity=\"1\"/>\n",
       "<polyline clip-path=\"url(#clip700)\" style=\"stroke:#000000; stroke-linecap:butt; stroke-linejoin:round; stroke-width:4; stroke-opacity:1; fill:none\" points=\"\n",
       "  1982.4,241.481 2121.74,241.481 2121.74,200.009 1982.4,200.009 1982.4,241.481 \n",
       "  \"/>\n",
       "<path clip-path=\"url(#clip700)\" d=\"M2167.21 204.599 L2167.21 209.159 Q2164.55 207.886 2162.19 207.261 Q2159.83 206.636 2157.63 206.636 Q2153.81 206.636 2151.73 208.117 Q2149.67 209.599 2149.67 212.33 Q2149.67 214.622 2151.03 215.803 Q2152.42 216.96 2156.26 217.678 L2159.09 218.256 Q2164.32 219.252 2166.8 221.775 Q2169.3 224.275 2169.3 228.488 Q2169.3 233.511 2165.92 236.103 Q2162.56 238.696 2156.06 238.696 Q2153.6 238.696 2150.82 238.14 Q2148.07 237.585 2145.11 236.497 L2145.11 231.682 Q2147.95 233.279 2150.68 234.089 Q2153.42 234.9 2156.06 234.9 Q2160.06 234.9 2162.24 233.326 Q2164.41 231.752 2164.41 228.835 Q2164.41 226.289 2162.84 224.853 Q2161.29 223.418 2157.72 222.701 L2154.87 222.145 Q2149.64 221.103 2147.31 218.881 Q2144.97 216.659 2144.97 212.701 Q2144.97 208.117 2148.18 205.479 Q2151.43 202.84 2157.1 202.84 Q2159.53 202.84 2162.05 203.279 Q2164.57 203.719 2167.21 204.599 Z\" fill=\"#000000\" fill-rule=\"evenodd\" fill-opacity=\"1\" /><path clip-path=\"url(#clip700)\" d=\"M2176.4 212.099 L2180.66 212.099 L2180.66 238.025 L2176.4 238.025 L2176.4 212.099 M2176.4 202.006 L2180.66 202.006 L2180.66 207.4 L2176.4 207.4 L2176.4 202.006 Z\" fill=\"#000000\" fill-rule=\"evenodd\" fill-opacity=\"1\" /><path clip-path=\"url(#clip700)\" d=\"M2187.72 212.099 L2207.95 212.099 L2207.95 215.988 L2191.93 234.622 L2207.95 234.622 L2207.95 238.025 L2187.14 238.025 L2187.14 234.136 L2203.16 215.502 L2187.72 215.502 L2187.72 212.099 Z\" fill=\"#000000\" fill-rule=\"evenodd\" fill-opacity=\"1\" /><path clip-path=\"url(#clip700)\" d=\"M2236.63 223.997 L2236.63 226.08 L2217.05 226.08 Q2217.33 230.478 2219.69 232.793 Q2222.07 235.085 2226.31 235.085 Q2228.76 235.085 2231.05 234.483 Q2233.37 233.881 2235.64 232.677 L2235.64 236.705 Q2233.35 237.677 2230.94 238.187 Q2228.53 238.696 2226.05 238.696 Q2219.85 238.696 2216.22 235.085 Q2212.61 231.474 2212.61 225.316 Q2212.61 218.951 2216.03 215.224 Q2219.48 211.474 2225.31 211.474 Q2230.55 211.474 2233.58 214.853 Q2236.63 218.21 2236.63 223.997 M2232.37 222.747 Q2232.33 219.252 2230.41 217.168 Q2228.51 215.085 2225.36 215.085 Q2221.8 215.085 2219.64 217.099 Q2217.51 219.113 2217.19 222.77 L2232.37 222.747 Z\" fill=\"#000000\" fill-rule=\"evenodd\" fill-opacity=\"1\" /></svg>\n"
      ]
     },
     "execution_count": 49,
     "metadata": {},
     "output_type": "execute_result"
    }
   ],
   "source": [
    "@df df plot(:file, :size/1024^2, seriestype=:bar, title = \"Format File Size (MB)\", label=\"Size\", ylab=\"MB\")"
   ]
  },
  {
   "cell_type": "code",
   "execution_count": 50,
   "metadata": {},
   "outputs": [
    {
     "name": "stdout",
     "output_type": "stream",
     "text": [
      "First run\n",
      "CSV.jl\n",
      " 10.398762 seconds (1.04 M allocations: 375.819 MiB, 6.45% compilation time)\n",
      "Serialization\n",
      "  8.351391 seconds (99.32 M allocations: 1.576 GiB, 4.10% gc time, 0.29% compilation time)\n",
      "JDF.jl\n",
      "  3.043685 seconds (319.81 k allocations: 375.495 MiB, 6.16% gc time, 37.08% compilation time)\n",
      "JLSO.jl\n",
      "  4.636876 seconds (99.42 M allocations: 1.594 GiB, 7.47% gc time, 0.50% compilation time)\n",
      "Arrow.jl\n",
      "  0.400513 seconds (460.82 k allocations: 26.664 MiB, 36.75% compilation time)\n",
      "  1.066083 seconds (103.50 k allocations: 101.364 MiB)\n",
      "JSONTables.jl arraytable\n",
      "153.487451 seconds (2.40 M allocations: 12.964 GiB, 2.55% gc time, 0.00% compilation time)\n",
      "JSONTables.jl objecttable\n",
      " 12.353227 seconds (55.03 k allocations: 2.797 GiB, 17.09% gc time, 1.45% compilation time)\n",
      "Second run\n",
      "  8.284667 seconds (13.69 k allocations: 309.052 MiB)\n",
      "Serialization\n",
      "  8.503313 seconds (99.30 M allocations: 1.575 GiB, 3.96% gc time)\n",
      "JDF.jl\n",
      "  1.699008 seconds (77.22 k allocations: 363.054 MiB)\n",
      "JLSO.jl\n",
      "  5.102368 seconds (99.41 M allocations: 1.594 GiB, 17.04% gc time)\n",
      "Arrow.jl\n",
      "  0.008943 seconds (68.53 k allocations: 3.604 MiB)\n",
      "  1.037808 seconds (103.50 k allocations: 101.364 MiB)\n",
      "JSONTables.jl arraytable\n",
      "127.893559 seconds (2.40 M allocations: 12.964 GiB, 1.92% gc time)\n",
      "JSONTables.jl objecttable\n",
      " 10.086584 seconds (9.07 k allocations: 2.795 GiB, 20.79% gc time)\n"
     ]
    }
   ],
   "source": [
    "println(\"First run\")\n",
    "println(\"CSV.jl\")\n",
    "csvread1 = @elapsed @time CSV.read(\"bigdf1.csv\", DataFrame)\n",
    "println(\"Serialization\")\n",
    "serializeread1 = @elapsed @time open(deserialize, \"bigdf.bin\")\n",
    "println(\"JDF.jl\")\n",
    "jdfread1 = @elapsed @time JDF.load(\"bigdf.jdf\") |> DataFrame\n",
    "println(\"JLSO.jl\")\n",
    "jlsoread1 = @elapsed @time JLSO.load(\"bigdf.jlso\")\n",
    "println(\"Arrow.jl\")\n",
    "arrowread1 = @elapsed @time df_tmp = Arrow.Table(\"bigdf.arrow\") |> DataFrame\n",
    "arrowread1copy = @elapsed @time copy(df_tmp)\n",
    "println(\"JSONTables.jl arraytable\")\n",
    "jsontablesaread1 = @elapsed @time open(jsontable, \"bigdf1.json\")\n",
    "println(\"JSONTables.jl objecttable\")\n",
    "jsontablesoread1 = @elapsed @time open(jsontable, \"bigdf2.json\")\n",
    "println(\"Second run\")\n",
    "csvread2 = @elapsed @time CSV.read(\"bigdf1.csv\", DataFrame)\n",
    "println(\"Serialization\")\n",
    "serializeread2 = @elapsed @time open(deserialize, \"bigdf.bin\")\n",
    "println(\"JDF.jl\")\n",
    "jdfread2 = @elapsed @time JDF.load(\"bigdf.jdf\") |> DataFrame\n",
    "println(\"JLSO.jl\")\n",
    "jlsoread2 = @elapsed @time JLSO.load(\"bigdf.jlso\")\n",
    "println(\"Arrow.jl\")\n",
    "arrowread2 = @elapsed @time df_tmp = Arrow.Table(\"bigdf.arrow\") |> DataFrame\n",
    "arrowread2copy = @elapsed @time copy(df_tmp)\n",
    "println(\"JSONTables.jl arraytable\")\n",
    "jsontablesaread2 = @elapsed @time open(jsontable, \"bigdf1.json\")\n",
    "println(\"JSONTables.jl objecttable\")\n",
    "jsontablesoread2 = @elapsed @time open(jsontable, \"bigdf2.json\");"
   ]
  },
  {
   "cell_type": "code",
   "execution_count": 59,
   "metadata": {},
   "outputs": [
    {
     "data": {
      "image/svg+xml": [
       "<?xml version=\"1.0\" encoding=\"utf-8\"?>\n",
       "<svg xmlns=\"http://www.w3.org/2000/svg\" xmlns:xlink=\"http://www.w3.org/1999/xlink\" width=\"600\" height=\"400\" viewBox=\"0 0 2400 1600\">\n",
       "<defs>\n",
       "  <clipPath id=\"clip320\">\n",
       "    <rect x=\"0\" y=\"0\" width=\"2400\" height=\"1600\"/>\n",
       "  </clipPath>\n",
       "</defs>\n",
       "<path clip-path=\"url(#clip320)\" d=\"\n",
       "M0 1600 L2400 1600 L2400 0 L0 0  Z\n",
       "  \" fill=\"#ffffff\" fill-rule=\"evenodd\" fill-opacity=\"1\"/>\n",
       "<defs>\n",
       "  <clipPath id=\"clip321\">\n",
       "    <rect x=\"480\" y=\"0\" width=\"1681\" height=\"1600\"/>\n",
       "  </clipPath>\n",
       "</defs>\n",
       "<path clip-path=\"url(#clip320)\" d=\"\n",
       "M175.445 1451.89 L2352.76 1451.89 L2352.76 244.432 L175.445 244.432  Z\n",
       "  \" fill=\"#ffffff\" fill-rule=\"evenodd\" fill-opacity=\"1\"/>\n",
       "<defs>\n",
       "  <clipPath id=\"clip322\">\n",
       "    <rect x=\"175\" y=\"244\" width=\"2178\" height=\"1208\"/>\n",
       "  </clipPath>\n",
       "</defs>\n",
       "<polyline clip-path=\"url(#clip322)\" style=\"stroke:#000000; stroke-width:2; stroke-opacity:0.1; fill:none\" points=\"\n",
       "  406.333,1451.89 406.333,244.432 \n",
       "  \"/>\n",
       "<polyline clip-path=\"url(#clip322)\" style=\"stroke:#000000; stroke-width:2; stroke-opacity:0.1; fill:none\" points=\"\n",
       "  692.256,1451.89 692.256,244.432 \n",
       "  \"/>\n",
       "<polyline clip-path=\"url(#clip322)\" style=\"stroke:#000000; stroke-width:2; stroke-opacity:0.1; fill:none\" points=\"\n",
       "  978.178,1451.89 978.178,244.432 \n",
       "  \"/>\n",
       "<polyline clip-path=\"url(#clip322)\" style=\"stroke:#000000; stroke-width:2; stroke-opacity:0.1; fill:none\" points=\"\n",
       "  1264.1,1451.89 1264.1,244.432 \n",
       "  \"/>\n",
       "<polyline clip-path=\"url(#clip322)\" style=\"stroke:#000000; stroke-width:2; stroke-opacity:0.1; fill:none\" points=\"\n",
       "  1550.02,1451.89 1550.02,244.432 \n",
       "  \"/>\n",
       "<polyline clip-path=\"url(#clip322)\" style=\"stroke:#000000; stroke-width:2; stroke-opacity:0.1; fill:none\" points=\"\n",
       "  1835.95,1451.89 1835.95,244.432 \n",
       "  \"/>\n",
       "<polyline clip-path=\"url(#clip322)\" style=\"stroke:#000000; stroke-width:2; stroke-opacity:0.1; fill:none\" points=\"\n",
       "  2121.87,1451.89 2121.87,244.432 \n",
       "  \"/>\n",
       "<polyline clip-path=\"url(#clip320)\" style=\"stroke:#000000; stroke-width:4; stroke-opacity:1; fill:none\" points=\"\n",
       "  175.445,1451.89 2352.76,1451.89 \n",
       "  \"/>\n",
       "<polyline clip-path=\"url(#clip320)\" style=\"stroke:#000000; stroke-width:4; stroke-opacity:1; fill:none\" points=\"\n",
       "  406.333,1451.89 406.333,1437.4 \n",
       "  \"/>\n",
       "<polyline clip-path=\"url(#clip320)\" style=\"stroke:#000000; stroke-width:4; stroke-opacity:1; fill:none\" points=\"\n",
       "  692.256,1451.89 692.256,1437.4 \n",
       "  \"/>\n",
       "<polyline clip-path=\"url(#clip320)\" style=\"stroke:#000000; stroke-width:4; stroke-opacity:1; fill:none\" points=\"\n",
       "  978.178,1451.89 978.178,1437.4 \n",
       "  \"/>\n",
       "<polyline clip-path=\"url(#clip320)\" style=\"stroke:#000000; stroke-width:4; stroke-opacity:1; fill:none\" points=\"\n",
       "  1264.1,1451.89 1264.1,1437.4 \n",
       "  \"/>\n",
       "<polyline clip-path=\"url(#clip320)\" style=\"stroke:#000000; stroke-width:4; stroke-opacity:1; fill:none\" points=\"\n",
       "  1550.02,1451.89 1550.02,1437.4 \n",
       "  \"/>\n",
       "<polyline clip-path=\"url(#clip320)\" style=\"stroke:#000000; stroke-width:4; stroke-opacity:1; fill:none\" points=\"\n",
       "  1835.95,1451.89 1835.95,1437.4 \n",
       "  \"/>\n",
       "<polyline clip-path=\"url(#clip320)\" style=\"stroke:#000000; stroke-width:4; stroke-opacity:1; fill:none\" points=\"\n",
       "  2121.87,1451.89 2121.87,1437.4 \n",
       "  \"/>\n",
       "<path clip-path=\"url(#clip320)\" d=\"M 0 0 M337.387 1482.61 L331.044 1499.81 L343.753 1499.81 L337.387 1482.61 M334.748 1478 L340.049 1478 L353.22 1512.56 L348.359 1512.56 L345.211 1503.69 L329.632 1503.69 L326.484 1512.56 L321.554 1512.56 L334.748 1478 Z\" fill=\"#000000\" fill-rule=\"evenodd\" fill-opacity=\"1\" /><path clip-path=\"url(#clip320)\" d=\"M 0 0 M373.104 1490.62 Q372.387 1490.2 371.53 1490.01 Q370.697 1489.81 369.678 1489.81 Q366.067 1489.81 364.123 1492.17 Q362.202 1494.5 362.202 1498.9 L362.202 1512.56 L357.919 1512.56 L357.919 1486.63 L362.202 1486.63 L362.202 1490.66 Q363.544 1488.3 365.697 1487.17 Q367.85 1486.01 370.928 1486.01 Q371.368 1486.01 371.901 1486.08 Q372.433 1486.12 373.081 1486.24 L373.104 1490.62 Z\" fill=\"#000000\" fill-rule=\"evenodd\" fill-opacity=\"1\" /><path clip-path=\"url(#clip320)\" d=\"M 0 0 M391.762 1490.62 Q391.044 1490.2 390.188 1490.01 Q389.354 1489.81 388.336 1489.81 Q384.725 1489.81 382.78 1492.17 Q380.859 1494.5 380.859 1498.9 L380.859 1512.56 L376.576 1512.56 L376.576 1486.63 L380.859 1486.63 L380.859 1490.66 Q382.201 1488.3 384.354 1487.17 Q386.507 1486.01 389.586 1486.01 Q390.026 1486.01 390.558 1486.08 Q391.09 1486.12 391.738 1486.24 L391.762 1490.62 Z\" fill=\"#000000\" fill-rule=\"evenodd\" fill-opacity=\"1\" /><path clip-path=\"url(#clip320)\" d=\"M 0 0 M405.234 1489.62 Q401.808 1489.62 399.817 1492.31 Q397.826 1494.97 397.826 1499.62 Q397.826 1504.27 399.794 1506.96 Q401.785 1509.62 405.234 1509.62 Q408.637 1509.62 410.627 1506.93 Q412.618 1504.25 412.618 1499.62 Q412.618 1495.01 410.627 1492.33 Q408.637 1489.62 405.234 1489.62 M405.234 1486.01 Q410.789 1486.01 413.961 1489.62 Q417.132 1493.23 417.132 1499.62 Q417.132 1505.99 413.961 1509.62 Q410.789 1513.23 405.234 1513.23 Q399.655 1513.23 396.484 1509.62 Q393.336 1505.99 393.336 1499.62 Q393.336 1493.23 396.484 1489.62 Q399.655 1486.01 405.234 1486.01 Z\" fill=\"#000000\" fill-rule=\"evenodd\" fill-opacity=\"1\" /><path clip-path=\"url(#clip320)\" d=\"M 0 0 M421.715 1486.63 L425.974 1486.63 L431.298 1506.87 L436.599 1486.63 L441.622 1486.63 L446.946 1506.87 L452.247 1486.63 L456.507 1486.63 L449.724 1512.56 L444.701 1512.56 L439.122 1491.31 L433.521 1512.56 L428.498 1512.56 L421.715 1486.63 Z\" fill=\"#000000\" fill-rule=\"evenodd\" fill-opacity=\"1\" /><path clip-path=\"url(#clip320)\" d=\"M 0 0 M459.215 1506.68 L464.099 1506.68 L464.099 1512.56 L459.215 1512.56 L459.215 1506.68 Z\" fill=\"#000000\" fill-rule=\"evenodd\" fill-opacity=\"1\" /><path clip-path=\"url(#clip320)\" d=\"M 0 0 M473.682 1486.63 L477.942 1486.63 L477.942 1513.02 Q477.942 1517.98 476.044 1520.2 Q474.169 1522.42 469.979 1522.42 L468.358 1522.42 L468.358 1518.81 L469.493 1518.81 Q471.923 1518.81 472.803 1517.68 Q473.682 1516.56 473.682 1513.02 L473.682 1486.63 M473.682 1476.54 L477.942 1476.54 L477.942 1481.94 L473.682 1481.94 L473.682 1476.54 Z\" fill=\"#000000\" fill-rule=\"evenodd\" fill-opacity=\"1\" /><path clip-path=\"url(#clip320)\" d=\"M 0 0 M486.854 1476.54 L491.113 1476.54 L491.113 1512.56 L486.854 1512.56 L486.854 1476.54 Z\" fill=\"#000000\" fill-rule=\"evenodd\" fill-opacity=\"1\" /><path clip-path=\"url(#clip320)\" d=\"M 0 0 M623.309 1482.61 L616.967 1499.81 L629.675 1499.81 L623.309 1482.61 M620.67 1478 L625.971 1478 L639.143 1512.56 L634.281 1512.56 L631.133 1503.69 L615.555 1503.69 L612.407 1512.56 L607.476 1512.56 L620.67 1478 Z\" fill=\"#000000\" fill-rule=\"evenodd\" fill-opacity=\"1\" /><path clip-path=\"url(#clip320)\" d=\"M 0 0 M659.027 1490.62 Q658.309 1490.2 657.453 1490.01 Q656.619 1489.81 655.601 1489.81 Q651.99 1489.81 650.045 1492.17 Q648.124 1494.5 648.124 1498.9 L648.124 1512.56 L643.842 1512.56 L643.842 1486.63 L648.124 1486.63 L648.124 1490.66 Q649.467 1488.3 651.619 1487.17 Q653.772 1486.01 656.851 1486.01 Q657.291 1486.01 657.823 1486.08 Q658.355 1486.12 659.004 1486.24 L659.027 1490.62 Z\" fill=\"#000000\" fill-rule=\"evenodd\" fill-opacity=\"1\" /><path clip-path=\"url(#clip320)\" d=\"M 0 0 M677.684 1490.62 Q676.966 1490.2 676.11 1490.01 Q675.277 1489.81 674.258 1489.81 Q670.647 1489.81 668.703 1492.17 Q666.781 1494.5 666.781 1498.9 L666.781 1512.56 L662.499 1512.56 L662.499 1486.63 L666.781 1486.63 L666.781 1490.66 Q668.124 1488.3 670.277 1487.17 Q672.429 1486.01 675.508 1486.01 Q675.948 1486.01 676.48 1486.08 Q677.013 1486.12 677.661 1486.24 L677.684 1490.62 Z\" fill=\"#000000\" fill-rule=\"evenodd\" fill-opacity=\"1\" /><path clip-path=\"url(#clip320)\" d=\"M 0 0 M691.156 1489.62 Q687.73 1489.62 685.74 1492.31 Q683.749 1494.97 683.749 1499.62 Q683.749 1504.27 685.716 1506.96 Q687.707 1509.62 691.156 1509.62 Q694.559 1509.62 696.55 1506.93 Q698.54 1504.25 698.54 1499.62 Q698.54 1495.01 696.55 1492.33 Q694.559 1489.62 691.156 1489.62 M691.156 1486.01 Q696.712 1486.01 699.883 1489.62 Q703.054 1493.23 703.054 1499.62 Q703.054 1505.99 699.883 1509.62 Q696.712 1513.23 691.156 1513.23 Q685.578 1513.23 682.406 1509.62 Q679.258 1505.99 679.258 1499.62 Q679.258 1493.23 682.406 1489.62 Q685.578 1486.01 691.156 1486.01 Z\" fill=\"#000000\" fill-rule=\"evenodd\" fill-opacity=\"1\" /><path clip-path=\"url(#clip320)\" d=\"M 0 0 M707.638 1486.63 L711.897 1486.63 L717.221 1506.87 L722.522 1486.63 L727.545 1486.63 L732.869 1506.87 L738.17 1486.63 L742.429 1486.63 L735.647 1512.56 L730.624 1512.56 L725.045 1491.31 L719.443 1512.56 L714.42 1512.56 L707.638 1486.63 Z\" fill=\"#000000\" fill-rule=\"evenodd\" fill-opacity=\"1\" /><path clip-path=\"url(#clip320)\" d=\"M 0 0 M745.137 1506.68 L750.022 1506.68 L750.022 1512.56 L745.137 1512.56 L745.137 1506.68 Z\" fill=\"#000000\" fill-rule=\"evenodd\" fill-opacity=\"1\" /><path clip-path=\"url(#clip320)\" d=\"M 0 0 M759.605 1486.63 L763.864 1486.63 L763.864 1513.02 Q763.864 1517.98 761.966 1520.2 Q760.091 1522.42 755.901 1522.42 L754.281 1522.42 L754.281 1518.81 L755.415 1518.81 Q757.846 1518.81 758.725 1517.68 Q759.605 1516.56 759.605 1513.02 L759.605 1486.63 M759.605 1476.54 L763.864 1476.54 L763.864 1481.94 L759.605 1481.94 L759.605 1476.54 Z\" fill=\"#000000\" fill-rule=\"evenodd\" fill-opacity=\"1\" /><path clip-path=\"url(#clip320)\" d=\"M 0 0 M772.776 1476.54 L777.035 1476.54 L777.035 1512.56 L772.776 1512.56 L772.776 1476.54 Z\" fill=\"#000000\" fill-rule=\"evenodd\" fill-opacity=\"1\" /><path clip-path=\"url(#clip320)\" d=\"M 0 0 M658.17 1539.47 L658.17 1543.45 Q656.365 1542.46 654.536 1541.97 Q652.73 1541.46 650.879 1541.46 Q646.735 1541.46 644.443 1544.1 Q642.152 1546.71 642.152 1551.46 Q642.152 1556.21 644.443 1558.84 Q646.735 1561.46 650.879 1561.46 Q652.73 1561.46 654.536 1560.97 Q656.365 1560.46 658.17 1559.47 L658.17 1563.4 Q656.388 1564.24 654.467 1564.65 Q652.568 1565.07 650.416 1565.07 Q644.559 1565.07 641.11 1561.39 Q637.661 1557.71 637.661 1551.46 Q637.661 1545.12 641.133 1541.48 Q644.629 1537.85 650.693 1537.85 Q652.661 1537.85 654.536 1538.27 Q656.411 1538.66 658.17 1539.47 Z\" fill=\"#000000\" fill-rule=\"evenodd\" fill-opacity=\"1\" /><path clip-path=\"url(#clip320)\" d=\"M 0 0 M675.624 1541.46 Q672.198 1541.46 670.207 1544.15 Q668.216 1546.81 668.216 1551.46 Q668.216 1556.11 670.184 1558.8 Q672.175 1561.46 675.624 1561.46 Q679.027 1561.46 681.017 1558.77 Q683.008 1556.09 683.008 1551.46 Q683.008 1546.85 681.017 1544.17 Q679.027 1541.46 675.624 1541.46 M675.624 1537.85 Q681.179 1537.85 684.351 1541.46 Q687.522 1545.07 687.522 1551.46 Q687.522 1557.83 684.351 1561.46 Q681.179 1565.07 675.624 1565.07 Q670.045 1565.07 666.874 1561.46 Q663.726 1557.83 663.726 1551.46 Q663.726 1545.07 666.874 1541.46 Q670.045 1537.85 675.624 1537.85 Z\" fill=\"#000000\" fill-rule=\"evenodd\" fill-opacity=\"1\" /><path clip-path=\"url(#clip320)\" d=\"M 0 0 M698.702 1560.51 L698.702 1574.26 L694.42 1574.26 L694.42 1538.47 L698.702 1538.47 L698.702 1542.41 Q700.045 1540.09 702.082 1538.98 Q704.142 1537.85 706.989 1537.85 Q711.712 1537.85 714.651 1541.6 Q717.614 1545.35 717.614 1551.46 Q717.614 1557.57 714.651 1561.32 Q711.712 1565.07 706.989 1565.07 Q704.142 1565.07 702.082 1563.96 Q700.045 1562.83 698.702 1560.51 M713.193 1551.46 Q713.193 1546.76 711.249 1544.1 Q709.327 1541.41 705.948 1541.41 Q702.568 1541.41 700.624 1544.1 Q698.702 1546.76 698.702 1551.46 Q698.702 1556.16 700.624 1558.84 Q702.568 1561.51 705.948 1561.51 Q709.327 1561.51 711.249 1558.84 Q713.193 1556.16 713.193 1551.46 Z\" fill=\"#000000\" fill-rule=\"evenodd\" fill-opacity=\"1\" /><path clip-path=\"url(#clip320)\" d=\"M 0 0 M735.461 1566.81 Q733.656 1571.44 731.943 1572.85 Q730.23 1574.26 727.36 1574.26 L723.957 1574.26 L723.957 1570.7 L726.457 1570.7 Q728.216 1570.7 729.188 1569.86 Q730.161 1569.03 731.341 1565.93 L732.105 1563.98 L721.619 1538.47 L726.133 1538.47 L734.235 1558.75 L742.336 1538.47 L746.85 1538.47 L735.461 1566.81 Z\" fill=\"#000000\" fill-rule=\"evenodd\" fill-opacity=\"1\" /><path clip-path=\"url(#clip320)\" d=\"M 0 0 M944.139 1480.66 L944.139 1485.59 Q941.778 1483.39 939.093 1482.31 Q936.431 1481.22 933.421 1481.22 Q927.496 1481.22 924.347 1484.85 Q921.199 1488.46 921.199 1495.31 Q921.199 1502.14 924.347 1505.78 Q927.496 1509.39 933.421 1509.39 Q936.431 1509.39 939.093 1508.3 Q941.778 1507.21 944.139 1505.01 L944.139 1509.9 Q941.685 1511.56 938.931 1512.4 Q936.199 1513.23 933.144 1513.23 Q925.296 1513.23 920.783 1508.44 Q916.269 1503.62 916.269 1495.31 Q916.269 1486.98 920.783 1482.19 Q925.296 1477.37 933.144 1477.37 Q936.245 1477.37 938.977 1478.21 Q941.732 1479.02 944.139 1480.66 Z\" fill=\"#000000\" fill-rule=\"evenodd\" fill-opacity=\"1\" /><path clip-path=\"url(#clip320)\" d=\"M 0 0 M972.079 1479.13 L972.079 1483.69 Q969.417 1482.42 967.056 1481.8 Q964.694 1481.17 962.495 1481.17 Q958.676 1481.17 956.593 1482.65 Q954.532 1484.13 954.532 1486.87 Q954.532 1489.16 955.898 1490.34 Q957.287 1491.5 961.13 1492.21 L963.954 1492.79 Q969.185 1493.79 971.662 1496.31 Q974.162 1498.81 974.162 1503.02 Q974.162 1508.05 970.782 1510.64 Q967.426 1513.23 960.921 1513.23 Q958.468 1513.23 955.69 1512.68 Q952.935 1512.12 949.972 1511.03 L949.972 1506.22 Q952.819 1507.81 955.551 1508.62 Q958.282 1509.43 960.921 1509.43 Q964.926 1509.43 967.102 1507.86 Q969.278 1506.29 969.278 1503.37 Q969.278 1500.82 967.704 1499.39 Q966.153 1497.95 962.588 1497.24 L959.741 1496.68 Q954.509 1495.64 952.171 1493.42 Q949.833 1491.19 949.833 1487.24 Q949.833 1482.65 953.051 1480.01 Q956.292 1477.37 961.963 1477.37 Q964.393 1477.37 966.917 1477.81 Q969.44 1478.25 972.079 1479.13 Z\" fill=\"#000000\" fill-rule=\"evenodd\" fill-opacity=\"1\" /><path clip-path=\"url(#clip320)\" d=\"M 0 0 M990.366 1512.56 L977.171 1478 L982.055 1478 L993.004 1507.1 L1003.98 1478 L1008.84 1478 L995.666 1512.56 L990.366 1512.56 Z\" fill=\"#000000\" fill-rule=\"evenodd\" fill-opacity=\"1\" /><path clip-path=\"url(#clip320)\" d=\"M 0 0 M1008.19 1506.68 L1013.07 1506.68 L1013.07 1512.56 L1008.19 1512.56 L1008.19 1506.68 Z\" fill=\"#000000\" fill-rule=\"evenodd\" fill-opacity=\"1\" /><path clip-path=\"url(#clip320)\" d=\"M 0 0 M1022.66 1486.63 L1026.92 1486.63 L1026.92 1513.02 Q1026.92 1517.98 1025.02 1520.2 Q1023.14 1522.42 1018.95 1522.42 L1017.33 1522.42 L1017.33 1518.81 L1018.47 1518.81 Q1020.9 1518.81 1021.78 1517.68 Q1022.66 1516.56 1022.66 1513.02 L1022.66 1486.63 M1022.66 1476.54 L1026.92 1476.54 L1026.92 1481.94 L1022.66 1481.94 L1022.66 1476.54 Z\" fill=\"#000000\" fill-rule=\"evenodd\" fill-opacity=\"1\" /><path clip-path=\"url(#clip320)\" d=\"M 0 0 M1035.83 1476.54 L1040.09 1476.54 L1040.09 1512.56 L1035.83 1512.56 L1035.83 1476.54 Z\" fill=\"#000000\" fill-rule=\"evenodd\" fill-opacity=\"1\" /><path clip-path=\"url(#clip320)\" d=\"M 0 0 M1216.43 1478 L1221.1 1478 L1221.1 1510.15 Q1221.1 1516.4 1218.72 1519.23 Q1216.36 1522.05 1211.1 1522.05 L1209.32 1522.05 L1209.32 1518.12 L1210.78 1518.12 Q1213.88 1518.12 1215.15 1516.38 Q1216.43 1514.64 1216.43 1510.15 L1216.43 1478 Z\" fill=\"#000000\" fill-rule=\"evenodd\" fill-opacity=\"1\" /><path clip-path=\"url(#clip320)\" d=\"M 0 0 M1235.08 1481.84 L1235.08 1508.72 L1240.73 1508.72 Q1247.89 1508.72 1251.2 1505.48 Q1254.53 1502.24 1254.53 1495.25 Q1254.53 1488.3 1251.2 1485.08 Q1247.89 1481.84 1240.73 1481.84 L1235.08 1481.84 M1230.41 1478 L1240.02 1478 Q1250.06 1478 1254.76 1482.19 Q1259.46 1486.36 1259.46 1495.25 Q1259.46 1504.18 1254.74 1508.37 Q1250.01 1512.56 1240.02 1512.56 L1230.41 1512.56 L1230.41 1478 Z\" fill=\"#000000\" fill-rule=\"evenodd\" fill-opacity=\"1\" /><path clip-path=\"url(#clip320)\" d=\"M 0 0 M1266.91 1478 L1286.77 1478 L1286.77 1481.94 L1271.59 1481.94 L1271.59 1492.12 L1285.29 1492.12 L1285.29 1496.06 L1271.59 1496.06 L1271.59 1512.56 L1266.91 1512.56 L1266.91 1478 Z\" fill=\"#000000\" fill-rule=\"evenodd\" fill-opacity=\"1\" /><path clip-path=\"url(#clip320)\" d=\"M 0 0 M1286.98 1506.68 L1291.87 1506.68 L1291.87 1512.56 L1286.98 1512.56 L1286.98 1506.68 Z\" fill=\"#000000\" fill-rule=\"evenodd\" fill-opacity=\"1\" /><path clip-path=\"url(#clip320)\" d=\"M 0 0 M1301.45 1486.63 L1305.71 1486.63 L1305.71 1513.02 Q1305.71 1517.98 1303.81 1520.2 Q1301.94 1522.42 1297.75 1522.42 L1296.13 1522.42 L1296.13 1518.81 L1297.26 1518.81 Q1299.69 1518.81 1300.57 1517.68 Q1301.45 1516.56 1301.45 1513.02 L1301.45 1486.63 M1301.45 1476.54 L1305.71 1476.54 L1305.71 1481.94 L1301.45 1481.94 L1301.45 1476.54 Z\" fill=\"#000000\" fill-rule=\"evenodd\" fill-opacity=\"1\" /><path clip-path=\"url(#clip320)\" d=\"M 0 0 M1314.62 1476.54 L1318.88 1476.54 L1318.88 1512.56 L1314.62 1512.56 L1314.62 1476.54 Z\" fill=\"#000000\" fill-rule=\"evenodd\" fill-opacity=\"1\" /><path clip-path=\"url(#clip320)\" d=\"M 0 0 M1484.48 1478 L1489.16 1478 L1489.16 1510.15 Q1489.16 1516.4 1486.77 1519.23 Q1484.41 1522.05 1479.16 1522.05 L1477.37 1522.05 L1477.37 1518.12 L1478.83 1518.12 Q1481.93 1518.12 1483.21 1516.38 Q1484.48 1514.64 1484.48 1510.15 L1484.48 1478 Z\" fill=\"#000000\" fill-rule=\"evenodd\" fill-opacity=\"1\" /><path clip-path=\"url(#clip320)\" d=\"M 0 0 M1498.46 1478 L1503.14 1478 L1503.14 1508.62 L1519.97 1508.62 L1519.97 1512.56 L1498.46 1512.56 L1498.46 1478 Z\" fill=\"#000000\" fill-rule=\"evenodd\" fill-opacity=\"1\" /><path clip-path=\"url(#clip320)\" d=\"M 0 0 M1545.59 1479.13 L1545.59 1483.69 Q1542.93 1482.42 1540.57 1481.8 Q1538.21 1481.17 1536.01 1481.17 Q1532.19 1481.17 1530.1 1482.65 Q1528.04 1484.13 1528.04 1486.87 Q1528.04 1489.16 1529.41 1490.34 Q1530.8 1491.5 1534.64 1492.21 L1537.47 1492.79 Q1542.7 1493.79 1545.17 1496.31 Q1547.67 1498.81 1547.67 1503.02 Q1547.67 1508.05 1544.29 1510.64 Q1540.94 1513.23 1534.43 1513.23 Q1531.98 1513.23 1529.2 1512.68 Q1526.45 1512.12 1523.48 1511.03 L1523.48 1506.22 Q1526.33 1507.81 1529.06 1508.62 Q1531.79 1509.43 1534.43 1509.43 Q1538.44 1509.43 1540.61 1507.86 Q1542.79 1506.29 1542.79 1503.37 Q1542.79 1500.82 1541.22 1499.39 Q1539.66 1497.95 1536.1 1497.24 L1533.25 1496.68 Q1528.02 1495.64 1525.68 1493.42 Q1523.34 1491.19 1523.34 1487.24 Q1523.34 1482.65 1526.56 1480.01 Q1529.8 1477.37 1535.47 1477.37 Q1537.9 1477.37 1540.43 1477.81 Q1542.95 1478.25 1545.59 1479.13 Z\" fill=\"#000000\" fill-rule=\"evenodd\" fill-opacity=\"1\" /><path clip-path=\"url(#clip320)\" d=\"M 0 0 M1568.99 1481.17 Q1563.9 1481.17 1560.89 1484.97 Q1557.9 1488.76 1557.9 1495.31 Q1557.9 1501.84 1560.89 1505.64 Q1563.9 1509.43 1568.99 1509.43 Q1574.09 1509.43 1577.05 1505.64 Q1580.03 1501.84 1580.03 1495.31 Q1580.03 1488.76 1577.05 1484.97 Q1574.09 1481.17 1568.99 1481.17 M1568.99 1477.37 Q1576.26 1477.37 1580.61 1482.26 Q1584.96 1487.12 1584.96 1495.31 Q1584.96 1503.49 1580.61 1508.37 Q1576.26 1513.23 1568.99 1513.23 Q1561.7 1513.23 1557.33 1508.37 Q1552.97 1503.51 1552.97 1495.31 Q1552.97 1487.12 1557.33 1482.26 Q1561.7 1477.37 1568.99 1477.37 Z\" fill=\"#000000\" fill-rule=\"evenodd\" fill-opacity=\"1\" /><path clip-path=\"url(#clip320)\" d=\"M 0 0 M1590.78 1506.68 L1595.66 1506.68 L1595.66 1512.56 L1590.78 1512.56 L1590.78 1506.68 Z\" fill=\"#000000\" fill-rule=\"evenodd\" fill-opacity=\"1\" /><path clip-path=\"url(#clip320)\" d=\"M 0 0 M1605.24 1486.63 L1609.5 1486.63 L1609.5 1513.02 Q1609.5 1517.98 1607.6 1520.2 Q1605.73 1522.42 1601.54 1522.42 L1599.92 1522.42 L1599.92 1518.81 L1601.05 1518.81 Q1603.48 1518.81 1604.36 1517.68 Q1605.24 1516.56 1605.24 1513.02 L1605.24 1486.63 M1605.24 1476.54 L1609.5 1476.54 L1609.5 1481.94 L1605.24 1481.94 L1605.24 1476.54 Z\" fill=\"#000000\" fill-rule=\"evenodd\" fill-opacity=\"1\" /><path clip-path=\"url(#clip320)\" d=\"M 0 0 M1618.41 1476.54 L1622.67 1476.54 L1622.67 1512.56 L1618.41 1512.56 L1618.41 1476.54 Z\" fill=\"#000000\" fill-rule=\"evenodd\" fill-opacity=\"1\" /><path clip-path=\"url(#clip320)\" d=\"M 0 0 M1785.73 1478 L1790.4 1478 L1790.4 1510.15 Q1790.4 1516.4 1788.02 1519.23 Q1785.66 1522.05 1780.4 1522.05 L1778.62 1522.05 L1778.62 1518.12 L1780.08 1518.12 Q1783.18 1518.12 1784.45 1516.38 Q1785.73 1514.64 1785.73 1510.15 L1785.73 1478 Z\" fill=\"#000000\" fill-rule=\"evenodd\" fill-opacity=\"1\" /><path clip-path=\"url(#clip320)\" d=\"M 0 0 M1820.42 1479.13 L1820.42 1483.69 Q1817.76 1482.42 1815.4 1481.8 Q1813.04 1481.17 1810.84 1481.17 Q1807.02 1481.17 1804.94 1482.65 Q1802.88 1484.13 1802.88 1486.87 Q1802.88 1489.16 1804.24 1490.34 Q1805.63 1491.5 1809.48 1492.21 L1812.3 1492.79 Q1817.53 1493.79 1820.01 1496.31 Q1822.51 1498.81 1822.51 1503.02 Q1822.51 1508.05 1819.13 1510.64 Q1815.77 1513.23 1809.27 1513.23 Q1806.81 1513.23 1804.04 1512.68 Q1801.28 1512.12 1798.32 1511.03 L1798.32 1506.22 Q1801.17 1507.81 1803.9 1508.62 Q1806.63 1509.43 1809.27 1509.43 Q1813.27 1509.43 1815.45 1507.86 Q1817.62 1506.29 1817.62 1503.37 Q1817.62 1500.82 1816.05 1499.39 Q1814.5 1497.95 1810.93 1497.24 L1808.09 1496.68 Q1802.86 1495.64 1800.52 1493.42 Q1798.18 1491.19 1798.18 1487.24 Q1798.18 1482.65 1801.4 1480.01 Q1804.64 1477.37 1810.31 1477.37 Q1812.74 1477.37 1815.26 1477.81 Q1817.79 1478.25 1820.42 1479.13 Z\" fill=\"#000000\" fill-rule=\"evenodd\" fill-opacity=\"1\" /><path clip-path=\"url(#clip320)\" d=\"M 0 0 M1843.83 1481.17 Q1838.73 1481.17 1835.73 1484.97 Q1832.74 1488.76 1832.74 1495.31 Q1832.74 1501.84 1835.73 1505.64 Q1838.73 1509.43 1843.83 1509.43 Q1848.92 1509.43 1851.88 1505.64 Q1854.87 1501.84 1854.87 1495.31 Q1854.87 1488.76 1851.88 1484.97 Q1848.92 1481.17 1843.83 1481.17 M1843.83 1477.37 Q1851.1 1477.37 1855.45 1482.26 Q1859.8 1487.12 1859.8 1495.31 Q1859.8 1503.49 1855.45 1508.37 Q1851.1 1513.23 1843.83 1513.23 Q1836.54 1513.23 1832.16 1508.37 Q1827.81 1503.51 1827.81 1495.31 Q1827.81 1487.12 1832.16 1482.26 Q1836.54 1477.37 1843.83 1477.37 Z\" fill=\"#000000\" fill-rule=\"evenodd\" fill-opacity=\"1\" /><path clip-path=\"url(#clip320)\" d=\"M 0 0 M1867.11 1478 L1873.41 1478 L1888.73 1506.91 L1888.73 1478 L1893.27 1478 L1893.27 1512.56 L1886.98 1512.56 L1871.65 1483.65 L1871.65 1512.56 L1867.11 1512.56 L1867.11 1478 Z\" fill=\"#000000\" fill-rule=\"evenodd\" fill-opacity=\"1\" /><path clip-path=\"url(#clip320)\" d=\"M 0 0 M1717.33 1541.46 Q1713.91 1541.46 1711.92 1544.15 Q1709.93 1546.81 1709.93 1551.46 Q1709.93 1556.11 1711.9 1558.8 Q1713.89 1561.46 1717.33 1561.46 Q1720.74 1561.46 1722.73 1558.77 Q1724.72 1556.09 1724.72 1551.46 Q1724.72 1546.85 1722.73 1544.17 Q1720.74 1541.46 1717.33 1541.46 M1717.33 1537.85 Q1722.89 1537.85 1726.06 1541.46 Q1729.23 1545.07 1729.23 1551.46 Q1729.23 1557.83 1726.06 1561.46 Q1722.89 1565.07 1717.33 1565.07 Q1711.76 1565.07 1708.58 1561.46 Q1705.44 1557.83 1705.44 1551.46 Q1705.44 1545.07 1708.58 1541.46 Q1711.76 1537.85 1717.33 1537.85 Z\" fill=\"#000000\" fill-rule=\"evenodd\" fill-opacity=\"1\" /><path clip-path=\"url(#clip320)\" d=\"M 0 0 M1754.9 1551.46 Q1754.9 1546.76 1752.96 1544.1 Q1751.04 1541.41 1747.66 1541.41 Q1744.28 1541.41 1742.33 1544.1 Q1740.41 1546.76 1740.41 1551.46 Q1740.41 1556.16 1742.33 1558.84 Q1744.28 1561.51 1747.66 1561.51 Q1751.04 1561.51 1752.96 1558.84 Q1754.9 1556.16 1754.9 1551.46 M1740.41 1542.41 Q1741.76 1540.09 1743.79 1538.98 Q1745.85 1537.85 1748.7 1537.85 Q1753.42 1537.85 1756.36 1541.6 Q1759.33 1545.35 1759.33 1551.46 Q1759.33 1557.57 1756.36 1561.32 Q1753.42 1565.07 1748.7 1565.07 Q1745.85 1565.07 1743.79 1563.96 Q1741.76 1562.83 1740.41 1560.51 L1740.41 1564.4 L1736.13 1564.4 L1736.13 1528.38 L1740.41 1528.38 L1740.41 1542.41 Z\" fill=\"#000000\" fill-rule=\"evenodd\" fill-opacity=\"1\" /><path clip-path=\"url(#clip320)\" d=\"M 0 0 M1766.39 1538.47 L1770.64 1538.47 L1770.64 1564.86 Q1770.64 1569.82 1768.75 1572.04 Q1766.87 1574.26 1762.68 1574.26 L1761.06 1574.26 L1761.06 1570.65 L1762.2 1570.65 Q1764.63 1570.65 1765.51 1569.52 Q1766.39 1568.4 1766.39 1564.86 L1766.39 1538.47 M1766.39 1528.38 L1770.64 1528.38 L1770.64 1533.78 L1766.39 1533.78 L1766.39 1528.38 Z\" fill=\"#000000\" fill-rule=\"evenodd\" fill-opacity=\"1\" /><path clip-path=\"url(#clip320)\" d=\"M 0 0 M1801.73 1550.37 L1801.73 1552.46 L1782.15 1552.46 Q1782.43 1556.85 1784.79 1559.17 Q1787.17 1561.46 1791.41 1561.46 Q1793.86 1561.46 1796.15 1560.86 Q1798.47 1560.26 1800.74 1559.05 L1800.74 1563.08 Q1798.45 1564.05 1796.04 1564.56 Q1793.63 1565.07 1791.15 1565.07 Q1784.95 1565.07 1781.32 1561.46 Q1777.7 1557.85 1777.7 1551.69 Q1777.7 1545.33 1781.13 1541.6 Q1784.58 1537.85 1790.41 1537.85 Q1795.64 1537.85 1798.68 1541.23 Q1801.73 1544.59 1801.73 1550.37 M1797.47 1549.12 Q1797.43 1545.63 1795.51 1543.54 Q1793.61 1541.46 1790.46 1541.46 Q1786.89 1541.46 1784.74 1543.47 Q1782.61 1545.49 1782.29 1549.15 L1797.47 1549.12 Z\" fill=\"#000000\" fill-rule=\"evenodd\" fill-opacity=\"1\" /><path clip-path=\"url(#clip320)\" d=\"M 0 0 M1827.38 1539.47 L1827.38 1543.45 Q1825.58 1542.46 1823.75 1541.97 Q1821.94 1541.46 1820.09 1541.46 Q1815.95 1541.46 1813.65 1544.1 Q1811.36 1546.71 1811.36 1551.46 Q1811.36 1556.21 1813.65 1558.84 Q1815.95 1561.46 1820.09 1561.46 Q1821.94 1561.46 1823.75 1560.97 Q1825.58 1560.46 1827.38 1559.47 L1827.38 1563.4 Q1825.6 1564.24 1823.68 1564.65 Q1821.78 1565.07 1819.63 1565.07 Q1813.77 1565.07 1810.32 1561.39 Q1806.87 1557.71 1806.87 1551.46 Q1806.87 1545.12 1810.34 1541.48 Q1813.84 1537.85 1819.9 1537.85 Q1821.87 1537.85 1823.75 1538.27 Q1825.62 1538.66 1827.38 1539.47 Z\" fill=\"#000000\" fill-rule=\"evenodd\" fill-opacity=\"1\" /><path clip-path=\"url(#clip320)\" d=\"M 0 0 M1839 1531.11 L1839 1538.47 L1847.77 1538.47 L1847.77 1541.78 L1839 1541.78 L1839 1555.86 Q1839 1559.03 1839.86 1559.93 Q1840.74 1560.84 1843.4 1560.84 L1847.77 1560.84 L1847.77 1564.4 L1843.4 1564.4 Q1838.47 1564.4 1836.59 1562.57 Q1834.72 1560.72 1834.72 1555.86 L1834.72 1541.78 L1831.59 1541.78 L1831.59 1538.47 L1834.72 1538.47 L1834.72 1531.11 L1839 1531.11 Z\" fill=\"#000000\" fill-rule=\"evenodd\" fill-opacity=\"1\" /><path clip-path=\"url(#clip320)\" d=\"M 0 0 M1857.59 1531.11 L1857.59 1538.47 L1866.36 1538.47 L1866.36 1541.78 L1857.59 1541.78 L1857.59 1555.86 Q1857.59 1559.03 1858.45 1559.93 Q1859.32 1560.84 1861.99 1560.84 L1866.36 1560.84 L1866.36 1564.4 L1861.99 1564.4 Q1857.06 1564.4 1855.18 1562.57 Q1853.31 1560.72 1853.31 1555.86 L1853.31 1541.78 L1850.18 1541.78 L1850.18 1538.47 L1853.31 1538.47 L1853.31 1531.11 L1857.59 1531.11 Z\" fill=\"#000000\" fill-rule=\"evenodd\" fill-opacity=\"1\" /><path clip-path=\"url(#clip320)\" d=\"M 0 0 M1883.75 1551.37 Q1878.58 1551.37 1876.59 1552.55 Q1874.6 1553.73 1874.6 1556.58 Q1874.6 1558.84 1876.08 1560.19 Q1877.59 1561.51 1880.16 1561.51 Q1883.7 1561.51 1885.83 1559.01 Q1887.98 1556.48 1887.98 1552.32 L1887.98 1551.37 L1883.75 1551.37 M1892.24 1549.61 L1892.24 1564.4 L1887.98 1564.4 L1887.98 1560.46 Q1886.52 1562.83 1884.35 1563.96 Q1882.17 1565.07 1879.02 1565.07 Q1875.04 1565.07 1872.68 1562.85 Q1870.34 1560.6 1870.34 1556.85 Q1870.34 1552.48 1873.26 1550.26 Q1876.2 1548.03 1882.01 1548.03 L1887.98 1548.03 L1887.98 1547.62 Q1887.98 1544.68 1886.04 1543.08 Q1884.12 1541.46 1880.62 1541.46 Q1878.4 1541.46 1876.29 1541.99 Q1874.19 1542.52 1872.24 1543.59 L1872.24 1539.65 Q1874.58 1538.75 1876.78 1538.31 Q1878.98 1537.85 1881.06 1537.85 Q1886.69 1537.85 1889.46 1540.77 Q1892.24 1543.68 1892.24 1549.61 Z\" fill=\"#000000\" fill-rule=\"evenodd\" fill-opacity=\"1\" /><path clip-path=\"url(#clip320)\" d=\"M 0 0 M1919.63 1551.46 Q1919.63 1546.76 1917.68 1544.1 Q1915.76 1541.41 1912.38 1541.41 Q1909 1541.41 1907.06 1544.1 Q1905.13 1546.76 1905.13 1551.46 Q1905.13 1556.16 1907.06 1558.84 Q1909 1561.51 1912.38 1561.51 Q1915.76 1561.51 1917.68 1558.84 Q1919.63 1556.16 1919.63 1551.46 M1905.13 1542.41 Q1906.48 1540.09 1908.51 1538.98 Q1910.57 1537.85 1913.42 1537.85 Q1918.14 1537.85 1921.08 1541.6 Q1924.05 1545.35 1924.05 1551.46 Q1924.05 1557.57 1921.08 1561.32 Q1918.14 1565.07 1913.42 1565.07 Q1910.57 1565.07 1908.51 1563.96 Q1906.48 1562.83 1905.13 1560.51 L1905.13 1564.4 L1900.85 1564.4 L1900.85 1528.38 L1905.13 1528.38 L1905.13 1542.41 Z\" fill=\"#000000\" fill-rule=\"evenodd\" fill-opacity=\"1\" /><path clip-path=\"url(#clip320)\" d=\"M 0 0 M1931.11 1528.38 L1935.37 1528.38 L1935.37 1564.4 L1931.11 1564.4 L1931.11 1528.38 Z\" fill=\"#000000\" fill-rule=\"evenodd\" fill-opacity=\"1\" /><path clip-path=\"url(#clip320)\" d=\"M 0 0 M1966.45 1550.37 L1966.45 1552.46 L1946.87 1552.46 Q1947.15 1556.85 1949.51 1559.17 Q1951.89 1561.46 1956.13 1561.46 Q1958.58 1561.46 1960.88 1560.86 Q1963.19 1560.26 1965.46 1559.05 L1965.46 1563.08 Q1963.17 1564.05 1960.76 1564.56 Q1958.35 1565.07 1955.88 1565.07 Q1949.67 1565.07 1946.04 1561.46 Q1942.43 1557.85 1942.43 1551.69 Q1942.43 1545.33 1945.85 1541.6 Q1949.3 1537.85 1955.13 1537.85 Q1960.37 1537.85 1963.4 1541.23 Q1966.45 1544.59 1966.45 1550.37 M1962.19 1549.12 Q1962.15 1545.63 1960.23 1543.54 Q1958.33 1541.46 1955.18 1541.46 Q1951.62 1541.46 1949.46 1543.47 Q1947.33 1545.49 1947.01 1549.15 L1962.19 1549.12 Z\" fill=\"#000000\" fill-rule=\"evenodd\" fill-opacity=\"1\" /><path clip-path=\"url(#clip320)\" d=\"M 0 0 M2001.66 1479.13 L2001.66 1483.69 Q1999 1482.42 1996.64 1481.8 Q1994.28 1481.17 1992.08 1481.17 Q1988.26 1481.17 1986.17 1482.65 Q1984.11 1484.13 1984.11 1486.87 Q1984.11 1489.16 1985.48 1490.34 Q1986.87 1491.5 1990.71 1492.21 L1993.54 1492.79 Q1998.77 1493.79 2001.24 1496.31 Q2003.74 1498.81 2003.74 1503.02 Q2003.74 1508.05 2000.36 1510.64 Q1997.01 1513.23 1990.5 1513.23 Q1988.05 1513.23 1985.27 1512.68 Q1982.52 1512.12 1979.55 1511.03 L1979.55 1506.22 Q1982.4 1507.81 1985.13 1508.62 Q1987.86 1509.43 1990.5 1509.43 Q1994.51 1509.43 1996.68 1507.86 Q1998.86 1506.29 1998.86 1503.37 Q1998.86 1500.82 1997.29 1499.39 Q1995.73 1497.95 1992.17 1497.24 L1989.32 1496.68 Q1984.09 1495.64 1981.75 1493.42 Q1979.41 1491.19 1979.41 1487.24 Q1979.41 1482.65 1982.63 1480.01 Q1985.87 1477.37 1991.54 1477.37 Q1993.97 1477.37 1996.5 1477.81 Q1999.02 1478.25 2001.66 1479.13 Z\" fill=\"#000000\" fill-rule=\"evenodd\" fill-opacity=\"1\" /><path clip-path=\"url(#clip320)\" d=\"M 0 0 M2033.03 1498.53 L2033.03 1500.62 L2013.44 1500.62 Q2013.72 1505.01 2016.08 1507.33 Q2018.47 1509.62 2022.7 1509.62 Q2025.16 1509.62 2027.45 1509.02 Q2029.76 1508.42 2032.03 1507.21 L2032.03 1511.24 Q2029.74 1512.21 2027.33 1512.72 Q2024.92 1513.23 2022.45 1513.23 Q2016.24 1513.23 2012.61 1509.62 Q2009 1506.01 2009 1499.85 Q2009 1493.49 2012.42 1489.76 Q2015.87 1486.01 2021.71 1486.01 Q2026.94 1486.01 2029.97 1489.39 Q2033.03 1492.75 2033.03 1498.53 M2028.77 1497.28 Q2028.72 1493.79 2026.8 1491.7 Q2024.9 1489.62 2021.75 1489.62 Q2018.19 1489.62 2016.04 1491.63 Q2013.91 1493.65 2013.58 1497.31 L2028.77 1497.28 Z\" fill=\"#000000\" fill-rule=\"evenodd\" fill-opacity=\"1\" /><path clip-path=\"url(#clip320)\" d=\"M 0 0 M2055.04 1490.62 Q2054.32 1490.2 2053.47 1490.01 Q2052.63 1489.81 2051.61 1489.81 Q2048 1489.81 2046.06 1492.17 Q2044.14 1494.5 2044.14 1498.9 L2044.14 1512.56 L2039.85 1512.56 L2039.85 1486.63 L2044.14 1486.63 L2044.14 1490.66 Q2045.48 1488.3 2047.63 1487.17 Q2049.78 1486.01 2052.86 1486.01 Q2053.3 1486.01 2053.84 1486.08 Q2054.37 1486.12 2055.02 1486.24 L2055.04 1490.62 Z\" fill=\"#000000\" fill-rule=\"evenodd\" fill-opacity=\"1\" /><path clip-path=\"url(#clip320)\" d=\"M 0 0 M2059.51 1486.63 L2063.77 1486.63 L2063.77 1512.56 L2059.51 1512.56 L2059.51 1486.63 M2059.51 1476.54 L2063.77 1476.54 L2063.77 1481.94 L2059.51 1481.94 L2059.51 1476.54 Z\" fill=\"#000000\" fill-rule=\"evenodd\" fill-opacity=\"1\" /><path clip-path=\"url(#clip320)\" d=\"M 0 0 M2084.46 1499.53 Q2079.3 1499.53 2077.31 1500.71 Q2075.32 1501.89 2075.32 1504.74 Q2075.32 1507 2076.8 1508.35 Q2078.3 1509.67 2080.87 1509.67 Q2084.41 1509.67 2086.54 1507.17 Q2088.7 1504.64 2088.7 1500.48 L2088.7 1499.53 L2084.46 1499.53 M2092.96 1497.77 L2092.96 1512.56 L2088.7 1512.56 L2088.7 1508.62 Q2087.24 1510.99 2085.06 1512.12 Q2082.89 1513.23 2079.74 1513.23 Q2075.76 1513.23 2073.4 1511.01 Q2071.06 1508.76 2071.06 1505.01 Q2071.06 1500.64 2073.97 1498.42 Q2076.91 1496.19 2082.72 1496.19 L2088.7 1496.19 L2088.7 1495.78 Q2088.7 1492.84 2086.75 1491.24 Q2084.83 1489.62 2081.34 1489.62 Q2079.11 1489.62 2077.01 1490.15 Q2074.9 1490.68 2072.96 1491.75 L2072.96 1487.81 Q2075.29 1486.91 2077.49 1486.47 Q2079.69 1486.01 2081.78 1486.01 Q2087.4 1486.01 2090.18 1488.93 Q2092.96 1491.84 2092.96 1497.77 Z\" fill=\"#000000\" fill-rule=\"evenodd\" fill-opacity=\"1\" /><path clip-path=\"url(#clip320)\" d=\"M 0 0 M2101.73 1476.54 L2105.99 1476.54 L2105.99 1512.56 L2101.73 1512.56 L2101.73 1476.54 Z\" fill=\"#000000\" fill-rule=\"evenodd\" fill-opacity=\"1\" /><path clip-path=\"url(#clip320)\" d=\"M 0 0 M2114.9 1486.63 L2119.16 1486.63 L2119.16 1512.56 L2114.9 1512.56 L2114.9 1486.63 M2114.9 1476.54 L2119.16 1476.54 L2119.16 1481.94 L2114.9 1481.94 L2114.9 1476.54 Z\" fill=\"#000000\" fill-rule=\"evenodd\" fill-opacity=\"1\" /><path clip-path=\"url(#clip320)\" d=\"M 0 0 M2126.22 1486.63 L2146.45 1486.63 L2146.45 1490.52 L2130.43 1509.16 L2146.45 1509.16 L2146.45 1512.56 L2125.64 1512.56 L2125.64 1508.67 L2141.66 1490.04 L2126.22 1490.04 L2126.22 1486.63 Z\" fill=\"#000000\" fill-rule=\"evenodd\" fill-opacity=\"1\" /><path clip-path=\"url(#clip320)\" d=\"M 0 0 M2164.74 1499.53 Q2159.58 1499.53 2157.59 1500.71 Q2155.59 1501.89 2155.59 1504.74 Q2155.59 1507 2157.08 1508.35 Q2158.58 1509.67 2161.15 1509.67 Q2164.69 1509.67 2166.82 1507.17 Q2168.97 1504.64 2168.97 1500.48 L2168.97 1499.53 L2164.74 1499.53 M2173.23 1497.77 L2173.23 1512.56 L2168.97 1512.56 L2168.97 1508.62 Q2167.52 1510.99 2165.34 1512.12 Q2163.16 1513.23 2160.02 1513.23 Q2156.03 1513.23 2153.67 1511.01 Q2151.34 1508.76 2151.34 1505.01 Q2151.34 1500.64 2154.25 1498.42 Q2157.19 1496.19 2163 1496.19 L2168.97 1496.19 L2168.97 1495.78 Q2168.97 1492.84 2167.03 1491.24 Q2165.11 1489.62 2161.61 1489.62 Q2159.39 1489.62 2157.28 1490.15 Q2155.18 1490.68 2153.23 1491.75 L2153.23 1487.81 Q2155.57 1486.91 2157.77 1486.47 Q2159.97 1486.01 2162.05 1486.01 Q2167.68 1486.01 2170.46 1488.93 Q2173.23 1491.84 2173.23 1497.77 Z\" fill=\"#000000\" fill-rule=\"evenodd\" fill-opacity=\"1\" /><path clip-path=\"url(#clip320)\" d=\"M 0 0 M2186.22 1479.27 L2186.22 1486.63 L2194.99 1486.63 L2194.99 1489.94 L2186.22 1489.94 L2186.22 1504.02 Q2186.22 1507.19 2187.08 1508.09 Q2187.96 1509 2190.62 1509 L2194.99 1509 L2194.99 1512.56 L2190.62 1512.56 Q2185.69 1512.56 2183.81 1510.73 Q2181.94 1508.88 2181.94 1504.02 L2181.94 1489.94 L2178.81 1489.94 L2178.81 1486.63 L2181.94 1486.63 L2181.94 1479.27 L2186.22 1479.27 Z\" fill=\"#000000\" fill-rule=\"evenodd\" fill-opacity=\"1\" /><path clip-path=\"url(#clip320)\" d=\"M 0 0 M2200.59 1486.63 L2204.85 1486.63 L2204.85 1512.56 L2200.59 1512.56 L2200.59 1486.63 M2200.59 1476.54 L2204.85 1476.54 L2204.85 1481.94 L2200.59 1481.94 L2200.59 1476.54 Z\" fill=\"#000000\" fill-rule=\"evenodd\" fill-opacity=\"1\" /><path clip-path=\"url(#clip320)\" d=\"M 0 0 M2223.81 1489.62 Q2220.39 1489.62 2218.4 1492.31 Q2216.4 1494.97 2216.4 1499.62 Q2216.4 1504.27 2218.37 1506.96 Q2220.36 1509.62 2223.81 1509.62 Q2227.21 1509.62 2229.21 1506.93 Q2231.2 1504.25 2231.2 1499.62 Q2231.2 1495.01 2229.21 1492.33 Q2227.21 1489.62 2223.81 1489.62 M2223.81 1486.01 Q2229.37 1486.01 2232.54 1489.62 Q2235.71 1493.23 2235.71 1499.62 Q2235.71 1505.99 2232.54 1509.62 Q2229.37 1513.23 2223.81 1513.23 Q2218.23 1513.23 2215.06 1509.62 Q2211.91 1505.99 2211.91 1499.62 Q2211.91 1493.23 2215.06 1489.62 Q2218.23 1486.01 2223.81 1486.01 Z\" fill=\"#000000\" fill-rule=\"evenodd\" fill-opacity=\"1\" /><path clip-path=\"url(#clip320)\" d=\"M 0 0 M2264.32 1496.91 L2264.32 1512.56 L2260.06 1512.56 L2260.06 1497.05 Q2260.06 1493.37 2258.63 1491.54 Q2257.19 1489.71 2254.32 1489.71 Q2250.87 1489.71 2248.88 1491.91 Q2246.89 1494.11 2246.89 1497.91 L2246.89 1512.56 L2242.61 1512.56 L2242.61 1486.63 L2246.89 1486.63 L2246.89 1490.66 Q2248.42 1488.32 2250.48 1487.17 Q2252.56 1486.01 2255.27 1486.01 Q2259.74 1486.01 2262.03 1488.79 Q2264.32 1491.54 2264.32 1496.91 Z\" fill=\"#000000\" fill-rule=\"evenodd\" fill-opacity=\"1\" /><polyline clip-path=\"url(#clip322)\" style=\"stroke:#000000; stroke-width:2; stroke-opacity:0.1; fill:none\" points=\"\n",
       "  175.445,1417.71 2352.76,1417.71 \n",
       "  \"/>\n",
       "<polyline clip-path=\"url(#clip322)\" style=\"stroke:#000000; stroke-width:2; stroke-opacity:0.1; fill:none\" points=\"\n",
       "  175.445,1130.96 2352.76,1130.96 \n",
       "  \"/>\n",
       "<polyline clip-path=\"url(#clip322)\" style=\"stroke:#000000; stroke-width:2; stroke-opacity:0.1; fill:none\" points=\"\n",
       "  175.445,844.203 2352.76,844.203 \n",
       "  \"/>\n",
       "<polyline clip-path=\"url(#clip322)\" style=\"stroke:#000000; stroke-width:2; stroke-opacity:0.1; fill:none\" points=\"\n",
       "  175.445,557.448 2352.76,557.448 \n",
       "  \"/>\n",
       "<polyline clip-path=\"url(#clip322)\" style=\"stroke:#000000; stroke-width:2; stroke-opacity:0.1; fill:none\" points=\"\n",
       "  175.445,270.692 2352.76,270.692 \n",
       "  \"/>\n",
       "<polyline clip-path=\"url(#clip320)\" style=\"stroke:#000000; stroke-width:4; stroke-opacity:1; fill:none\" points=\"\n",
       "  175.445,1451.89 175.445,244.432 \n",
       "  \"/>\n",
       "<polyline clip-path=\"url(#clip320)\" style=\"stroke:#000000; stroke-width:4; stroke-opacity:1; fill:none\" points=\"\n",
       "  175.445,1417.71 201.573,1417.71 \n",
       "  \"/>\n",
       "<polyline clip-path=\"url(#clip320)\" style=\"stroke:#000000; stroke-width:4; stroke-opacity:1; fill:none\" points=\"\n",
       "  175.445,1130.96 201.573,1130.96 \n",
       "  \"/>\n",
       "<polyline clip-path=\"url(#clip320)\" style=\"stroke:#000000; stroke-width:4; stroke-opacity:1; fill:none\" points=\"\n",
       "  175.445,844.203 201.573,844.203 \n",
       "  \"/>\n",
       "<polyline clip-path=\"url(#clip320)\" style=\"stroke:#000000; stroke-width:4; stroke-opacity:1; fill:none\" points=\"\n",
       "  175.445,557.448 201.573,557.448 \n",
       "  \"/>\n",
       "<polyline clip-path=\"url(#clip320)\" style=\"stroke:#000000; stroke-width:4; stroke-opacity:1; fill:none\" points=\"\n",
       "  175.445,270.692 201.573,270.692 \n",
       "  \"/>\n",
       "<path clip-path=\"url(#clip320)\" d=\"M 0 0 M127.501 1403.51 Q123.89 1403.51 122.061 1407.08 Q120.255 1410.62 120.255 1417.75 Q120.255 1424.86 122.061 1428.42 Q123.89 1431.96 127.501 1431.96 Q131.135 1431.96 132.941 1428.42 Q134.769 1424.86 134.769 1417.75 Q134.769 1410.62 132.941 1407.08 Q131.135 1403.51 127.501 1403.51 M127.501 1399.81 Q133.311 1399.81 136.367 1404.42 Q139.445 1409 139.445 1417.75 Q139.445 1426.48 136.367 1431.08 Q133.311 1435.67 127.501 1435.67 Q121.691 1435.67 118.612 1431.08 Q115.556 1426.48 115.556 1417.75 Q115.556 1409 118.612 1404.42 Q121.691 1399.81 127.501 1399.81 Z\" fill=\"#000000\" fill-rule=\"evenodd\" fill-opacity=\"1\" /><path clip-path=\"url(#clip320)\" d=\"M 0 0 M123.126 1144.3 L139.445 1144.3 L139.445 1148.24 L117.501 1148.24 L117.501 1144.3 Q120.163 1141.55 124.746 1136.92 Q129.353 1132.27 130.533 1130.92 Q132.779 1128.4 133.658 1126.67 Q134.561 1124.91 134.561 1123.22 Q134.561 1120.46 132.617 1118.73 Q130.695 1116.99 127.593 1116.99 Q125.394 1116.99 122.941 1117.75 Q120.51 1118.52 117.732 1120.07 L117.732 1115.35 Q120.556 1114.21 123.01 1113.63 Q125.464 1113.05 127.501 1113.05 Q132.871 1113.05 136.066 1115.74 Q139.26 1118.42 139.26 1122.92 Q139.26 1125.04 138.45 1126.97 Q137.663 1128.86 135.556 1131.46 Q134.978 1132.13 131.876 1135.35 Q128.774 1138.54 123.126 1144.3 Z\" fill=\"#000000\" fill-rule=\"evenodd\" fill-opacity=\"1\" /><path clip-path=\"url(#clip320)\" d=\"M 0 0 M129.862 830.997 L118.056 849.446 L129.862 849.446 L129.862 830.997 M128.635 826.923 L134.515 826.923 L134.515 849.446 L139.445 849.446 L139.445 853.335 L134.515 853.335 L134.515 861.483 L129.862 861.483 L129.862 853.335 L114.26 853.335 L114.26 848.821 L128.635 826.923 Z\" fill=\"#000000\" fill-rule=\"evenodd\" fill-opacity=\"1\" /><path clip-path=\"url(#clip320)\" d=\"M 0 0 M127.917 555.584 Q124.769 555.584 122.918 557.737 Q121.089 559.89 121.089 563.64 Q121.089 567.367 122.918 569.543 Q124.769 571.695 127.917 571.695 Q131.066 571.695 132.894 569.543 Q134.746 567.367 134.746 563.64 Q134.746 559.89 132.894 557.737 Q131.066 555.584 127.917 555.584 M137.2 540.932 L137.2 545.191 Q135.441 544.358 133.635 543.918 Q131.853 543.478 130.093 543.478 Q125.464 543.478 123.01 546.603 Q120.58 549.728 120.232 556.047 Q121.598 554.033 123.658 552.969 Q125.718 551.881 128.195 551.881 Q133.404 551.881 136.413 555.052 Q139.445 558.2 139.445 563.64 Q139.445 568.964 136.297 572.182 Q133.149 575.399 127.917 575.399 Q121.922 575.399 118.751 570.816 Q115.58 566.209 115.58 557.483 Q115.58 549.288 119.468 544.427 Q123.357 539.543 129.908 539.543 Q131.667 539.543 133.45 539.89 Q135.255 540.237 137.2 540.932 Z\" fill=\"#000000\" fill-rule=\"evenodd\" fill-opacity=\"1\" /><path clip-path=\"url(#clip320)\" d=\"M 0 0 M127.593 271.56 Q124.26 271.56 122.339 273.343 Q120.441 275.125 120.441 278.25 Q120.441 281.375 122.339 283.157 Q124.26 284.94 127.593 284.94 Q130.927 284.94 132.848 283.157 Q134.769 281.352 134.769 278.25 Q134.769 275.125 132.848 273.343 Q130.95 271.56 127.593 271.56 M122.918 269.57 Q119.908 268.829 118.218 266.769 Q116.552 264.708 116.552 261.746 Q116.552 257.602 119.492 255.195 Q122.455 252.787 127.593 252.787 Q132.755 252.787 135.695 255.195 Q138.635 257.602 138.635 261.746 Q138.635 264.708 136.945 266.769 Q135.279 268.829 132.292 269.57 Q135.672 270.357 137.547 272.648 Q139.445 274.94 139.445 278.25 Q139.445 283.273 136.367 285.958 Q133.311 288.644 127.593 288.644 Q121.876 288.644 118.797 285.958 Q115.742 283.273 115.742 278.25 Q115.742 274.94 117.64 272.648 Q119.538 270.357 122.918 269.57 M121.205 262.185 Q121.205 264.87 122.871 266.375 Q124.561 267.88 127.593 267.88 Q130.603 267.88 132.292 266.375 Q134.005 264.87 134.005 262.185 Q134.005 259.5 132.292 257.996 Q130.603 256.491 127.593 256.491 Q124.561 256.491 122.871 257.996 Q121.205 259.5 121.205 262.185 Z\" fill=\"#000000\" fill-rule=\"evenodd\" fill-opacity=\"1\" /><path clip-path=\"url(#clip320)\" d=\"M 0 0 M18.0438 932.41 L24.314 932.41 Q22.5634 936.07 21.704 939.317 Q20.8447 942.563 20.8447 945.587 Q20.8447 950.839 22.8817 953.703 Q24.9187 956.536 28.6745 956.536 Q31.8255 956.536 33.4488 954.658 Q35.0402 952.749 36.0269 947.465 L36.8226 943.582 Q38.1912 936.389 41.6605 932.983 Q45.098 929.546 50.8908 929.546 Q57.7976 929.546 61.3624 934.193 Q64.9272 938.808 64.9272 947.751 Q64.9272 951.125 64.1633 954.945 Q63.3994 958.732 61.9035 962.806 L55.2831 962.806 Q57.4793 958.891 58.5933 955.136 Q59.7073 951.38 59.7073 947.751 Q59.7073 942.245 57.543 939.253 Q55.3786 936.261 51.3682 936.261 Q47.8671 936.261 45.8937 938.426 Q43.9204 940.558 42.9337 945.46 L42.1698 949.375 Q40.7375 956.568 37.682 959.783 Q34.6264 962.997 29.1837 962.997 Q22.8817 962.997 19.2532 958.573 Q15.6248 954.117 15.6248 946.319 Q15.6248 942.977 16.2295 939.508 Q16.8343 936.039 18.0438 932.41 Z\" fill=\"#000000\" fill-rule=\"evenodd\" fill-opacity=\"1\" /><path clip-path=\"url(#clip320)\" d=\"M 0 0 M44.7161 889.282 L47.5806 889.282 L47.5806 916.209 Q53.6281 915.827 56.8109 912.581 Q59.9619 909.303 59.9619 903.478 Q59.9619 900.104 59.1344 896.953 Q58.3069 893.77 56.6518 890.651 L62.1899 890.651 Q63.5267 893.802 64.227 897.112 Q64.9272 900.422 64.9272 903.828 Q64.9272 912.358 59.9619 917.355 Q54.9967 922.32 46.5303 922.32 Q37.7774 922.32 32.6531 917.61 Q27.4968 912.867 27.4968 904.847 Q27.4968 897.653 32.1438 893.484 Q36.7589 889.282 44.7161 889.282 M42.9973 895.139 Q38.1912 895.203 35.3266 897.844 Q32.4621 900.454 32.4621 904.783 Q32.4621 909.685 35.2312 912.645 Q38.0002 915.573 43.0292 916.018 L42.9973 895.139 Z\" fill=\"#000000\" fill-rule=\"evenodd\" fill-opacity=\"1\" /><path clip-path=\"url(#clip320)\" d=\"M 0 0 M29.7248 854.016 L35.1993 854.016 Q33.8307 856.499 33.1623 859.014 Q32.4621 861.496 32.4621 864.042 Q32.4621 869.74 36.0905 872.891 Q39.6872 876.042 46.212 876.042 Q52.7369 876.042 56.3653 872.891 Q59.9619 869.74 59.9619 864.042 Q59.9619 861.496 59.2935 859.014 Q58.5933 856.499 57.2247 854.016 L62.6355 854.016 Q63.7814 856.467 64.3543 859.109 Q64.9272 861.719 64.9272 864.679 Q64.9272 872.732 59.8664 877.474 Q54.8057 882.217 46.212 882.217 Q37.491 882.217 32.4939 877.442 Q27.4968 872.636 27.4968 864.297 Q27.4968 861.592 28.0697 859.014 Q28.6108 856.435 29.7248 854.016 Z\" fill=\"#000000\" fill-rule=\"evenodd\" fill-opacity=\"1\" /><path clip-path=\"url(#clip320)\" d=\"M 0 0 M32.4621 830.018 Q32.4621 834.728 36.1542 837.466 Q39.8145 840.203 46.212 840.203 Q52.6095 840.203 56.3017 837.497 Q59.9619 834.76 59.9619 830.018 Q59.9619 825.339 56.2698 822.602 Q52.5777 819.864 46.212 819.864 Q39.8781 819.864 36.186 822.602 Q32.4621 825.339 32.4621 830.018 M27.4968 830.018 Q27.4968 822.379 32.4621 818.018 Q37.4273 813.658 46.212 813.658 Q54.9649 813.658 59.9619 818.018 Q64.9272 822.379 64.9272 830.018 Q64.9272 837.688 59.9619 842.049 Q54.9649 846.378 46.212 846.378 Q37.4273 846.378 32.4621 842.049 Q27.4968 837.688 27.4968 830.018 Z\" fill=\"#000000\" fill-rule=\"evenodd\" fill-opacity=\"1\" /><path clip-path=\"url(#clip320)\" d=\"M 0 0 M42.4881 774.318 L64.0042 774.318 L64.0042 780.174 L42.679 780.174 Q37.6183 780.174 35.1038 782.148 Q32.5894 784.121 32.5894 788.068 Q32.5894 792.81 35.6131 795.547 Q38.6368 798.285 43.8567 798.285 L64.0042 798.285 L64.0042 804.173 L28.3562 804.173 L28.3562 798.285 L33.8944 798.285 Q30.6797 796.184 29.0883 793.351 Q27.4968 790.487 27.4968 786.763 Q27.4968 780.62 31.3163 777.469 Q35.1038 774.318 42.4881 774.318 Z\" fill=\"#000000\" fill-rule=\"evenodd\" fill-opacity=\"1\" /><path clip-path=\"url(#clip320)\" d=\"M 0 0 M33.7671 739.179 L14.479 739.179 L14.479 733.323 L64.0042 733.323 L64.0042 739.179 L58.657 739.179 Q61.8398 741.025 63.3994 743.858 Q64.9272 746.659 64.9272 750.606 Q64.9272 757.067 59.771 761.141 Q54.6147 765.183 46.212 765.183 Q37.8093 765.183 32.6531 761.141 Q27.4968 757.067 27.4968 750.606 Q27.4968 746.659 29.0564 743.858 Q30.5842 741.025 33.7671 739.179 M46.212 759.136 Q52.6732 759.136 56.3653 756.494 Q60.0256 753.82 60.0256 749.173 Q60.0256 744.526 56.3653 741.853 Q52.6732 739.179 46.212 739.179 Q39.7508 739.179 36.0905 741.853 Q32.3984 744.526 32.3984 749.173 Q32.3984 753.82 36.0905 756.494 Q39.7508 759.136 46.212 759.136 Z\" fill=\"#000000\" fill-rule=\"evenodd\" fill-opacity=\"1\" /><path clip-path=\"url(#clip320)\" d=\"M 0 0 M918.781 44.2197 Q921.414 45.1109 923.885 48.0275 Q926.397 50.9442 928.908 56.0483 L937.213 72.576 L928.422 72.576 L920.685 57.061 Q917.687 50.9847 914.852 48.9997 Q912.057 47.0148 907.196 47.0148 L898.284 47.0148 L898.284 72.576 L890.101 72.576 L890.101 12.096 L908.573 12.096 Q918.943 12.096 924.047 16.4305 Q929.152 20.7649 929.152 29.5149 Q929.152 35.2267 926.478 38.994 Q923.845 42.7613 918.781 44.2197 M898.284 18.8205 L898.284 40.2903 L908.573 40.2903 Q914.487 40.2903 917.485 37.5762 Q920.523 34.8216 920.523 29.5149 Q920.523 24.2082 917.485 21.5346 Q914.487 18.8205 908.573 18.8205 L898.284 18.8205 Z\" fill=\"#000000\" fill-rule=\"evenodd\" fill-opacity=\"1\" /><path clip-path=\"url(#clip320)\" d=\"M 0 0 M982.502 48.0275 L982.502 51.6733 L948.231 51.6733 Q948.717 59.3701 952.849 63.421 Q957.022 67.4314 964.435 67.4314 Q968.729 67.4314 972.739 66.3781 Q976.79 65.3249 980.76 63.2184 L980.76 70.267 Q976.75 71.9684 972.537 72.8596 Q968.324 73.7508 963.989 73.7508 Q953.133 73.7508 946.773 67.4314 Q940.454 61.1119 940.454 50.3365 Q940.454 39.1965 946.449 32.6746 Q952.485 26.1121 962.693 26.1121 Q971.848 26.1121 977.155 32.0264 Q982.502 37.9003 982.502 48.0275 M975.048 45.84 Q974.967 39.7232 971.605 36.0774 Q968.283 32.4315 962.774 32.4315 Q956.536 32.4315 952.768 35.9558 Q949.041 39.4801 948.474 45.8805 L975.048 45.84 Z\" fill=\"#000000\" fill-rule=\"evenodd\" fill-opacity=\"1\" /><path clip-path=\"url(#clip320)\" d=\"M 0 0 M1015.35 49.7694 Q1006.32 49.7694 1002.84 51.8354 Q999.354 53.9013 999.354 58.8839 Q999.354 62.8538 1001.95 65.2034 Q1004.58 67.5124 1009.08 67.5124 Q1015.27 67.5124 1019 63.1374 Q1022.77 58.7219 1022.77 51.4303 L1022.77 49.7694 L1015.35 49.7694 M1030.22 46.6907 L1030.22 72.576 L1022.77 72.576 L1022.77 65.6895 Q1020.22 69.8214 1016.41 71.8063 Q1012.6 73.7508 1007.09 73.7508 Q1000.12 73.7508 995.991 69.8619 Q991.9 65.9325 991.9 59.3701 Q991.9 51.7138 997.004 47.825 Q1002.15 43.9361 1012.32 43.9361 L1022.77 43.9361 L1022.77 43.2069 Q1022.77 38.0623 1019.37 35.2672 Q1016 32.4315 1009.89 32.4315 Q1006 32.4315 1002.31 33.3632 Q998.625 34.295 995.222 36.1584 L995.222 29.2718 Q999.313 27.692 1003.16 26.9223 Q1007.01 26.1121 1010.66 26.1121 Q1020.5 26.1121 1025.36 31.2163 Q1030.22 36.3204 1030.22 46.6907 Z\" fill=\"#000000\" fill-rule=\"evenodd\" fill-opacity=\"1\" /><path clip-path=\"url(#clip320)\" d=\"M 0 0 M1075.43 34.0924 L1075.43 9.54393 L1082.88 9.54393 L1082.88 72.576 L1075.43 72.576 L1075.43 65.7705 Q1073.08 69.8214 1069.47 71.8063 Q1065.91 73.7508 1060.89 73.7508 Q1052.66 73.7508 1047.48 67.1883 Q1042.33 60.6258 1042.33 49.9314 Q1042.33 39.2371 1047.48 32.6746 Q1052.66 26.1121 1060.89 26.1121 Q1065.91 26.1121 1069.47 28.0971 Q1073.08 30.0415 1075.43 34.0924 M1050.03 49.9314 Q1050.03 58.1548 1053.39 62.8538 Q1056.8 67.5124 1062.71 67.5124 Q1068.62 67.5124 1072.03 62.8538 Q1075.43 58.1548 1075.43 49.9314 Q1075.43 41.7081 1072.03 37.0496 Q1068.62 32.3505 1062.71 32.3505 Q1056.8 32.3505 1053.39 37.0496 Q1050.03 41.7081 1050.03 49.9314 Z\" fill=\"#000000\" fill-rule=\"evenodd\" fill-opacity=\"1\" /><path clip-path=\"url(#clip320)\" d=\"M 0 0 M1133.11 18.8205 L1133.11 41.5461 L1143.4 41.5461 Q1149.12 41.5461 1152.23 38.5889 Q1155.35 35.6318 1155.35 30.163 Q1155.35 24.7348 1152.23 21.7777 Q1149.12 18.8205 1143.4 18.8205 L1133.11 18.8205 M1124.93 12.096 L1143.4 12.096 Q1153.57 12.096 1158.76 16.714 Q1163.98 21.2916 1163.98 30.163 Q1163.98 39.1155 1158.76 43.6931 Q1153.57 48.2706 1143.4 48.2706 L1133.11 48.2706 L1133.11 72.576 L1124.93 72.576 L1124.93 12.096 Z\" fill=\"#000000\" fill-rule=\"evenodd\" fill-opacity=\"1\" /><path clip-path=\"url(#clip320)\" d=\"M 0 0 M1210.49 48.0275 L1210.49 51.6733 L1176.22 51.6733 Q1176.7 59.3701 1180.83 63.421 Q1185.01 67.4314 1192.42 67.4314 Q1196.71 67.4314 1200.72 66.3781 Q1204.78 65.3249 1208.74 63.2184 L1208.74 70.267 Q1204.73 71.9684 1200.52 72.8596 Q1196.31 73.7508 1191.97 73.7508 Q1181.12 73.7508 1174.76 67.4314 Q1168.44 61.1119 1168.44 50.3365 Q1168.44 39.1965 1174.43 32.6746 Q1180.47 26.1121 1190.68 26.1121 Q1199.83 26.1121 1205.14 32.0264 Q1210.49 37.9003 1210.49 48.0275 M1203.03 45.84 Q1202.95 39.7232 1199.59 36.0774 Q1196.27 32.4315 1190.76 32.4315 Q1184.52 32.4315 1180.75 35.9558 Q1177.03 39.4801 1176.46 45.8805 L1203.03 45.84 Z\" fill=\"#000000\" fill-rule=\"evenodd\" fill-opacity=\"1\" /><path clip-path=\"url(#clip320)\" d=\"M 0 0 M1249.01 34.1734 Q1247.76 33.4443 1246.26 33.1202 Q1244.8 32.7556 1243.02 32.7556 Q1236.7 32.7556 1233.29 36.8875 Q1229.93 40.9789 1229.93 48.6757 L1229.93 72.576 L1222.44 72.576 L1222.44 27.2059 L1229.93 27.2059 L1229.93 34.2544 Q1232.28 30.1225 1236.05 28.1376 Q1239.82 26.1121 1245.2 26.1121 Q1245.97 26.1121 1246.9 26.2337 Q1247.84 26.3147 1248.97 26.5172 L1249.01 34.1734 Z\" fill=\"#000000\" fill-rule=\"evenodd\" fill-opacity=\"1\" /><path clip-path=\"url(#clip320)\" d=\"M 0 0 M1279.8 9.54393 L1279.8 15.7418 L1272.67 15.7418 Q1268.66 15.7418 1267.08 17.3622 Q1265.54 18.9825 1265.54 23.1955 L1265.54 27.2059 L1277.81 27.2059 L1277.81 32.9987 L1265.54 32.9987 L1265.54 72.576 L1258.04 72.576 L1258.04 32.9987 L1250.91 32.9987 L1250.91 27.2059 L1258.04 27.2059 L1258.04 24.0462 Q1258.04 16.471 1261.57 13.0277 Q1265.09 9.54393 1272.75 9.54393 L1279.8 9.54393 Z\" fill=\"#000000\" fill-rule=\"evenodd\" fill-opacity=\"1\" /><path clip-path=\"url(#clip320)\" d=\"M 0 0 M1303.62 32.4315 Q1297.62 32.4315 1294.14 37.1306 Q1290.65 41.7891 1290.65 49.9314 Q1290.65 58.0738 1294.1 62.7728 Q1297.58 67.4314 1303.62 67.4314 Q1309.57 67.4314 1313.06 62.7323 Q1316.54 58.0333 1316.54 49.9314 Q1316.54 41.8701 1313.06 37.1711 Q1309.57 32.4315 1303.62 32.4315 M1303.62 26.1121 Q1313.34 26.1121 1318.89 32.4315 Q1324.44 38.7509 1324.44 49.9314 Q1324.44 61.0714 1318.89 67.4314 Q1313.34 73.7508 1303.62 73.7508 Q1293.85 73.7508 1288.3 67.4314 Q1282.8 61.0714 1282.8 49.9314 Q1282.8 38.7509 1288.3 32.4315 Q1293.85 26.1121 1303.62 26.1121 Z\" fill=\"#000000\" fill-rule=\"evenodd\" fill-opacity=\"1\" /><path clip-path=\"url(#clip320)\" d=\"M 0 0 M1363.08 34.1734 Q1361.83 33.4443 1360.33 33.1202 Q1358.87 32.7556 1357.09 32.7556 Q1350.77 32.7556 1347.37 36.8875 Q1344 40.9789 1344 48.6757 L1344 72.576 L1336.51 72.576 L1336.51 27.2059 L1344 27.2059 L1344 34.2544 Q1346.35 30.1225 1350.12 28.1376 Q1353.89 26.1121 1359.28 26.1121 Q1360.05 26.1121 1360.98 26.2337 Q1361.91 26.3147 1363.04 26.5172 L1363.08 34.1734 Z\" fill=\"#000000\" fill-rule=\"evenodd\" fill-opacity=\"1\" /><path clip-path=\"url(#clip320)\" d=\"M 0 0 M1404.77 35.9153 Q1407.56 30.8922 1411.45 28.5022 Q1415.34 26.1121 1420.61 26.1121 Q1427.7 26.1121 1431.54 31.0947 Q1435.39 36.0368 1435.39 45.1919 L1435.39 72.576 L1427.9 72.576 L1427.9 45.4349 Q1427.9 38.913 1425.59 35.7533 Q1423.28 32.5936 1418.54 32.5936 Q1412.75 32.5936 1409.39 36.4419 Q1406.02 40.2903 1406.02 46.9338 L1406.02 72.576 L1398.53 72.576 L1398.53 45.4349 Q1398.53 38.8725 1396.22 35.7533 Q1393.91 32.5936 1389.09 32.5936 Q1383.38 32.5936 1380.02 36.4824 Q1376.65 40.3308 1376.65 46.9338 L1376.65 72.576 L1369.16 72.576 L1369.16 27.2059 L1376.65 27.2059 L1376.65 34.2544 Q1379.21 30.082 1382.77 28.0971 Q1386.34 26.1121 1391.24 26.1121 Q1396.18 26.1121 1399.62 28.6237 Q1403.11 31.1352 1404.77 35.9153 Z\" fill=\"#000000\" fill-rule=\"evenodd\" fill-opacity=\"1\" /><path clip-path=\"url(#clip320)\" d=\"M 0 0 M1470.88 49.7694 Q1461.85 49.7694 1458.36 51.8354 Q1454.88 53.9013 1454.88 58.8839 Q1454.88 62.8538 1457.47 65.2034 Q1460.1 67.5124 1464.6 67.5124 Q1470.8 67.5124 1474.52 63.1374 Q1478.29 58.7219 1478.29 51.4303 L1478.29 49.7694 L1470.88 49.7694 M1485.75 46.6907 L1485.75 72.576 L1478.29 72.576 L1478.29 65.6895 Q1475.74 69.8214 1471.93 71.8063 Q1468.12 73.7508 1462.62 73.7508 Q1455.65 73.7508 1451.52 69.8619 Q1447.42 65.9325 1447.42 59.3701 Q1447.42 51.7138 1452.53 47.825 Q1457.67 43.9361 1467.84 43.9361 L1478.29 43.9361 L1478.29 43.2069 Q1478.29 38.0623 1474.89 35.2672 Q1471.53 32.4315 1465.41 32.4315 Q1461.52 32.4315 1457.84 33.3632 Q1454.15 34.295 1450.75 36.1584 L1450.75 29.2718 Q1454.84 27.692 1458.69 26.9223 Q1462.53 26.1121 1466.18 26.1121 Q1476.02 26.1121 1480.88 31.2163 Q1485.75 36.3204 1485.75 46.6907 Z\" fill=\"#000000\" fill-rule=\"evenodd\" fill-opacity=\"1\" /><path clip-path=\"url(#clip320)\" d=\"M 0 0 M1538.81 45.1919 L1538.81 72.576 L1531.36 72.576 L1531.36 45.4349 Q1531.36 38.994 1528.85 35.7938 Q1526.34 32.5936 1521.31 32.5936 Q1515.28 32.5936 1511.79 36.4419 Q1508.31 40.2903 1508.31 46.9338 L1508.31 72.576 L1500.82 72.576 L1500.82 27.2059 L1508.31 27.2059 L1508.31 34.2544 Q1510.98 30.163 1514.59 28.1376 Q1518.23 26.1121 1522.97 26.1121 Q1530.79 26.1121 1534.8 30.9732 Q1538.81 35.7938 1538.81 45.1919 Z\" fill=\"#000000\" fill-rule=\"evenodd\" fill-opacity=\"1\" /><path clip-path=\"url(#clip320)\" d=\"M 0 0 M1586.33 28.9478 L1586.33 35.9153 Q1583.17 34.1734 1579.97 33.3227 Q1576.81 32.4315 1573.57 32.4315 Q1566.32 32.4315 1562.31 37.0496 Q1558.3 41.6271 1558.3 49.9314 Q1558.3 58.2358 1562.31 62.8538 Q1566.32 67.4314 1573.57 67.4314 Q1576.81 67.4314 1579.97 66.5807 Q1583.17 65.6895 1586.33 63.9476 L1586.33 70.8341 Q1583.21 72.2924 1579.85 73.0216 Q1576.53 73.7508 1572.76 73.7508 Q1562.51 73.7508 1556.47 67.3098 Q1550.44 60.8689 1550.44 49.9314 Q1550.44 38.832 1556.52 32.472 Q1562.63 26.1121 1573.25 26.1121 Q1576.69 26.1121 1579.97 26.8413 Q1583.25 27.5299 1586.33 28.9478 Z\" fill=\"#000000\" fill-rule=\"evenodd\" fill-opacity=\"1\" /><path clip-path=\"url(#clip320)\" d=\"M 0 0 M1638.1 48.0275 L1638.1 51.6733 L1603.83 51.6733 Q1604.32 59.3701 1608.45 63.421 Q1612.62 67.4314 1620.03 67.4314 Q1624.33 67.4314 1628.34 66.3781 Q1632.39 65.3249 1636.36 63.2184 L1636.36 70.267 Q1632.35 71.9684 1628.14 72.8596 Q1623.92 73.7508 1619.59 73.7508 Q1608.73 73.7508 1602.37 67.4314 Q1596.05 61.1119 1596.05 50.3365 Q1596.05 39.1965 1602.05 32.6746 Q1608.08 26.1121 1618.29 26.1121 Q1627.45 26.1121 1632.75 32.0264 Q1638.1 37.9003 1638.1 48.0275 M1630.65 45.84 Q1630.57 39.7232 1627.2 36.0774 Q1623.88 32.4315 1618.37 32.4315 Q1612.13 32.4315 1608.37 35.9558 Q1604.64 39.4801 1604.07 45.8805 L1630.65 45.84 Z\" fill=\"#000000\" fill-rule=\"evenodd\" fill-opacity=\"1\" /><path clip-path=\"url(#clip320)\" d=\"M 0 0 M914.994 109.541 L914.994 156.571 L924.878 156.571 Q937.395 156.571 943.188 150.9 Q949.021 145.229 949.021 132.995 Q949.021 120.843 943.188 115.212 Q937.395 109.541 924.878 109.541 L914.994 109.541 M906.811 102.816 L923.622 102.816 Q941.203 102.816 949.426 110.148 Q957.65 117.44 957.65 132.995 Q957.65 148.632 949.386 155.964 Q941.122 163.296 923.622 163.296 L906.811 163.296 L906.811 102.816 Z\" fill=\"#000000\" fill-rule=\"evenodd\" fill-opacity=\"1\" /><path clip-path=\"url(#clip320)\" d=\"M 0 0 M990.989 140.489 Q981.955 140.489 978.471 142.555 Q974.988 144.621 974.988 149.604 Q974.988 153.574 977.58 155.923 Q980.213 158.232 984.71 158.232 Q990.908 158.232 994.634 153.857 Q998.402 149.442 998.402 142.15 L998.402 140.489 L990.989 140.489 M1005.86 137.411 L1005.86 163.296 L998.402 163.296 L998.402 156.409 Q995.85 160.541 992.042 162.526 Q988.234 164.471 982.725 164.471 Q975.757 164.471 971.625 160.582 Q967.534 156.653 967.534 150.09 Q967.534 142.434 972.638 138.545 Q977.783 134.656 987.95 134.656 L998.402 134.656 L998.402 133.927 Q998.402 128.782 994.999 125.987 Q991.637 123.152 985.52 123.152 Q981.631 123.152 977.945 124.083 Q974.258 125.015 970.856 126.878 L970.856 119.992 Q974.947 118.412 978.795 117.642 Q982.644 116.832 986.29 116.832 Q996.133 116.832 1000.99 121.936 Q1005.86 127.04 1005.86 137.411 Z\" fill=\"#000000\" fill-rule=\"evenodd\" fill-opacity=\"1\" /><path clip-path=\"url(#clip320)\" d=\"M 0 0 M1028.58 105.044 L1028.58 117.926 L1043.93 117.926 L1043.93 123.719 L1028.58 123.719 L1028.58 148.348 Q1028.58 153.898 1030.08 155.478 Q1031.62 157.058 1036.28 157.058 L1043.93 157.058 L1043.93 163.296 L1036.28 163.296 Q1027.65 163.296 1024.37 160.096 Q1021.09 156.855 1021.09 148.348 L1021.09 123.719 L1015.62 123.719 L1015.62 117.926 L1021.09 117.926 L1021.09 105.044 L1028.58 105.044 Z\" fill=\"#000000\" fill-rule=\"evenodd\" fill-opacity=\"1\" /><path clip-path=\"url(#clip320)\" d=\"M 0 0 M1074.36 140.489 Q1065.32 140.489 1061.84 142.555 Q1058.36 144.621 1058.36 149.604 Q1058.36 153.574 1060.95 155.923 Q1063.58 158.232 1068.08 158.232 Q1074.28 158.232 1078 153.857 Q1081.77 149.442 1081.77 142.15 L1081.77 140.489 L1074.36 140.489 M1089.22 137.411 L1089.22 163.296 L1081.77 163.296 L1081.77 156.409 Q1079.22 160.541 1075.41 162.526 Q1071.6 164.471 1066.09 164.471 Q1059.12 164.471 1054.99 160.582 Q1050.9 156.653 1050.9 150.09 Q1050.9 142.434 1056.01 138.545 Q1061.15 134.656 1071.32 134.656 L1081.77 134.656 L1081.77 133.927 Q1081.77 128.782 1078.37 125.987 Q1075 123.152 1068.89 123.152 Q1065 123.152 1061.31 124.083 Q1057.63 125.015 1054.22 126.878 L1054.22 119.992 Q1058.31 118.412 1062.16 117.642 Q1066.01 116.832 1069.66 116.832 Q1079.5 116.832 1084.36 121.936 Q1089.22 127.04 1089.22 137.411 Z\" fill=\"#000000\" fill-rule=\"evenodd\" fill-opacity=\"1\" /><path clip-path=\"url(#clip320)\" d=\"M 0 0 M1104.9 102.816 L1139.66 102.816 L1139.66 109.703 L1113.08 109.703 L1113.08 127.527 L1137.06 127.527 L1137.06 134.413 L1113.08 134.413 L1113.08 163.296 L1104.9 163.296 L1104.9 102.816 Z\" fill=\"#000000\" fill-rule=\"evenodd\" fill-opacity=\"1\" /><path clip-path=\"url(#clip320)\" d=\"M 0 0 M1172.55 124.893 Q1171.29 124.164 1169.8 123.84 Q1168.34 123.476 1166.55 123.476 Q1160.24 123.476 1156.83 127.608 Q1153.47 131.699 1153.47 139.396 L1153.47 163.296 L1145.98 163.296 L1145.98 117.926 L1153.47 117.926 L1153.47 124.974 Q1155.82 120.843 1159.59 118.858 Q1163.35 116.832 1168.74 116.832 Q1169.51 116.832 1170.44 116.954 Q1171.38 117.035 1172.51 117.237 L1172.55 124.893 Z\" fill=\"#000000\" fill-rule=\"evenodd\" fill-opacity=\"1\" /><path clip-path=\"url(#clip320)\" d=\"M 0 0 M1200.99 140.489 Q1191.95 140.489 1188.47 142.555 Q1184.99 144.621 1184.99 149.604 Q1184.99 153.574 1187.58 155.923 Q1190.21 158.232 1194.71 158.232 Q1200.91 158.232 1204.63 153.857 Q1208.4 149.442 1208.4 142.15 L1208.4 140.489 L1200.99 140.489 M1215.85 137.411 L1215.85 163.296 L1208.4 163.296 L1208.4 156.409 Q1205.85 160.541 1202.04 162.526 Q1198.23 164.471 1192.72 164.471 Q1185.76 164.471 1181.62 160.582 Q1177.53 156.653 1177.53 150.09 Q1177.53 142.434 1182.64 138.545 Q1187.78 134.656 1197.95 134.656 L1208.4 134.656 L1208.4 133.927 Q1208.4 128.782 1205 125.987 Q1201.64 123.152 1195.52 123.152 Q1191.63 123.152 1187.94 124.083 Q1184.26 125.015 1180.85 126.878 L1180.85 119.992 Q1184.95 118.412 1188.79 117.642 Q1192.64 116.832 1196.29 116.832 Q1206.13 116.832 1210.99 121.936 Q1215.85 127.04 1215.85 137.411 Z\" fill=\"#000000\" fill-rule=\"evenodd\" fill-opacity=\"1\" /><path clip-path=\"url(#clip320)\" d=\"M 0 0 M1266.53 126.635 Q1269.33 121.612 1273.22 119.222 Q1277.1 116.832 1282.37 116.832 Q1289.46 116.832 1293.31 121.815 Q1297.16 126.757 1297.16 135.912 L1297.16 163.296 L1289.66 163.296 L1289.66 136.155 Q1289.66 129.633 1287.35 126.473 Q1285.04 123.314 1280.3 123.314 Q1274.51 123.314 1271.15 127.162 Q1267.79 131.01 1267.79 137.654 L1267.79 163.296 L1260.29 163.296 L1260.29 136.155 Q1260.29 129.592 1257.98 126.473 Q1255.67 123.314 1250.85 123.314 Q1245.14 123.314 1241.78 127.202 Q1238.42 131.051 1238.42 137.654 L1238.42 163.296 L1230.92 163.296 L1230.92 117.926 L1238.42 117.926 L1238.42 124.974 Q1240.97 120.802 1244.53 118.817 Q1248.1 116.832 1253 116.832 Q1257.94 116.832 1261.39 119.344 Q1264.87 121.855 1266.53 126.635 Z\" fill=\"#000000\" fill-rule=\"evenodd\" fill-opacity=\"1\" /><path clip-path=\"url(#clip320)\" d=\"M 0 0 M1350.83 138.748 L1350.83 142.393 L1316.56 142.393 Q1317.05 150.09 1321.18 154.141 Q1325.35 158.151 1332.76 158.151 Q1337.06 158.151 1341.07 157.098 Q1345.12 156.045 1349.09 153.938 L1349.09 160.987 Q1345.08 162.688 1340.87 163.58 Q1336.65 164.471 1332.32 164.471 Q1321.46 164.471 1315.1 158.151 Q1308.78 151.832 1308.78 141.057 Q1308.78 129.917 1314.78 123.395 Q1320.81 116.832 1331.02 116.832 Q1340.18 116.832 1345.48 122.746 Q1350.83 128.62 1350.83 138.748 M1343.38 136.56 Q1343.3 130.443 1339.93 126.797 Q1336.61 123.152 1331.1 123.152 Q1324.86 123.152 1321.1 126.676 Q1317.37 130.2 1316.8 136.601 L1343.38 136.56 Z\" fill=\"#000000\" fill-rule=\"evenodd\" fill-opacity=\"1\" /><path clip-path=\"url(#clip320)\" d=\"M 0 0 M1364.97 153.007 L1373.52 153.007 L1373.52 163.296 L1364.97 163.296 L1364.97 153.007 M1364.97 120.397 L1373.52 120.397 L1373.52 130.686 L1364.97 130.686 L1364.97 120.397 Z\" fill=\"#000000\" fill-rule=\"evenodd\" fill-opacity=\"1\" /><path clip-path=\"url(#clip320)\" d=\"M 0 0 M1449.96 140.651 Q1449.96 132.428 1446.55 127.77 Q1443.19 123.071 1437.28 123.071 Q1431.36 123.071 1427.96 127.77 Q1424.6 132.428 1424.6 140.651 Q1424.6 148.875 1427.96 153.574 Q1431.36 158.232 1437.28 158.232 Q1443.19 158.232 1446.55 153.574 Q1449.96 148.875 1449.96 140.651 M1424.6 124.812 Q1426.95 120.762 1430.51 118.817 Q1434.12 116.832 1439.1 116.832 Q1447.36 116.832 1452.51 123.395 Q1457.69 129.957 1457.69 140.651 Q1457.69 151.346 1452.51 157.908 Q1447.36 164.471 1439.1 164.471 Q1434.12 164.471 1430.51 162.526 Q1426.95 160.541 1424.6 156.49 L1424.6 163.296 L1417.1 163.296 L1417.1 100.264 L1424.6 100.264 L1424.6 124.812 Z\" fill=\"#000000\" fill-rule=\"evenodd\" fill-opacity=\"1\" /><path clip-path=\"url(#clip320)\" d=\"M 0 0 M1470.05 117.926 L1477.5 117.926 L1477.5 163.296 L1470.05 163.296 L1470.05 117.926 M1470.05 100.264 L1477.5 100.264 L1477.5 109.703 L1470.05 109.703 L1470.05 100.264 Z\" fill=\"#000000\" fill-rule=\"evenodd\" fill-opacity=\"1\" /><path clip-path=\"url(#clip320)\" d=\"M 0 0 M1522.95 140.084 Q1522.95 131.983 1519.59 127.527 Q1516.27 123.071 1510.23 123.071 Q1504.24 123.071 1500.88 127.527 Q1497.55 131.983 1497.55 140.084 Q1497.55 148.146 1500.88 152.602 Q1504.24 157.058 1510.23 157.058 Q1516.27 157.058 1519.59 152.602 Q1522.95 148.146 1522.95 140.084 M1530.41 157.665 Q1530.41 169.251 1525.26 174.882 Q1520.12 180.553 1509.5 180.553 Q1505.57 180.553 1502.09 179.945 Q1498.61 179.378 1495.33 178.163 L1495.33 170.912 Q1498.61 172.694 1501.81 173.545 Q1505.01 174.395 1508.33 174.395 Q1515.66 174.395 1519.31 170.547 Q1522.95 166.739 1522.95 159.002 L1522.95 155.316 Q1520.64 159.326 1517.04 161.311 Q1513.43 163.296 1508.41 163.296 Q1500.07 163.296 1494.96 156.936 Q1489.86 150.576 1489.86 140.084 Q1489.86 129.552 1494.96 123.192 Q1500.07 116.832 1508.41 116.832 Q1513.43 116.832 1517.04 118.817 Q1520.64 120.802 1522.95 124.812 L1522.95 117.926 L1530.41 117.926 L1530.41 157.665 Z\" fill=\"#000000\" fill-rule=\"evenodd\" fill-opacity=\"1\" /><path clip-path=\"url(#clip320)\" d=\"M 0 0 M1575.62 124.812 L1575.62 100.264 L1583.07 100.264 L1583.07 163.296 L1575.62 163.296 L1575.62 156.49 Q1573.27 160.541 1569.66 162.526 Q1566.1 164.471 1561.07 164.471 Q1552.85 164.471 1547.66 157.908 Q1542.52 151.346 1542.52 140.651 Q1542.52 129.957 1547.66 123.395 Q1552.85 116.832 1561.07 116.832 Q1566.1 116.832 1569.66 118.817 Q1573.27 120.762 1575.62 124.812 M1550.22 140.651 Q1550.22 148.875 1553.58 153.574 Q1556.98 158.232 1562.9 158.232 Q1568.81 158.232 1572.21 153.574 Q1575.62 148.875 1575.62 140.651 Q1575.62 132.428 1572.21 127.77 Q1568.81 123.071 1562.9 123.071 Q1556.98 123.071 1553.58 127.77 Q1550.22 132.428 1550.22 140.651 Z\" fill=\"#000000\" fill-rule=\"evenodd\" fill-opacity=\"1\" /><path clip-path=\"url(#clip320)\" d=\"M 0 0 M1621.39 100.264 L1621.39 106.462 L1614.26 106.462 Q1610.25 106.462 1608.67 108.082 Q1607.13 109.703 1607.13 113.915 L1607.13 117.926 L1619.41 117.926 L1619.41 123.719 L1607.13 123.719 L1607.13 163.296 L1599.64 163.296 L1599.64 123.719 L1592.51 123.719 L1592.51 117.926 L1599.64 117.926 L1599.64 114.766 Q1599.64 107.191 1603.16 103.748 Q1606.69 100.264 1614.34 100.264 L1621.39 100.264 Z\" fill=\"#000000\" fill-rule=\"evenodd\" fill-opacity=\"1\" /><path clip-path=\"url(#clip320)\" d=\"M 0 0 M874.363 195.521 L874.363 203.501 Q869.705 201.273 865.573 200.179 Q861.441 199.086 857.592 199.086 Q850.908 199.086 847.263 201.678 Q843.657 204.271 843.657 209.051 Q843.657 213.061 846.047 215.127 Q848.478 217.153 855.202 218.409 L860.144 219.421 Q869.299 221.163 873.634 225.579 Q878.009 229.954 878.009 237.326 Q878.009 246.117 872.095 250.654 Q866.221 255.191 854.838 255.191 Q850.544 255.191 845.683 254.219 Q840.862 253.246 835.677 251.342 L835.677 242.917 Q840.66 245.712 845.44 247.129 Q850.22 248.547 854.838 248.547 Q861.846 248.547 865.654 245.793 Q869.461 243.038 869.461 237.934 Q869.461 233.478 866.707 230.966 Q863.993 228.455 857.754 227.199 L852.772 226.227 Q843.617 224.404 839.525 220.515 Q835.434 216.626 835.434 209.699 Q835.434 201.678 841.065 197.06 Q846.736 192.442 856.661 192.442 Q860.914 192.442 865.33 193.212 Q869.745 193.982 874.363 195.521 Z\" fill=\"#000000\" fill-rule=\"evenodd\" fill-opacity=\"1\" /><path clip-path=\"url(#clip320)\" d=\"M 0 0 M890.445 208.646 L897.899 208.646 L897.899 254.016 L890.445 254.016 L890.445 208.646 M890.445 190.984 L897.899 190.984 L897.899 200.423 L890.445 200.423 L890.445 190.984 Z\" fill=\"#000000\" fill-rule=\"evenodd\" fill-opacity=\"1\" /><path clip-path=\"url(#clip320)\" d=\"M 0 0 M910.254 208.646 L945.659 208.646 L945.659 215.451 L917.627 248.061 L945.659 248.061 L945.659 254.016 L909.241 254.016 L909.241 247.21 L937.274 214.601 L910.254 214.601 L910.254 208.646 Z\" fill=\"#000000\" fill-rule=\"evenodd\" fill-opacity=\"1\" /><path clip-path=\"url(#clip320)\" d=\"M 0 0 M995.85 229.468 L995.85 233.113 L961.579 233.113 Q962.065 240.81 966.197 244.861 Q970.369 248.871 977.783 248.871 Q982.077 248.871 986.087 247.818 Q990.138 246.765 994.108 244.658 L994.108 251.707 Q990.097 253.408 985.884 254.3 Q981.672 255.191 977.337 255.191 Q966.481 255.191 960.121 248.871 Q953.801 242.552 953.801 231.777 Q953.801 220.637 959.797 214.115 Q965.832 207.552 976.041 207.552 Q985.196 207.552 990.502 213.466 Q995.85 219.34 995.85 229.468 M988.396 227.28 Q988.315 221.163 984.953 217.517 Q981.631 213.872 976.122 213.872 Q969.883 213.872 966.116 217.396 Q962.389 220.92 961.822 227.321 L988.396 227.28 Z\" fill=\"#000000\" fill-rule=\"evenodd\" fill-opacity=\"1\" /><path clip-path=\"url(#clip320)\" d=\"M 0 0 M1009.99 243.727 L1018.53 243.727 L1018.53 254.016 L1009.99 254.016 L1009.99 243.727 M1009.99 211.117 L1018.53 211.117 L1018.53 221.406 L1009.99 221.406 L1009.99 211.117 Z\" fill=\"#000000\" fill-rule=\"evenodd\" fill-opacity=\"1\" /><path clip-path=\"url(#clip320)\" d=\"M 0 0 M1080.31 191.065 Q1074.88 200.382 1072.25 209.497 Q1069.62 218.611 1069.62 227.969 Q1069.62 237.326 1072.25 246.522 Q1074.92 255.677 1080.31 264.953 L1073.83 264.953 Q1067.75 255.434 1064.72 246.238 Q1061.72 237.043 1061.72 227.969 Q1061.72 218.935 1064.72 209.78 Q1067.71 200.625 1073.83 191.065 L1080.31 191.065 Z\" fill=\"#000000\" fill-rule=\"evenodd\" fill-opacity=\"1\" /><path clip-path=\"url(#clip320)\" d=\"M 0 0 M1097.24 247.129 L1110.61 247.129 L1110.61 200.99 L1096.07 203.906 L1096.07 196.453 L1110.53 193.536 L1118.71 193.536 L1118.71 247.129 L1132.08 247.129 L1132.08 254.016 L1097.24 254.016 L1097.24 247.129 Z\" fill=\"#000000\" fill-rule=\"evenodd\" fill-opacity=\"1\" /><path clip-path=\"url(#clip320)\" d=\"M 0 0 M1166.11 198.924 Q1159.79 198.924 1156.59 205.162 Q1153.43 211.36 1153.43 223.837 Q1153.43 236.273 1156.59 242.511 Q1159.79 248.709 1166.11 248.709 Q1172.47 248.709 1175.63 242.511 Q1178.83 236.273 1178.83 223.837 Q1178.83 211.36 1175.63 205.162 Q1172.47 198.924 1166.11 198.924 M1166.11 192.442 Q1176.28 192.442 1181.62 200.504 Q1187.01 208.524 1187.01 223.837 Q1187.01 239.109 1181.62 247.17 Q1176.28 255.191 1166.11 255.191 Q1155.94 255.191 1150.55 247.17 Q1145.21 239.109 1145.21 223.837 Q1145.21 208.524 1150.55 200.504 Q1155.94 192.442 1166.11 192.442 Z\" fill=\"#000000\" fill-rule=\"evenodd\" fill-opacity=\"1\" /><path clip-path=\"url(#clip320)\" d=\"M 0 0 M1218.89 198.924 Q1212.57 198.924 1209.37 205.162 Q1206.21 211.36 1206.21 223.837 Q1206.21 236.273 1209.37 242.511 Q1212.57 248.709 1218.89 248.709 Q1225.25 248.709 1228.41 242.511 Q1231.61 236.273 1231.61 223.837 Q1231.61 211.36 1228.41 205.162 Q1225.25 198.924 1218.89 198.924 M1218.89 192.442 Q1229.06 192.442 1234.41 200.504 Q1239.8 208.524 1239.8 223.837 Q1239.8 239.109 1234.41 247.17 Q1229.06 255.191 1218.89 255.191 Q1208.72 255.191 1203.34 247.17 Q1197.99 239.109 1197.99 223.837 Q1197.99 208.524 1203.34 200.504 Q1208.72 192.442 1218.89 192.442 Z\" fill=\"#000000\" fill-rule=\"evenodd\" fill-opacity=\"1\" /><path clip-path=\"url(#clip320)\" d=\"M 0 0 M1271.68 198.924 Q1265.36 198.924 1262.16 205.162 Q1259 211.36 1259 223.837 Q1259 236.273 1262.16 242.511 Q1265.36 248.709 1271.68 248.709 Q1278.04 248.709 1281.2 242.511 Q1284.4 236.273 1284.4 223.837 Q1284.4 211.36 1281.2 205.162 Q1278.04 198.924 1271.68 198.924 M1271.68 192.442 Q1281.84 192.442 1287.19 200.504 Q1292.58 208.524 1292.58 223.837 Q1292.58 239.109 1287.19 247.17 Q1281.84 255.191 1271.68 255.191 Q1261.51 255.191 1256.12 247.17 Q1250.77 239.109 1250.77 223.837 Q1250.77 208.524 1256.12 200.504 Q1261.51 192.442 1271.68 192.442 Z\" fill=\"#000000\" fill-rule=\"evenodd\" fill-opacity=\"1\" /><path clip-path=\"url(#clip320)\" d=\"M 0 0 M1324.46 198.924 Q1318.14 198.924 1314.94 205.162 Q1311.78 211.36 1311.78 223.837 Q1311.78 236.273 1314.94 242.511 Q1318.14 248.709 1324.46 248.709 Q1330.82 248.709 1333.98 242.511 Q1337.18 236.273 1337.18 223.837 Q1337.18 211.36 1333.98 205.162 Q1330.82 198.924 1324.46 198.924 M1324.46 192.442 Q1334.63 192.442 1339.97 200.504 Q1345.36 208.524 1345.36 223.837 Q1345.36 239.109 1339.97 247.17 Q1334.63 255.191 1324.46 255.191 Q1314.29 255.191 1308.9 247.17 Q1303.56 239.109 1303.56 223.837 Q1303.56 208.524 1308.9 200.504 Q1314.29 192.442 1324.46 192.442 Z\" fill=\"#000000\" fill-rule=\"evenodd\" fill-opacity=\"1\" /><path clip-path=\"url(#clip320)\" d=\"M 0 0 M1377.24 198.924 Q1370.92 198.924 1367.72 205.162 Q1364.56 211.36 1364.56 223.837 Q1364.56 236.273 1367.72 242.511 Q1370.92 248.709 1377.24 248.709 Q1383.6 248.709 1386.76 242.511 Q1389.96 236.273 1389.96 223.837 Q1389.96 211.36 1386.76 205.162 Q1383.6 198.924 1377.24 198.924 M1377.24 192.442 Q1387.41 192.442 1392.76 200.504 Q1398.14 208.524 1398.14 223.837 Q1398.14 239.109 1392.76 247.17 Q1387.41 255.191 1377.24 255.191 Q1367.07 255.191 1361.69 247.17 Q1356.34 239.109 1356.34 223.837 Q1356.34 208.524 1361.69 200.504 Q1367.07 192.442 1377.24 192.442 Z\" fill=\"#000000\" fill-rule=\"evenodd\" fill-opacity=\"1\" /><path clip-path=\"url(#clip320)\" d=\"M 0 0 M1413.38 243.727 L1421.92 243.727 L1421.92 250.694 L1415.28 263.657 L1410.05 263.657 L1413.38 250.694 L1413.38 243.727 Z\" fill=\"#000000\" fill-rule=\"evenodd\" fill-opacity=\"1\" /><path clip-path=\"url(#clip320)\" d=\"M 0 0 M1466.69 247.129 L1480.05 247.129 L1480.05 200.99 L1465.51 203.906 L1465.51 196.453 L1479.97 193.536 L1488.16 193.536 L1488.16 247.129 L1501.52 247.129 L1501.52 254.016 L1466.69 254.016 L1466.69 247.129 Z\" fill=\"#000000\" fill-rule=\"evenodd\" fill-opacity=\"1\" /><path clip-path=\"url(#clip320)\" d=\"M 0 0 M1535.55 198.924 Q1529.23 198.924 1526.03 205.162 Q1522.87 211.36 1522.87 223.837 Q1522.87 236.273 1526.03 242.511 Q1529.23 248.709 1535.55 248.709 Q1541.91 248.709 1545.07 242.511 Q1548.27 236.273 1548.27 223.837 Q1548.27 211.36 1545.07 205.162 Q1541.91 198.924 1535.55 198.924 M1535.55 192.442 Q1545.72 192.442 1551.07 200.504 Q1556.45 208.524 1556.45 223.837 Q1556.45 239.109 1551.07 247.17 Q1545.72 255.191 1535.55 255.191 Q1525.38 255.191 1520 247.17 Q1514.65 239.109 1514.65 223.837 Q1514.65 208.524 1520 200.504 Q1525.38 192.442 1535.55 192.442 Z\" fill=\"#000000\" fill-rule=\"evenodd\" fill-opacity=\"1\" /><path clip-path=\"url(#clip320)\" d=\"M 0 0 M1588.33 198.924 Q1582.02 198.924 1578.82 205.162 Q1575.66 211.36 1575.66 223.837 Q1575.66 236.273 1578.82 242.511 Q1582.02 248.709 1588.33 248.709 Q1594.69 248.709 1597.85 242.511 Q1601.05 236.273 1601.05 223.837 Q1601.05 211.36 1597.85 205.162 Q1594.69 198.924 1588.33 198.924 M1588.33 192.442 Q1598.5 192.442 1603.85 200.504 Q1609.24 208.524 1609.24 223.837 Q1609.24 239.109 1603.85 247.17 Q1598.5 255.191 1588.33 255.191 Q1578.17 255.191 1572.78 247.17 Q1567.43 239.109 1567.43 223.837 Q1567.43 208.524 1572.78 200.504 Q1578.17 192.442 1588.33 192.442 Z\" fill=\"#000000\" fill-rule=\"evenodd\" fill-opacity=\"1\" /><path clip-path=\"url(#clip320)\" d=\"M 0 0 M1641.12 198.924 Q1634.8 198.924 1631.6 205.162 Q1628.44 211.36 1628.44 223.837 Q1628.44 236.273 1631.6 242.511 Q1634.8 248.709 1641.12 248.709 Q1647.48 248.709 1650.64 242.511 Q1653.84 236.273 1653.84 223.837 Q1653.84 211.36 1650.64 205.162 Q1647.48 198.924 1641.12 198.924 M1641.12 192.442 Q1651.29 192.442 1656.63 200.504 Q1662.02 208.524 1662.02 223.837 Q1662.02 239.109 1656.63 247.17 Q1651.29 255.191 1641.12 255.191 Q1630.95 255.191 1625.56 247.17 Q1620.22 239.109 1620.22 223.837 Q1620.22 208.524 1625.56 200.504 Q1630.95 192.442 1641.12 192.442 Z\" fill=\"#000000\" fill-rule=\"evenodd\" fill-opacity=\"1\" /><path clip-path=\"url(#clip320)\" d=\"M 0 0 M1674.17 191.065 L1680.66 191.065 Q1686.73 200.625 1689.73 209.78 Q1692.77 218.935 1692.77 227.969 Q1692.77 237.043 1689.73 246.238 Q1686.73 255.434 1680.66 264.953 L1674.17 264.953 Q1679.56 255.677 1682.19 246.522 Q1684.87 237.326 1684.87 227.969 Q1684.87 218.611 1682.19 209.497 Q1679.56 200.382 1674.17 191.065 Z\" fill=\"#000000\" fill-rule=\"evenodd\" fill-opacity=\"1\" /><path clip-path=\"url(#clip322)\" d=\"\n",
       "M291.964 1357.51 L291.964 1417.71 L406.333 1417.71 L406.333 1357.51 L291.964 1357.51 L291.964 1357.51  Z\n",
       "  \" fill=\"#009af9\" fill-rule=\"evenodd\" fill-opacity=\"1\"/>\n",
       "<polyline clip-path=\"url(#clip322)\" style=\"stroke:#000000; stroke-width:4; stroke-opacity:1; fill:none\" points=\"\n",
       "  291.964,1357.51 291.964,1417.71 406.333,1417.71 406.333,1357.51 291.964,1357.51 \n",
       "  \"/>\n",
       "<path clip-path=\"url(#clip322)\" d=\"\n",
       "M577.887 1211.09 L577.887 1417.71 L692.256 1417.71 L692.256 1211.09 L577.887 1211.09 L577.887 1211.09  Z\n",
       "  \" fill=\"#009af9\" fill-rule=\"evenodd\" fill-opacity=\"1\"/>\n",
       "<polyline clip-path=\"url(#clip322)\" style=\"stroke:#000000; stroke-width:4; stroke-opacity:1; fill:none\" points=\"\n",
       "  577.887,1211.09 577.887,1417.71 692.256,1417.71 692.256,1211.09 577.887,1211.09 \n",
       "  \"/>\n",
       "<path clip-path=\"url(#clip322)\" d=\"\n",
       "M863.809 585.916 L863.809 1417.71 L978.178 1417.71 L978.178 585.916 L863.809 585.916 L863.809 585.916  Z\n",
       "  \" fill=\"#009af9\" fill-rule=\"evenodd\" fill-opacity=\"1\"/>\n",
       "<polyline clip-path=\"url(#clip322)\" style=\"stroke:#000000; stroke-width:4; stroke-opacity:1; fill:none\" points=\"\n",
       "  863.809,585.916 863.809,1417.71 978.178,1417.71 978.178,585.916 863.809,585.916 \n",
       "  \"/>\n",
       "<path clip-path=\"url(#clip322)\" d=\"\n",
       "M1149.73 1125.45 L1149.73 1417.71 L1264.1 1417.71 L1264.1 1125.45 L1149.73 1125.45 L1149.73 1125.45  Z\n",
       "  \" fill=\"#009af9\" fill-rule=\"evenodd\" fill-opacity=\"1\"/>\n",
       "<polyline clip-path=\"url(#clip322)\" style=\"stroke:#000000; stroke-width:4; stroke-opacity:1; fill:none\" points=\"\n",
       "  1149.73,1125.45 1149.73,1417.71 1264.1,1417.71 1264.1,1125.45 1149.73,1125.45 \n",
       "  \"/>\n",
       "<path clip-path=\"url(#clip322)\" d=\"\n",
       "M1435.65 826.261 L1435.65 1417.71 L1550.02 1417.71 L1550.02 826.261 L1435.65 826.261 L1435.65 826.261  Z\n",
       "  \" fill=\"#009af9\" fill-rule=\"evenodd\" fill-opacity=\"1\"/>\n",
       "<polyline clip-path=\"url(#clip322)\" style=\"stroke:#000000; stroke-width:4; stroke-opacity:1; fill:none\" points=\"\n",
       "  1435.65,826.261 1435.65,1417.71 1550.02,1417.71 1550.02,826.261 1435.65,826.261 \n",
       "  \"/>\n",
       "<path clip-path=\"url(#clip322)\" d=\"\n",
       "M1721.58 278.605 L1721.58 1417.71 L1835.95 1417.71 L1835.95 278.605 L1721.58 278.605 L1721.58 278.605  Z\n",
       "  \" fill=\"#009af9\" fill-rule=\"evenodd\" fill-opacity=\"1\"/>\n",
       "<polyline clip-path=\"url(#clip322)\" style=\"stroke:#000000; stroke-width:4; stroke-opacity:1; fill:none\" points=\"\n",
       "  1721.58,278.605 1721.58,1417.71 1835.95,1417.71 1835.95,278.605 1721.58,278.605 \n",
       "  \"/>\n",
       "<path clip-path=\"url(#clip322)\" d=\"\n",
       "M2007.5 529.254 L2007.5 1417.71 L2121.87 1417.71 L2121.87 529.254 L2007.5 529.254 L2007.5 529.254  Z\n",
       "  \" fill=\"#009af9\" fill-rule=\"evenodd\" fill-opacity=\"1\"/>\n",
       "<polyline clip-path=\"url(#clip322)\" style=\"stroke:#000000; stroke-width:4; stroke-opacity:1; fill:none\" points=\"\n",
       "  2007.5,529.254 2007.5,1417.71 2121.87,1417.71 2121.87,529.254 2007.5,529.254 \n",
       "  \"/>\n",
       "<path clip-path=\"url(#clip322)\" d=\"\n",
       "M406.333 1416.76 L406.333 1417.71 L520.702 1417.71 L520.702 1416.76 L406.333 1416.76 L406.333 1416.76  Z\n",
       "  \" fill=\"#e26f46\" fill-rule=\"evenodd\" fill-opacity=\"1\"/>\n",
       "<polyline clip-path=\"url(#clip322)\" style=\"stroke:#000000; stroke-width:4; stroke-opacity:1; fill:none\" points=\"\n",
       "  406.333,1416.76 406.333,1417.71 520.702,1417.71 520.702,1416.76 406.333,1416.76 \n",
       "  \"/>\n",
       "<path clip-path=\"url(#clip322)\" d=\"\n",
       "M692.256 1252.33 L692.256 1417.71 L806.625 1417.71 L806.625 1252.33 L692.256 1252.33 L692.256 1252.33  Z\n",
       "  \" fill=\"#e26f46\" fill-rule=\"evenodd\" fill-opacity=\"1\"/>\n",
       "<polyline clip-path=\"url(#clip322)\" style=\"stroke:#000000; stroke-width:4; stroke-opacity:1; fill:none\" points=\"\n",
       "  692.256,1252.33 692.256,1417.71 806.625,1417.71 806.625,1252.33 692.256,1252.33 \n",
       "  \"/>\n",
       "<path clip-path=\"url(#clip322)\" d=\"\n",
       "M978.178 513.941 L978.178 1417.71 L1092.55 1417.71 L1092.55 513.941 L978.178 513.941 L978.178 513.941  Z\n",
       "  \" fill=\"#e26f46\" fill-rule=\"evenodd\" fill-opacity=\"1\"/>\n",
       "<polyline clip-path=\"url(#clip322)\" style=\"stroke:#000000; stroke-width:4; stroke-opacity:1; fill:none\" points=\"\n",
       "  978.178,513.941 978.178,1417.71 1092.55,1417.71 1092.55,513.941 978.178,513.941 \n",
       "  \"/>\n",
       "<path clip-path=\"url(#clip322)\" d=\"\n",
       "M1264.1 1205.31 L1264.1 1417.71 L1378.47 1417.71 L1378.47 1205.31 L1264.1 1205.31 L1264.1 1205.31  Z\n",
       "  \" fill=\"#e26f46\" fill-rule=\"evenodd\" fill-opacity=\"1\"/>\n",
       "<polyline clip-path=\"url(#clip322)\" style=\"stroke:#000000; stroke-width:4; stroke-opacity:1; fill:none\" points=\"\n",
       "  1264.1,1205.31 1264.1,1417.71 1378.47,1417.71 1378.47,1205.31 1264.1,1205.31 \n",
       "  \"/>\n",
       "<path clip-path=\"url(#clip322)\" d=\"\n",
       "M1550.02 821.668 L1550.02 1417.71 L1664.39 1417.71 L1664.39 821.668 L1550.02 821.668 L1550.02 821.668  Z\n",
       "  \" fill=\"#e26f46\" fill-rule=\"evenodd\" fill-opacity=\"1\"/>\n",
       "<polyline clip-path=\"url(#clip322)\" style=\"stroke:#000000; stroke-width:4; stroke-opacity:1; fill:none\" points=\"\n",
       "  1550.02,821.668 1550.02,1417.71 1664.39,1417.71 1664.39,821.668 1550.02,821.668 \n",
       "  \"/>\n",
       "<path clip-path=\"url(#clip322)\" d=\"\n",
       "M1835.95 418.717 L1835.95 1417.71 L1950.31 1417.71 L1950.31 418.717 L1835.95 418.717 L1835.95 418.717  Z\n",
       "  \" fill=\"#e26f46\" fill-rule=\"evenodd\" fill-opacity=\"1\"/>\n",
       "<polyline clip-path=\"url(#clip322)\" style=\"stroke:#000000; stroke-width:4; stroke-opacity:1; fill:none\" points=\"\n",
       "  1835.95,418.717 1835.95,1417.71 1950.31,1417.71 1950.31,418.717 1835.95,418.717 \n",
       "  \"/>\n",
       "<path clip-path=\"url(#clip322)\" d=\"\n",
       "M2121.87 330.248 L2121.87 1417.71 L2236.24 1417.71 L2236.24 330.248 L2121.87 330.248 L2121.87 330.248  Z\n",
       "  \" fill=\"#e26f46\" fill-rule=\"evenodd\" fill-opacity=\"1\"/>\n",
       "<polyline clip-path=\"url(#clip322)\" style=\"stroke:#000000; stroke-width:4; stroke-opacity:1; fill:none\" points=\"\n",
       "  2121.87,330.248 2121.87,1417.71 2236.24,1417.71 2236.24,330.248 2121.87,330.248 \n",
       "  \"/>\n",
       "<path clip-path=\"url(#clip320)\" d=\"\n",
       "M1955.73 466.121 L2280.18 466.121 L2280.18 284.681 L1955.73 284.681  Z\n",
       "  \" fill=\"#ffffff\" fill-rule=\"evenodd\" fill-opacity=\"1\"/>\n",
       "<polyline clip-path=\"url(#clip320)\" style=\"stroke:#000000; stroke-width:4; stroke-opacity:1; fill:none\" points=\"\n",
       "  1955.73,466.121 2280.18,466.121 2280.18,284.681 1955.73,284.681 1955.73,466.121 \n",
       "  \"/>\n",
       "<path clip-path=\"url(#clip320)\" d=\"\n",
       "M1979.93 369.353 L2125.08 369.353 L2125.08 320.969 L1979.93 320.969 L1979.93 369.353  Z\n",
       "  \" fill=\"#009af9\" fill-rule=\"evenodd\" fill-opacity=\"1\"/>\n",
       "<polyline clip-path=\"url(#clip320)\" style=\"stroke:#000000; stroke-width:4; stroke-opacity:1; fill:none\" points=\"\n",
       "  1979.93,369.353 2125.08,369.353 2125.08,320.969 1979.93,320.969 1979.93,369.353 \n",
       "  \"/>\n",
       "<path clip-path=\"url(#clip320)\" d=\"M 0 0 M2149.94 358.505 L2157.58 358.505 L2157.58 332.14 L2149.27 333.807 L2149.27 329.547 L2157.54 327.881 L2162.21 327.881 L2162.21 358.505 L2169.85 358.505 L2169.85 362.441 L2149.94 362.441 L2149.94 358.505 Z\" fill=\"#000000\" fill-rule=\"evenodd\" fill-opacity=\"1\" /><path clip-path=\"url(#clip320)\" d=\"M 0 0 M2195.22 337.279 L2195.22 341.307 Q2193.41 340.381 2191.47 339.918 Q2189.53 339.455 2187.44 339.455 Q2184.27 339.455 2182.67 340.427 Q2181.1 341.399 2181.1 343.344 Q2181.1 344.825 2182.23 345.681 Q2183.37 346.515 2186.79 347.279 L2188.25 347.603 Q2192.79 348.575 2194.69 350.357 Q2196.61 352.117 2196.61 355.288 Q2196.61 358.899 2193.74 361.005 Q2190.89 363.112 2185.89 363.112 Q2183.81 363.112 2181.54 362.695 Q2179.29 362.302 2176.79 361.492 L2176.79 357.093 Q2179.16 358.32 2181.45 358.945 Q2183.74 359.547 2185.98 359.547 Q2188.99 359.547 2190.61 358.529 Q2192.23 357.487 2192.23 355.612 Q2192.23 353.876 2191.05 352.95 Q2189.9 352.024 2185.94 351.168 L2184.46 350.82 Q2180.5 349.987 2178.74 348.274 Q2176.98 346.538 2176.98 343.529 Q2176.98 339.871 2179.57 337.881 Q2182.16 335.89 2186.93 335.89 Q2189.29 335.89 2191.38 336.237 Q2193.46 336.584 2195.22 337.279 Z\" fill=\"#000000\" fill-rule=\"evenodd\" fill-opacity=\"1\" /><path clip-path=\"url(#clip320)\" d=\"M 0 0 M2207.6 329.154 L2207.6 336.515 L2216.38 336.515 L2216.38 339.825 L2207.6 339.825 L2207.6 353.899 Q2207.6 357.07 2208.46 357.973 Q2209.34 358.876 2212 358.876 L2216.38 358.876 L2216.38 362.441 L2212 362.441 Q2207.07 362.441 2205.2 360.612 Q2203.32 358.76 2203.32 353.899 L2203.32 339.825 L2200.2 339.825 L2200.2 336.515 L2203.32 336.515 L2203.32 329.154 L2207.6 329.154 Z\" fill=\"#000000\" fill-rule=\"evenodd\" fill-opacity=\"1\" /><path clip-path=\"url(#clip320)\" d=\"\n",
       "M1979.93 429.833 L2125.08 429.833 L2125.08 381.449 L1979.93 381.449 L1979.93 429.833  Z\n",
       "  \" fill=\"#e26f46\" fill-rule=\"evenodd\" fill-opacity=\"1\"/>\n",
       "<polyline clip-path=\"url(#clip320)\" style=\"stroke:#000000; stroke-width:4; stroke-opacity:1; fill:none\" points=\"\n",
       "  1979.93,429.833 2125.08,429.833 2125.08,381.449 1979.93,381.449 1979.93,429.833 \n",
       "  \"/>\n",
       "<path clip-path=\"url(#clip320)\" d=\"M 0 0 M2154.9 418.985 L2171.22 418.985 L2171.22 422.921 L2149.27 422.921 L2149.27 418.985 Q2151.93 416.231 2156.52 411.601 Q2161.12 406.949 2162.3 405.606 Q2164.55 403.083 2165.43 401.347 Q2166.33 399.587 2166.33 397.898 Q2166.33 395.143 2164.39 393.407 Q2162.47 391.671 2159.36 391.671 Q2157.16 391.671 2154.71 392.435 Q2152.28 393.199 2149.5 394.75 L2149.5 390.027 Q2152.33 388.893 2154.78 388.314 Q2157.23 387.736 2159.27 387.736 Q2164.64 387.736 2167.84 390.421 Q2171.03 393.106 2171.03 397.597 Q2171.03 399.726 2170.22 401.648 Q2169.43 403.546 2167.33 406.138 Q2166.75 406.81 2163.65 410.027 Q2160.54 413.222 2154.9 418.985 Z\" fill=\"#000000\" fill-rule=\"evenodd\" fill-opacity=\"1\" /><path clip-path=\"url(#clip320)\" d=\"M 0 0 M2201.98 407.273 L2201.98 422.921 L2197.72 422.921 L2197.72 407.411 Q2197.72 403.731 2196.29 401.902 Q2194.85 400.074 2191.98 400.074 Q2188.53 400.074 2186.54 402.273 Q2184.55 404.472 2184.55 408.268 L2184.55 422.921 L2180.27 422.921 L2180.27 396.995 L2184.55 396.995 L2184.55 401.023 Q2186.08 398.685 2188.14 397.527 Q2190.22 396.37 2192.93 396.37 Q2197.4 396.37 2199.69 399.148 Q2201.98 401.902 2201.98 407.273 Z\" fill=\"#000000\" fill-rule=\"evenodd\" fill-opacity=\"1\" /><path clip-path=\"url(#clip320)\" d=\"M 0 0 M2227.53 400.93 L2227.53 386.902 L2231.79 386.902 L2231.79 422.921 L2227.53 422.921 L2227.53 419.032 Q2226.19 421.347 2224.13 422.481 Q2222.1 423.592 2219.22 423.592 Q2214.53 423.592 2211.56 419.842 Q2208.62 416.092 2208.62 409.981 Q2208.62 403.87 2211.56 400.12 Q2214.53 396.37 2219.22 396.37 Q2222.1 396.37 2224.13 397.504 Q2226.19 398.615 2227.53 400.93 M2213.02 409.981 Q2213.02 414.68 2214.94 417.365 Q2216.89 420.027 2220.27 420.027 Q2223.65 420.027 2225.59 417.365 Q2227.53 414.68 2227.53 409.981 Q2227.53 405.282 2225.59 402.62 Q2223.65 399.935 2220.27 399.935 Q2216.89 399.935 2214.94 402.62 Q2213.02 405.282 2213.02 409.981 Z\" fill=\"#000000\" fill-rule=\"evenodd\" fill-opacity=\"1\" /></svg>\n"
      ]
     },
     "execution_count": 59,
     "metadata": {},
     "output_type": "execute_result"
    }
   ],
   "source": [
    "# Exclude JSON\\narraytable arraytable due to much longer timing\n",
    "groupedbar(\n",
    "    repeat([\"CSV.jl\", \"Serialization\", \"JDF.jl\", \"JLSO.jl\", \"Arrow.jl\", \"Arrow.jl\\ncopy\", #\"JSON\\narraytable\",\n",
    "            \"JSON\\nobjecttable\"], inner = 2),\n",
    "    [csvread1, csvread2, serializeread1, serializeread2, jdfread1, jdfread2, jlsoread1, jlsoread2,\n",
    "     arrowread1, arrowread2, arrowread1+arrowread1copy, arrowread2+arrowread2copy,\n",
    "     # jsontablesaread1, jsontablesaread2,\n",
    "     jsontablesoread1, jsontablesoread2],    \n",
    "    group = repeat([\"1st\", \"2nd\"], outer = 7),\n",
    "    ylab = \"Second\",\n",
    "    title = \"Read Performance\\nDataFrame: bigdf\\nSize: $(size(bigdf))\"\n",
    ")"
   ]
  },
  {
   "cell_type": "markdown",
   "metadata": {},
   "source": [
    "### Using gzip compression"
   ]
  },
  {
   "cell_type": "markdown",
   "metadata": {},
   "source": [
    "A common user requirement is to be able to load and save CSV that are compressed using gzip.\n",
    "Below we show how this can be accomplished using CodecZlib.jl.\n",
    "The same pattern is applicable to JSONTables.jl compression/decompression.\n",
    "\n",
    "Again make sure that you do not have file named `df_compress_test.csv.gz` in your working directory"
   ]
  },
  {
   "cell_type": "markdown",
   "metadata": {},
   "source": [
    "We first generate a random data frame"
   ]
  },
  {
   "cell_type": "code",
   "execution_count": 44,
   "metadata": {},
   "outputs": [
    {
     "data": {
      "text/html": [
       "<table class=\"data-frame\"><thead><tr><th></th><th>x1</th><th>x2</th><th>x3</th><th>x4</th><th>x5</th><th>x6</th><th>x7</th><th>x8</th><th>x9</th><th>x10</th><th>x11</th><th>x12</th></tr><tr><th></th><th>Int64</th><th>Int64</th><th>Int64</th><th>Int64</th><th>Int64</th><th>Int64</th><th>Int64</th><th>Int64</th><th>Int64</th><th>Int64</th><th>Int64</th><th>Int64</th></tr></thead><tbody><p>10 rows × 1,000 columns (omitted printing of 988 columns)</p><tr><th>1</th><td>1</td><td>6</td><td>3</td><td>2</td><td>9</td><td>7</td><td>2</td><td>1</td><td>1</td><td>5</td><td>1</td><td>8</td></tr><tr><th>2</th><td>9</td><td>1</td><td>9</td><td>5</td><td>4</td><td>8</td><td>6</td><td>9</td><td>8</td><td>4</td><td>4</td><td>4</td></tr><tr><th>3</th><td>8</td><td>1</td><td>10</td><td>2</td><td>8</td><td>5</td><td>1</td><td>9</td><td>8</td><td>4</td><td>8</td><td>2</td></tr><tr><th>4</th><td>10</td><td>9</td><td>6</td><td>6</td><td>1</td><td>6</td><td>6</td><td>2</td><td>8</td><td>1</td><td>5</td><td>2</td></tr><tr><th>5</th><td>1</td><td>6</td><td>7</td><td>5</td><td>7</td><td>5</td><td>3</td><td>6</td><td>10</td><td>1</td><td>3</td><td>4</td></tr><tr><th>6</th><td>4</td><td>9</td><td>7</td><td>10</td><td>8</td><td>6</td><td>1</td><td>3</td><td>8</td><td>8</td><td>7</td><td>7</td></tr><tr><th>7</th><td>4</td><td>9</td><td>3</td><td>2</td><td>5</td><td>5</td><td>8</td><td>7</td><td>9</td><td>6</td><td>9</td><td>7</td></tr><tr><th>8</th><td>7</td><td>7</td><td>2</td><td>4</td><td>6</td><td>6</td><td>2</td><td>5</td><td>6</td><td>8</td><td>7</td><td>7</td></tr><tr><th>9</th><td>4</td><td>6</td><td>3</td><td>8</td><td>2</td><td>7</td><td>2</td><td>6</td><td>2</td><td>2</td><td>4</td><td>2</td></tr><tr><th>10</th><td>1</td><td>7</td><td>7</td><td>7</td><td>6</td><td>9</td><td>9</td><td>1</td><td>8</td><td>4</td><td>5</td><td>8</td></tr></tbody></table>"
      ],
      "text/latex": [
       "\\begin{tabular}{r|ccccccccccccc}\n",
       "\t& x1 & x2 & x3 & x4 & x5 & x6 & x7 & x8 & x9 & x10 & x11 & x12 & \\\\\n",
       "\t\\hline\n",
       "\t& Int64 & Int64 & Int64 & Int64 & Int64 & Int64 & Int64 & Int64 & Int64 & Int64 & Int64 & Int64 & \\\\\n",
       "\t\\hline\n",
       "\t1 & 1 & 6 & 3 & 2 & 9 & 7 & 2 & 1 & 1 & 5 & 1 & 8 & $\\dots$ \\\\\n",
       "\t2 & 9 & 1 & 9 & 5 & 4 & 8 & 6 & 9 & 8 & 4 & 4 & 4 & $\\dots$ \\\\\n",
       "\t3 & 8 & 1 & 10 & 2 & 8 & 5 & 1 & 9 & 8 & 4 & 8 & 2 & $\\dots$ \\\\\n",
       "\t4 & 10 & 9 & 6 & 6 & 1 & 6 & 6 & 2 & 8 & 1 & 5 & 2 & $\\dots$ \\\\\n",
       "\t5 & 1 & 6 & 7 & 5 & 7 & 5 & 3 & 6 & 10 & 1 & 3 & 4 & $\\dots$ \\\\\n",
       "\t6 & 4 & 9 & 7 & 10 & 8 & 6 & 1 & 3 & 8 & 8 & 7 & 7 & $\\dots$ \\\\\n",
       "\t7 & 4 & 9 & 3 & 2 & 5 & 5 & 8 & 7 & 9 & 6 & 9 & 7 & $\\dots$ \\\\\n",
       "\t8 & 7 & 7 & 2 & 4 & 6 & 6 & 2 & 5 & 6 & 8 & 7 & 7 & $\\dots$ \\\\\n",
       "\t9 & 4 & 6 & 3 & 8 & 2 & 7 & 2 & 6 & 2 & 2 & 4 & 2 & $\\dots$ \\\\\n",
       "\t10 & 1 & 7 & 7 & 7 & 6 & 9 & 9 & 1 & 8 & 4 & 5 & 8 & $\\dots$ \\\\\n",
       "\\end{tabular}\n"
      ],
      "text/plain": [
       "\u001b[1m10×1000 DataFrame\u001b[0m\n",
       "\u001b[1m Row \u001b[0m│\u001b[1m x1    \u001b[0m\u001b[1m x2    \u001b[0m\u001b[1m x3    \u001b[0m\u001b[1m x4    \u001b[0m\u001b[1m x5    \u001b[0m\u001b[1m x6    \u001b[0m\u001b[1m x7    \u001b[0m\u001b[1m x8    \u001b[0m\u001b[1m x9    \u001b[0m\u001b[1m x10   \u001b[0m\u001b[1m x\u001b[0m ⋯\n",
       "\u001b[1m     \u001b[0m│\u001b[90m Int64 \u001b[0m\u001b[90m Int64 \u001b[0m\u001b[90m Int64 \u001b[0m\u001b[90m Int64 \u001b[0m\u001b[90m Int64 \u001b[0m\u001b[90m Int64 \u001b[0m\u001b[90m Int64 \u001b[0m\u001b[90m Int64 \u001b[0m\u001b[90m Int64 \u001b[0m\u001b[90m Int64 \u001b[0m\u001b[90m I\u001b[0m ⋯\n",
       "─────┼──────────────────────────────────────────────────────────────────────────\n",
       "   1 │     1      6      3      2      9      7      2      1      1      5    ⋯\n",
       "   2 │     9      1      9      5      4      8      6      9      8      4\n",
       "   3 │     8      1     10      2      8      5      1      9      8      4\n",
       "   4 │    10      9      6      6      1      6      6      2      8      1\n",
       "   5 │     1      6      7      5      7      5      3      6     10      1    ⋯\n",
       "   6 │     4      9      7     10      8      6      1      3      8      8\n",
       "   7 │     4      9      3      2      5      5      8      7      9      6\n",
       "   8 │     7      7      2      4      6      6      2      5      6      8\n",
       "   9 │     4      6      3      8      2      7      2      6      2      2    ⋯\n",
       "  10 │     1      7      7      7      6      9      9      1      8      4\n",
       "\u001b[36m                                                             990 columns omitted\u001b[0m"
      ]
     },
     "execution_count": 44,
     "metadata": {},
     "output_type": "execute_result"
    }
   ],
   "source": [
    "df = DataFrame(rand(1:10, 10, 1000), :auto)"
   ]
  },
  {
   "cell_type": "code",
   "execution_count": 45,
   "metadata": {},
   "outputs": [],
   "source": [
    "# GzipCompressorStream comes from CodecZlib\n",
    "\n",
    "open(\"df_compress_test.csv.gz\", \"w\") do io\n",
    "    stream = GzipCompressorStream(io)\n",
    "    CSV.write(stream, df)\n",
    "    close(stream)\n",
    "end"
   ]
  },
  {
   "cell_type": "code",
   "execution_count": 46,
   "metadata": {},
   "outputs": [
    {
     "data": {
      "text/html": [
       "<table class=\"data-frame\"><thead><tr><th></th><th>x1</th><th>x2</th><th>x3</th><th>x4</th><th>x5</th><th>x6</th><th>x7</th><th>x8</th><th>x9</th><th>x10</th><th>x11</th><th>x12</th></tr><tr><th></th><th>Int64</th><th>Int64</th><th>Int64</th><th>Int64</th><th>Int64</th><th>Int64</th><th>Int64</th><th>Int64</th><th>Int64</th><th>Int64</th><th>Int64</th><th>Int64</th></tr></thead><tbody><p>10 rows × 1,000 columns (omitted printing of 988 columns)</p><tr><th>1</th><td>1</td><td>6</td><td>3</td><td>2</td><td>9</td><td>7</td><td>2</td><td>1</td><td>1</td><td>5</td><td>1</td><td>8</td></tr><tr><th>2</th><td>9</td><td>1</td><td>9</td><td>5</td><td>4</td><td>8</td><td>6</td><td>9</td><td>8</td><td>4</td><td>4</td><td>4</td></tr><tr><th>3</th><td>8</td><td>1</td><td>10</td><td>2</td><td>8</td><td>5</td><td>1</td><td>9</td><td>8</td><td>4</td><td>8</td><td>2</td></tr><tr><th>4</th><td>10</td><td>9</td><td>6</td><td>6</td><td>1</td><td>6</td><td>6</td><td>2</td><td>8</td><td>1</td><td>5</td><td>2</td></tr><tr><th>5</th><td>1</td><td>6</td><td>7</td><td>5</td><td>7</td><td>5</td><td>3</td><td>6</td><td>10</td><td>1</td><td>3</td><td>4</td></tr><tr><th>6</th><td>4</td><td>9</td><td>7</td><td>10</td><td>8</td><td>6</td><td>1</td><td>3</td><td>8</td><td>8</td><td>7</td><td>7</td></tr><tr><th>7</th><td>4</td><td>9</td><td>3</td><td>2</td><td>5</td><td>5</td><td>8</td><td>7</td><td>9</td><td>6</td><td>9</td><td>7</td></tr><tr><th>8</th><td>7</td><td>7</td><td>2</td><td>4</td><td>6</td><td>6</td><td>2</td><td>5</td><td>6</td><td>8</td><td>7</td><td>7</td></tr><tr><th>9</th><td>4</td><td>6</td><td>3</td><td>8</td><td>2</td><td>7</td><td>2</td><td>6</td><td>2</td><td>2</td><td>4</td><td>2</td></tr><tr><th>10</th><td>1</td><td>7</td><td>7</td><td>7</td><td>6</td><td>9</td><td>9</td><td>1</td><td>8</td><td>4</td><td>5</td><td>8</td></tr></tbody></table>"
      ],
      "text/latex": [
       "\\begin{tabular}{r|ccccccccccccc}\n",
       "\t& x1 & x2 & x3 & x4 & x5 & x6 & x7 & x8 & x9 & x10 & x11 & x12 & \\\\\n",
       "\t\\hline\n",
       "\t& Int64 & Int64 & Int64 & Int64 & Int64 & Int64 & Int64 & Int64 & Int64 & Int64 & Int64 & Int64 & \\\\\n",
       "\t\\hline\n",
       "\t1 & 1 & 6 & 3 & 2 & 9 & 7 & 2 & 1 & 1 & 5 & 1 & 8 & $\\dots$ \\\\\n",
       "\t2 & 9 & 1 & 9 & 5 & 4 & 8 & 6 & 9 & 8 & 4 & 4 & 4 & $\\dots$ \\\\\n",
       "\t3 & 8 & 1 & 10 & 2 & 8 & 5 & 1 & 9 & 8 & 4 & 8 & 2 & $\\dots$ \\\\\n",
       "\t4 & 10 & 9 & 6 & 6 & 1 & 6 & 6 & 2 & 8 & 1 & 5 & 2 & $\\dots$ \\\\\n",
       "\t5 & 1 & 6 & 7 & 5 & 7 & 5 & 3 & 6 & 10 & 1 & 3 & 4 & $\\dots$ \\\\\n",
       "\t6 & 4 & 9 & 7 & 10 & 8 & 6 & 1 & 3 & 8 & 8 & 7 & 7 & $\\dots$ \\\\\n",
       "\t7 & 4 & 9 & 3 & 2 & 5 & 5 & 8 & 7 & 9 & 6 & 9 & 7 & $\\dots$ \\\\\n",
       "\t8 & 7 & 7 & 2 & 4 & 6 & 6 & 2 & 5 & 6 & 8 & 7 & 7 & $\\dots$ \\\\\n",
       "\t9 & 4 & 6 & 3 & 8 & 2 & 7 & 2 & 6 & 2 & 2 & 4 & 2 & $\\dots$ \\\\\n",
       "\t10 & 1 & 7 & 7 & 7 & 6 & 9 & 9 & 1 & 8 & 4 & 5 & 8 & $\\dots$ \\\\\n",
       "\\end{tabular}\n"
      ],
      "text/plain": [
       "\u001b[1m10×1000 DataFrame\u001b[0m\n",
       "\u001b[1m Row \u001b[0m│\u001b[1m x1    \u001b[0m\u001b[1m x2    \u001b[0m\u001b[1m x3    \u001b[0m\u001b[1m x4    \u001b[0m\u001b[1m x5    \u001b[0m\u001b[1m x6    \u001b[0m\u001b[1m x7    \u001b[0m\u001b[1m x8    \u001b[0m\u001b[1m x9    \u001b[0m\u001b[1m x10   \u001b[0m\u001b[1m x\u001b[0m ⋯\n",
       "\u001b[1m     \u001b[0m│\u001b[90m Int64 \u001b[0m\u001b[90m Int64 \u001b[0m\u001b[90m Int64 \u001b[0m\u001b[90m Int64 \u001b[0m\u001b[90m Int64 \u001b[0m\u001b[90m Int64 \u001b[0m\u001b[90m Int64 \u001b[0m\u001b[90m Int64 \u001b[0m\u001b[90m Int64 \u001b[0m\u001b[90m Int64 \u001b[0m\u001b[90m I\u001b[0m ⋯\n",
       "─────┼──────────────────────────────────────────────────────────────────────────\n",
       "   1 │     1      6      3      2      9      7      2      1      1      5    ⋯\n",
       "   2 │     9      1      9      5      4      8      6      9      8      4\n",
       "   3 │     8      1     10      2      8      5      1      9      8      4\n",
       "   4 │    10      9      6      6      1      6      6      2      8      1\n",
       "   5 │     1      6      7      5      7      5      3      6     10      1    ⋯\n",
       "   6 │     4      9      7     10      8      6      1      3      8      8\n",
       "   7 │     4      9      3      2      5      5      8      7      9      6\n",
       "   8 │     7      7      2      4      6      6      2      5      6      8\n",
       "   9 │     4      6      3      8      2      7      2      6      2      2    ⋯\n",
       "  10 │     1      7      7      7      6      9      9      1      8      4\n",
       "\u001b[36m                                                             990 columns omitted\u001b[0m"
      ]
     },
     "execution_count": 46,
     "metadata": {},
     "output_type": "execute_result"
    }
   ],
   "source": [
    "df2 = CSV.File(transcode(GzipDecompressor, Mmap.mmap(\"df_compress_test.csv.gz\"))) |> DataFrame"
   ]
  },
  {
   "cell_type": "code",
   "execution_count": 47,
   "metadata": {},
   "outputs": [
    {
     "data": {
      "text/plain": [
       "true"
      ]
     },
     "execution_count": 47,
     "metadata": {},
     "output_type": "execute_result"
    }
   ],
   "source": [
    "df == df2"
   ]
  },
  {
   "cell_type": "markdown",
   "metadata": {},
   "source": [
    "### Using zip files"
   ]
  },
  {
   "cell_type": "markdown",
   "metadata": {},
   "source": [
    "Sometimes you may have files compressed inside a zip file.\n",
    "\n",
    "In such a situation you may use [ZipFile.jl](https://github.com/fhs/ZipFile.jl) in conjunction an an appropriate reader to read the files."
   ]
  },
  {
   "cell_type": "markdown",
   "metadata": {},
   "source": [
    "Here we first create a ZIP file and then read back its contents into a `DataFrame`."
   ]
  },
  {
   "cell_type": "code",
   "execution_count": 48,
   "metadata": {},
   "outputs": [
    {
     "data": {
      "text/html": [
       "<table class=\"data-frame\"><thead><tr><th></th><th>x1</th><th>x2</th><th>x3</th><th>x4</th></tr><tr><th></th><th>Int64</th><th>Int64</th><th>Int64</th><th>Int64</th></tr></thead><tbody><p>3 rows × 4 columns</p><tr><th>1</th><td>7</td><td>6</td><td>7</td><td>9</td></tr><tr><th>2</th><td>3</td><td>4</td><td>1</td><td>1</td></tr><tr><th>3</th><td>8</td><td>7</td><td>8</td><td>3</td></tr></tbody></table>"
      ],
      "text/latex": [
       "\\begin{tabular}{r|cccc}\n",
       "\t& x1 & x2 & x3 & x4\\\\\n",
       "\t\\hline\n",
       "\t& Int64 & Int64 & Int64 & Int64\\\\\n",
       "\t\\hline\n",
       "\t1 & 7 & 6 & 7 & 9 \\\\\n",
       "\t2 & 3 & 4 & 1 & 1 \\\\\n",
       "\t3 & 8 & 7 & 8 & 3 \\\\\n",
       "\\end{tabular}\n"
      ],
      "text/plain": [
       "\u001b[1m3×4 DataFrame\u001b[0m\n",
       "\u001b[1m Row \u001b[0m│\u001b[1m x1    \u001b[0m\u001b[1m x2    \u001b[0m\u001b[1m x3    \u001b[0m\u001b[1m x4    \u001b[0m\n",
       "\u001b[1m     \u001b[0m│\u001b[90m Int64 \u001b[0m\u001b[90m Int64 \u001b[0m\u001b[90m Int64 \u001b[0m\u001b[90m Int64 \u001b[0m\n",
       "─────┼────────────────────────────\n",
       "   1 │     7      6      7      9\n",
       "   2 │     3      4      1      1\n",
       "   3 │     8      7      8      3"
      ]
     },
     "execution_count": 48,
     "metadata": {},
     "output_type": "execute_result"
    }
   ],
   "source": [
    "df1 = DataFrame(rand(1:10, 3, 4), :auto)"
   ]
  },
  {
   "cell_type": "code",
   "execution_count": 49,
   "metadata": {},
   "outputs": [
    {
     "data": {
      "text/html": [
       "<table class=\"data-frame\"><thead><tr><th></th><th>x1</th><th>x2</th><th>x3</th><th>x4</th></tr><tr><th></th><th>Int64</th><th>Int64</th><th>Int64</th><th>Int64</th></tr></thead><tbody><p>3 rows × 4 columns</p><tr><th>1</th><td>4</td><td>7</td><td>2</td><td>8</td></tr><tr><th>2</th><td>3</td><td>9</td><td>10</td><td>2</td></tr><tr><th>3</th><td>4</td><td>5</td><td>9</td><td>3</td></tr></tbody></table>"
      ],
      "text/latex": [
       "\\begin{tabular}{r|cccc}\n",
       "\t& x1 & x2 & x3 & x4\\\\\n",
       "\t\\hline\n",
       "\t& Int64 & Int64 & Int64 & Int64\\\\\n",
       "\t\\hline\n",
       "\t1 & 4 & 7 & 2 & 8 \\\\\n",
       "\t2 & 3 & 9 & 10 & 2 \\\\\n",
       "\t3 & 4 & 5 & 9 & 3 \\\\\n",
       "\\end{tabular}\n"
      ],
      "text/plain": [
       "\u001b[1m3×4 DataFrame\u001b[0m\n",
       "\u001b[1m Row \u001b[0m│\u001b[1m x1    \u001b[0m\u001b[1m x2    \u001b[0m\u001b[1m x3    \u001b[0m\u001b[1m x4    \u001b[0m\n",
       "\u001b[1m     \u001b[0m│\u001b[90m Int64 \u001b[0m\u001b[90m Int64 \u001b[0m\u001b[90m Int64 \u001b[0m\u001b[90m Int64 \u001b[0m\n",
       "─────┼────────────────────────────\n",
       "   1 │     4      7      2      8\n",
       "   2 │     3      9     10      2\n",
       "   3 │     4      5      9      3"
      ]
     },
     "execution_count": 49,
     "metadata": {},
     "output_type": "execute_result"
    }
   ],
   "source": [
    "df2 = DataFrame(rand(1:10, 3, 4), :auto)"
   ]
  },
  {
   "cell_type": "markdown",
   "metadata": {},
   "source": [
    "And we show yet another way to write a `DataFrame` into a CSV file"
   ]
  },
  {
   "cell_type": "code",
   "execution_count": 50,
   "metadata": {},
   "outputs": [],
   "source": [
    "# write a CSV file into the zip file\n",
    "w = ZipFile.Writer(\"x.zip\")\n",
    "\n",
    "f1 = ZipFile.addfile(w, \"x1.csv\")\n",
    "write(f1, sprint(show, \"text/csv\", df1))\n",
    "\n",
    "# write a second CSV file into zip file\n",
    "f2 = ZipFile.addfile(w, \"x2.csv\", method=ZipFile.Deflate)\n",
    "write(f2, sprint(show, \"text/csv\", df2))\n",
    "\n",
    "close(w)"
   ]
  },
  {
   "cell_type": "markdown",
   "metadata": {},
   "source": [
    "Now we read the CSV we have written:"
   ]
  },
  {
   "cell_type": "code",
   "execution_count": 51,
   "metadata": {},
   "outputs": [],
   "source": [
    "z = ZipFile.Reader(\"x.zip\");"
   ]
  },
  {
   "cell_type": "code",
   "execution_count": 52,
   "metadata": {},
   "outputs": [
    {
     "data": {
      "text/html": [
       "<table class=\"data-frame\"><thead><tr><th></th><th>x1</th><th>x2</th><th>x3</th><th>x4</th></tr><tr><th></th><th>Int64</th><th>Int64</th><th>Int64</th><th>Int64</th></tr></thead><tbody><p>3 rows × 4 columns</p><tr><th>1</th><td>7</td><td>6</td><td>7</td><td>9</td></tr><tr><th>2</th><td>3</td><td>4</td><td>1</td><td>1</td></tr><tr><th>3</th><td>8</td><td>7</td><td>8</td><td>3</td></tr></tbody></table>"
      ],
      "text/latex": [
       "\\begin{tabular}{r|cccc}\n",
       "\t& x1 & x2 & x3 & x4\\\\\n",
       "\t\\hline\n",
       "\t& Int64 & Int64 & Int64 & Int64\\\\\n",
       "\t\\hline\n",
       "\t1 & 7 & 6 & 7 & 9 \\\\\n",
       "\t2 & 3 & 4 & 1 & 1 \\\\\n",
       "\t3 & 8 & 7 & 8 & 3 \\\\\n",
       "\\end{tabular}\n"
      ],
      "text/plain": [
       "\u001b[1m3×4 DataFrame\u001b[0m\n",
       "\u001b[1m Row \u001b[0m│\u001b[1m x1    \u001b[0m\u001b[1m x2    \u001b[0m\u001b[1m x3    \u001b[0m\u001b[1m x4    \u001b[0m\n",
       "\u001b[1m     \u001b[0m│\u001b[90m Int64 \u001b[0m\u001b[90m Int64 \u001b[0m\u001b[90m Int64 \u001b[0m\u001b[90m Int64 \u001b[0m\n",
       "─────┼────────────────────────────\n",
       "   1 │     7      6      7      9\n",
       "   2 │     3      4      1      1\n",
       "   3 │     8      7      8      3"
      ]
     },
     "execution_count": 52,
     "metadata": {},
     "output_type": "execute_result"
    }
   ],
   "source": [
    "# find the index index of file called x1.csv\n",
    "index_xcsv = findfirst(x->x.name == \"x1.csv\", z.files)\n",
    "# to read the x1.csv file in the zip file\n",
    "df1_2 = CSV.read(read(z.files[index_xcsv]), DataFrame)"
   ]
  },
  {
   "cell_type": "code",
   "execution_count": 53,
   "metadata": {},
   "outputs": [
    {
     "data": {
      "text/plain": [
       "true"
      ]
     },
     "execution_count": 53,
     "metadata": {},
     "output_type": "execute_result"
    }
   ],
   "source": [
    "df1_2 == df1"
   ]
  },
  {
   "cell_type": "code",
   "execution_count": 54,
   "metadata": {},
   "outputs": [
    {
     "data": {
      "text/html": [
       "<table class=\"data-frame\"><thead><tr><th></th><th>x1</th><th>x2</th><th>x3</th><th>x4</th></tr><tr><th></th><th>Int64</th><th>Int64</th><th>Int64</th><th>Int64</th></tr></thead><tbody><p>3 rows × 4 columns</p><tr><th>1</th><td>4</td><td>7</td><td>2</td><td>8</td></tr><tr><th>2</th><td>3</td><td>9</td><td>10</td><td>2</td></tr><tr><th>3</th><td>4</td><td>5</td><td>9</td><td>3</td></tr></tbody></table>"
      ],
      "text/latex": [
       "\\begin{tabular}{r|cccc}\n",
       "\t& x1 & x2 & x3 & x4\\\\\n",
       "\t\\hline\n",
       "\t& Int64 & Int64 & Int64 & Int64\\\\\n",
       "\t\\hline\n",
       "\t1 & 4 & 7 & 2 & 8 \\\\\n",
       "\t2 & 3 & 9 & 10 & 2 \\\\\n",
       "\t3 & 4 & 5 & 9 & 3 \\\\\n",
       "\\end{tabular}\n"
      ],
      "text/plain": [
       "\u001b[1m3×4 DataFrame\u001b[0m\n",
       "\u001b[1m Row \u001b[0m│\u001b[1m x1    \u001b[0m\u001b[1m x2    \u001b[0m\u001b[1m x3    \u001b[0m\u001b[1m x4    \u001b[0m\n",
       "\u001b[1m     \u001b[0m│\u001b[90m Int64 \u001b[0m\u001b[90m Int64 \u001b[0m\u001b[90m Int64 \u001b[0m\u001b[90m Int64 \u001b[0m\n",
       "─────┼────────────────────────────\n",
       "   1 │     4      7      2      8\n",
       "   2 │     3      9     10      2\n",
       "   3 │     4      5      9      3"
      ]
     },
     "execution_count": 54,
     "metadata": {},
     "output_type": "execute_result"
    }
   ],
   "source": [
    "# find the index index of file called x2.csv\n",
    "index_xcsv = findfirst(x->x.name == \"x2.csv\", z.files)\n",
    "# to read the x2.csv file in the zip file\n",
    "df2_2 = CSV.read(read(z.files[index_xcsv]), DataFrame)"
   ]
  },
  {
   "cell_type": "code",
   "execution_count": 55,
   "metadata": {},
   "outputs": [
    {
     "data": {
      "text/plain": [
       "true"
      ]
     },
     "execution_count": 55,
     "metadata": {},
     "output_type": "execute_result"
    }
   ],
   "source": [
    "df2_2 == df2"
   ]
  },
  {
   "cell_type": "markdown",
   "metadata": {},
   "source": [
    "Note that once you read a given file from `z` object its stream is all used-up (it is at its end). Therefore to read it again you need to close `z` and open it again.\n",
    "\n",
    "Also do not forget to close the zip file once done."
   ]
  },
  {
   "cell_type": "code",
   "execution_count": 56,
   "metadata": {},
   "outputs": [],
   "source": [
    "close(z)"
   ]
  },
  {
   "cell_type": "markdown",
   "metadata": {},
   "source": [
    "Finally, let's clean up. Do not run the next cell unless you are sure that it will not erase your important files."
   ]
  },
  {
   "cell_type": "code",
   "execution_count": 57,
   "metadata": {},
   "outputs": [],
   "source": [
    "foreach(rm, [\"x1.csv\", \"x.bin\", \"x.jlso\", \"x1.json\", \"x2.json\",\n",
    "             \"bigdf1.csv\", \"bigdf.bin\", \"bigdf.jlso\", \"bigdf1.json\", \"bigdf2.json\", \n",
    "             \"x.zip\"])"
   ]
  },
  {
   "cell_type": "code",
   "execution_count": 58,
   "metadata": {},
   "outputs": [],
   "source": [
    "rm(\"bigdf.jdf\", recursive=true)\n",
    "rm(\"x.jdf\", recursive=true)"
   ]
  },
  {
   "cell_type": "markdown",
   "metadata": {},
   "source": [
    "Note that we did not remove `x.arrow` and `bigdf.arrow` and `df_compress_test.csv.gz` - you have to do it manually, as these files are memory mapped."
   ]
  }
 ],
 "metadata": {
  "@webio": {
   "lastCommId": null,
   "lastKernelId": null
  },
  "kernelspec": {
   "display_name": "Julia 1.6.1",
   "language": "julia",
   "name": "julia-1.6"
  },
  "language_info": {
   "file_extension": ".jl",
   "mimetype": "application/julia",
   "name": "julia",
   "version": "1.6.1"
  }
 },
 "nbformat": 4,
 "nbformat_minor": 4
}
