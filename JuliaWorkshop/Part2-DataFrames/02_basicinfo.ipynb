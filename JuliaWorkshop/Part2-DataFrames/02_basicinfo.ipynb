{
 "cells": [
  {
   "cell_type": "markdown",
   "metadata": {},
   "source": [
    "# Introduction to DataFrames\n",
    "**This is from the excellent Julia tutorial by [Bogumił Kamiński](http://bogumilkaminski.pl/about/)** <br>\n",
    "Entire tutorial available [here](https://github.com/bkamins/Julia-DataFrames-Tutorial)\n",
    "\n",
    "In any data science application it is critical to understand our data. Two approaches are important here:\n",
    "- viewing the data and metadescriptors of the data\n",
    "- visualisation (discussed in Part 3 of this tutorial)\n",
    "\n",
    "In this notebook we consider how to extract basic information on the DataFrames to better understand our data."
   ]
  },
  {
   "cell_type": "code",
   "execution_count": 26,
   "metadata": {},
   "outputs": [],
   "source": [
    "using DataFrames"
   ]
  },
  {
   "cell_type": "markdown",
   "metadata": {},
   "source": [
    "## Getting basic information about a data frame\n",
    "\n",
    "Let's start by creating a `DataFrame` object, `x`, so that we can learn how to get information on that data frame."
   ]
  },
  {
   "cell_type": "code",
   "execution_count": 27,
   "metadata": {},
   "outputs": [
    {
     "data": {
      "text/html": [
       "<div class=\"data-frame\"><p>2 rows × 3 columns</p><table class=\"data-frame\"><thead><tr><th></th><th>A</th><th>B</th><th>C</th></tr><tr><th></th><th title=\"Int64\">Int64</th><th title=\"Union{Missing, Float64}\">Float64?</th><th title=\"String\">String</th></tr></thead><tbody><tr><th>1</th><td>1</td><td>1.0</td><td>a</td></tr><tr><th>2</th><td>2</td><td><em>missing</em></td><td>b</td></tr></tbody></table></div>"
      ],
      "text/latex": [
       "\\begin{tabular}{r|ccc}\n",
       "\t& A & B & C\\\\\n",
       "\t\\hline\n",
       "\t& Int64 & Float64? & String\\\\\n",
       "\t\\hline\n",
       "\t1 & 1 & 1.0 & a \\\\\n",
       "\t2 & 2 & \\emph{missing} & b \\\\\n",
       "\\end{tabular}\n"
      ],
      "text/plain": [
       "\u001b[1m2×3 DataFrame\u001b[0m\n",
       "\u001b[1m Row \u001b[0m│\u001b[1m A     \u001b[0m\u001b[1m B         \u001b[0m\u001b[1m C      \u001b[0m\n",
       "\u001b[1m     \u001b[0m│\u001b[90m Int64 \u001b[0m\u001b[90m Float64?  \u001b[0m\u001b[90m String \u001b[0m\n",
       "─────┼──────────────────────────\n",
       "   1 │     1        1.0  a\n",
       "   2 │     2 \u001b[90m missing   \u001b[0m b"
      ]
     },
     "execution_count": 27,
     "metadata": {},
     "output_type": "execute_result"
    }
   ],
   "source": [
    "x = DataFrame(A = [1, 2], B = [1.0, missing], C = [\"a\", \"b\"])"
   ]
  },
  {
   "cell_type": "markdown",
   "metadata": {},
   "source": [
    "The standard `size` function works to get dimensions of the `DataFrame`,"
   ]
  },
  {
   "cell_type": "code",
   "execution_count": 28,
   "metadata": {},
   "outputs": [
    {
     "data": {
      "text/plain": [
       "((2, 3), 2, 3)"
      ]
     },
     "execution_count": 28,
     "metadata": {},
     "output_type": "execute_result"
    }
   ],
   "source": [
    "size(x), size(x, 1), size(x, 2)"
   ]
  },
  {
   "cell_type": "markdown",
   "metadata": {},
   "source": [
    "as well as `nrow` and `ncol` from R."
   ]
  },
  {
   "cell_type": "code",
   "execution_count": 29,
   "metadata": {},
   "outputs": [
    {
     "data": {
      "text/plain": [
       "(2, 3)"
      ]
     },
     "execution_count": 29,
     "metadata": {},
     "output_type": "execute_result"
    }
   ],
   "source": [
    "nrow(x), ncol(x)"
   ]
  },
  {
   "cell_type": "markdown",
   "metadata": {},
   "source": [
    "`describe` gives basic summary statistics of data in your `DataFrame` (check out the help of `describe` for information on how to customize shown statistics)."
   ]
  },
  {
   "cell_type": "code",
   "execution_count": 30,
   "metadata": {},
   "outputs": [
    {
     "data": {
      "text/html": [
       "<div class=\"data-frame\"><p>3 rows × 7 columns</p><table class=\"data-frame\"><thead><tr><th></th><th>variable</th><th>mean</th><th>min</th><th>median</th><th>max</th><th>nmissing</th><th>eltype</th></tr><tr><th></th><th title=\"Symbol\">Symbol</th><th title=\"Union{Nothing, Float64}\">Union…</th><th title=\"Any\">Any</th><th title=\"Union{Nothing, Float64}\">Union…</th><th title=\"Any\">Any</th><th title=\"Int64\">Int64</th><th title=\"Type\">Type</th></tr></thead><tbody><tr><th>1</th><td>A</td><td>1.5</td><td>1</td><td>1.5</td><td>2</td><td>0</td><td>Int64</td></tr><tr><th>2</th><td>B</td><td>1.0</td><td>1.0</td><td>1.0</td><td>1.0</td><td>1</td><td>Union{Missing, Float64}</td></tr><tr><th>3</th><td>C</td><td></td><td>a</td><td></td><td>b</td><td>0</td><td>String</td></tr></tbody></table></div>"
      ],
      "text/latex": [
       "\\begin{tabular}{r|ccccccc}\n",
       "\t& variable & mean & min & median & max & nmissing & eltype\\\\\n",
       "\t\\hline\n",
       "\t& Symbol & Union… & Any & Union… & Any & Int64 & Type\\\\\n",
       "\t\\hline\n",
       "\t1 & A & 1.5 & 1 & 1.5 & 2 & 0 & Int64 \\\\\n",
       "\t2 & B & 1.0 & 1.0 & 1.0 & 1.0 & 1 & Union\\{Missing, Float64\\} \\\\\n",
       "\t3 & C &  & a &  & b & 0 & String \\\\\n",
       "\\end{tabular}\n"
      ],
      "text/plain": [
       "\u001b[1m3×7 DataFrame\u001b[0m\n",
       "\u001b[1m Row \u001b[0m│\u001b[1m variable \u001b[0m\u001b[1m mean   \u001b[0m\u001b[1m min \u001b[0m\u001b[1m median \u001b[0m\u001b[1m max \u001b[0m\u001b[1m nmissing \u001b[0m\u001b[1m eltype                  \u001b[0m\n",
       "\u001b[1m     \u001b[0m│\u001b[90m Symbol   \u001b[0m\u001b[90m Union… \u001b[0m\u001b[90m Any \u001b[0m\u001b[90m Union… \u001b[0m\u001b[90m Any \u001b[0m\u001b[90m Int64    \u001b[0m\u001b[90m Type                    \u001b[0m\n",
       "─────┼───────────────────────────────────────────────────────────────────────\n",
       "   1 │ A         1.5     1    1.5     2           0  Int64\n",
       "   2 │ B         1.0     1.0  1.0     1.0         1  Union{Missing, Float64}\n",
       "   3 │ C        \u001b[90m        \u001b[0m a   \u001b[90m        \u001b[0m b           0  String"
      ]
     },
     "execution_count": 30,
     "metadata": {},
     "output_type": "execute_result"
    }
   ],
   "source": [
    "describe(x)"
   ]
  },
  {
   "cell_type": "markdown",
   "metadata": {},
   "source": [
    "you can limit the columns shown by `describe` using `cols` keyword argument"
   ]
  },
  {
   "cell_type": "code",
   "execution_count": 31,
   "metadata": {},
   "outputs": [
    {
     "data": {
      "text/html": [
       "<div class=\"data-frame\"><p>2 rows × 7 columns</p><table class=\"data-frame\"><thead><tr><th></th><th>variable</th><th>mean</th><th>min</th><th>median</th><th>max</th><th>nmissing</th><th>eltype</th></tr><tr><th></th><th title=\"Symbol\">Symbol</th><th title=\"Float64\">Float64</th><th title=\"Real\">Real</th><th title=\"Float64\">Float64</th><th title=\"Real\">Real</th><th title=\"Int64\">Int64</th><th title=\"Type\">Type</th></tr></thead><tbody><tr><th>1</th><td>A</td><td>1.5</td><td>1</td><td>1.5</td><td>2</td><td>0</td><td>Int64</td></tr><tr><th>2</th><td>B</td><td>1.0</td><td>1.0</td><td>1.0</td><td>1.0</td><td>1</td><td>Union{Missing, Float64}</td></tr></tbody></table></div>"
      ],
      "text/latex": [
       "\\begin{tabular}{r|ccccccc}\n",
       "\t& variable & mean & min & median & max & nmissing & eltype\\\\\n",
       "\t\\hline\n",
       "\t& Symbol & Float64 & Real & Float64 & Real & Int64 & Type\\\\\n",
       "\t\\hline\n",
       "\t1 & A & 1.5 & 1 & 1.5 & 2 & 0 & Int64 \\\\\n",
       "\t2 & B & 1.0 & 1.0 & 1.0 & 1.0 & 1 & Union\\{Missing, Float64\\} \\\\\n",
       "\\end{tabular}\n"
      ],
      "text/plain": [
       "\u001b[1m2×7 DataFrame\u001b[0m\n",
       "\u001b[1m Row \u001b[0m│\u001b[1m variable \u001b[0m\u001b[1m mean    \u001b[0m\u001b[1m min  \u001b[0m\u001b[1m median  \u001b[0m\u001b[1m max  \u001b[0m\u001b[1m nmissing \u001b[0m\u001b[1m eltype                  \u001b[0m\n",
       "\u001b[1m     \u001b[0m│\u001b[90m Symbol   \u001b[0m\u001b[90m Float64 \u001b[0m\u001b[90m Real \u001b[0m\u001b[90m Float64 \u001b[0m\u001b[90m Real \u001b[0m\u001b[90m Int64    \u001b[0m\u001b[90m Type                    \u001b[0m\n",
       "─────┼───────────────────────────────────────────────────────────────────────────\n",
       "   1 │ A             1.5   1        1.5   2           0  Int64\n",
       "   2 │ B             1.0   1.0      1.0   1.0         1  Union{Missing, Float64}"
      ]
     },
     "execution_count": 31,
     "metadata": {},
     "output_type": "execute_result"
    }
   ],
   "source": [
    "describe(x, cols=1:2)"
   ]
  },
  {
   "cell_type": "markdown",
   "metadata": {},
   "source": [
    "`names` will return the names of all columns as strings"
   ]
  },
  {
   "cell_type": "code",
   "execution_count": 32,
   "metadata": {},
   "outputs": [
    {
     "data": {
      "text/plain": [
       "3-element Vector{String}:\n",
       " \"A\"\n",
       " \"B\"\n",
       " \"C\""
      ]
     },
     "execution_count": 32,
     "metadata": {},
     "output_type": "execute_result"
    }
   ],
   "source": [
    "names(x)"
   ]
  },
  {
   "cell_type": "markdown",
   "metadata": {},
   "source": [
    "you can also get column names with a given `eltype`:"
   ]
  },
  {
   "cell_type": "code",
   "execution_count": 33,
   "metadata": {},
   "outputs": [
    {
     "data": {
      "text/plain": [
       "1-element Vector{String}:\n",
       " \"C\""
      ]
     },
     "execution_count": 33,
     "metadata": {},
     "output_type": "execute_result"
    }
   ],
   "source": [
    "names(x, String)"
   ]
  },
  {
   "cell_type": "markdown",
   "metadata": {},
   "source": [
    "use `propertynames` to get a vector of `Symbol`s:"
   ]
  },
  {
   "cell_type": "code",
   "execution_count": 34,
   "metadata": {},
   "outputs": [
    {
     "data": {
      "text/plain": [
       "3-element Vector{Symbol}:\n",
       " :A\n",
       " :B\n",
       " :C"
      ]
     },
     "execution_count": 34,
     "metadata": {},
     "output_type": "execute_result"
    }
   ],
   "source": [
    "propertynames(x)"
   ]
  },
  {
   "cell_type": "markdown",
   "metadata": {},
   "source": [
    "using `eltype` on `eachcol(x)` returns element types of columns:"
   ]
  },
  {
   "cell_type": "code",
   "execution_count": 35,
   "metadata": {},
   "outputs": [
    {
     "data": {
      "text/plain": [
       "3-element Vector{Type}:\n",
       " Int64\n",
       " Union{Missing, Float64}\n",
       " String"
      ]
     },
     "execution_count": 35,
     "metadata": {},
     "output_type": "execute_result"
    }
   ],
   "source": [
    "eltype.(eachcol(x))"
   ]
  },
  {
   "cell_type": "markdown",
   "metadata": {},
   "source": [
    "Here we create some large `DataFrame`"
   ]
  },
  {
   "cell_type": "code",
   "execution_count": 36,
   "metadata": {
    "scrolled": true
   },
   "outputs": [
    {
     "data": {
      "text/html": [
       "<div class=\"data-frame\"><p>1,000 rows × 10 columns</p><table class=\"data-frame\"><thead><tr><th></th><th>x1</th><th>x2</th><th>x3</th><th>x4</th><th>x5</th><th>x6</th><th>x7</th><th>x8</th><th>x9</th><th>x10</th></tr><tr><th></th><th title=\"Int64\">Int64</th><th title=\"Int64\">Int64</th><th title=\"Int64\">Int64</th><th title=\"Int64\">Int64</th><th title=\"Int64\">Int64</th><th title=\"Int64\">Int64</th><th title=\"Int64\">Int64</th><th title=\"Int64\">Int64</th><th title=\"Int64\">Int64</th><th title=\"Int64\">Int64</th></tr></thead><tbody><tr><th>1</th><td>6</td><td>9</td><td>2</td><td>8</td><td>8</td><td>7</td><td>7</td><td>5</td><td>5</td><td>6</td></tr><tr><th>2</th><td>7</td><td>5</td><td>2</td><td>8</td><td>2</td><td>3</td><td>9</td><td>6</td><td>10</td><td>8</td></tr><tr><th>3</th><td>9</td><td>3</td><td>2</td><td>5</td><td>4</td><td>1</td><td>1</td><td>8</td><td>10</td><td>2</td></tr><tr><th>4</th><td>1</td><td>8</td><td>9</td><td>6</td><td>6</td><td>3</td><td>10</td><td>9</td><td>3</td><td>5</td></tr><tr><th>5</th><td>3</td><td>9</td><td>3</td><td>4</td><td>5</td><td>4</td><td>6</td><td>6</td><td>9</td><td>4</td></tr><tr><th>6</th><td>2</td><td>9</td><td>5</td><td>5</td><td>2</td><td>6</td><td>9</td><td>8</td><td>3</td><td>5</td></tr><tr><th>7</th><td>9</td><td>5</td><td>3</td><td>4</td><td>1</td><td>5</td><td>2</td><td>9</td><td>10</td><td>9</td></tr><tr><th>8</th><td>2</td><td>5</td><td>9</td><td>3</td><td>8</td><td>2</td><td>10</td><td>1</td><td>1</td><td>3</td></tr><tr><th>9</th><td>3</td><td>9</td><td>7</td><td>5</td><td>8</td><td>5</td><td>9</td><td>5</td><td>2</td><td>3</td></tr><tr><th>10</th><td>6</td><td>5</td><td>7</td><td>9</td><td>3</td><td>3</td><td>4</td><td>7</td><td>10</td><td>7</td></tr><tr><th>&vellip;</th><td>&vellip;</td><td>&vellip;</td><td>&vellip;</td><td>&vellip;</td><td>&vellip;</td><td>&vellip;</td><td>&vellip;</td><td>&vellip;</td><td>&vellip;</td><td>&vellip;</td></tr></tbody></table></div>"
      ],
      "text/latex": [
       "\\begin{tabular}{r|cccccccccc}\n",
       "\t& x1 & x2 & x3 & x4 & x5 & x6 & x7 & x8 & x9 & x10\\\\\n",
       "\t\\hline\n",
       "\t& Int64 & Int64 & Int64 & Int64 & Int64 & Int64 & Int64 & Int64 & Int64 & Int64\\\\\n",
       "\t\\hline\n",
       "\t1 & 6 & 9 & 2 & 8 & 8 & 7 & 7 & 5 & 5 & 6 \\\\\n",
       "\t2 & 7 & 5 & 2 & 8 & 2 & 3 & 9 & 6 & 10 & 8 \\\\\n",
       "\t3 & 9 & 3 & 2 & 5 & 4 & 1 & 1 & 8 & 10 & 2 \\\\\n",
       "\t4 & 1 & 8 & 9 & 6 & 6 & 3 & 10 & 9 & 3 & 5 \\\\\n",
       "\t5 & 3 & 9 & 3 & 4 & 5 & 4 & 6 & 6 & 9 & 4 \\\\\n",
       "\t6 & 2 & 9 & 5 & 5 & 2 & 6 & 9 & 8 & 3 & 5 \\\\\n",
       "\t7 & 9 & 5 & 3 & 4 & 1 & 5 & 2 & 9 & 10 & 9 \\\\\n",
       "\t8 & 2 & 5 & 9 & 3 & 8 & 2 & 10 & 1 & 1 & 3 \\\\\n",
       "\t9 & 3 & 9 & 7 & 5 & 8 & 5 & 9 & 5 & 2 & 3 \\\\\n",
       "\t10 & 6 & 5 & 7 & 9 & 3 & 3 & 4 & 7 & 10 & 7 \\\\\n",
       "\t$\\dots$ & $\\dots$ & $\\dots$ & $\\dots$ & $\\dots$ & $\\dots$ & $\\dots$ & $\\dots$ & $\\dots$ & $\\dots$ & $\\dots$ \\\\\n",
       "\\end{tabular}\n"
      ],
      "text/plain": [
       "\u001b[1m1000×10 DataFrame\u001b[0m\n",
       "\u001b[1m  Row \u001b[0m│\u001b[1m x1    \u001b[0m\u001b[1m x2    \u001b[0m\u001b[1m x3    \u001b[0m\u001b[1m x4    \u001b[0m\u001b[1m x5    \u001b[0m\u001b[1m x6    \u001b[0m\u001b[1m x7    \u001b[0m\u001b[1m x8    \u001b[0m\u001b[1m x9    \u001b[0m\u001b[1m x10   \u001b[0m\n",
       "\u001b[1m      \u001b[0m│\u001b[90m Int64 \u001b[0m\u001b[90m Int64 \u001b[0m\u001b[90m Int64 \u001b[0m\u001b[90m Int64 \u001b[0m\u001b[90m Int64 \u001b[0m\u001b[90m Int64 \u001b[0m\u001b[90m Int64 \u001b[0m\u001b[90m Int64 \u001b[0m\u001b[90m Int64 \u001b[0m\u001b[90m Int64 \u001b[0m\n",
       "──────┼──────────────────────────────────────────────────────────────────────\n",
       "    1 │     6      9      2      8      8      7      7      5      5      6\n",
       "  ⋮   │   ⋮      ⋮      ⋮      ⋮      ⋮      ⋮      ⋮      ⋮      ⋮      ⋮\n",
       "\u001b[36m                                                             999 rows omitted\u001b[0m"
      ]
     },
     "execution_count": 36,
     "metadata": {},
     "output_type": "execute_result"
    }
   ],
   "source": [
    "y = DataFrame(rand(1:10, 1000, 10), :auto)"
   ]
  },
  {
   "cell_type": "markdown",
   "metadata": {},
   "source": [
    "and then we can use `first` to peek into its first few rows"
   ]
  },
  {
   "cell_type": "code",
   "execution_count": 37,
   "metadata": {},
   "outputs": [
    {
     "data": {
      "text/html": [
       "<div class=\"data-frame\"><p>5 rows × 10 columns</p><table class=\"data-frame\"><thead><tr><th></th><th>x1</th><th>x2</th><th>x3</th><th>x4</th><th>x5</th><th>x6</th><th>x7</th><th>x8</th><th>x9</th><th>x10</th></tr><tr><th></th><th title=\"Int64\">Int64</th><th title=\"Int64\">Int64</th><th title=\"Int64\">Int64</th><th title=\"Int64\">Int64</th><th title=\"Int64\">Int64</th><th title=\"Int64\">Int64</th><th title=\"Int64\">Int64</th><th title=\"Int64\">Int64</th><th title=\"Int64\">Int64</th><th title=\"Int64\">Int64</th></tr></thead><tbody><tr><th>1</th><td>6</td><td>9</td><td>2</td><td>8</td><td>8</td><td>7</td><td>7</td><td>5</td><td>5</td><td>6</td></tr><tr><th>2</th><td>7</td><td>5</td><td>2</td><td>8</td><td>2</td><td>3</td><td>9</td><td>6</td><td>10</td><td>8</td></tr><tr><th>3</th><td>9</td><td>3</td><td>2</td><td>5</td><td>4</td><td>1</td><td>1</td><td>8</td><td>10</td><td>2</td></tr><tr><th>4</th><td>1</td><td>8</td><td>9</td><td>6</td><td>6</td><td>3</td><td>10</td><td>9</td><td>3</td><td>5</td></tr><tr><th>5</th><td>3</td><td>9</td><td>3</td><td>4</td><td>5</td><td>4</td><td>6</td><td>6</td><td>9</td><td>4</td></tr></tbody></table></div>"
      ],
      "text/latex": [
       "\\begin{tabular}{r|cccccccccc}\n",
       "\t& x1 & x2 & x3 & x4 & x5 & x6 & x7 & x8 & x9 & x10\\\\\n",
       "\t\\hline\n",
       "\t& Int64 & Int64 & Int64 & Int64 & Int64 & Int64 & Int64 & Int64 & Int64 & Int64\\\\\n",
       "\t\\hline\n",
       "\t1 & 6 & 9 & 2 & 8 & 8 & 7 & 7 & 5 & 5 & 6 \\\\\n",
       "\t2 & 7 & 5 & 2 & 8 & 2 & 3 & 9 & 6 & 10 & 8 \\\\\n",
       "\t3 & 9 & 3 & 2 & 5 & 4 & 1 & 1 & 8 & 10 & 2 \\\\\n",
       "\t4 & 1 & 8 & 9 & 6 & 6 & 3 & 10 & 9 & 3 & 5 \\\\\n",
       "\t5 & 3 & 9 & 3 & 4 & 5 & 4 & 6 & 6 & 9 & 4 \\\\\n",
       "\\end{tabular}\n"
      ],
      "text/plain": [
       "\u001b[1m5×10 DataFrame\u001b[0m\n",
       "\u001b[1m Row \u001b[0m│\u001b[1m x1    \u001b[0m\u001b[1m x2    \u001b[0m\u001b[1m x3    \u001b[0m\u001b[1m x4    \u001b[0m\u001b[1m x5    \u001b[0m\u001b[1m x6    \u001b[0m\u001b[1m x7    \u001b[0m\u001b[1m x8    \u001b[0m\u001b[1m x9    \u001b[0m\u001b[1m x10   \u001b[0m\n",
       "\u001b[1m     \u001b[0m│\u001b[90m Int64 \u001b[0m\u001b[90m Int64 \u001b[0m\u001b[90m Int64 \u001b[0m\u001b[90m Int64 \u001b[0m\u001b[90m Int64 \u001b[0m\u001b[90m Int64 \u001b[0m\u001b[90m Int64 \u001b[0m\u001b[90m Int64 \u001b[0m\u001b[90m Int64 \u001b[0m\u001b[90m Int64 \u001b[0m\n",
       "─────┼──────────────────────────────────────────────────────────────────────\n",
       "   1 │     6      9      2      8      8      7      7      5      5      6\n",
       "  ⋮  │   ⋮      ⋮      ⋮      ⋮      ⋮      ⋮      ⋮      ⋮      ⋮      ⋮\n",
       "\u001b[36m                                                              4 rows omitted\u001b[0m"
      ]
     },
     "execution_count": 37,
     "metadata": {},
     "output_type": "execute_result"
    }
   ],
   "source": [
    "first(y, 5)"
   ]
  },
  {
   "cell_type": "markdown",
   "metadata": {},
   "source": [
    "and `last` to see its bottom rows."
   ]
  },
  {
   "cell_type": "code",
   "execution_count": 38,
   "metadata": {},
   "outputs": [
    {
     "data": {
      "text/html": [
       "<div class=\"data-frame\"><p>3 rows × 10 columns</p><table class=\"data-frame\"><thead><tr><th></th><th>x1</th><th>x2</th><th>x3</th><th>x4</th><th>x5</th><th>x6</th><th>x7</th><th>x8</th><th>x9</th><th>x10</th></tr><tr><th></th><th title=\"Int64\">Int64</th><th title=\"Int64\">Int64</th><th title=\"Int64\">Int64</th><th title=\"Int64\">Int64</th><th title=\"Int64\">Int64</th><th title=\"Int64\">Int64</th><th title=\"Int64\">Int64</th><th title=\"Int64\">Int64</th><th title=\"Int64\">Int64</th><th title=\"Int64\">Int64</th></tr></thead><tbody><tr><th>1</th><td>2</td><td>5</td><td>3</td><td>2</td><td>6</td><td>2</td><td>1</td><td>9</td><td>2</td><td>10</td></tr><tr><th>2</th><td>1</td><td>6</td><td>3</td><td>5</td><td>2</td><td>2</td><td>7</td><td>10</td><td>2</td><td>1</td></tr><tr><th>3</th><td>7</td><td>4</td><td>3</td><td>2</td><td>4</td><td>9</td><td>3</td><td>2</td><td>10</td><td>6</td></tr></tbody></table></div>"
      ],
      "text/latex": [
       "\\begin{tabular}{r|cccccccccc}\n",
       "\t& x1 & x2 & x3 & x4 & x5 & x6 & x7 & x8 & x9 & x10\\\\\n",
       "\t\\hline\n",
       "\t& Int64 & Int64 & Int64 & Int64 & Int64 & Int64 & Int64 & Int64 & Int64 & Int64\\\\\n",
       "\t\\hline\n",
       "\t1 & 2 & 5 & 3 & 2 & 6 & 2 & 1 & 9 & 2 & 10 \\\\\n",
       "\t2 & 1 & 6 & 3 & 5 & 2 & 2 & 7 & 10 & 2 & 1 \\\\\n",
       "\t3 & 7 & 4 & 3 & 2 & 4 & 9 & 3 & 2 & 10 & 6 \\\\\n",
       "\\end{tabular}\n"
      ],
      "text/plain": [
       "\u001b[1m3×10 DataFrame\u001b[0m\n",
       "\u001b[1m Row \u001b[0m│\u001b[1m x1    \u001b[0m\u001b[1m x2    \u001b[0m\u001b[1m x3    \u001b[0m\u001b[1m x4    \u001b[0m\u001b[1m x5    \u001b[0m\u001b[1m x6    \u001b[0m\u001b[1m x7    \u001b[0m\u001b[1m x8    \u001b[0m\u001b[1m x9    \u001b[0m\u001b[1m x10   \u001b[0m\n",
       "\u001b[1m     \u001b[0m│\u001b[90m Int64 \u001b[0m\u001b[90m Int64 \u001b[0m\u001b[90m Int64 \u001b[0m\u001b[90m Int64 \u001b[0m\u001b[90m Int64 \u001b[0m\u001b[90m Int64 \u001b[0m\u001b[90m Int64 \u001b[0m\u001b[90m Int64 \u001b[0m\u001b[90m Int64 \u001b[0m\u001b[90m Int64 \u001b[0m\n",
       "─────┼──────────────────────────────────────────────────────────────────────\n",
       "   1 │     2      5      3      2      6      2      1      9      2     10\n",
       "   2 │     1      6      3      5      2      2      7     10      2      1\n",
       "   3 │     7      4      3      2      4      9      3      2     10      6"
      ]
     },
     "execution_count": 38,
     "metadata": {},
     "output_type": "execute_result"
    }
   ],
   "source": [
    "last(y, 3)"
   ]
  },
  {
   "cell_type": "markdown",
   "metadata": {},
   "source": [
    "Using `first` and `last` without number of rows will return a first/last `DataFrameRow` in the `DataFrame`"
   ]
  },
  {
   "cell_type": "code",
   "execution_count": 39,
   "metadata": {},
   "outputs": [
    {
     "data": {
      "text/html": [
       "<p>DataFrameRow (10 columns)</p><div class=\"data-frame\"><table class=\"data-frame\"><thead><tr><th></th><th>x1</th><th>x2</th><th>x3</th><th>x4</th><th>x5</th><th>x6</th><th>x7</th><th>x8</th><th>x9</th><th>x10</th></tr><tr><th></th><th title=\"Int64\">Int64</th><th title=\"Int64\">Int64</th><th title=\"Int64\">Int64</th><th title=\"Int64\">Int64</th><th title=\"Int64\">Int64</th><th title=\"Int64\">Int64</th><th title=\"Int64\">Int64</th><th title=\"Int64\">Int64</th><th title=\"Int64\">Int64</th><th title=\"Int64\">Int64</th></tr></thead><tbody><tr><th>1</th><td>6</td><td>9</td><td>2</td><td>8</td><td>8</td><td>7</td><td>7</td><td>5</td><td>5</td><td>6</td></tr></tbody></table></div>"
      ],
      "text/latex": [
       "\\begin{tabular}{r|cccccccccc}\n",
       "\t& x1 & x2 & x3 & x4 & x5 & x6 & x7 & x8 & x9 & x10\\\\\n",
       "\t\\hline\n",
       "\t& Int64 & Int64 & Int64 & Int64 & Int64 & Int64 & Int64 & Int64 & Int64 & Int64\\\\\n",
       "\t\\hline\n",
       "\t1 & 6 & 9 & 2 & 8 & 8 & 7 & 7 & 5 & 5 & 6 \\\\\n",
       "\\end{tabular}\n"
      ],
      "text/plain": [
       "\u001b[1mDataFrameRow\u001b[0m\n",
       "\u001b[1m Row \u001b[0m│\u001b[1m x1    \u001b[0m\u001b[1m x2    \u001b[0m\u001b[1m x3    \u001b[0m\u001b[1m x4    \u001b[0m\u001b[1m x5    \u001b[0m\u001b[1m x6    \u001b[0m\u001b[1m x7    \u001b[0m\u001b[1m x8    \u001b[0m\u001b[1m x9    \u001b[0m\u001b[1m x10   \u001b[0m\n",
       "\u001b[1m     \u001b[0m│\u001b[90m Int64 \u001b[0m\u001b[90m Int64 \u001b[0m\u001b[90m Int64 \u001b[0m\u001b[90m Int64 \u001b[0m\u001b[90m Int64 \u001b[0m\u001b[90m Int64 \u001b[0m\u001b[90m Int64 \u001b[0m\u001b[90m Int64 \u001b[0m\u001b[90m Int64 \u001b[0m\u001b[90m Int64 \u001b[0m\n",
       "─────┼──────────────────────────────────────────────────────────────────────\n",
       "   1 │     6      9      2      8      8      7      7      5      5      6"
      ]
     },
     "execution_count": 39,
     "metadata": {},
     "output_type": "execute_result"
    }
   ],
   "source": [
    "first(y)"
   ]
  },
  {
   "cell_type": "code",
   "execution_count": 40,
   "metadata": {},
   "outputs": [
    {
     "data": {
      "text/html": [
       "<p>DataFrameRow (10 columns)</p><div class=\"data-frame\"><table class=\"data-frame\"><thead><tr><th></th><th>x1</th><th>x2</th><th>x3</th><th>x4</th><th>x5</th><th>x6</th><th>x7</th><th>x8</th><th>x9</th><th>x10</th></tr><tr><th></th><th title=\"Int64\">Int64</th><th title=\"Int64\">Int64</th><th title=\"Int64\">Int64</th><th title=\"Int64\">Int64</th><th title=\"Int64\">Int64</th><th title=\"Int64\">Int64</th><th title=\"Int64\">Int64</th><th title=\"Int64\">Int64</th><th title=\"Int64\">Int64</th><th title=\"Int64\">Int64</th></tr></thead><tbody><tr><th>1000</th><td>7</td><td>4</td><td>3</td><td>2</td><td>4</td><td>9</td><td>3</td><td>2</td><td>10</td><td>6</td></tr></tbody></table></div>"
      ],
      "text/latex": [
       "\\begin{tabular}{r|cccccccccc}\n",
       "\t& x1 & x2 & x3 & x4 & x5 & x6 & x7 & x8 & x9 & x10\\\\\n",
       "\t\\hline\n",
       "\t& Int64 & Int64 & Int64 & Int64 & Int64 & Int64 & Int64 & Int64 & Int64 & Int64\\\\\n",
       "\t\\hline\n",
       "\t1000 & 7 & 4 & 3 & 2 & 4 & 9 & 3 & 2 & 10 & 6 \\\\\n",
       "\\end{tabular}\n"
      ],
      "text/plain": [
       "\u001b[1mDataFrameRow\u001b[0m\n",
       "\u001b[1m  Row \u001b[0m│\u001b[1m x1    \u001b[0m\u001b[1m x2    \u001b[0m\u001b[1m x3    \u001b[0m\u001b[1m x4    \u001b[0m\u001b[1m x5    \u001b[0m\u001b[1m x6    \u001b[0m\u001b[1m x7    \u001b[0m\u001b[1m x8    \u001b[0m\u001b[1m x9    \u001b[0m\u001b[1m x10   \u001b[0m\n",
       "\u001b[1m      \u001b[0m│\u001b[90m Int64 \u001b[0m\u001b[90m Int64 \u001b[0m\u001b[90m Int64 \u001b[0m\u001b[90m Int64 \u001b[0m\u001b[90m Int64 \u001b[0m\u001b[90m Int64 \u001b[0m\u001b[90m Int64 \u001b[0m\u001b[90m Int64 \u001b[0m\u001b[90m Int64 \u001b[0m\u001b[90m Int64 \u001b[0m\n",
       "──────┼──────────────────────────────────────────────────────────────────────\n",
       " 1000 │     7      4      3      2      4      9      3      2     10      6"
      ]
     },
     "execution_count": 40,
     "metadata": {},
     "output_type": "execute_result"
    }
   ],
   "source": [
    "last(y)"
   ]
  },
  {
   "cell_type": "markdown",
   "metadata": {},
   "source": [
    "### Displaying large data frames"
   ]
  },
  {
   "cell_type": "markdown",
   "metadata": {},
   "source": [
    "Create a wide and tall data frame:"
   ]
  },
  {
   "cell_type": "code",
   "execution_count": 41,
   "metadata": {
    "scrolled": true
   },
   "outputs": [
    {
     "data": {
      "text/html": [
       "<div class=\"data-frame\"><p>100 rows × 100 columns (omitted printing of 81 columns)</p><table class=\"data-frame\"><thead><tr><th></th><th>x1</th><th>x2</th><th>x3</th><th>x4</th><th>x5</th><th>x6</th><th>x7</th><th>x8</th><th>x9</th><th>x10</th><th>x11</th><th>x12</th><th>x13</th><th>x14</th><th>x15</th><th>x16</th><th>x17</th><th>x18</th><th>x19</th></tr><tr><th></th><th title=\"Float64\">Float64</th><th title=\"Float64\">Float64</th><th title=\"Float64\">Float64</th><th title=\"Float64\">Float64</th><th title=\"Float64\">Float64</th><th title=\"Float64\">Float64</th><th title=\"Float64\">Float64</th><th title=\"Float64\">Float64</th><th title=\"Float64\">Float64</th><th title=\"Float64\">Float64</th><th title=\"Float64\">Float64</th><th title=\"Float64\">Float64</th><th title=\"Float64\">Float64</th><th title=\"Float64\">Float64</th><th title=\"Float64\">Float64</th><th title=\"Float64\">Float64</th><th title=\"Float64\">Float64</th><th title=\"Float64\">Float64</th><th title=\"Float64\">Float64</th></tr></thead><tbody><tr><th>1</th><td>0.45552</td><td>0.555433</td><td>0.740774</td><td>0.0596569</td><td>0.736545</td><td>0.939493</td><td>0.366589</td><td>0.902446</td><td>0.00850931</td><td>0.485007</td><td>0.304666</td><td>0.552089</td><td>0.894406</td><td>0.932637</td><td>0.677685</td><td>0.374379</td><td>0.458715</td><td>0.482847</td><td>0.935491</td></tr><tr><th>2</th><td>0.672901</td><td>0.184044</td><td>0.0518569</td><td>0.203401</td><td>0.738239</td><td>0.181238</td><td>0.784923</td><td>0.767198</td><td>0.385785</td><td>0.553629</td><td>0.13561</td><td>0.422574</td><td>0.593631</td><td>0.835718</td><td>0.552881</td><td>0.612443</td><td>0.50615</td><td>0.817292</td><td>0.321651</td></tr><tr><th>3</th><td>0.61181</td><td>0.583987</td><td>0.777144</td><td>0.152937</td><td>0.529241</td><td>0.336159</td><td>0.717097</td><td>0.597794</td><td>0.534722</td><td>0.387473</td><td>0.332585</td><td>0.854206</td><td>0.974176</td><td>0.931126</td><td>0.0312932</td><td>0.762219</td><td>0.679493</td><td>0.655252</td><td>0.514661</td></tr><tr><th>4</th><td>0.964767</td><td>0.648263</td><td>0.920944</td><td>0.431347</td><td>0.298726</td><td>0.650545</td><td>0.304841</td><td>0.450064</td><td>0.30747</td><td>0.885946</td><td>0.253616</td><td>0.5964</td><td>0.152767</td><td>0.11609</td><td>0.105655</td><td>0.786122</td><td>0.144385</td><td>0.19331</td><td>0.127736</td></tr><tr><th>5</th><td>0.828437</td><td>0.241369</td><td>0.7174</td><td>0.932986</td><td>0.420209</td><td>0.922786</td><td>0.106899</td><td>0.250276</td><td>0.146775</td><td>0.219766</td><td>0.0567867</td><td>0.81503</td><td>0.38704</td><td>0.395717</td><td>0.0572475</td><td>0.942152</td><td>0.72545</td><td>0.918649</td><td>0.52505</td></tr><tr><th>6</th><td>0.943227</td><td>0.964661</td><td>0.376658</td><td>0.637101</td><td>0.676966</td><td>0.744883</td><td>0.453424</td><td>0.379667</td><td>0.897841</td><td>0.544112</td><td>0.177826</td><td>0.116279</td><td>0.925145</td><td>0.969287</td><td>0.296276</td><td>0.0156786</td><td>0.511717</td><td>0.0735523</td><td>0.51169</td></tr><tr><th>7</th><td>0.714929</td><td>0.974504</td><td>0.178833</td><td>0.0190573</td><td>0.593729</td><td>0.564033</td><td>0.84106</td><td>0.627525</td><td>0.622828</td><td>0.194022</td><td>0.45045</td><td>0.370131</td><td>0.217474</td><td>0.83226</td><td>0.626027</td><td>0.139177</td><td>0.214245</td><td>0.948488</td><td>0.568373</td></tr><tr><th>8</th><td>0.481384</td><td>0.746923</td><td>0.775168</td><td>0.979524</td><td>0.0842161</td><td>0.693254</td><td>0.312373</td><td>0.507279</td><td>0.240905</td><td>0.301335</td><td>0.51099</td><td>0.699555</td><td>0.486382</td><td>0.0841138</td><td>0.674899</td><td>0.618077</td><td>0.677575</td><td>0.565751</td><td>0.441655</td></tr><tr><th>9</th><td>0.917328</td><td>0.738383</td><td>0.93366</td><td>0.629119</td><td>0.454977</td><td>0.500225</td><td>0.999938</td><td>0.582699</td><td>0.677117</td><td>0.958552</td><td>0.179419</td><td>0.938972</td><td>0.356777</td><td>0.823014</td><td>0.0529046</td><td>0.629719</td><td>0.252546</td><td>0.565918</td><td>0.768903</td></tr><tr><th>10</th><td>0.818866</td><td>0.339808</td><td>0.0103051</td><td>0.363723</td><td>0.665906</td><td>0.842247</td><td>0.727994</td><td>0.831841</td><td>0.601772</td><td>0.543042</td><td>0.108069</td><td>0.393683</td><td>0.303953</td><td>0.87759</td><td>0.540998</td><td>0.0237603</td><td>0.850595</td><td>0.350017</td><td>0.283235</td></tr><tr><th>&vellip;</th><td>&vellip;</td><td>&vellip;</td><td>&vellip;</td><td>&vellip;</td><td>&vellip;</td><td>&vellip;</td><td>&vellip;</td><td>&vellip;</td><td>&vellip;</td><td>&vellip;</td><td>&vellip;</td><td>&vellip;</td><td>&vellip;</td><td>&vellip;</td><td>&vellip;</td><td>&vellip;</td><td>&vellip;</td><td>&vellip;</td><td>&vellip;</td></tr></tbody></table></div>"
      ],
      "text/latex": [
       "\\begin{tabular}{r|cccccccccccccccccccc}\n",
       "\t& x1 & x2 & x3 & x4 & x5 & x6 & x7 & x8 & x9 & x10 & x11 & x12 & x13 & x14 & x15 & x16 & x17 & x18 & x19 & \\\\\n",
       "\t\\hline\n",
       "\t& Float64 & Float64 & Float64 & Float64 & Float64 & Float64 & Float64 & Float64 & Float64 & Float64 & Float64 & Float64 & Float64 & Float64 & Float64 & Float64 & Float64 & Float64 & Float64 & \\\\\n",
       "\t\\hline\n",
       "\t1 & 0.45552 & 0.555433 & 0.740774 & 0.0596569 & 0.736545 & 0.939493 & 0.366589 & 0.902446 & 0.00850931 & 0.485007 & 0.304666 & 0.552089 & 0.894406 & 0.932637 & 0.677685 & 0.374379 & 0.458715 & 0.482847 & 0.935491 & $\\dots$ \\\\\n",
       "\t2 & 0.672901 & 0.184044 & 0.0518569 & 0.203401 & 0.738239 & 0.181238 & 0.784923 & 0.767198 & 0.385785 & 0.553629 & 0.13561 & 0.422574 & 0.593631 & 0.835718 & 0.552881 & 0.612443 & 0.50615 & 0.817292 & 0.321651 & $\\dots$ \\\\\n",
       "\t3 & 0.61181 & 0.583987 & 0.777144 & 0.152937 & 0.529241 & 0.336159 & 0.717097 & 0.597794 & 0.534722 & 0.387473 & 0.332585 & 0.854206 & 0.974176 & 0.931126 & 0.0312932 & 0.762219 & 0.679493 & 0.655252 & 0.514661 & $\\dots$ \\\\\n",
       "\t4 & 0.964767 & 0.648263 & 0.920944 & 0.431347 & 0.298726 & 0.650545 & 0.304841 & 0.450064 & 0.30747 & 0.885946 & 0.253616 & 0.5964 & 0.152767 & 0.11609 & 0.105655 & 0.786122 & 0.144385 & 0.19331 & 0.127736 & $\\dots$ \\\\\n",
       "\t5 & 0.828437 & 0.241369 & 0.7174 & 0.932986 & 0.420209 & 0.922786 & 0.106899 & 0.250276 & 0.146775 & 0.219766 & 0.0567867 & 0.81503 & 0.38704 & 0.395717 & 0.0572475 & 0.942152 & 0.72545 & 0.918649 & 0.52505 & $\\dots$ \\\\\n",
       "\t6 & 0.943227 & 0.964661 & 0.376658 & 0.637101 & 0.676966 & 0.744883 & 0.453424 & 0.379667 & 0.897841 & 0.544112 & 0.177826 & 0.116279 & 0.925145 & 0.969287 & 0.296276 & 0.0156786 & 0.511717 & 0.0735523 & 0.51169 & $\\dots$ \\\\\n",
       "\t7 & 0.714929 & 0.974504 & 0.178833 & 0.0190573 & 0.593729 & 0.564033 & 0.84106 & 0.627525 & 0.622828 & 0.194022 & 0.45045 & 0.370131 & 0.217474 & 0.83226 & 0.626027 & 0.139177 & 0.214245 & 0.948488 & 0.568373 & $\\dots$ \\\\\n",
       "\t8 & 0.481384 & 0.746923 & 0.775168 & 0.979524 & 0.0842161 & 0.693254 & 0.312373 & 0.507279 & 0.240905 & 0.301335 & 0.51099 & 0.699555 & 0.486382 & 0.0841138 & 0.674899 & 0.618077 & 0.677575 & 0.565751 & 0.441655 & $\\dots$ \\\\\n",
       "\t9 & 0.917328 & 0.738383 & 0.93366 & 0.629119 & 0.454977 & 0.500225 & 0.999938 & 0.582699 & 0.677117 & 0.958552 & 0.179419 & 0.938972 & 0.356777 & 0.823014 & 0.0529046 & 0.629719 & 0.252546 & 0.565918 & 0.768903 & $\\dots$ \\\\\n",
       "\t10 & 0.818866 & 0.339808 & 0.0103051 & 0.363723 & 0.665906 & 0.842247 & 0.727994 & 0.831841 & 0.601772 & 0.543042 & 0.108069 & 0.393683 & 0.303953 & 0.87759 & 0.540998 & 0.0237603 & 0.850595 & 0.350017 & 0.283235 & $\\dots$ \\\\\n",
       "\t$\\dots$ & $\\dots$ & $\\dots$ & $\\dots$ & $\\dots$ & $\\dots$ & $\\dots$ & $\\dots$ & $\\dots$ & $\\dots$ & $\\dots$ & $\\dots$ & $\\dots$ & $\\dots$ & $\\dots$ & $\\dots$ & $\\dots$ & $\\dots$ & $\\dots$ & $\\dots$ &  \\\\\n",
       "\\end{tabular}\n"
      ],
      "text/plain": [
       "\u001b[1m100×100 DataFrame\u001b[0m\n",
       "\u001b[1m Row \u001b[0m│\u001b[1m x1       \u001b[0m\u001b[1m x2       \u001b[0m\u001b[1m x3        \u001b[0m\u001b[1m x4        \u001b[0m\u001b[1m x5       \u001b[0m\u001b[1m x6       \u001b[0m\u001b[1m x7       \u001b[0m\u001b[1m x8       \u001b[0m\u001b[1m x9         \u001b[0m\u001b[1m x10      \u001b[0m\u001b[1m x11      \u001b[0m\u001b[1m x12      \u001b[0m\u001b[1m x13      \u001b[0m\u001b[1m x14       \u001b[0m\u001b[1m x15       \u001b[0m\u001b[1m x16       \u001b[0m\u001b[1m x17      \u001b[0m\u001b[1m x18      \u001b[0m\u001b[1m x19 \u001b[0m ⋯\n",
       "\u001b[1m     \u001b[0m│\u001b[90m Float64  \u001b[0m\u001b[90m Float64  \u001b[0m\u001b[90m Float64   \u001b[0m\u001b[90m Float64   \u001b[0m\u001b[90m Float64  \u001b[0m\u001b[90m Float64  \u001b[0m\u001b[90m Float64  \u001b[0m\u001b[90m Float64  \u001b[0m\u001b[90m Float64    \u001b[0m\u001b[90m Float64  \u001b[0m\u001b[90m Float64  \u001b[0m\u001b[90m Float64  \u001b[0m\u001b[90m Float64  \u001b[0m\u001b[90m Float64   \u001b[0m\u001b[90m Float64   \u001b[0m\u001b[90m Float64   \u001b[0m\u001b[90m Float64  \u001b[0m\u001b[90m Float64  \u001b[0m\u001b[90m Floa\u001b[0m ⋯\n",
       "─────┼──────────────────────────────────────────────────────────────────────────────────────────────────────────────────────────────────────────────────────────────────────────────────────────────────\n",
       "   1 │ 0.45552   0.555433  0.740774   0.0596569  0.736545  0.939493  0.366589  0.902446  0.00850931  0.485007  0.304666  0.552089  0.894406  0.932637   0.677685   0.374379   0.458715  0.482847  0.93 ⋯\n",
       "  ⋮  │    ⋮         ⋮          ⋮          ⋮         ⋮         ⋮         ⋮         ⋮          ⋮          ⋮         ⋮         ⋮         ⋮          ⋮          ⋮          ⋮         ⋮         ⋮         ⋮ ⋱\n",
       "\u001b[36m                                                                                                                                                                          82 columns and 99 rows omitted\u001b[0m"
      ]
     },
     "execution_count": 41,
     "metadata": {},
     "output_type": "execute_result"
    }
   ],
   "source": [
    "df = DataFrame(rand(100, 100), :auto)"
   ]
  },
  {
   "cell_type": "markdown",
   "metadata": {},
   "source": [
    "we can see that 92 of its columns were not printed. Also we get its first 30 rows. You can easily change this behavior by changing the value of `ENV[\"LINES\"]` and `ENV[\"COLUMNS\"]`."
   ]
  },
  {
   "cell_type": "code",
   "execution_count": 42,
   "metadata": {},
   "outputs": [
    {
     "data": {
      "text/plain": [
       "10"
      ]
     },
     "execution_count": 42,
     "metadata": {},
     "output_type": "execute_result"
    }
   ],
   "source": [
    "ENV[\"LINES\"] = 10"
   ]
  },
  {
   "cell_type": "code",
   "execution_count": 43,
   "metadata": {},
   "outputs": [
    {
     "data": {
      "text/plain": [
       "200"
      ]
     },
     "execution_count": 43,
     "metadata": {},
     "output_type": "execute_result"
    }
   ],
   "source": [
    "ENV[\"COLUMNS\"] = 200"
   ]
  },
  {
   "cell_type": "code",
   "execution_count": 44,
   "metadata": {},
   "outputs": [
    {
     "data": {
      "text/html": [
       "<div class=\"data-frame\"><p>100 rows × 100 columns (omitted printing of 81 columns)</p><table class=\"data-frame\"><thead><tr><th></th><th>x1</th><th>x2</th><th>x3</th><th>x4</th><th>x5</th><th>x6</th><th>x7</th><th>x8</th><th>x9</th><th>x10</th><th>x11</th><th>x12</th><th>x13</th><th>x14</th><th>x15</th><th>x16</th><th>x17</th><th>x18</th><th>x19</th></tr><tr><th></th><th title=\"Float64\">Float64</th><th title=\"Float64\">Float64</th><th title=\"Float64\">Float64</th><th title=\"Float64\">Float64</th><th title=\"Float64\">Float64</th><th title=\"Float64\">Float64</th><th title=\"Float64\">Float64</th><th title=\"Float64\">Float64</th><th title=\"Float64\">Float64</th><th title=\"Float64\">Float64</th><th title=\"Float64\">Float64</th><th title=\"Float64\">Float64</th><th title=\"Float64\">Float64</th><th title=\"Float64\">Float64</th><th title=\"Float64\">Float64</th><th title=\"Float64\">Float64</th><th title=\"Float64\">Float64</th><th title=\"Float64\">Float64</th><th title=\"Float64\">Float64</th></tr></thead><tbody><tr><th>1</th><td>0.45552</td><td>0.555433</td><td>0.740774</td><td>0.0596569</td><td>0.736545</td><td>0.939493</td><td>0.366589</td><td>0.902446</td><td>0.00850931</td><td>0.485007</td><td>0.304666</td><td>0.552089</td><td>0.894406</td><td>0.932637</td><td>0.677685</td><td>0.374379</td><td>0.458715</td><td>0.482847</td><td>0.935491</td></tr><tr><th>2</th><td>0.672901</td><td>0.184044</td><td>0.0518569</td><td>0.203401</td><td>0.738239</td><td>0.181238</td><td>0.784923</td><td>0.767198</td><td>0.385785</td><td>0.553629</td><td>0.13561</td><td>0.422574</td><td>0.593631</td><td>0.835718</td><td>0.552881</td><td>0.612443</td><td>0.50615</td><td>0.817292</td><td>0.321651</td></tr><tr><th>3</th><td>0.61181</td><td>0.583987</td><td>0.777144</td><td>0.152937</td><td>0.529241</td><td>0.336159</td><td>0.717097</td><td>0.597794</td><td>0.534722</td><td>0.387473</td><td>0.332585</td><td>0.854206</td><td>0.974176</td><td>0.931126</td><td>0.0312932</td><td>0.762219</td><td>0.679493</td><td>0.655252</td><td>0.514661</td></tr><tr><th>4</th><td>0.964767</td><td>0.648263</td><td>0.920944</td><td>0.431347</td><td>0.298726</td><td>0.650545</td><td>0.304841</td><td>0.450064</td><td>0.30747</td><td>0.885946</td><td>0.253616</td><td>0.5964</td><td>0.152767</td><td>0.11609</td><td>0.105655</td><td>0.786122</td><td>0.144385</td><td>0.19331</td><td>0.127736</td></tr><tr><th>5</th><td>0.828437</td><td>0.241369</td><td>0.7174</td><td>0.932986</td><td>0.420209</td><td>0.922786</td><td>0.106899</td><td>0.250276</td><td>0.146775</td><td>0.219766</td><td>0.0567867</td><td>0.81503</td><td>0.38704</td><td>0.395717</td><td>0.0572475</td><td>0.942152</td><td>0.72545</td><td>0.918649</td><td>0.52505</td></tr><tr><th>6</th><td>0.943227</td><td>0.964661</td><td>0.376658</td><td>0.637101</td><td>0.676966</td><td>0.744883</td><td>0.453424</td><td>0.379667</td><td>0.897841</td><td>0.544112</td><td>0.177826</td><td>0.116279</td><td>0.925145</td><td>0.969287</td><td>0.296276</td><td>0.0156786</td><td>0.511717</td><td>0.0735523</td><td>0.51169</td></tr><tr><th>7</th><td>0.714929</td><td>0.974504</td><td>0.178833</td><td>0.0190573</td><td>0.593729</td><td>0.564033</td><td>0.84106</td><td>0.627525</td><td>0.622828</td><td>0.194022</td><td>0.45045</td><td>0.370131</td><td>0.217474</td><td>0.83226</td><td>0.626027</td><td>0.139177</td><td>0.214245</td><td>0.948488</td><td>0.568373</td></tr><tr><th>8</th><td>0.481384</td><td>0.746923</td><td>0.775168</td><td>0.979524</td><td>0.0842161</td><td>0.693254</td><td>0.312373</td><td>0.507279</td><td>0.240905</td><td>0.301335</td><td>0.51099</td><td>0.699555</td><td>0.486382</td><td>0.0841138</td><td>0.674899</td><td>0.618077</td><td>0.677575</td><td>0.565751</td><td>0.441655</td></tr><tr><th>9</th><td>0.917328</td><td>0.738383</td><td>0.93366</td><td>0.629119</td><td>0.454977</td><td>0.500225</td><td>0.999938</td><td>0.582699</td><td>0.677117</td><td>0.958552</td><td>0.179419</td><td>0.938972</td><td>0.356777</td><td>0.823014</td><td>0.0529046</td><td>0.629719</td><td>0.252546</td><td>0.565918</td><td>0.768903</td></tr><tr><th>10</th><td>0.818866</td><td>0.339808</td><td>0.0103051</td><td>0.363723</td><td>0.665906</td><td>0.842247</td><td>0.727994</td><td>0.831841</td><td>0.601772</td><td>0.543042</td><td>0.108069</td><td>0.393683</td><td>0.303953</td><td>0.87759</td><td>0.540998</td><td>0.0237603</td><td>0.850595</td><td>0.350017</td><td>0.283235</td></tr><tr><th>&vellip;</th><td>&vellip;</td><td>&vellip;</td><td>&vellip;</td><td>&vellip;</td><td>&vellip;</td><td>&vellip;</td><td>&vellip;</td><td>&vellip;</td><td>&vellip;</td><td>&vellip;</td><td>&vellip;</td><td>&vellip;</td><td>&vellip;</td><td>&vellip;</td><td>&vellip;</td><td>&vellip;</td><td>&vellip;</td><td>&vellip;</td><td>&vellip;</td></tr></tbody></table></div>"
      ],
      "text/latex": [
       "\\begin{tabular}{r|cccccccccccccccccccc}\n",
       "\t& x1 & x2 & x3 & x4 & x5 & x6 & x7 & x8 & x9 & x10 & x11 & x12 & x13 & x14 & x15 & x16 & x17 & x18 & x19 & \\\\\n",
       "\t\\hline\n",
       "\t& Float64 & Float64 & Float64 & Float64 & Float64 & Float64 & Float64 & Float64 & Float64 & Float64 & Float64 & Float64 & Float64 & Float64 & Float64 & Float64 & Float64 & Float64 & Float64 & \\\\\n",
       "\t\\hline\n",
       "\t1 & 0.45552 & 0.555433 & 0.740774 & 0.0596569 & 0.736545 & 0.939493 & 0.366589 & 0.902446 & 0.00850931 & 0.485007 & 0.304666 & 0.552089 & 0.894406 & 0.932637 & 0.677685 & 0.374379 & 0.458715 & 0.482847 & 0.935491 & $\\dots$ \\\\\n",
       "\t2 & 0.672901 & 0.184044 & 0.0518569 & 0.203401 & 0.738239 & 0.181238 & 0.784923 & 0.767198 & 0.385785 & 0.553629 & 0.13561 & 0.422574 & 0.593631 & 0.835718 & 0.552881 & 0.612443 & 0.50615 & 0.817292 & 0.321651 & $\\dots$ \\\\\n",
       "\t3 & 0.61181 & 0.583987 & 0.777144 & 0.152937 & 0.529241 & 0.336159 & 0.717097 & 0.597794 & 0.534722 & 0.387473 & 0.332585 & 0.854206 & 0.974176 & 0.931126 & 0.0312932 & 0.762219 & 0.679493 & 0.655252 & 0.514661 & $\\dots$ \\\\\n",
       "\t4 & 0.964767 & 0.648263 & 0.920944 & 0.431347 & 0.298726 & 0.650545 & 0.304841 & 0.450064 & 0.30747 & 0.885946 & 0.253616 & 0.5964 & 0.152767 & 0.11609 & 0.105655 & 0.786122 & 0.144385 & 0.19331 & 0.127736 & $\\dots$ \\\\\n",
       "\t5 & 0.828437 & 0.241369 & 0.7174 & 0.932986 & 0.420209 & 0.922786 & 0.106899 & 0.250276 & 0.146775 & 0.219766 & 0.0567867 & 0.81503 & 0.38704 & 0.395717 & 0.0572475 & 0.942152 & 0.72545 & 0.918649 & 0.52505 & $\\dots$ \\\\\n",
       "\t6 & 0.943227 & 0.964661 & 0.376658 & 0.637101 & 0.676966 & 0.744883 & 0.453424 & 0.379667 & 0.897841 & 0.544112 & 0.177826 & 0.116279 & 0.925145 & 0.969287 & 0.296276 & 0.0156786 & 0.511717 & 0.0735523 & 0.51169 & $\\dots$ \\\\\n",
       "\t7 & 0.714929 & 0.974504 & 0.178833 & 0.0190573 & 0.593729 & 0.564033 & 0.84106 & 0.627525 & 0.622828 & 0.194022 & 0.45045 & 0.370131 & 0.217474 & 0.83226 & 0.626027 & 0.139177 & 0.214245 & 0.948488 & 0.568373 & $\\dots$ \\\\\n",
       "\t8 & 0.481384 & 0.746923 & 0.775168 & 0.979524 & 0.0842161 & 0.693254 & 0.312373 & 0.507279 & 0.240905 & 0.301335 & 0.51099 & 0.699555 & 0.486382 & 0.0841138 & 0.674899 & 0.618077 & 0.677575 & 0.565751 & 0.441655 & $\\dots$ \\\\\n",
       "\t9 & 0.917328 & 0.738383 & 0.93366 & 0.629119 & 0.454977 & 0.500225 & 0.999938 & 0.582699 & 0.677117 & 0.958552 & 0.179419 & 0.938972 & 0.356777 & 0.823014 & 0.0529046 & 0.629719 & 0.252546 & 0.565918 & 0.768903 & $\\dots$ \\\\\n",
       "\t10 & 0.818866 & 0.339808 & 0.0103051 & 0.363723 & 0.665906 & 0.842247 & 0.727994 & 0.831841 & 0.601772 & 0.543042 & 0.108069 & 0.393683 & 0.303953 & 0.87759 & 0.540998 & 0.0237603 & 0.850595 & 0.350017 & 0.283235 & $\\dots$ \\\\\n",
       "\t$\\dots$ & $\\dots$ & $\\dots$ & $\\dots$ & $\\dots$ & $\\dots$ & $\\dots$ & $\\dots$ & $\\dots$ & $\\dots$ & $\\dots$ & $\\dots$ & $\\dots$ & $\\dots$ & $\\dots$ & $\\dots$ & $\\dots$ & $\\dots$ & $\\dots$ & $\\dots$ &  \\\\\n",
       "\\end{tabular}\n"
      ],
      "text/plain": [
       "\u001b[1m100×100 DataFrame\u001b[0m\n",
       "\u001b[1m Row \u001b[0m│\u001b[1m x1       \u001b[0m\u001b[1m x2       \u001b[0m\u001b[1m x3        \u001b[0m\u001b[1m x4        \u001b[0m\u001b[1m x5       \u001b[0m\u001b[1m x6       \u001b[0m\u001b[1m x7       \u001b[0m\u001b[1m x8       \u001b[0m\u001b[1m x9         \u001b[0m\u001b[1m x10      \u001b[0m\u001b[1m x11      \u001b[0m\u001b[1m x12      \u001b[0m\u001b[1m x13      \u001b[0m\u001b[1m x14       \u001b[0m\u001b[1m x15       \u001b[0m\u001b[1m x16       \u001b[0m\u001b[1m x17      \u001b[0m\u001b[1m x18      \u001b[0m\u001b[1m x19 \u001b[0m ⋯\n",
       "\u001b[1m     \u001b[0m│\u001b[90m Float64  \u001b[0m\u001b[90m Float64  \u001b[0m\u001b[90m Float64   \u001b[0m\u001b[90m Float64   \u001b[0m\u001b[90m Float64  \u001b[0m\u001b[90m Float64  \u001b[0m\u001b[90m Float64  \u001b[0m\u001b[90m Float64  \u001b[0m\u001b[90m Float64    \u001b[0m\u001b[90m Float64  \u001b[0m\u001b[90m Float64  \u001b[0m\u001b[90m Float64  \u001b[0m\u001b[90m Float64  \u001b[0m\u001b[90m Float64   \u001b[0m\u001b[90m Float64   \u001b[0m\u001b[90m Float64   \u001b[0m\u001b[90m Float64  \u001b[0m\u001b[90m Float64  \u001b[0m\u001b[90m Floa\u001b[0m ⋯\n",
       "─────┼──────────────────────────────────────────────────────────────────────────────────────────────────────────────────────────────────────────────────────────────────────────────────────────────────\n",
       "   1 │ 0.45552   0.555433  0.740774   0.0596569  0.736545  0.939493  0.366589  0.902446  0.00850931  0.485007  0.304666  0.552089  0.894406  0.932637   0.677685   0.374379   0.458715  0.482847  0.93 ⋯\n",
       "  ⋮  │    ⋮         ⋮          ⋮          ⋮         ⋮         ⋮         ⋮         ⋮          ⋮          ⋮         ⋮         ⋮         ⋮          ⋮          ⋮          ⋮         ⋮         ⋮         ⋮ ⋱\n",
       "\u001b[36m                                                                                                                                                                          82 columns and 99 rows omitted\u001b[0m"
      ]
     },
     "execution_count": 44,
     "metadata": {},
     "output_type": "execute_result"
    }
   ],
   "source": [
    "df"
   ]
  },
  {
   "cell_type": "markdown",
   "metadata": {},
   "source": [
    "### Most elementary get and set operations\n",
    "\n",
    "Given the `DataFrame` `x` we have created earlier, here are various ways to grab one of its columns as a `Vector`."
   ]
  },
  {
   "cell_type": "code",
   "execution_count": 45,
   "metadata": {},
   "outputs": [
    {
     "data": {
      "text/html": [
       "<div class=\"data-frame\"><p>2 rows × 3 columns</p><table class=\"data-frame\"><thead><tr><th></th><th>A</th><th>B</th><th>C</th></tr><tr><th></th><th title=\"Int64\">Int64</th><th title=\"Union{Missing, Float64}\">Float64?</th><th title=\"String\">String</th></tr></thead><tbody><tr><th>1</th><td>1</td><td>1.0</td><td>a</td></tr><tr><th>2</th><td>2</td><td><em>missing</em></td><td>b</td></tr></tbody></table></div>"
      ],
      "text/latex": [
       "\\begin{tabular}{r|ccc}\n",
       "\t& A & B & C\\\\\n",
       "\t\\hline\n",
       "\t& Int64 & Float64? & String\\\\\n",
       "\t\\hline\n",
       "\t1 & 1 & 1.0 & a \\\\\n",
       "\t2 & 2 & \\emph{missing} & b \\\\\n",
       "\\end{tabular}\n"
      ],
      "text/plain": [
       "\u001b[1m2×3 DataFrame\u001b[0m\n",
       "\u001b[1m Row \u001b[0m│\u001b[1m A     \u001b[0m\u001b[1m B         \u001b[0m\u001b[1m C      \u001b[0m\n",
       "\u001b[1m     \u001b[0m│\u001b[90m Int64 \u001b[0m\u001b[90m Float64?  \u001b[0m\u001b[90m String \u001b[0m\n",
       "─────┼──────────────────────────\n",
       "   1 │     1        1.0  a\n",
       "   2 │     2 \u001b[90m missing   \u001b[0m b"
      ]
     },
     "execution_count": 45,
     "metadata": {},
     "output_type": "execute_result"
    }
   ],
   "source": [
    "x"
   ]
  },
  {
   "cell_type": "code",
   "execution_count": 46,
   "metadata": {},
   "outputs": [
    {
     "data": {
      "text/plain": [
       "([1, 2], [1, 2], [1, 2])"
      ]
     },
     "execution_count": 46,
     "metadata": {},
     "output_type": "execute_result"
    }
   ],
   "source": [
    "x.A, x[!, 1], x[!, :A] # all get the vector stored in our DataFrame without copying it"
   ]
  },
  {
   "cell_type": "code",
   "execution_count": 47,
   "metadata": {},
   "outputs": [
    {
     "data": {
      "text/plain": [
       "([1, 2], [1, 2])"
      ]
     },
     "execution_count": 47,
     "metadata": {},
     "output_type": "execute_result"
    }
   ],
   "source": [
    "x.\"A\", x[!, \"A\"] # the same using string indexing"
   ]
  },
  {
   "cell_type": "code",
   "execution_count": 48,
   "metadata": {},
   "outputs": [
    {
     "data": {
      "text/plain": [
       "2-element Vector{Int64}:\n",
       " 1\n",
       " 2"
      ]
     },
     "execution_count": 48,
     "metadata": {},
     "output_type": "execute_result"
    }
   ],
   "source": [
    "x[:, 1] # note that this creates a copy"
   ]
  },
  {
   "cell_type": "code",
   "execution_count": 53,
   "metadata": {},
   "outputs": [
    {
     "data": {
      "text/plain": [
       "true"
      ]
     },
     "execution_count": 53,
     "metadata": {},
     "output_type": "execute_result"
    }
   ],
   "source": [
    "x[:, 1] === x[:, 1]"
   ]
  },
  {
   "cell_type": "markdown",
   "metadata": {},
   "source": [
    "To grab one row as a `DataFrame`, we can index as follows."
   ]
  },
  {
   "cell_type": "code",
   "execution_count": 54,
   "metadata": {},
   "outputs": [
    {
     "data": {
      "text/html": [
       "<div class=\"data-frame\"><p>1 rows × 3 columns</p><table class=\"data-frame\"><thead><tr><th></th><th>A</th><th>B</th><th>C</th></tr><tr><th></th><th title=\"Int64\">Int64</th><th title=\"Union{Missing, Float64}\">Float64?</th><th title=\"String\">String</th></tr></thead><tbody><tr><th>1</th><td>1</td><td>1.0</td><td>a</td></tr></tbody></table></div>"
      ],
      "text/latex": [
       "\\begin{tabular}{r|ccc}\n",
       "\t& A & B & C\\\\\n",
       "\t\\hline\n",
       "\t& Int64 & Float64? & String\\\\\n",
       "\t\\hline\n",
       "\t1 & 1 & 1.0 & a \\\\\n",
       "\\end{tabular}\n"
      ],
      "text/plain": [
       "\u001b[1m1×3 DataFrame\u001b[0m\n",
       "\u001b[1m Row \u001b[0m│\u001b[1m A     \u001b[0m\u001b[1m B        \u001b[0m\u001b[1m C      \u001b[0m\n",
       "\u001b[1m     \u001b[0m│\u001b[90m Int64 \u001b[0m\u001b[90m Float64? \u001b[0m\u001b[90m String \u001b[0m\n",
       "─────┼─────────────────────────\n",
       "   1 │     1       1.0  a"
      ]
     },
     "execution_count": 54,
     "metadata": {},
     "output_type": "execute_result"
    }
   ],
   "source": [
    "x[1:1, :]"
   ]
  },
  {
   "cell_type": "code",
   "execution_count": 55,
   "metadata": {},
   "outputs": [
    {
     "data": {
      "text/html": [
       "<p>DataFrameRow (3 columns)</p><div class=\"data-frame\"><table class=\"data-frame\"><thead><tr><th></th><th>A</th><th>B</th><th>C</th></tr><tr><th></th><th title=\"Int64\">Int64</th><th title=\"Union{Missing, Float64}\">Float64?</th><th title=\"String\">String</th></tr></thead><tbody><tr><th>1</th><td>1</td><td>1.0</td><td>a</td></tr></tbody></table></div>"
      ],
      "text/latex": [
       "\\begin{tabular}{r|ccc}\n",
       "\t& A & B & C\\\\\n",
       "\t\\hline\n",
       "\t& Int64 & Float64? & String\\\\\n",
       "\t\\hline\n",
       "\t1 & 1 & 1.0 & a \\\\\n",
       "\\end{tabular}\n"
      ],
      "text/plain": [
       "\u001b[1mDataFrameRow\u001b[0m\n",
       "\u001b[1m Row \u001b[0m│\u001b[1m A     \u001b[0m\u001b[1m B        \u001b[0m\u001b[1m C      \u001b[0m\n",
       "\u001b[1m     \u001b[0m│\u001b[90m Int64 \u001b[0m\u001b[90m Float64? \u001b[0m\u001b[90m String \u001b[0m\n",
       "─────┼─────────────────────────\n",
       "   1 │     1       1.0  a"
      ]
     },
     "execution_count": 55,
     "metadata": {},
     "output_type": "execute_result"
    }
   ],
   "source": [
    "x[1, :] # this produces a DataFrameRow which is treated as 1-dimensional object similar to a NamedTuple"
   ]
  },
  {
   "cell_type": "markdown",
   "metadata": {},
   "source": [
    "We can grab a single cell or element with the same syntax to grab an element of an array."
   ]
  },
  {
   "cell_type": "code",
   "execution_count": 56,
   "metadata": {},
   "outputs": [
    {
     "data": {
      "text/plain": [
       "1"
      ]
     },
     "execution_count": 56,
     "metadata": {},
     "output_type": "execute_result"
    }
   ],
   "source": [
    "x[1, 1]"
   ]
  },
  {
   "cell_type": "markdown",
   "metadata": {},
   "source": [
    "or a new `DataFrame` that is a subset of rows and columns"
   ]
  },
  {
   "cell_type": "code",
   "execution_count": 57,
   "metadata": {},
   "outputs": [
    {
     "data": {
      "text/html": [
       "<div class=\"data-frame\"><p>2 rows × 2 columns</p><table class=\"data-frame\"><thead><tr><th></th><th>A</th><th>B</th></tr><tr><th></th><th title=\"Int64\">Int64</th><th title=\"Union{Missing, Float64}\">Float64?</th></tr></thead><tbody><tr><th>1</th><td>1</td><td>1.0</td></tr><tr><th>2</th><td>2</td><td><em>missing</em></td></tr></tbody></table></div>"
      ],
      "text/latex": [
       "\\begin{tabular}{r|cc}\n",
       "\t& A & B\\\\\n",
       "\t\\hline\n",
       "\t& Int64 & Float64?\\\\\n",
       "\t\\hline\n",
       "\t1 & 1 & 1.0 \\\\\n",
       "\t2 & 2 & \\emph{missing} \\\\\n",
       "\\end{tabular}\n"
      ],
      "text/plain": [
       "\u001b[1m2×2 DataFrame\u001b[0m\n",
       "\u001b[1m Row \u001b[0m│\u001b[1m A     \u001b[0m\u001b[1m B         \u001b[0m\n",
       "\u001b[1m     \u001b[0m│\u001b[90m Int64 \u001b[0m\u001b[90m Float64?  \u001b[0m\n",
       "─────┼──────────────────\n",
       "   1 │     1        1.0\n",
       "   2 │     2 \u001b[90m missing   \u001b[0m"
      ]
     },
     "execution_count": 57,
     "metadata": {},
     "output_type": "execute_result"
    }
   ],
   "source": [
    "x[1:2, 1:2]"
   ]
  },
  {
   "cell_type": "markdown",
   "metadata": {},
   "source": [
    "You can also use `Regex` to select columns and `Not` from InvertedIndices.jl both to select rows and columns"
   ]
  },
  {
   "cell_type": "code",
   "execution_count": 61,
   "metadata": {},
   "outputs": [
    {
     "data": {
      "text/html": [
       "<div class=\"data-frame\"><p>1 rows × 1 columns</p><table class=\"data-frame\"><thead><tr><th></th><th>A</th></tr><tr><th></th><th title=\"Int64\">Int64</th></tr></thead><tbody><tr><th>1</th><td>2</td></tr></tbody></table></div>"
      ],
      "text/latex": [
       "\\begin{tabular}{r|c}\n",
       "\t& A\\\\\n",
       "\t\\hline\n",
       "\t& Int64\\\\\n",
       "\t\\hline\n",
       "\t1 & 2 \\\\\n",
       "\\end{tabular}\n"
      ],
      "text/plain": [
       "\u001b[1m1×1 DataFrame\u001b[0m\n",
       "\u001b[1m Row \u001b[0m│\u001b[1m A     \u001b[0m\n",
       "\u001b[1m     \u001b[0m│\u001b[90m Int64 \u001b[0m\n",
       "─────┼───────\n",
       "   1 │     2"
      ]
     },
     "execution_count": 61,
     "metadata": {},
     "output_type": "execute_result"
    }
   ],
   "source": [
    "x[Not(1), r\"A\"]"
   ]
  },
  {
   "cell_type": "code",
   "execution_count": 62,
   "metadata": {},
   "outputs": [
    {
     "data": {
      "text/html": [
       "<div class=\"data-frame\"><p>2 rows × 2 columns</p><table class=\"data-frame\"><thead><tr><th></th><th>A</th><th>C</th></tr><tr><th></th><th title=\"Int64\">Int64</th><th title=\"String\">String</th></tr></thead><tbody><tr><th>1</th><td>1</td><td>a</td></tr><tr><th>2</th><td>2</td><td>b</td></tr></tbody></table></div>"
      ],
      "text/latex": [
       "\\begin{tabular}{r|cc}\n",
       "\t& A & C\\\\\n",
       "\t\\hline\n",
       "\t& Int64 & String\\\\\n",
       "\t\\hline\n",
       "\t1 & 1 & a \\\\\n",
       "\t2 & 2 & b \\\\\n",
       "\\end{tabular}\n"
      ],
      "text/plain": [
       "\u001b[1m2×2 DataFrame\u001b[0m\n",
       "\u001b[1m Row \u001b[0m│\u001b[1m A     \u001b[0m\u001b[1m C      \u001b[0m\n",
       "\u001b[1m     \u001b[0m│\u001b[90m Int64 \u001b[0m\u001b[90m String \u001b[0m\n",
       "─────┼───────────────\n",
       "   1 │     1  a\n",
       "   2 │     2  b"
      ]
     },
     "execution_count": 62,
     "metadata": {},
     "output_type": "execute_result"
    }
   ],
   "source": [
    "x[!, Not(2)] # ! indicates that underlying columns are not copied"
   ]
  },
  {
   "cell_type": "code",
   "execution_count": 63,
   "metadata": {},
   "outputs": [
    {
     "data": {
      "text/html": [
       "<div class=\"data-frame\"><p>2 rows × 2 columns</p><table class=\"data-frame\"><thead><tr><th></th><th>B</th><th>C</th></tr><tr><th></th><th title=\"Union{Missing, Float64}\">Float64?</th><th title=\"String\">String</th></tr></thead><tbody><tr><th>1</th><td>1.0</td><td>a</td></tr><tr><th>2</th><td><em>missing</em></td><td>b</td></tr></tbody></table></div>"
      ],
      "text/latex": [
       "\\begin{tabular}{r|cc}\n",
       "\t& B & C\\\\\n",
       "\t\\hline\n",
       "\t& Float64? & String\\\\\n",
       "\t\\hline\n",
       "\t1 & 1.0 & a \\\\\n",
       "\t2 & \\emph{missing} & b \\\\\n",
       "\\end{tabular}\n"
      ],
      "text/plain": [
       "\u001b[1m2×2 DataFrame\u001b[0m\n",
       "\u001b[1m Row \u001b[0m│\u001b[1m B         \u001b[0m\u001b[1m C      \u001b[0m\n",
       "\u001b[1m     \u001b[0m│\u001b[90m Float64?  \u001b[0m\u001b[90m String \u001b[0m\n",
       "─────┼───────────────────\n",
       "   1 │       1.0  a\n",
       "   2 │\u001b[90m missing   \u001b[0m b"
      ]
     },
     "execution_count": 63,
     "metadata": {},
     "output_type": "execute_result"
    }
   ],
   "source": [
    "x[:, Not(1)] # : means that the columns will get copied"
   ]
  },
  {
   "cell_type": "markdown",
   "metadata": {},
   "source": [
    "Assignment of a scalar to a data frame can be done in ranges using broadcasting:"
   ]
  },
  {
   "cell_type": "code",
   "execution_count": 64,
   "metadata": {},
   "outputs": [
    {
     "data": {
      "text/html": [
       "<div class=\"data-frame\"><p>2 rows × 3 columns</p><table class=\"data-frame\"><thead><tr><th></th><th>A</th><th>B</th><th>C</th></tr><tr><th></th><th title=\"Int64\">Int64</th><th title=\"Union{Missing, Float64}\">Float64?</th><th title=\"String\">String</th></tr></thead><tbody><tr><th>1</th><td>1</td><td>1.0</td><td>a</td></tr><tr><th>2</th><td>1</td><td>1.0</td><td>b</td></tr></tbody></table></div>"
      ],
      "text/latex": [
       "\\begin{tabular}{r|ccc}\n",
       "\t& A & B & C\\\\\n",
       "\t\\hline\n",
       "\t& Int64 & Float64? & String\\\\\n",
       "\t\\hline\n",
       "\t1 & 1 & 1.0 & a \\\\\n",
       "\t2 & 1 & 1.0 & b \\\\\n",
       "\\end{tabular}\n"
      ],
      "text/plain": [
       "\u001b[1m2×3 DataFrame\u001b[0m\n",
       "\u001b[1m Row \u001b[0m│\u001b[1m A     \u001b[0m\u001b[1m B        \u001b[0m\u001b[1m C      \u001b[0m\n",
       "\u001b[1m     \u001b[0m│\u001b[90m Int64 \u001b[0m\u001b[90m Float64? \u001b[0m\u001b[90m String \u001b[0m\n",
       "─────┼─────────────────────────\n",
       "   1 │     1       1.0  a\n",
       "   2 │     1       1.0  b"
      ]
     },
     "execution_count": 64,
     "metadata": {},
     "output_type": "execute_result"
    }
   ],
   "source": [
    "x[1:2, 1:2] .= 1\n",
    "x"
   ]
  },
  {
   "cell_type": "markdown",
   "metadata": {},
   "source": [
    "Assignment of a vector of length equal to the number of assigned rows using broadcasting"
   ]
  },
  {
   "cell_type": "code",
   "execution_count": 65,
   "metadata": {},
   "outputs": [
    {
     "data": {
      "text/html": [
       "<div class=\"data-frame\"><p>2 rows × 3 columns</p><table class=\"data-frame\"><thead><tr><th></th><th>A</th><th>B</th><th>C</th></tr><tr><th></th><th title=\"Int64\">Int64</th><th title=\"Union{Missing, Float64}\">Float64?</th><th title=\"String\">String</th></tr></thead><tbody><tr><th>1</th><td>1</td><td>1.0</td><td>a</td></tr><tr><th>2</th><td>2</td><td>2.0</td><td>b</td></tr></tbody></table></div>"
      ],
      "text/latex": [
       "\\begin{tabular}{r|ccc}\n",
       "\t& A & B & C\\\\\n",
       "\t\\hline\n",
       "\t& Int64 & Float64? & String\\\\\n",
       "\t\\hline\n",
       "\t1 & 1 & 1.0 & a \\\\\n",
       "\t2 & 2 & 2.0 & b \\\\\n",
       "\\end{tabular}\n"
      ],
      "text/plain": [
       "\u001b[1m2×3 DataFrame\u001b[0m\n",
       "\u001b[1m Row \u001b[0m│\u001b[1m A     \u001b[0m\u001b[1m B        \u001b[0m\u001b[1m C      \u001b[0m\n",
       "\u001b[1m     \u001b[0m│\u001b[90m Int64 \u001b[0m\u001b[90m Float64? \u001b[0m\u001b[90m String \u001b[0m\n",
       "─────┼─────────────────────────\n",
       "   1 │     1       1.0  a\n",
       "   2 │     2       2.0  b"
      ]
     },
     "execution_count": 65,
     "metadata": {},
     "output_type": "execute_result"
    }
   ],
   "source": [
    "x[1:2, 1:2] .= [1,2]\n",
    "x"
   ]
  },
  {
   "cell_type": "markdown",
   "metadata": {},
   "source": [
    "Assignment or of another data frame of matching size and column names, again using broadcasting:"
   ]
  },
  {
   "cell_type": "code",
   "execution_count": 66,
   "metadata": {},
   "outputs": [
    {
     "data": {
      "text/html": [
       "<div class=\"data-frame\"><p>2 rows × 3 columns</p><table class=\"data-frame\"><thead><tr><th></th><th>A</th><th>B</th><th>C</th></tr><tr><th></th><th title=\"Int64\">Int64</th><th title=\"Union{Missing, Float64}\">Float64?</th><th title=\"String\">String</th></tr></thead><tbody><tr><th>1</th><td>5</td><td>6.0</td><td>a</td></tr><tr><th>2</th><td>7</td><td>8.0</td><td>b</td></tr></tbody></table></div>"
      ],
      "text/latex": [
       "\\begin{tabular}{r|ccc}\n",
       "\t& A & B & C\\\\\n",
       "\t\\hline\n",
       "\t& Int64 & Float64? & String\\\\\n",
       "\t\\hline\n",
       "\t1 & 5 & 6.0 & a \\\\\n",
       "\t2 & 7 & 8.0 & b \\\\\n",
       "\\end{tabular}\n"
      ],
      "text/plain": [
       "\u001b[1m2×3 DataFrame\u001b[0m\n",
       "\u001b[1m Row \u001b[0m│\u001b[1m A     \u001b[0m\u001b[1m B        \u001b[0m\u001b[1m C      \u001b[0m\n",
       "\u001b[1m     \u001b[0m│\u001b[90m Int64 \u001b[0m\u001b[90m Float64? \u001b[0m\u001b[90m String \u001b[0m\n",
       "─────┼─────────────────────────\n",
       "   1 │     5       6.0  a\n",
       "   2 │     7       8.0  b"
      ]
     },
     "execution_count": 66,
     "metadata": {},
     "output_type": "execute_result"
    }
   ],
   "source": [
    "x[1:2, 1:2] .= DataFrame([5 6; 7 8], [:A, :B])\n",
    "x"
   ]
  },
  {
   "cell_type": "markdown",
   "metadata": {},
   "source": [
    "**Caution**\n",
    "\n",
    "With `df[!, :col]` and `df.col` syntax you get a direct (non copying) access to a column of a data frame.\n",
    "This is potentially unsafe as you can easily corrupt data in the `df` data frame if you resize, sort, etc. the column obtained in this way.\n",
    "Therefore such access should be used with caution.\n",
    "\n",
    "Similarly `df[!, cols]` when `cols` is a collection of columns produces a new data frame that holds the same (not copied) columns as the source `df` data frame. Similarly, modifying the data frame obtained via `df[!, cols]` might cause problems with the consistency of `df`.\n",
    "\n",
    "The `df[:, :col]` and `df[:, cols]` syntaxes always copy columns so they are safe to use (and should generally be preferred except for performance or memory critical use cases)."
   ]
  },
  {
   "cell_type": "markdown",
   "metadata": {},
   "source": [
    "Here are examples of how `Cols` and `Between` can be used to select columns of a data frame."
   ]
  },
  {
   "cell_type": "code",
   "execution_count": 67,
   "metadata": {},
   "outputs": [
    {
     "data": {
      "text/html": [
       "<div class=\"data-frame\"><p>4 rows × 5 columns</p><table class=\"data-frame\"><thead><tr><th></th><th>x1</th><th>x2</th><th>x3</th><th>x4</th><th>x5</th></tr><tr><th></th><th title=\"Float64\">Float64</th><th title=\"Float64\">Float64</th><th title=\"Float64\">Float64</th><th title=\"Float64\">Float64</th><th title=\"Float64\">Float64</th></tr></thead><tbody><tr><th>1</th><td>0.259531</td><td>0.201792</td><td>0.946575</td><td>0.108957</td><td>0.527328</td></tr><tr><th>2</th><td>0.842374</td><td>0.539274</td><td>0.378469</td><td>0.382346</td><td>0.792338</td></tr><tr><th>3</th><td>0.823052</td><td>0.595051</td><td>0.935966</td><td>0.179118</td><td>0.170161</td></tr><tr><th>4</th><td>0.479652</td><td>0.597522</td><td>0.291508</td><td>0.110414</td><td>0.668503</td></tr></tbody></table></div>"
      ],
      "text/latex": [
       "\\begin{tabular}{r|ccccc}\n",
       "\t& x1 & x2 & x3 & x4 & x5\\\\\n",
       "\t\\hline\n",
       "\t& Float64 & Float64 & Float64 & Float64 & Float64\\\\\n",
       "\t\\hline\n",
       "\t1 & 0.259531 & 0.201792 & 0.946575 & 0.108957 & 0.527328 \\\\\n",
       "\t2 & 0.842374 & 0.539274 & 0.378469 & 0.382346 & 0.792338 \\\\\n",
       "\t3 & 0.823052 & 0.595051 & 0.935966 & 0.179118 & 0.170161 \\\\\n",
       "\t4 & 0.479652 & 0.597522 & 0.291508 & 0.110414 & 0.668503 \\\\\n",
       "\\end{tabular}\n"
      ],
      "text/plain": [
       "\u001b[1m4×5 DataFrame\u001b[0m\n",
       "\u001b[1m Row \u001b[0m│\u001b[1m x1       \u001b[0m\u001b[1m x2       \u001b[0m\u001b[1m x3       \u001b[0m\u001b[1m x4       \u001b[0m\u001b[1m x5       \u001b[0m\n",
       "\u001b[1m     \u001b[0m│\u001b[90m Float64  \u001b[0m\u001b[90m Float64  \u001b[0m\u001b[90m Float64  \u001b[0m\u001b[90m Float64  \u001b[0m\u001b[90m Float64  \u001b[0m\n",
       "─────┼──────────────────────────────────────────────────\n",
       "   1 │ 0.259531  0.201792  0.946575  0.108957  0.527328\n",
       "  ⋮  │    ⋮         ⋮         ⋮         ⋮         ⋮\n",
       "\u001b[36m                                          3 rows omitted\u001b[0m"
      ]
     },
     "execution_count": 67,
     "metadata": {},
     "output_type": "execute_result"
    }
   ],
   "source": [
    "x = DataFrame(rand(4, 5), :auto)"
   ]
  },
  {
   "cell_type": "code",
   "execution_count": 68,
   "metadata": {},
   "outputs": [
    {
     "data": {
      "text/html": [
       "<div class=\"data-frame\"><p>4 rows × 3 columns</p><table class=\"data-frame\"><thead><tr><th></th><th>x2</th><th>x3</th><th>x4</th></tr><tr><th></th><th title=\"Float64\">Float64</th><th title=\"Float64\">Float64</th><th title=\"Float64\">Float64</th></tr></thead><tbody><tr><th>1</th><td>0.201792</td><td>0.946575</td><td>0.108957</td></tr><tr><th>2</th><td>0.539274</td><td>0.378469</td><td>0.382346</td></tr><tr><th>3</th><td>0.595051</td><td>0.935966</td><td>0.179118</td></tr><tr><th>4</th><td>0.597522</td><td>0.291508</td><td>0.110414</td></tr></tbody></table></div>"
      ],
      "text/latex": [
       "\\begin{tabular}{r|ccc}\n",
       "\t& x2 & x3 & x4\\\\\n",
       "\t\\hline\n",
       "\t& Float64 & Float64 & Float64\\\\\n",
       "\t\\hline\n",
       "\t1 & 0.201792 & 0.946575 & 0.108957 \\\\\n",
       "\t2 & 0.539274 & 0.378469 & 0.382346 \\\\\n",
       "\t3 & 0.595051 & 0.935966 & 0.179118 \\\\\n",
       "\t4 & 0.597522 & 0.291508 & 0.110414 \\\\\n",
       "\\end{tabular}\n"
      ],
      "text/plain": [
       "\u001b[1m4×3 DataFrame\u001b[0m\n",
       "\u001b[1m Row \u001b[0m│\u001b[1m x2       \u001b[0m\u001b[1m x3       \u001b[0m\u001b[1m x4       \u001b[0m\n",
       "\u001b[1m     \u001b[0m│\u001b[90m Float64  \u001b[0m\u001b[90m Float64  \u001b[0m\u001b[90m Float64  \u001b[0m\n",
       "─────┼──────────────────────────────\n",
       "   1 │ 0.201792  0.946575  0.108957\n",
       "  ⋮  │    ⋮         ⋮         ⋮\n",
       "\u001b[36m                      3 rows omitted\u001b[0m"
      ]
     },
     "execution_count": 68,
     "metadata": {},
     "output_type": "execute_result"
    }
   ],
   "source": [
    "x[:, Between(:x2, :x4)]"
   ]
  },
  {
   "cell_type": "code",
   "execution_count": 69,
   "metadata": {},
   "outputs": [
    {
     "data": {
      "text/html": [
       "<div class=\"data-frame\"><p>4 rows × 4 columns</p><table class=\"data-frame\"><thead><tr><th></th><th>x1</th><th>x2</th><th>x3</th><th>x4</th></tr><tr><th></th><th title=\"Float64\">Float64</th><th title=\"Float64\">Float64</th><th title=\"Float64\">Float64</th><th title=\"Float64\">Float64</th></tr></thead><tbody><tr><th>1</th><td>0.259531</td><td>0.201792</td><td>0.946575</td><td>0.108957</td></tr><tr><th>2</th><td>0.842374</td><td>0.539274</td><td>0.378469</td><td>0.382346</td></tr><tr><th>3</th><td>0.823052</td><td>0.595051</td><td>0.935966</td><td>0.179118</td></tr><tr><th>4</th><td>0.479652</td><td>0.597522</td><td>0.291508</td><td>0.110414</td></tr></tbody></table></div>"
      ],
      "text/latex": [
       "\\begin{tabular}{r|cccc}\n",
       "\t& x1 & x2 & x3 & x4\\\\\n",
       "\t\\hline\n",
       "\t& Float64 & Float64 & Float64 & Float64\\\\\n",
       "\t\\hline\n",
       "\t1 & 0.259531 & 0.201792 & 0.946575 & 0.108957 \\\\\n",
       "\t2 & 0.842374 & 0.539274 & 0.378469 & 0.382346 \\\\\n",
       "\t3 & 0.823052 & 0.595051 & 0.935966 & 0.179118 \\\\\n",
       "\t4 & 0.479652 & 0.597522 & 0.291508 & 0.110414 \\\\\n",
       "\\end{tabular}\n"
      ],
      "text/plain": [
       "\u001b[1m4×4 DataFrame\u001b[0m\n",
       "\u001b[1m Row \u001b[0m│\u001b[1m x1       \u001b[0m\u001b[1m x2       \u001b[0m\u001b[1m x3       \u001b[0m\u001b[1m x4       \u001b[0m\n",
       "\u001b[1m     \u001b[0m│\u001b[90m Float64  \u001b[0m\u001b[90m Float64  \u001b[0m\u001b[90m Float64  \u001b[0m\u001b[90m Float64  \u001b[0m\n",
       "─────┼────────────────────────────────────────\n",
       "   1 │ 0.259531  0.201792  0.946575  0.108957\n",
       "  ⋮  │    ⋮         ⋮         ⋮         ⋮\n",
       "\u001b[36m                                3 rows omitted\u001b[0m"
      ]
     },
     "execution_count": 69,
     "metadata": {},
     "output_type": "execute_result"
    }
   ],
   "source": [
    "x[:, Cols(\"x1\", Between(\"x2\", \"x4\"))]"
   ]
  },
  {
   "cell_type": "markdown",
   "metadata": {},
   "source": [
    "### Views"
   ]
  },
  {
   "cell_type": "markdown",
   "metadata": {},
   "source": [
    "You can simply create a view of a `DataFrame` (it is more efficient than creating a materialized selection). Here are the possible return value options."
   ]
  },
  {
   "cell_type": "code",
   "execution_count": 70,
   "metadata": {},
   "outputs": [
    {
     "data": {
      "text/plain": [
       "2-element view(::Vector{Float64}, 1:2) with eltype Float64:\n",
       " 0.25953065622770866\n",
       " 0.8423742160105971"
      ]
     },
     "execution_count": 70,
     "metadata": {},
     "output_type": "execute_result"
    }
   ],
   "source": [
    "@view x[1:2, 1]"
   ]
  },
  {
   "cell_type": "code",
   "execution_count": 71,
   "metadata": {},
   "outputs": [
    {
     "data": {
      "text/plain": [
       "0-dimensional view(::Vector{Float64}, 1) with eltype Float64:\n",
       "0.25953065622770866"
      ]
     },
     "execution_count": 71,
     "metadata": {},
     "output_type": "execute_result"
    }
   ],
   "source": [
    "@view x[1,1]"
   ]
  },
  {
   "cell_type": "code",
   "execution_count": 72,
   "metadata": {},
   "outputs": [
    {
     "data": {
      "text/html": [
       "<p>DataFrameRow (2 columns)</p><div class=\"data-frame\"><table class=\"data-frame\"><thead><tr><th></th><th>x1</th><th>x2</th></tr><tr><th></th><th title=\"Float64\">Float64</th><th title=\"Float64\">Float64</th></tr></thead><tbody><tr><th>1</th><td>0.259531</td><td>0.201792</td></tr></tbody></table></div>"
      ],
      "text/latex": [
       "\\begin{tabular}{r|cc}\n",
       "\t& x1 & x2\\\\\n",
       "\t\\hline\n",
       "\t& Float64 & Float64\\\\\n",
       "\t\\hline\n",
       "\t1 & 0.259531 & 0.201792 \\\\\n",
       "\\end{tabular}\n"
      ],
      "text/plain": [
       "\u001b[1mDataFrameRow\u001b[0m\n",
       "\u001b[1m Row \u001b[0m│\u001b[1m x1       \u001b[0m\u001b[1m x2       \u001b[0m\n",
       "\u001b[1m     \u001b[0m│\u001b[90m Float64  \u001b[0m\u001b[90m Float64  \u001b[0m\n",
       "─────┼────────────────────\n",
       "   1 │ 0.259531  0.201792"
      ]
     },
     "execution_count": 72,
     "metadata": {},
     "output_type": "execute_result"
    }
   ],
   "source": [
    "@view x[1, 1:2] # a DataFrameRow, the same as for x[1, 1:2] without a view"
   ]
  },
  {
   "cell_type": "code",
   "execution_count": 73,
   "metadata": {},
   "outputs": [
    {
     "data": {
      "text/html": [
       "<div class=\"data-frame\"><p>2 rows × 2 columns</p><table class=\"data-frame\"><thead><tr><th></th><th>x1</th><th>x2</th></tr><tr><th></th><th title=\"Float64\">Float64</th><th title=\"Float64\">Float64</th></tr></thead><tbody><tr><th>1</th><td>0.259531</td><td>0.201792</td></tr><tr><th>2</th><td>0.842374</td><td>0.539274</td></tr></tbody></table></div>"
      ],
      "text/latex": [
       "\\begin{tabular}{r|cc}\n",
       "\t& x1 & x2\\\\\n",
       "\t\\hline\n",
       "\t& Float64 & Float64\\\\\n",
       "\t\\hline\n",
       "\t1 & 0.259531 & 0.201792 \\\\\n",
       "\t2 & 0.842374 & 0.539274 \\\\\n",
       "\\end{tabular}\n"
      ],
      "text/plain": [
       "\u001b[1m2×2 SubDataFrame\u001b[0m\n",
       "\u001b[1m Row \u001b[0m│\u001b[1m x1       \u001b[0m\u001b[1m x2       \u001b[0m\n",
       "\u001b[1m     \u001b[0m│\u001b[90m Float64  \u001b[0m\u001b[90m Float64  \u001b[0m\n",
       "─────┼────────────────────\n",
       "   1 │ 0.259531  0.201792\n",
       "   2 │ 0.842374  0.539274"
      ]
     },
     "execution_count": 73,
     "metadata": {},
     "output_type": "execute_result"
    }
   ],
   "source": [
    "@view x[1:2, 1:2] # a SubDataFrame"
   ]
  },
  {
   "cell_type": "markdown",
   "metadata": {},
   "source": [
    "### Adding new columns to a data frame"
   ]
  },
  {
   "cell_type": "code",
   "execution_count": 74,
   "metadata": {},
   "outputs": [
    {
     "data": {
      "text/html": [
       "<div class=\"data-frame\"><p>0 rows × 0 columns</p><table class=\"data-frame\"><thead><tr><th></th></tr><tr><th></th></tr></thead><tbody></tbody></table></div>"
      ],
      "text/latex": [
       "\\begin{tabular}{r|}\n",
       "\t& \\\\\n",
       "\t\\hline\n",
       "\t& \\\\\n",
       "\t\\hline\n",
       "\\end{tabular}\n"
      ],
      "text/plain": [
       "\u001b[1m0×0 DataFrame\u001b[0m"
      ]
     },
     "execution_count": 74,
     "metadata": {},
     "output_type": "execute_result"
    }
   ],
   "source": [
    "df = DataFrame()"
   ]
  },
  {
   "cell_type": "markdown",
   "metadata": {},
   "source": [
    "using `setproperty!`"
   ]
  },
  {
   "cell_type": "code",
   "execution_count": 75,
   "metadata": {},
   "outputs": [
    {
     "data": {
      "text/html": [
       "<div class=\"data-frame\"><p>3 rows × 1 columns</p><table class=\"data-frame\"><thead><tr><th></th><th>a</th></tr><tr><th></th><th title=\"Int64\">Int64</th></tr></thead><tbody><tr><th>1</th><td>1</td></tr><tr><th>2</th><td>2</td></tr><tr><th>3</th><td>3</td></tr></tbody></table></div>"
      ],
      "text/latex": [
       "\\begin{tabular}{r|c}\n",
       "\t& a\\\\\n",
       "\t\\hline\n",
       "\t& Int64\\\\\n",
       "\t\\hline\n",
       "\t1 & 1 \\\\\n",
       "\t2 & 2 \\\\\n",
       "\t3 & 3 \\\\\n",
       "\\end{tabular}\n"
      ],
      "text/plain": [
       "\u001b[1m3×1 DataFrame\u001b[0m\n",
       "\u001b[1m Row \u001b[0m│\u001b[1m a     \u001b[0m\n",
       "\u001b[1m     \u001b[0m│\u001b[90m Int64 \u001b[0m\n",
       "─────┼───────\n",
       "   1 │     1\n",
       "   2 │     2\n",
       "   3 │     3"
      ]
     },
     "execution_count": 75,
     "metadata": {},
     "output_type": "execute_result"
    }
   ],
   "source": [
    "x = [1, 2, 3]\n",
    "df.a = x\n",
    "df"
   ]
  },
  {
   "cell_type": "code",
   "execution_count": 76,
   "metadata": {},
   "outputs": [
    {
     "data": {
      "text/plain": [
       "true"
      ]
     },
     "execution_count": 76,
     "metadata": {},
     "output_type": "execute_result"
    }
   ],
   "source": [
    "df.a === x # no copy is performed"
   ]
  },
  {
   "cell_type": "markdown",
   "metadata": {},
   "source": [
    "using `setindex!`"
   ]
  },
  {
   "cell_type": "code",
   "execution_count": 77,
   "metadata": {},
   "outputs": [
    {
     "data": {
      "text/html": [
       "<div class=\"data-frame\"><p>3 rows × 3 columns</p><table class=\"data-frame\"><thead><tr><th></th><th>a</th><th>b</th><th>c</th></tr><tr><th></th><th title=\"Int64\">Int64</th><th title=\"Int64\">Int64</th><th title=\"Int64\">Int64</th></tr></thead><tbody><tr><th>1</th><td>1</td><td>1</td><td>1</td></tr><tr><th>2</th><td>2</td><td>2</td><td>2</td></tr><tr><th>3</th><td>3</td><td>3</td><td>3</td></tr></tbody></table></div>"
      ],
      "text/latex": [
       "\\begin{tabular}{r|ccc}\n",
       "\t& a & b & c\\\\\n",
       "\t\\hline\n",
       "\t& Int64 & Int64 & Int64\\\\\n",
       "\t\\hline\n",
       "\t1 & 1 & 1 & 1 \\\\\n",
       "\t2 & 2 & 2 & 2 \\\\\n",
       "\t3 & 3 & 3 & 3 \\\\\n",
       "\\end{tabular}\n"
      ],
      "text/plain": [
       "\u001b[1m3×3 DataFrame\u001b[0m\n",
       "\u001b[1m Row \u001b[0m│\u001b[1m a     \u001b[0m\u001b[1m b     \u001b[0m\u001b[1m c     \u001b[0m\n",
       "\u001b[1m     \u001b[0m│\u001b[90m Int64 \u001b[0m\u001b[90m Int64 \u001b[0m\u001b[90m Int64 \u001b[0m\n",
       "─────┼─────────────────────\n",
       "   1 │     1      1      1\n",
       "   2 │     2      2      2\n",
       "   3 │     3      3      3"
      ]
     },
     "execution_count": 77,
     "metadata": {},
     "output_type": "execute_result"
    }
   ],
   "source": [
    "df[!, :b] = x\n",
    "df[:, :c] = x\n",
    "df"
   ]
  },
  {
   "cell_type": "code",
   "execution_count": 78,
   "metadata": {},
   "outputs": [
    {
     "data": {
      "text/plain": [
       "true"
      ]
     },
     "execution_count": 78,
     "metadata": {},
     "output_type": "execute_result"
    }
   ],
   "source": [
    "df.b === x # no copy"
   ]
  },
  {
   "cell_type": "code",
   "execution_count": 79,
   "metadata": {},
   "outputs": [
    {
     "data": {
      "text/plain": [
       "false"
      ]
     },
     "execution_count": 79,
     "metadata": {},
     "output_type": "execute_result"
    }
   ],
   "source": [
    "df.c === x # copy"
   ]
  },
  {
   "cell_type": "code",
   "execution_count": 80,
   "metadata": {},
   "outputs": [
    {
     "data": {
      "text/html": [
       "<div class=\"data-frame\"><p>3 rows × 5 columns</p><table class=\"data-frame\"><thead><tr><th></th><th>a</th><th>b</th><th>c</th><th>d</th><th>e</th></tr><tr><th></th><th title=\"Int64\">Int64</th><th title=\"Int64\">Int64</th><th title=\"Int64\">Int64</th><th title=\"Int64\">Int64</th><th title=\"Int64\">Int64</th></tr></thead><tbody><tr><th>1</th><td>1</td><td>1</td><td>1</td><td>1</td><td>1</td></tr><tr><th>2</th><td>2</td><td>2</td><td>2</td><td>2</td><td>2</td></tr><tr><th>3</th><td>3</td><td>3</td><td>3</td><td>3</td><td>3</td></tr></tbody></table></div>"
      ],
      "text/latex": [
       "\\begin{tabular}{r|ccccc}\n",
       "\t& a & b & c & d & e\\\\\n",
       "\t\\hline\n",
       "\t& Int64 & Int64 & Int64 & Int64 & Int64\\\\\n",
       "\t\\hline\n",
       "\t1 & 1 & 1 & 1 & 1 & 1 \\\\\n",
       "\t2 & 2 & 2 & 2 & 2 & 2 \\\\\n",
       "\t3 & 3 & 3 & 3 & 3 & 3 \\\\\n",
       "\\end{tabular}\n"
      ],
      "text/plain": [
       "\u001b[1m3×5 DataFrame\u001b[0m\n",
       "\u001b[1m Row \u001b[0m│\u001b[1m a     \u001b[0m\u001b[1m b     \u001b[0m\u001b[1m c     \u001b[0m\u001b[1m d     \u001b[0m\u001b[1m e     \u001b[0m\n",
       "\u001b[1m     \u001b[0m│\u001b[90m Int64 \u001b[0m\u001b[90m Int64 \u001b[0m\u001b[90m Int64 \u001b[0m\u001b[90m Int64 \u001b[0m\u001b[90m Int64 \u001b[0m\n",
       "─────┼───────────────────────────────────\n",
       "   1 │     1      1      1      1      1\n",
       "   2 │     2      2      2      2      2\n",
       "   3 │     3      3      3      3      3"
      ]
     },
     "execution_count": 80,
     "metadata": {},
     "output_type": "execute_result"
    }
   ],
   "source": [
    "df[!, :d] .= x\n",
    "df[:, :e] .= x\n",
    "df"
   ]
  },
  {
   "cell_type": "code",
   "execution_count": 81,
   "metadata": {},
   "outputs": [
    {
     "data": {
      "text/plain": [
       "(false, false)"
      ]
     },
     "execution_count": 81,
     "metadata": {},
     "output_type": "execute_result"
    }
   ],
   "source": [
    "df.d === x, df.e === x # both copy, so in this case `!` and `:` has the same effect"
   ]
  },
  {
   "cell_type": "markdown",
   "metadata": {},
   "source": [
    "note that in our data frame columns `:a` and `:b` store the vector `x` (not a copy)"
   ]
  },
  {
   "cell_type": "code",
   "execution_count": 82,
   "metadata": {},
   "outputs": [
    {
     "data": {
      "text/plain": [
       "true"
      ]
     },
     "execution_count": 82,
     "metadata": {},
     "output_type": "execute_result"
    }
   ],
   "source": [
    "df.a === df.b === x"
   ]
  },
  {
   "cell_type": "markdown",
   "metadata": {},
   "source": [
    "This can lead to silent errors. For example this code leads to a bug (note that calling `pairs` on `eachcol(df)` creates an iterator of (column name, column) pairs):"
   ]
  },
  {
   "cell_type": "code",
   "execution_count": 83,
   "metadata": {},
   "outputs": [
    {
     "name": "stdout",
     "output_type": "stream",
     "text": [
      "a: 3\n",
      "b: 2\n",
      "c: 3\n",
      "d: 3\n",
      "e: 3\n"
     ]
    }
   ],
   "source": [
    "for (n, c) in pairs(eachcol(df))\n",
    "    println(\"$n: \", pop!(c))\n",
    "end"
   ]
  },
  {
   "cell_type": "markdown",
   "metadata": {},
   "source": [
    "note that for column `:b` we printed `2` as `3` was removed from it when we used `pop!` on column `:a`."
   ]
  },
  {
   "cell_type": "markdown",
   "metadata": {},
   "source": [
    "Such mistakes sometimes happen. Because of this DataFrames.jl performs consistency checks before doing an expensive operation (most notably before showing a data frame)."
   ]
  },
  {
   "cell_type": "code",
   "execution_count": 84,
   "metadata": {},
   "outputs": [
    {
     "ename": "AssertionError",
     "evalue": "AssertionError: Data frame is corrupt: length of column :c (2) does not match length of column 1 (1). The column vector has likely been resized unintentionally (either directly or because it is shared with another data frame).",
     "output_type": "error",
     "traceback": [
      "AssertionError: Data frame is corrupt: length of column :c (2) does not match length of column 1 (1). The column vector has likely been resized unintentionally (either directly or because it is shared with another data frame).",
      "",
      "Stacktrace:",
      "  [1] _check_consistency(df::DataFrame)",
      "    @ DataFrames ~/.julia/packages/DataFrames/vQokV/src/dataframe/dataframe.jl:447",
      "  [2] _show(io::IOContext{IOBuffer}, df::DataFrame; allrows::Bool, allcols::Bool, rowlabel::Symbol, summary::Bool, eltypes::Bool, rowid::Nothing, truncate::Int64, kwargs::Base.Iterators.Pairs{Union{}, Union{}, Tuple{}, NamedTuple{(), Tuple{}}})",
      "    @ DataFrames ~/.julia/packages/DataFrames/vQokV/src/abstractdataframe/show.jl:162",
      "  [3] #show#692",
      "    @ ~/.julia/packages/DataFrames/vQokV/src/abstractdataframe/show.jl:348 [inlined]",
      "  [4] show(io::IOContext{IOBuffer}, df::DataFrame)",
      "    @ DataFrames ~/.julia/packages/DataFrames/vQokV/src/abstractdataframe/show.jl:348",
      "  [5] #show#707",
      "    @ ~/.julia/packages/DataFrames/vQokV/src/abstractdataframe/io.jl:138 [inlined]",
      "  [6] show",
      "    @ ~/.julia/packages/DataFrames/vQokV/src/abstractdataframe/io.jl:138 [inlined]",
      "  [7] limitstringmime(mime::MIME{Symbol(\"text/plain\")}, x::DataFrame)",
      "    @ IJulia ~/.julia/packages/IJulia/e8kqU/src/inline.jl:43",
      "  [8] display_mimestring",
      "    @ ~/.julia/packages/IJulia/e8kqU/src/display.jl:71 [inlined]",
      "  [9] display_dict(x::DataFrame)",
      "    @ IJulia ~/.julia/packages/IJulia/e8kqU/src/display.jl:102",
      " [10] #invokelatest#2",
      "    @ ./essentials.jl:708 [inlined]",
      " [11] invokelatest",
      "    @ ./essentials.jl:706 [inlined]",
      " [12] execute_request(socket::ZMQ.Socket, msg::IJulia.Msg)",
      "    @ IJulia ~/.julia/packages/IJulia/e8kqU/src/execute_request.jl:112",
      " [13] #invokelatest#2",
      "    @ ./essentials.jl:708 [inlined]",
      " [14] invokelatest",
      "    @ ./essentials.jl:706 [inlined]",
      " [15] eventloop(socket::ZMQ.Socket)",
      "    @ IJulia ~/.julia/packages/IJulia/e8kqU/src/eventloop.jl:8",
      " [16] (::IJulia.var\"#15#18\")()",
      "    @ IJulia ./task.jl:411"
     ]
    }
   ],
   "source": [
    "df"
   ]
  },
  {
   "cell_type": "markdown",
   "metadata": {},
   "source": [
    "We can investigate the columns to find out what happend:"
   ]
  },
  {
   "cell_type": "code",
   "execution_count": 85,
   "metadata": {},
   "outputs": [
    {
     "data": {
      "text/plain": [
       "5-element Vector{Pair{Symbol, AbstractVector{T} where T}}:\n",
       " :a => [1]\n",
       " :b => [1]\n",
       " :c => [1, 2]\n",
       " :d => [1, 2]\n",
       " :e => [1, 2]"
      ]
     },
     "execution_count": 85,
     "metadata": {},
     "output_type": "execute_result"
    }
   ],
   "source": [
    "collect(pairs(eachcol(df)))"
   ]
  },
  {
   "cell_type": "markdown",
   "metadata": {},
   "source": [
    "The output confirms that the data frame `df` got corrupted."
   ]
  },
  {
   "cell_type": "markdown",
   "metadata": {},
   "source": [
    "DataFrames.jl supports a complete set of `getindex`, `getproperty`, `setindex!`, `setproperty!`, `view`, broadcasting, and broadcasting assignment operations. The details are explained here: http://juliadata.github.io/DataFrames.jl/latest/lib/indexing/."
   ]
  },
  {
   "cell_type": "markdown",
   "metadata": {},
   "source": [
    "### Comparisons"
   ]
  },
  {
   "cell_type": "code",
   "execution_count": 86,
   "metadata": {},
   "outputs": [],
   "source": [
    "using DataFrames"
   ]
  },
  {
   "cell_type": "code",
   "execution_count": 87,
   "metadata": {},
   "outputs": [
    {
     "data": {
      "text/html": [
       "<div class=\"data-frame\"><p>2 rows × 3 columns</p><table class=\"data-frame\"><thead><tr><th></th><th>x1</th><th>x2</th><th>x3</th></tr><tr><th></th><th title=\"Float64\">Float64</th><th title=\"Float64\">Float64</th><th title=\"Float64\">Float64</th></tr></thead><tbody><tr><th>1</th><td>0.134011</td><td>0.541065</td><td>0.995412</td></tr><tr><th>2</th><td>0.506748</td><td>0.295761</td><td>0.0493961</td></tr></tbody></table></div>"
      ],
      "text/latex": [
       "\\begin{tabular}{r|ccc}\n",
       "\t& x1 & x2 & x3\\\\\n",
       "\t\\hline\n",
       "\t& Float64 & Float64 & Float64\\\\\n",
       "\t\\hline\n",
       "\t1 & 0.134011 & 0.541065 & 0.995412 \\\\\n",
       "\t2 & 0.506748 & 0.295761 & 0.0493961 \\\\\n",
       "\\end{tabular}\n"
      ],
      "text/plain": [
       "\u001b[1m2×3 DataFrame\u001b[0m\n",
       "\u001b[1m Row \u001b[0m│\u001b[1m x1       \u001b[0m\u001b[1m x2       \u001b[0m\u001b[1m x3        \u001b[0m\n",
       "\u001b[1m     \u001b[0m│\u001b[90m Float64  \u001b[0m\u001b[90m Float64  \u001b[0m\u001b[90m Float64   \u001b[0m\n",
       "─────┼───────────────────────────────\n",
       "   1 │ 0.134011  0.541065  0.995412\n",
       "   2 │ 0.506748  0.295761  0.0493961"
      ]
     },
     "execution_count": 87,
     "metadata": {},
     "output_type": "execute_result"
    }
   ],
   "source": [
    "df = DataFrame(rand(2,3), :auto)"
   ]
  },
  {
   "cell_type": "code",
   "execution_count": 88,
   "metadata": {},
   "outputs": [
    {
     "data": {
      "text/html": [
       "<div class=\"data-frame\"><p>2 rows × 3 columns</p><table class=\"data-frame\"><thead><tr><th></th><th>x1</th><th>x2</th><th>x3</th></tr><tr><th></th><th title=\"Float64\">Float64</th><th title=\"Float64\">Float64</th><th title=\"Float64\">Float64</th></tr></thead><tbody><tr><th>1</th><td>0.134011</td><td>0.541065</td><td>0.995412</td></tr><tr><th>2</th><td>0.506748</td><td>0.295761</td><td>0.0493961</td></tr></tbody></table></div>"
      ],
      "text/latex": [
       "\\begin{tabular}{r|ccc}\n",
       "\t& x1 & x2 & x3\\\\\n",
       "\t\\hline\n",
       "\t& Float64 & Float64 & Float64\\\\\n",
       "\t\\hline\n",
       "\t1 & 0.134011 & 0.541065 & 0.995412 \\\\\n",
       "\t2 & 0.506748 & 0.295761 & 0.0493961 \\\\\n",
       "\\end{tabular}\n"
      ],
      "text/plain": [
       "\u001b[1m2×3 DataFrame\u001b[0m\n",
       "\u001b[1m Row \u001b[0m│\u001b[1m x1       \u001b[0m\u001b[1m x2       \u001b[0m\u001b[1m x3        \u001b[0m\n",
       "\u001b[1m     \u001b[0m│\u001b[90m Float64  \u001b[0m\u001b[90m Float64  \u001b[0m\u001b[90m Float64   \u001b[0m\n",
       "─────┼───────────────────────────────\n",
       "   1 │ 0.134011  0.541065  0.995412\n",
       "   2 │ 0.506748  0.295761  0.0493961"
      ]
     },
     "execution_count": 88,
     "metadata": {},
     "output_type": "execute_result"
    }
   ],
   "source": [
    "df2 = copy(df)"
   ]
  },
  {
   "cell_type": "code",
   "execution_count": 89,
   "metadata": {},
   "outputs": [
    {
     "data": {
      "text/plain": [
       "true"
      ]
     },
     "execution_count": 89,
     "metadata": {},
     "output_type": "execute_result"
    }
   ],
   "source": [
    "df == df2 # compares column names and contents"
   ]
  },
  {
   "cell_type": "markdown",
   "metadata": {},
   "source": [
    "create a minimally different data frame and use `isapprox` for comparison"
   ]
  },
  {
   "cell_type": "code",
   "execution_count": 90,
   "metadata": {},
   "outputs": [
    {
     "data": {
      "text/html": [
       "<div class=\"data-frame\"><p>2 rows × 3 columns</p><table class=\"data-frame\"><thead><tr><th></th><th>x1</th><th>x2</th><th>x3</th></tr><tr><th></th><th title=\"Float64\">Float64</th><th title=\"Float64\">Float64</th><th title=\"Float64\">Float64</th></tr></thead><tbody><tr><th>1</th><td>0.134011</td><td>0.541065</td><td>0.995412</td></tr><tr><th>2</th><td>0.506748</td><td>0.295761</td><td>0.0493961</td></tr></tbody></table></div>"
      ],
      "text/latex": [
       "\\begin{tabular}{r|ccc}\n",
       "\t& x1 & x2 & x3\\\\\n",
       "\t\\hline\n",
       "\t& Float64 & Float64 & Float64\\\\\n",
       "\t\\hline\n",
       "\t1 & 0.134011 & 0.541065 & 0.995412 \\\\\n",
       "\t2 & 0.506748 & 0.295761 & 0.0493961 \\\\\n",
       "\\end{tabular}\n"
      ],
      "text/plain": [
       "\u001b[1m2×3 DataFrame\u001b[0m\n",
       "\u001b[1m Row \u001b[0m│\u001b[1m x1       \u001b[0m\u001b[1m x2       \u001b[0m\u001b[1m x3        \u001b[0m\n",
       "\u001b[1m     \u001b[0m│\u001b[90m Float64  \u001b[0m\u001b[90m Float64  \u001b[0m\u001b[90m Float64   \u001b[0m\n",
       "─────┼───────────────────────────────\n",
       "   1 │ 0.134011  0.541065  0.995412\n",
       "   2 │ 0.506748  0.295761  0.0493961"
      ]
     },
     "execution_count": 90,
     "metadata": {},
     "output_type": "execute_result"
    }
   ],
   "source": [
    "df3 = df2 .+ eps()"
   ]
  },
  {
   "cell_type": "code",
   "execution_count": 91,
   "metadata": {},
   "outputs": [
    {
     "data": {
      "text/plain": [
       "false"
      ]
     },
     "execution_count": 91,
     "metadata": {},
     "output_type": "execute_result"
    }
   ],
   "source": [
    "df == df3"
   ]
  },
  {
   "cell_type": "code",
   "execution_count": 92,
   "metadata": {},
   "outputs": [
    {
     "data": {
      "text/plain": [
       "true"
      ]
     },
     "execution_count": 92,
     "metadata": {},
     "output_type": "execute_result"
    }
   ],
   "source": [
    "isapprox(df, df3)"
   ]
  },
  {
   "cell_type": "code",
   "execution_count": 93,
   "metadata": {},
   "outputs": [
    {
     "data": {
      "text/plain": [
       "false"
      ]
     },
     "execution_count": 93,
     "metadata": {},
     "output_type": "execute_result"
    }
   ],
   "source": [
    "isapprox(df, df3, atol = eps()/2)"
   ]
  },
  {
   "cell_type": "markdown",
   "metadata": {},
   "source": [
    "`missings` are handled as in Julia Base"
   ]
  },
  {
   "cell_type": "code",
   "execution_count": 94,
   "metadata": {},
   "outputs": [
    {
     "data": {
      "text/html": [
       "<div class=\"data-frame\"><p>1 rows × 1 columns</p><table class=\"data-frame\"><thead><tr><th></th><th>a</th></tr><tr><th></th><th title=\"Missing\">Missing</th></tr></thead><tbody><tr><th>1</th><td><em>missing</em></td></tr></tbody></table></div>"
      ],
      "text/latex": [
       "\\begin{tabular}{r|c}\n",
       "\t& a\\\\\n",
       "\t\\hline\n",
       "\t& Missing\\\\\n",
       "\t\\hline\n",
       "\t1 & \\emph{missing} \\\\\n",
       "\\end{tabular}\n"
      ],
      "text/plain": [
       "\u001b[1m1×1 DataFrame\u001b[0m\n",
       "\u001b[1m Row \u001b[0m│\u001b[1m a       \u001b[0m\n",
       "\u001b[1m     \u001b[0m│\u001b[90m Missing \u001b[0m\n",
       "─────┼─────────\n",
       "   1 │\u001b[90m missing \u001b[0m"
      ]
     },
     "execution_count": 94,
     "metadata": {},
     "output_type": "execute_result"
    }
   ],
   "source": [
    "df = DataFrame(a=missing)"
   ]
  },
  {
   "cell_type": "code",
   "execution_count": 95,
   "metadata": {},
   "outputs": [
    {
     "data": {
      "text/plain": [
       "missing"
      ]
     },
     "execution_count": 95,
     "metadata": {},
     "output_type": "execute_result"
    }
   ],
   "source": [
    "df == df"
   ]
  },
  {
   "cell_type": "code",
   "execution_count": 96,
   "metadata": {},
   "outputs": [
    {
     "data": {
      "text/plain": [
       "true"
      ]
     },
     "execution_count": 96,
     "metadata": {},
     "output_type": "execute_result"
    }
   ],
   "source": [
    "df === df"
   ]
  },
  {
   "cell_type": "code",
   "execution_count": 97,
   "metadata": {},
   "outputs": [
    {
     "data": {
      "text/plain": [
       "true"
      ]
     },
     "execution_count": 97,
     "metadata": {},
     "output_type": "execute_result"
    }
   ],
   "source": [
    "isequal(df, df)"
   ]
  },
  {
   "cell_type": "code",
   "execution_count": null,
   "metadata": {},
   "outputs": [],
   "source": []
  }
 ],
 "metadata": {
  "@webio": {
   "lastCommId": null,
   "lastKernelId": null
  },
  "kernelspec": {
   "display_name": "Julia 1.6.1",
   "language": "julia",
   "name": "julia-1.6"
  },
  "language_info": {
   "file_extension": ".jl",
   "mimetype": "application/julia",
   "name": "julia",
   "version": "1.6.1"
  }
 },
 "nbformat": 4,
 "nbformat_minor": 1
}
