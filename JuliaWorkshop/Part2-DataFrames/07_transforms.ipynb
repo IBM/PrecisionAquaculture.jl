{
 "cells": [
  {
   "cell_type": "markdown",
   "metadata": {},
   "source": [
    "# Introduction to DataFrames\n",
    "**This is from the excellent Julia tutorial by [Bogumił Kamiński](http://bogumilkaminski.pl/about/)** <br>\n",
    "Entire tutorial available [here](https://github.com/bkamins/Julia-DataFrames-Tutorial)\n"
   ]
  },
  {
   "cell_type": "code",
   "execution_count": 1,
   "metadata": {},
   "outputs": [],
   "source": [
    "using DataFrames"
   ]
  },
  {
   "cell_type": "markdown",
   "metadata": {},
   "source": [
    "## Split-apply-combine"
   ]
  },
  {
   "cell_type": "markdown",
   "metadata": {},
   "source": [
    "### Grouping a data frame"
   ]
  },
  {
   "cell_type": "code",
   "execution_count": 2,
   "metadata": {
    "scrolled": true
   },
   "outputs": [
    {
     "data": {
      "text/html": [
       "<div class=\"data-frame\"><p>8 rows × 3 columns</p><table class=\"data-frame\"><thead><tr><th></th><th>id</th><th>id2</th><th>v</th></tr><tr><th></th><th title=\"Int64\">Int64</th><th title=\"Int64\">Int64</th><th title=\"Float64\">Float64</th></tr></thead><tbody><tr><th>1</th><td>1</td><td>1</td><td>0.0278714</td></tr><tr><th>2</th><td>2</td><td>2</td><td>0.515204</td></tr><tr><th>3</th><td>3</td><td>1</td><td>0.3344</td></tr><tr><th>4</th><td>4</td><td>2</td><td>0.999389</td></tr><tr><th>5</th><td>1</td><td>1</td><td>0.787124</td></tr><tr><th>6</th><td>2</td><td>2</td><td>0.287537</td></tr><tr><th>7</th><td>3</td><td>1</td><td>0.975704</td></tr><tr><th>8</th><td>4</td><td>2</td><td>0.239029</td></tr></tbody></table></div>"
      ],
      "text/latex": [
       "\\begin{tabular}{r|ccc}\n",
       "\t& id & id2 & v\\\\\n",
       "\t\\hline\n",
       "\t& Int64 & Int64 & Float64\\\\\n",
       "\t\\hline\n",
       "\t1 & 1 & 1 & 0.0278714 \\\\\n",
       "\t2 & 2 & 2 & 0.515204 \\\\\n",
       "\t3 & 3 & 1 & 0.3344 \\\\\n",
       "\t4 & 4 & 2 & 0.999389 \\\\\n",
       "\t5 & 1 & 1 & 0.787124 \\\\\n",
       "\t6 & 2 & 2 & 0.287537 \\\\\n",
       "\t7 & 3 & 1 & 0.975704 \\\\\n",
       "\t8 & 4 & 2 & 0.239029 \\\\\n",
       "\\end{tabular}\n"
      ],
      "text/plain": [
       "\u001b[1m8×3 DataFrame\u001b[0m\n",
       "\u001b[1m Row \u001b[0m│\u001b[1m id    \u001b[0m\u001b[1m id2   \u001b[0m\u001b[1m v         \u001b[0m\n",
       "\u001b[1m     \u001b[0m│\u001b[90m Int64 \u001b[0m\u001b[90m Int64 \u001b[0m\u001b[90m Float64   \u001b[0m\n",
       "─────┼─────────────────────────\n",
       "   1 │     1      1  0.0278714\n",
       "   2 │     2      2  0.515204\n",
       "   3 │     3      1  0.3344\n",
       "   4 │     4      2  0.999389\n",
       "   5 │     1      1  0.787124\n",
       "   6 │     2      2  0.287537\n",
       "   7 │     3      1  0.975704\n",
       "   8 │     4      2  0.239029"
      ]
     },
     "execution_count": 2,
     "metadata": {},
     "output_type": "execute_result"
    }
   ],
   "source": [
    "x = DataFrame(id=[1,2,3,4,1,2,3,4], id2=[1,2,1,2,1,2,1,2], v=rand(8))"
   ]
  },
  {
   "cell_type": "code",
   "execution_count": 3,
   "metadata": {
    "scrolled": false
   },
   "outputs": [
    {
     "data": {
      "text/html": [
       "<p><b>GroupedDataFrame with 4 groups based on key: id</b></p><p><i>First Group (2 rows): id = 1</i></p><div class=\"data-frame\"><table class=\"data-frame\"><thead><tr><th></th><th>id</th><th>id2</th><th>v</th></tr><tr><th></th><th title=\"Int64\">Int64</th><th title=\"Int64\">Int64</th><th title=\"Float64\">Float64</th></tr></thead><tbody><tr><th>1</th><td>1</td><td>1</td><td>0.0278714</td></tr><tr><th>2</th><td>1</td><td>1</td><td>0.787124</td></tr></tbody></table></div><p>&vellip;</p><p><i>Last Group (2 rows): id = 4</i></p><div class=\"data-frame\"><table class=\"data-frame\"><thead><tr><th></th><th>id</th><th>id2</th><th>v</th></tr><tr><th></th><th title=\"Int64\">Int64</th><th title=\"Int64\">Int64</th><th title=\"Float64\">Float64</th></tr></thead><tbody><tr><th>1</th><td>4</td><td>2</td><td>0.999389</td></tr><tr><th>2</th><td>4</td><td>2</td><td>0.239029</td></tr></tbody></table></div>"
      ],
      "text/latex": [
       "GroupedDataFrame with 4 groups based on key: id\n",
       "\n",
       "First Group (2 rows): id = 1\n",
       "\n",
       "\\begin{tabular}{r|ccc}\n",
       "\t& id & id2 & v\\\\\n",
       "\t\\hline\n",
       "\t& Int64 & Int64 & Float64\\\\\n",
       "\t\\hline\n",
       "\t1 & 1 & 1 & 0.0278714 \\\\\n",
       "\t2 & 1 & 1 & 0.787124 \\\\\n",
       "\\end{tabular}\n",
       "\n",
       "$\\dots$\n",
       "\n",
       "Last Group (2 rows): id = 4\n",
       "\n",
       "\\begin{tabular}{r|ccc}\n",
       "\t& id & id2 & v\\\\\n",
       "\t\\hline\n",
       "\t& Int64 & Int64 & Float64\\\\\n",
       "\t\\hline\n",
       "\t1 & 4 & 2 & 0.999389 \\\\\n",
       "\t2 & 4 & 2 & 0.239029 \\\\\n",
       "\\end{tabular}\n"
      ],
      "text/plain": [
       "GroupedDataFrame with 4 groups based on key: id\n",
       "First Group (2 rows): id = 1\n",
       "\u001b[1m Row \u001b[0m│\u001b[1m id    \u001b[0m\u001b[1m id2   \u001b[0m\u001b[1m v         \u001b[0m\n",
       "\u001b[1m     \u001b[0m│\u001b[90m Int64 \u001b[0m\u001b[90m Int64 \u001b[0m\u001b[90m Float64   \u001b[0m\n",
       "─────┼─────────────────────────\n",
       "   1 │     1      1  0.0278714\n",
       "   2 │     1      1  0.787124\n",
       "⋮\n",
       "Last Group (2 rows): id = 4\n",
       "\u001b[1m Row \u001b[0m│\u001b[1m id    \u001b[0m\u001b[1m id2   \u001b[0m\u001b[1m v        \u001b[0m\n",
       "\u001b[1m     \u001b[0m│\u001b[90m Int64 \u001b[0m\u001b[90m Int64 \u001b[0m\u001b[90m Float64  \u001b[0m\n",
       "─────┼────────────────────────\n",
       "   1 │     4      2  0.999389\n",
       "   2 │     4      2  0.239029"
      ]
     },
     "execution_count": 3,
     "metadata": {},
     "output_type": "execute_result"
    }
   ],
   "source": [
    "groupby(x, :id)"
   ]
  },
  {
   "cell_type": "code",
   "execution_count": 4,
   "metadata": {},
   "outputs": [
    {
     "data": {
      "text/html": [
       "<p><b>GroupedDataFrame with 1 group based on key: </b></p><p><i>First Group (8 rows): </i></p><div class=\"data-frame\"><table class=\"data-frame\"><thead><tr><th></th><th>id</th><th>id2</th><th>v</th></tr><tr><th></th><th title=\"Int64\">Int64</th><th title=\"Int64\">Int64</th><th title=\"Float64\">Float64</th></tr></thead><tbody><tr><th>1</th><td>1</td><td>1</td><td>0.0278714</td></tr><tr><th>2</th><td>2</td><td>2</td><td>0.515204</td></tr><tr><th>3</th><td>3</td><td>1</td><td>0.3344</td></tr><tr><th>4</th><td>4</td><td>2</td><td>0.999389</td></tr><tr><th>5</th><td>1</td><td>1</td><td>0.787124</td></tr><tr><th>6</th><td>2</td><td>2</td><td>0.287537</td></tr><tr><th>7</th><td>3</td><td>1</td><td>0.975704</td></tr><tr><th>8</th><td>4</td><td>2</td><td>0.239029</td></tr></tbody></table></div>"
      ],
      "text/latex": [
       "GroupedDataFrame with 1 group based on key: \n",
       "\n",
       "First Group (8 rows): \n",
       "\n",
       "\\begin{tabular}{r|ccc}\n",
       "\t& id & id2 & v\\\\\n",
       "\t\\hline\n",
       "\t& Int64 & Int64 & Float64\\\\\n",
       "\t\\hline\n",
       "\t1 & 1 & 1 & 0.0278714 \\\\\n",
       "\t2 & 2 & 2 & 0.515204 \\\\\n",
       "\t3 & 3 & 1 & 0.3344 \\\\\n",
       "\t4 & 4 & 2 & 0.999389 \\\\\n",
       "\t5 & 1 & 1 & 0.787124 \\\\\n",
       "\t6 & 2 & 2 & 0.287537 \\\\\n",
       "\t7 & 3 & 1 & 0.975704 \\\\\n",
       "\t8 & 4 & 2 & 0.239029 \\\\\n",
       "\\end{tabular}\n"
      ],
      "text/plain": [
       "GroupedDataFrame with 1 group based on key: \n",
       "First Group (8 rows): \n",
       "\u001b[1m Row \u001b[0m│\u001b[1m id    \u001b[0m\u001b[1m id2   \u001b[0m\u001b[1m v         \u001b[0m\n",
       "\u001b[1m     \u001b[0m│\u001b[90m Int64 \u001b[0m\u001b[90m Int64 \u001b[0m\u001b[90m Float64   \u001b[0m\n",
       "─────┼─────────────────────────\n",
       "   1 │     1      1  0.0278714\n",
       "   2 │     2      2  0.515204\n",
       "   3 │     3      1  0.3344\n",
       "   4 │     4      2  0.999389\n",
       "   5 │     1      1  0.787124\n",
       "   6 │     2      2  0.287537\n",
       "   7 │     3      1  0.975704\n",
       "   8 │     4      2  0.239029"
      ]
     },
     "execution_count": 4,
     "metadata": {},
     "output_type": "execute_result"
    }
   ],
   "source": [
    "groupby(x, [])"
   ]
  },
  {
   "cell_type": "code",
   "execution_count": 5,
   "metadata": {},
   "outputs": [
    {
     "data": {
      "text/html": [
       "<p><b>GroupedDataFrame with 4 groups based on keys: id, id2</b></p><p><i>First Group (2 rows): id = 1, id2 = 1</i></p><div class=\"data-frame\"><table class=\"data-frame\"><thead><tr><th></th><th>id</th><th>id2</th><th>v</th></tr><tr><th></th><th title=\"Int64\">Int64</th><th title=\"Int64\">Int64</th><th title=\"Float64\">Float64</th></tr></thead><tbody><tr><th>1</th><td>1</td><td>1</td><td>0.0278714</td></tr><tr><th>2</th><td>1</td><td>1</td><td>0.787124</td></tr></tbody></table></div><p>&vellip;</p><p><i>Last Group (2 rows): id = 4, id2 = 2</i></p><div class=\"data-frame\"><table class=\"data-frame\"><thead><tr><th></th><th>id</th><th>id2</th><th>v</th></tr><tr><th></th><th title=\"Int64\">Int64</th><th title=\"Int64\">Int64</th><th title=\"Float64\">Float64</th></tr></thead><tbody><tr><th>1</th><td>4</td><td>2</td><td>0.999389</td></tr><tr><th>2</th><td>4</td><td>2</td><td>0.239029</td></tr></tbody></table></div>"
      ],
      "text/latex": [
       "GroupedDataFrame with 4 groups based on keys: id, id2\n",
       "\n",
       "First Group (2 rows): id = 1, id2 = 1\n",
       "\n",
       "\\begin{tabular}{r|ccc}\n",
       "\t& id & id2 & v\\\\\n",
       "\t\\hline\n",
       "\t& Int64 & Int64 & Float64\\\\\n",
       "\t\\hline\n",
       "\t1 & 1 & 1 & 0.0278714 \\\\\n",
       "\t2 & 1 & 1 & 0.787124 \\\\\n",
       "\\end{tabular}\n",
       "\n",
       "$\\dots$\n",
       "\n",
       "Last Group (2 rows): id = 4, id2 = 2\n",
       "\n",
       "\\begin{tabular}{r|ccc}\n",
       "\t& id & id2 & v\\\\\n",
       "\t\\hline\n",
       "\t& Int64 & Int64 & Float64\\\\\n",
       "\t\\hline\n",
       "\t1 & 4 & 2 & 0.999389 \\\\\n",
       "\t2 & 4 & 2 & 0.239029 \\\\\n",
       "\\end{tabular}\n"
      ],
      "text/plain": [
       "GroupedDataFrame with 4 groups based on keys: id, id2\n",
       "First Group (2 rows): id = 1, id2 = 1\n",
       "\u001b[1m Row \u001b[0m│\u001b[1m id    \u001b[0m\u001b[1m id2   \u001b[0m\u001b[1m v         \u001b[0m\n",
       "\u001b[1m     \u001b[0m│\u001b[90m Int64 \u001b[0m\u001b[90m Int64 \u001b[0m\u001b[90m Float64   \u001b[0m\n",
       "─────┼─────────────────────────\n",
       "   1 │     1      1  0.0278714\n",
       "   2 │     1      1  0.787124\n",
       "⋮\n",
       "Last Group (2 rows): id = 4, id2 = 2\n",
       "\u001b[1m Row \u001b[0m│\u001b[1m id    \u001b[0m\u001b[1m id2   \u001b[0m\u001b[1m v        \u001b[0m\n",
       "\u001b[1m     \u001b[0m│\u001b[90m Int64 \u001b[0m\u001b[90m Int64 \u001b[0m\u001b[90m Float64  \u001b[0m\n",
       "─────┼────────────────────────\n",
       "   1 │     4      2  0.999389\n",
       "   2 │     4      2  0.239029"
      ]
     },
     "execution_count": 5,
     "metadata": {},
     "output_type": "execute_result"
    }
   ],
   "source": [
    "gx2 = groupby(x, [:id, :id2])"
   ]
  },
  {
   "cell_type": "code",
   "execution_count": 6,
   "metadata": {},
   "outputs": [
    {
     "data": {
      "text/html": [
       "<div class=\"data-frame\"><p>8 rows × 3 columns</p><table class=\"data-frame\"><thead><tr><th></th><th>id</th><th>id2</th><th>v</th></tr><tr><th></th><th title=\"Int64\">Int64</th><th title=\"Int64\">Int64</th><th title=\"Float64\">Float64</th></tr></thead><tbody><tr><th>1</th><td>1</td><td>1</td><td>0.0278714</td></tr><tr><th>2</th><td>2</td><td>2</td><td>0.515204</td></tr><tr><th>3</th><td>3</td><td>1</td><td>0.3344</td></tr><tr><th>4</th><td>4</td><td>2</td><td>0.999389</td></tr><tr><th>5</th><td>1</td><td>1</td><td>0.787124</td></tr><tr><th>6</th><td>2</td><td>2</td><td>0.287537</td></tr><tr><th>7</th><td>3</td><td>1</td><td>0.975704</td></tr><tr><th>8</th><td>4</td><td>2</td><td>0.239029</td></tr></tbody></table></div>"
      ],
      "text/latex": [
       "\\begin{tabular}{r|ccc}\n",
       "\t& id & id2 & v\\\\\n",
       "\t\\hline\n",
       "\t& Int64 & Int64 & Float64\\\\\n",
       "\t\\hline\n",
       "\t1 & 1 & 1 & 0.0278714 \\\\\n",
       "\t2 & 2 & 2 & 0.515204 \\\\\n",
       "\t3 & 3 & 1 & 0.3344 \\\\\n",
       "\t4 & 4 & 2 & 0.999389 \\\\\n",
       "\t5 & 1 & 1 & 0.787124 \\\\\n",
       "\t6 & 2 & 2 & 0.287537 \\\\\n",
       "\t7 & 3 & 1 & 0.975704 \\\\\n",
       "\t8 & 4 & 2 & 0.239029 \\\\\n",
       "\\end{tabular}\n"
      ],
      "text/plain": [
       "\u001b[1m8×3 DataFrame\u001b[0m\n",
       "\u001b[1m Row \u001b[0m│\u001b[1m id    \u001b[0m\u001b[1m id2   \u001b[0m\u001b[1m v         \u001b[0m\n",
       "\u001b[1m     \u001b[0m│\u001b[90m Int64 \u001b[0m\u001b[90m Int64 \u001b[0m\u001b[90m Float64   \u001b[0m\n",
       "─────┼─────────────────────────\n",
       "   1 │     1      1  0.0278714\n",
       "   2 │     2      2  0.515204\n",
       "   3 │     3      1  0.3344\n",
       "   4 │     4      2  0.999389\n",
       "   5 │     1      1  0.787124\n",
       "   6 │     2      2  0.287537\n",
       "   7 │     3      1  0.975704\n",
       "   8 │     4      2  0.239029"
      ]
     },
     "execution_count": 6,
     "metadata": {},
     "output_type": "execute_result"
    }
   ],
   "source": [
    "parent(gx2) # get the parent DataFrame "
   ]
  },
  {
   "cell_type": "code",
   "execution_count": 7,
   "metadata": {},
   "outputs": [
    {
     "data": {
      "text/html": [
       "<div class=\"data-frame\"><p>8 rows × 3 columns</p><table class=\"data-frame\"><thead><tr><th></th><th>id</th><th>id2</th><th>v</th></tr><tr><th></th><th title=\"Int64\">Int64</th><th title=\"Int64\">Int64</th><th title=\"Float64\">Float64</th></tr></thead><tbody><tr><th>1</th><td>1</td><td>1</td><td>0.0278714</td></tr><tr><th>2</th><td>1</td><td>1</td><td>0.787124</td></tr><tr><th>3</th><td>2</td><td>2</td><td>0.515204</td></tr><tr><th>4</th><td>2</td><td>2</td><td>0.287537</td></tr><tr><th>5</th><td>3</td><td>1</td><td>0.3344</td></tr><tr><th>6</th><td>3</td><td>1</td><td>0.975704</td></tr><tr><th>7</th><td>4</td><td>2</td><td>0.999389</td></tr><tr><th>8</th><td>4</td><td>2</td><td>0.239029</td></tr></tbody></table></div>"
      ],
      "text/latex": [
       "\\begin{tabular}{r|ccc}\n",
       "\t& id & id2 & v\\\\\n",
       "\t\\hline\n",
       "\t& Int64 & Int64 & Float64\\\\\n",
       "\t\\hline\n",
       "\t1 & 1 & 1 & 0.0278714 \\\\\n",
       "\t2 & 1 & 1 & 0.787124 \\\\\n",
       "\t3 & 2 & 2 & 0.515204 \\\\\n",
       "\t4 & 2 & 2 & 0.287537 \\\\\n",
       "\t5 & 3 & 1 & 0.3344 \\\\\n",
       "\t6 & 3 & 1 & 0.975704 \\\\\n",
       "\t7 & 4 & 2 & 0.999389 \\\\\n",
       "\t8 & 4 & 2 & 0.239029 \\\\\n",
       "\\end{tabular}\n"
      ],
      "text/plain": [
       "\u001b[1m8×3 DataFrame\u001b[0m\n",
       "\u001b[1m Row \u001b[0m│\u001b[1m id    \u001b[0m\u001b[1m id2   \u001b[0m\u001b[1m v         \u001b[0m\n",
       "\u001b[1m     \u001b[0m│\u001b[90m Int64 \u001b[0m\u001b[90m Int64 \u001b[0m\u001b[90m Float64   \u001b[0m\n",
       "─────┼─────────────────────────\n",
       "   1 │     1      1  0.0278714\n",
       "   2 │     1      1  0.787124\n",
       "   3 │     2      2  0.515204\n",
       "   4 │     2      2  0.287537\n",
       "   5 │     3      1  0.3344\n",
       "   6 │     3      1  0.975704\n",
       "   7 │     4      2  0.999389\n",
       "   8 │     4      2  0.239029"
      ]
     },
     "execution_count": 7,
     "metadata": {},
     "output_type": "execute_result"
    }
   ],
   "source": [
    "vcat(gx2...) # back to the DataFrame, but in a different order of rows than the original"
   ]
  },
  {
   "cell_type": "code",
   "execution_count": 8,
   "metadata": {},
   "outputs": [
    {
     "data": {
      "text/html": [
       "<div class=\"data-frame\"><p>8 rows × 3 columns</p><table class=\"data-frame\"><thead><tr><th></th><th>id</th><th>id2</th><th>v</th></tr><tr><th></th><th title=\"Int64\">Int64</th><th title=\"Int64\">Int64</th><th title=\"Float64\">Float64</th></tr></thead><tbody><tr><th>1</th><td>1</td><td>1</td><td>0.0278714</td></tr><tr><th>2</th><td>1</td><td>1</td><td>0.787124</td></tr><tr><th>3</th><td>2</td><td>2</td><td>0.515204</td></tr><tr><th>4</th><td>2</td><td>2</td><td>0.287537</td></tr><tr><th>5</th><td>3</td><td>1</td><td>0.3344</td></tr><tr><th>6</th><td>3</td><td>1</td><td>0.975704</td></tr><tr><th>7</th><td>4</td><td>2</td><td>0.999389</td></tr><tr><th>8</th><td>4</td><td>2</td><td>0.239029</td></tr></tbody></table></div>"
      ],
      "text/latex": [
       "\\begin{tabular}{r|ccc}\n",
       "\t& id & id2 & v\\\\\n",
       "\t\\hline\n",
       "\t& Int64 & Int64 & Float64\\\\\n",
       "\t\\hline\n",
       "\t1 & 1 & 1 & 0.0278714 \\\\\n",
       "\t2 & 1 & 1 & 0.787124 \\\\\n",
       "\t3 & 2 & 2 & 0.515204 \\\\\n",
       "\t4 & 2 & 2 & 0.287537 \\\\\n",
       "\t5 & 3 & 1 & 0.3344 \\\\\n",
       "\t6 & 3 & 1 & 0.975704 \\\\\n",
       "\t7 & 4 & 2 & 0.999389 \\\\\n",
       "\t8 & 4 & 2 & 0.239029 \\\\\n",
       "\\end{tabular}\n"
      ],
      "text/plain": [
       "\u001b[1m8×3 DataFrame\u001b[0m\n",
       "\u001b[1m Row \u001b[0m│\u001b[1m id    \u001b[0m\u001b[1m id2   \u001b[0m\u001b[1m v         \u001b[0m\n",
       "\u001b[1m     \u001b[0m│\u001b[90m Int64 \u001b[0m\u001b[90m Int64 \u001b[0m\u001b[90m Float64   \u001b[0m\n",
       "─────┼─────────────────────────\n",
       "   1 │     1      1  0.0278714\n",
       "   2 │     1      1  0.787124\n",
       "   3 │     2      2  0.515204\n",
       "   4 │     2      2  0.287537\n",
       "   5 │     3      1  0.3344\n",
       "   6 │     3      1  0.975704\n",
       "   7 │     4      2  0.999389\n",
       "   8 │     4      2  0.239029"
      ]
     },
     "execution_count": 8,
     "metadata": {},
     "output_type": "execute_result"
    }
   ],
   "source": [
    "DataFrame(gx2) # the same"
   ]
  },
  {
   "cell_type": "code",
   "execution_count": 9,
   "metadata": {},
   "outputs": [
    {
     "data": {
      "text/html": [
       "<div class=\"data-frame\"><p>8 rows × 1 columns</p><table class=\"data-frame\"><thead><tr><th></th><th>v</th></tr><tr><th></th><th title=\"Float64\">Float64</th></tr></thead><tbody><tr><th>1</th><td>0.0278714</td></tr><tr><th>2</th><td>0.787124</td></tr><tr><th>3</th><td>0.515204</td></tr><tr><th>4</th><td>0.287537</td></tr><tr><th>5</th><td>0.3344</td></tr><tr><th>6</th><td>0.975704</td></tr><tr><th>7</th><td>0.999389</td></tr><tr><th>8</th><td>0.239029</td></tr></tbody></table></div>"
      ],
      "text/latex": [
       "\\begin{tabular}{r|c}\n",
       "\t& v\\\\\n",
       "\t\\hline\n",
       "\t& Float64\\\\\n",
       "\t\\hline\n",
       "\t1 & 0.0278714 \\\\\n",
       "\t2 & 0.787124 \\\\\n",
       "\t3 & 0.515204 \\\\\n",
       "\t4 & 0.287537 \\\\\n",
       "\t5 & 0.3344 \\\\\n",
       "\t6 & 0.975704 \\\\\n",
       "\t7 & 0.999389 \\\\\n",
       "\t8 & 0.239029 \\\\\n",
       "\\end{tabular}\n"
      ],
      "text/plain": [
       "\u001b[1m8×1 DataFrame\u001b[0m\n",
       "\u001b[1m Row \u001b[0m│\u001b[1m v         \u001b[0m\n",
       "\u001b[1m     \u001b[0m│\u001b[90m Float64   \u001b[0m\n",
       "─────┼───────────\n",
       "   1 │ 0.0278714\n",
       "   2 │ 0.787124\n",
       "   3 │ 0.515204\n",
       "   4 │ 0.287537\n",
       "   5 │ 0.3344\n",
       "   6 │ 0.975704\n",
       "   7 │ 0.999389\n",
       "   8 │ 0.239029"
      ]
     },
     "execution_count": 9,
     "metadata": {},
     "output_type": "execute_result"
    }
   ],
   "source": [
    "DataFrame(gx2, keepkeys=false) # drop grouping columns when creating a data frame"
   ]
  },
  {
   "cell_type": "code",
   "execution_count": 10,
   "metadata": {},
   "outputs": [
    {
     "data": {
      "text/plain": [
       "2-element Vector{Symbol}:\n",
       " :id\n",
       " :id2"
      ]
     },
     "execution_count": 10,
     "metadata": {},
     "output_type": "execute_result"
    }
   ],
   "source": [
    "groupcols(gx2) # vector of names of grouping variables"
   ]
  },
  {
   "cell_type": "code",
   "execution_count": 11,
   "metadata": {},
   "outputs": [
    {
     "data": {
      "text/plain": [
       "1-element Vector{Symbol}:\n",
       " :v"
      ]
     },
     "execution_count": 11,
     "metadata": {},
     "output_type": "execute_result"
    }
   ],
   "source": [
    "valuecols(gx2) # and non-grouping variables"
   ]
  },
  {
   "cell_type": "code",
   "execution_count": 12,
   "metadata": {},
   "outputs": [
    {
     "data": {
      "text/plain": [
       "8-element Vector{Union{Missing, Int64}}:\n",
       " 1\n",
       " 2\n",
       " 3\n",
       " 4\n",
       " 1\n",
       " 2\n",
       " 3\n",
       " 4"
      ]
     },
     "execution_count": 12,
     "metadata": {},
     "output_type": "execute_result"
    }
   ],
   "source": [
    "groupindices(gx2) # group indices in parent(gx2)"
   ]
  },
  {
   "cell_type": "code",
   "execution_count": 13,
   "metadata": {},
   "outputs": [
    {
     "data": {
      "text/plain": [
       "4-element DataFrames.GroupKeys{GroupedDataFrame{DataFrame}}:\n",
       " GroupKey: (id = 1, id2 = 1)\n",
       " GroupKey: (id = 2, id2 = 2)\n",
       " GroupKey: (id = 3, id2 = 1)\n",
       " GroupKey: (id = 4, id2 = 2)"
      ]
     },
     "execution_count": 13,
     "metadata": {},
     "output_type": "execute_result"
    }
   ],
   "source": [
    "kgx2 = keys(gx2)"
   ]
  },
  {
   "cell_type": "markdown",
   "metadata": {},
   "source": [
    "You can index into a `GroupedDataFrame` like to a vector or to a dictionary.\n",
    "The second form acceps `GroupKey`, `NamedTuple` or a `Tuple`"
   ]
  },
  {
   "cell_type": "code",
   "execution_count": 14,
   "metadata": {},
   "outputs": [
    {
     "data": {
      "text/html": [
       "<p><b>GroupedDataFrame with 4 groups based on keys: id, id2</b></p><p><i>First Group (2 rows): id = 1, id2 = 1</i></p><div class=\"data-frame\"><table class=\"data-frame\"><thead><tr><th></th><th>id</th><th>id2</th><th>v</th></tr><tr><th></th><th title=\"Int64\">Int64</th><th title=\"Int64\">Int64</th><th title=\"Float64\">Float64</th></tr></thead><tbody><tr><th>1</th><td>1</td><td>1</td><td>0.0278714</td></tr><tr><th>2</th><td>1</td><td>1</td><td>0.787124</td></tr></tbody></table></div><p>&vellip;</p><p><i>Last Group (2 rows): id = 4, id2 = 2</i></p><div class=\"data-frame\"><table class=\"data-frame\"><thead><tr><th></th><th>id</th><th>id2</th><th>v</th></tr><tr><th></th><th title=\"Int64\">Int64</th><th title=\"Int64\">Int64</th><th title=\"Float64\">Float64</th></tr></thead><tbody><tr><th>1</th><td>4</td><td>2</td><td>0.999389</td></tr><tr><th>2</th><td>4</td><td>2</td><td>0.239029</td></tr></tbody></table></div>"
      ],
      "text/latex": [
       "GroupedDataFrame with 4 groups based on keys: id, id2\n",
       "\n",
       "First Group (2 rows): id = 1, id2 = 1\n",
       "\n",
       "\\begin{tabular}{r|ccc}\n",
       "\t& id & id2 & v\\\\\n",
       "\t\\hline\n",
       "\t& Int64 & Int64 & Float64\\\\\n",
       "\t\\hline\n",
       "\t1 & 1 & 1 & 0.0278714 \\\\\n",
       "\t2 & 1 & 1 & 0.787124 \\\\\n",
       "\\end{tabular}\n",
       "\n",
       "$\\dots$\n",
       "\n",
       "Last Group (2 rows): id = 4, id2 = 2\n",
       "\n",
       "\\begin{tabular}{r|ccc}\n",
       "\t& id & id2 & v\\\\\n",
       "\t\\hline\n",
       "\t& Int64 & Int64 & Float64\\\\\n",
       "\t\\hline\n",
       "\t1 & 4 & 2 & 0.999389 \\\\\n",
       "\t2 & 4 & 2 & 0.239029 \\\\\n",
       "\\end{tabular}\n"
      ],
      "text/plain": [
       "GroupedDataFrame with 4 groups based on keys: id, id2\n",
       "First Group (2 rows): id = 1, id2 = 1\n",
       "\u001b[1m Row \u001b[0m│\u001b[1m id    \u001b[0m\u001b[1m id2   \u001b[0m\u001b[1m v         \u001b[0m\n",
       "\u001b[1m     \u001b[0m│\u001b[90m Int64 \u001b[0m\u001b[90m Int64 \u001b[0m\u001b[90m Float64   \u001b[0m\n",
       "─────┼─────────────────────────\n",
       "   1 │     1      1  0.0278714\n",
       "   2 │     1      1  0.787124\n",
       "⋮\n",
       "Last Group (2 rows): id = 4, id2 = 2\n",
       "\u001b[1m Row \u001b[0m│\u001b[1m id    \u001b[0m\u001b[1m id2   \u001b[0m\u001b[1m v        \u001b[0m\n",
       "\u001b[1m     \u001b[0m│\u001b[90m Int64 \u001b[0m\u001b[90m Int64 \u001b[0m\u001b[90m Float64  \u001b[0m\n",
       "─────┼────────────────────────\n",
       "   1 │     4      2  0.999389\n",
       "   2 │     4      2  0.239029"
      ]
     },
     "execution_count": 14,
     "metadata": {},
     "output_type": "execute_result"
    }
   ],
   "source": [
    "gx2"
   ]
  },
  {
   "cell_type": "code",
   "execution_count": 15,
   "metadata": {},
   "outputs": [
    {
     "data": {
      "text/plain": [
       "GroupKey: (id = 1, id2 = 1)"
      ]
     },
     "execution_count": 15,
     "metadata": {},
     "output_type": "execute_result"
    }
   ],
   "source": [
    "k = keys(gx2)[1]"
   ]
  },
  {
   "cell_type": "code",
   "execution_count": 16,
   "metadata": {},
   "outputs": [
    {
     "data": {
      "text/plain": [
       "(id = 1, id2 = 1)"
      ]
     },
     "execution_count": 16,
     "metadata": {},
     "output_type": "execute_result"
    }
   ],
   "source": [
    "ntk = NamedTuple(k)"
   ]
  },
  {
   "cell_type": "code",
   "execution_count": 17,
   "metadata": {},
   "outputs": [
    {
     "data": {
      "text/plain": [
       "(1, 1)"
      ]
     },
     "execution_count": 17,
     "metadata": {},
     "output_type": "execute_result"
    }
   ],
   "source": [
    "tk = Tuple(k)"
   ]
  },
  {
   "cell_type": "markdown",
   "metadata": {},
   "source": [
    "the operations below produce the same result and are fast"
   ]
  },
  {
   "cell_type": "code",
   "execution_count": 18,
   "metadata": {},
   "outputs": [
    {
     "data": {
      "text/html": [
       "<div class=\"data-frame\"><p>2 rows × 3 columns</p><table class=\"data-frame\"><thead><tr><th></th><th>id</th><th>id2</th><th>v</th></tr><tr><th></th><th title=\"Int64\">Int64</th><th title=\"Int64\">Int64</th><th title=\"Float64\">Float64</th></tr></thead><tbody><tr><th>1</th><td>1</td><td>1</td><td>0.0278714</td></tr><tr><th>2</th><td>1</td><td>1</td><td>0.787124</td></tr></tbody></table></div>"
      ],
      "text/latex": [
       "\\begin{tabular}{r|ccc}\n",
       "\t& id & id2 & v\\\\\n",
       "\t\\hline\n",
       "\t& Int64 & Int64 & Float64\\\\\n",
       "\t\\hline\n",
       "\t1 & 1 & 1 & 0.0278714 \\\\\n",
       "\t2 & 1 & 1 & 0.787124 \\\\\n",
       "\\end{tabular}\n"
      ],
      "text/plain": [
       "\u001b[1m2×3 SubDataFrame\u001b[0m\n",
       "\u001b[1m Row \u001b[0m│\u001b[1m id    \u001b[0m\u001b[1m id2   \u001b[0m\u001b[1m v         \u001b[0m\n",
       "\u001b[1m     \u001b[0m│\u001b[90m Int64 \u001b[0m\u001b[90m Int64 \u001b[0m\u001b[90m Float64   \u001b[0m\n",
       "─────┼─────────────────────────\n",
       "   1 │     1      1  0.0278714\n",
       "   2 │     1      1  0.787124"
      ]
     },
     "execution_count": 18,
     "metadata": {},
     "output_type": "execute_result"
    }
   ],
   "source": [
    "gx2[1]"
   ]
  },
  {
   "cell_type": "code",
   "execution_count": 19,
   "metadata": {},
   "outputs": [
    {
     "data": {
      "text/html": [
       "<div class=\"data-frame\"><p>2 rows × 3 columns</p><table class=\"data-frame\"><thead><tr><th></th><th>id</th><th>id2</th><th>v</th></tr><tr><th></th><th title=\"Int64\">Int64</th><th title=\"Int64\">Int64</th><th title=\"Float64\">Float64</th></tr></thead><tbody><tr><th>1</th><td>1</td><td>1</td><td>0.0278714</td></tr><tr><th>2</th><td>1</td><td>1</td><td>0.787124</td></tr></tbody></table></div>"
      ],
      "text/latex": [
       "\\begin{tabular}{r|ccc}\n",
       "\t& id & id2 & v\\\\\n",
       "\t\\hline\n",
       "\t& Int64 & Int64 & Float64\\\\\n",
       "\t\\hline\n",
       "\t1 & 1 & 1 & 0.0278714 \\\\\n",
       "\t2 & 1 & 1 & 0.787124 \\\\\n",
       "\\end{tabular}\n"
      ],
      "text/plain": [
       "\u001b[1m2×3 SubDataFrame\u001b[0m\n",
       "\u001b[1m Row \u001b[0m│\u001b[1m id    \u001b[0m\u001b[1m id2   \u001b[0m\u001b[1m v         \u001b[0m\n",
       "\u001b[1m     \u001b[0m│\u001b[90m Int64 \u001b[0m\u001b[90m Int64 \u001b[0m\u001b[90m Float64   \u001b[0m\n",
       "─────┼─────────────────────────\n",
       "   1 │     1      1  0.0278714\n",
       "   2 │     1      1  0.787124"
      ]
     },
     "execution_count": 19,
     "metadata": {},
     "output_type": "execute_result"
    }
   ],
   "source": [
    "gx2[k]"
   ]
  },
  {
   "cell_type": "code",
   "execution_count": 20,
   "metadata": {},
   "outputs": [
    {
     "data": {
      "text/html": [
       "<div class=\"data-frame\"><p>2 rows × 3 columns</p><table class=\"data-frame\"><thead><tr><th></th><th>id</th><th>id2</th><th>v</th></tr><tr><th></th><th title=\"Int64\">Int64</th><th title=\"Int64\">Int64</th><th title=\"Float64\">Float64</th></tr></thead><tbody><tr><th>1</th><td>1</td><td>1</td><td>0.0278714</td></tr><tr><th>2</th><td>1</td><td>1</td><td>0.787124</td></tr></tbody></table></div>"
      ],
      "text/latex": [
       "\\begin{tabular}{r|ccc}\n",
       "\t& id & id2 & v\\\\\n",
       "\t\\hline\n",
       "\t& Int64 & Int64 & Float64\\\\\n",
       "\t\\hline\n",
       "\t1 & 1 & 1 & 0.0278714 \\\\\n",
       "\t2 & 1 & 1 & 0.787124 \\\\\n",
       "\\end{tabular}\n"
      ],
      "text/plain": [
       "\u001b[1m2×3 SubDataFrame\u001b[0m\n",
       "\u001b[1m Row \u001b[0m│\u001b[1m id    \u001b[0m\u001b[1m id2   \u001b[0m\u001b[1m v         \u001b[0m\n",
       "\u001b[1m     \u001b[0m│\u001b[90m Int64 \u001b[0m\u001b[90m Int64 \u001b[0m\u001b[90m Float64   \u001b[0m\n",
       "─────┼─────────────────────────\n",
       "   1 │     1      1  0.0278714\n",
       "   2 │     1      1  0.787124"
      ]
     },
     "execution_count": 20,
     "metadata": {},
     "output_type": "execute_result"
    }
   ],
   "source": [
    "gx2[ntk]"
   ]
  },
  {
   "cell_type": "code",
   "execution_count": 21,
   "metadata": {},
   "outputs": [
    {
     "data": {
      "text/html": [
       "<div class=\"data-frame\"><p>2 rows × 3 columns</p><table class=\"data-frame\"><thead><tr><th></th><th>id</th><th>id2</th><th>v</th></tr><tr><th></th><th title=\"Int64\">Int64</th><th title=\"Int64\">Int64</th><th title=\"Float64\">Float64</th></tr></thead><tbody><tr><th>1</th><td>1</td><td>1</td><td>0.0278714</td></tr><tr><th>2</th><td>1</td><td>1</td><td>0.787124</td></tr></tbody></table></div>"
      ],
      "text/latex": [
       "\\begin{tabular}{r|ccc}\n",
       "\t& id & id2 & v\\\\\n",
       "\t\\hline\n",
       "\t& Int64 & Int64 & Float64\\\\\n",
       "\t\\hline\n",
       "\t1 & 1 & 1 & 0.0278714 \\\\\n",
       "\t2 & 1 & 1 & 0.787124 \\\\\n",
       "\\end{tabular}\n"
      ],
      "text/plain": [
       "\u001b[1m2×3 SubDataFrame\u001b[0m\n",
       "\u001b[1m Row \u001b[0m│\u001b[1m id    \u001b[0m\u001b[1m id2   \u001b[0m\u001b[1m v         \u001b[0m\n",
       "\u001b[1m     \u001b[0m│\u001b[90m Int64 \u001b[0m\u001b[90m Int64 \u001b[0m\u001b[90m Float64   \u001b[0m\n",
       "─────┼─────────────────────────\n",
       "   1 │     1      1  0.0278714\n",
       "   2 │     1      1  0.787124"
      ]
     },
     "execution_count": 21,
     "metadata": {},
     "output_type": "execute_result"
    }
   ],
   "source": [
    "gx2[tk]"
   ]
  },
  {
   "cell_type": "markdown",
   "metadata": {},
   "source": [
    "handling missing values"
   ]
  },
  {
   "cell_type": "code",
   "execution_count": 22,
   "metadata": {},
   "outputs": [
    {
     "data": {
      "text/html": [
       "<div class=\"data-frame\"><p>5 rows × 2 columns</p><table class=\"data-frame\"><thead><tr><th></th><th>id</th><th>x</th></tr><tr><th></th><th title=\"Union{Missing, Int64}\">Int64?</th><th title=\"Int64\">Int64</th></tr></thead><tbody><tr><th>1</th><td><em>missing</em></td><td>1</td></tr><tr><th>2</th><td>5</td><td>2</td></tr><tr><th>3</th><td>1</td><td>3</td></tr><tr><th>4</th><td>3</td><td>4</td></tr><tr><th>5</th><td><em>missing</em></td><td>5</td></tr></tbody></table></div>"
      ],
      "text/latex": [
       "\\begin{tabular}{r|cc}\n",
       "\t& id & x\\\\\n",
       "\t\\hline\n",
       "\t& Int64? & Int64\\\\\n",
       "\t\\hline\n",
       "\t1 & \\emph{missing} & 1 \\\\\n",
       "\t2 & 5 & 2 \\\\\n",
       "\t3 & 1 & 3 \\\\\n",
       "\t4 & 3 & 4 \\\\\n",
       "\t5 & \\emph{missing} & 5 \\\\\n",
       "\\end{tabular}\n"
      ],
      "text/plain": [
       "\u001b[1m5×2 DataFrame\u001b[0m\n",
       "\u001b[1m Row \u001b[0m│\u001b[1m id      \u001b[0m\u001b[1m x     \u001b[0m\n",
       "\u001b[1m     \u001b[0m│\u001b[90m Int64?  \u001b[0m\u001b[90m Int64 \u001b[0m\n",
       "─────┼────────────────\n",
       "   1 │\u001b[90m missing \u001b[0m     1\n",
       "   2 │       5      2\n",
       "   3 │       1      3\n",
       "   4 │       3      4\n",
       "   5 │\u001b[90m missing \u001b[0m     5"
      ]
     },
     "execution_count": 22,
     "metadata": {},
     "output_type": "execute_result"
    }
   ],
   "source": [
    "x = DataFrame(id = [missing, 5, 1, 3, missing], x = 1:5)"
   ]
  },
  {
   "cell_type": "code",
   "execution_count": 23,
   "metadata": {},
   "outputs": [
    {
     "data": {
      "text/html": [
       "<p><b>GroupedDataFrame with 4 groups based on key: id</b></p><p><i>First Group (1 row): id = 1</i></p><div class=\"data-frame\"><table class=\"data-frame\"><thead><tr><th></th><th>id</th><th>x</th></tr><tr><th></th><th title=\"Union{Missing, Int64}\">Int64?</th><th title=\"Int64\">Int64</th></tr></thead><tbody><tr><th>1</th><td>1</td><td>3</td></tr></tbody></table></div><p>&vellip;</p><p><i>Last Group (2 rows): id = missing</i></p><div class=\"data-frame\"><table class=\"data-frame\"><thead><tr><th></th><th>id</th><th>x</th></tr><tr><th></th><th title=\"Union{Missing, Int64}\">Int64?</th><th title=\"Int64\">Int64</th></tr></thead><tbody><tr><th>1</th><td><em>missing</em></td><td>1</td></tr><tr><th>2</th><td><em>missing</em></td><td>5</td></tr></tbody></table></div>"
      ],
      "text/latex": [
       "GroupedDataFrame with 4 groups based on key: id\n",
       "\n",
       "First Group (1 row): id = 1\n",
       "\n",
       "\\begin{tabular}{r|cc}\n",
       "\t& id & x\\\\\n",
       "\t\\hline\n",
       "\t& Int64? & Int64\\\\\n",
       "\t\\hline\n",
       "\t1 & 1 & 3 \\\\\n",
       "\\end{tabular}\n",
       "\n",
       "$\\dots$\n",
       "\n",
       "Last Group (2 rows): id = missing\n",
       "\n",
       "\\begin{tabular}{r|cc}\n",
       "\t& id & x\\\\\n",
       "\t\\hline\n",
       "\t& Int64? & Int64\\\\\n",
       "\t\\hline\n",
       "\t1 & \\emph{missing} & 1 \\\\\n",
       "\t2 & \\emph{missing} & 5 \\\\\n",
       "\\end{tabular}\n"
      ],
      "text/plain": [
       "GroupedDataFrame with 4 groups based on key: id\n",
       "First Group (1 row): id = 1\n",
       "\u001b[1m Row \u001b[0m│\u001b[1m id     \u001b[0m\u001b[1m x     \u001b[0m\n",
       "\u001b[1m     \u001b[0m│\u001b[90m Int64? \u001b[0m\u001b[90m Int64 \u001b[0m\n",
       "─────┼───────────────\n",
       "   1 │      1      3\n",
       "⋮\n",
       "Last Group (2 rows): id = missing\n",
       "\u001b[1m Row \u001b[0m│\u001b[1m id      \u001b[0m\u001b[1m x     \u001b[0m\n",
       "\u001b[1m     \u001b[0m│\u001b[90m Int64?  \u001b[0m\u001b[90m Int64 \u001b[0m\n",
       "─────┼────────────────\n",
       "   1 │\u001b[90m missing \u001b[0m     1\n",
       "   2 │\u001b[90m missing \u001b[0m     5"
      ]
     },
     "execution_count": 23,
     "metadata": {},
     "output_type": "execute_result"
    }
   ],
   "source": [
    "groupby(x, :id) # by default groups include mising values and are not sorted"
   ]
  },
  {
   "cell_type": "code",
   "execution_count": 24,
   "metadata": {},
   "outputs": [
    {
     "data": {
      "text/html": [
       "<p><b>GroupedDataFrame with 3 groups based on key: id</b></p><p><i>First Group (1 row): id = 1</i></p><div class=\"data-frame\"><table class=\"data-frame\"><thead><tr><th></th><th>id</th><th>x</th></tr><tr><th></th><th title=\"Union{Missing, Int64}\">Int64?</th><th title=\"Int64\">Int64</th></tr></thead><tbody><tr><th>1</th><td>1</td><td>3</td></tr></tbody></table></div><p>&vellip;</p><p><i>Last Group (1 row): id = 5</i></p><div class=\"data-frame\"><table class=\"data-frame\"><thead><tr><th></th><th>id</th><th>x</th></tr><tr><th></th><th title=\"Union{Missing, Int64}\">Int64?</th><th title=\"Int64\">Int64</th></tr></thead><tbody><tr><th>1</th><td>5</td><td>2</td></tr></tbody></table></div>"
      ],
      "text/latex": [
       "GroupedDataFrame with 3 groups based on key: id\n",
       "\n",
       "First Group (1 row): id = 1\n",
       "\n",
       "\\begin{tabular}{r|cc}\n",
       "\t& id & x\\\\\n",
       "\t\\hline\n",
       "\t& Int64? & Int64\\\\\n",
       "\t\\hline\n",
       "\t1 & 1 & 3 \\\\\n",
       "\\end{tabular}\n",
       "\n",
       "$\\dots$\n",
       "\n",
       "Last Group (1 row): id = 5\n",
       "\n",
       "\\begin{tabular}{r|cc}\n",
       "\t& id & x\\\\\n",
       "\t\\hline\n",
       "\t& Int64? & Int64\\\\\n",
       "\t\\hline\n",
       "\t1 & 5 & 2 \\\\\n",
       "\\end{tabular}\n"
      ],
      "text/plain": [
       "GroupedDataFrame with 3 groups based on key: id\n",
       "First Group (1 row): id = 1\n",
       "\u001b[1m Row \u001b[0m│\u001b[1m id     \u001b[0m\u001b[1m x     \u001b[0m\n",
       "\u001b[1m     \u001b[0m│\u001b[90m Int64? \u001b[0m\u001b[90m Int64 \u001b[0m\n",
       "─────┼───────────────\n",
       "   1 │      1      3\n",
       "⋮\n",
       "Last Group (1 row): id = 5\n",
       "\u001b[1m Row \u001b[0m│\u001b[1m id     \u001b[0m\u001b[1m x     \u001b[0m\n",
       "\u001b[1m     \u001b[0m│\u001b[90m Int64? \u001b[0m\u001b[90m Int64 \u001b[0m\n",
       "─────┼───────────────\n",
       "   1 │      5      2"
      ]
     },
     "execution_count": 24,
     "metadata": {},
     "output_type": "execute_result"
    }
   ],
   "source": [
    "groupby(x, :id, sort=true, skipmissing=true) # but we can change it"
   ]
  },
  {
   "cell_type": "markdown",
   "metadata": {},
   "source": [
    "### Performing transformations by group using `combine`, `select`, `select!`, `transform`, and `transform!`"
   ]
  },
  {
   "cell_type": "code",
   "execution_count": 26,
   "metadata": {},
   "outputs": [],
   "source": [
    "using Pkg\n",
    "using Statistics\n",
    "using Pipe"
   ]
  },
  {
   "cell_type": "markdown",
   "metadata": {},
   "source": [
    "The **Pipe** package allows you to improve the Pipe operator |> in Julia Base.\n",
    "\n",
    "Chaining (or \"piping\") allows to string together multiple function calls in a way that is at the same time compact and readable. It avoids saving intermediate results without having to embed function calls within one another.\n",
    "\n",
    "With the chain operator |> instead, the code to the right of |> operates on the result from the code to the left of it. In practice, what is on the left becomes the argument of the function call(s) that is on the right.\n",
    "\n",
    "Chaining is very useful in data manipulation. Let's assume that you want to use the following (silly) functions operate one after the other on some data and print the final result:"
   ]
  },
  {
   "cell_type": "code",
   "execution_count": 43,
   "metadata": {},
   "outputs": [],
   "source": [
    "add6(a) = a+6; div4(a) = 4/a;"
   ]
  },
  {
   "cell_type": "code",
   "execution_count": 44,
   "metadata": {},
   "outputs": [
    {
     "name": "stdout",
     "output_type": "stream",
     "text": [
      "0.5\n",
      "0.5\n"
     ]
    }
   ],
   "source": [
    "# You could either introduce temporary variables or embed the function calls:\n",
    "a = 2; b = add6(a); c = div4(b); println(c) # 0.5\n",
    "println(div4(add6(a)))"
   ]
  },
  {
   "cell_type": "markdown",
   "metadata": {},
   "source": [
    "With piping you can write instead:"
   ]
  },
  {
   "cell_type": "code",
   "execution_count": 45,
   "metadata": {},
   "outputs": [
    {
     "name": "stdout",
     "output_type": "stream",
     "text": [
      "0.5\n"
     ]
    }
   ],
   "source": [
    "a |> add6 |> div4 |> println"
   ]
  },
  {
   "cell_type": "markdown",
   "metadata": {},
   "source": [
    "Pipes in Base are very limited, in the sense that support only functions with one argument and only a single function at a time.\n",
    "\n",
    "Conversely, the Pipe package together with the `@pipe` macro hoverrides the |> operator allowing you to use functions with multiple arguments (and there you can use the underscore character `_` as placeholder for the value on the LHS) and multiple functions, e.g.:\n",
    "\n",
    "`\n",
    "addX(a,x) = a+x; divY(a,y) = a/y  \n",
    "@pipe a |> addX(_,6) + divY(4,_) |> println # 10.0\n",
    "`"
   ]
  },
  {
   "cell_type": "code",
   "execution_count": 53,
   "metadata": {},
   "outputs": [
    {
     "data": {
      "text/plain": [
       "15"
      ]
     },
     "execution_count": 53,
     "metadata": {},
     "output_type": "execute_result"
    }
   ],
   "source": [
    "ENV[\"LINES\"] = 15 # reduce the number of rows in the output"
   ]
  },
  {
   "cell_type": "markdown",
   "metadata": {},
   "source": [
    "Create a DataFrame with id column randomly selected from a--d and v being a random uniform number in [0,1]"
   ]
  },
  {
   "cell_type": "code",
   "execution_count": 58,
   "metadata": {},
   "outputs": [
    {
     "data": {
      "text/html": [
       "<div class=\"data-frame\"><p>100 rows × 2 columns</p><table class=\"data-frame\"><thead><tr><th></th><th>id</th><th>v</th></tr><tr><th></th><th title=\"Char\">Char</th><th title=\"Float64\">Float64</th></tr></thead><tbody><tr><th>1</th><td>b</td><td>0.865976</td></tr><tr><th>2</th><td>a</td><td>0.133306</td></tr><tr><th>3</th><td>d</td><td>0.13789</td></tr><tr><th>4</th><td>c</td><td>0.34311</td></tr><tr><th>5</th><td>a</td><td>0.0466959</td></tr><tr><th>6</th><td>c</td><td>0.0486236</td></tr><tr><th>7</th><td>d</td><td>0.704482</td></tr><tr><th>8</th><td>c</td><td>0.378524</td></tr><tr><th>9</th><td>c</td><td>0.124788</td></tr><tr><th>10</th><td>b</td><td>0.271907</td></tr><tr><th>11</th><td>d</td><td>0.805776</td></tr><tr><th>12</th><td>d</td><td>0.907694</td></tr><tr><th>13</th><td>d</td><td>0.584602</td></tr><tr><th>14</th><td>c</td><td>0.188223</td></tr><tr><th>15</th><td>c</td><td>0.650717</td></tr><tr><th>&vellip;</th><td>&vellip;</td><td>&vellip;</td></tr></tbody></table></div>"
      ],
      "text/latex": [
       "\\begin{tabular}{r|cc}\n",
       "\t& id & v\\\\\n",
       "\t\\hline\n",
       "\t& Char & Float64\\\\\n",
       "\t\\hline\n",
       "\t1 & b & 0.865976 \\\\\n",
       "\t2 & a & 0.133306 \\\\\n",
       "\t3 & d & 0.13789 \\\\\n",
       "\t4 & c & 0.34311 \\\\\n",
       "\t5 & a & 0.0466959 \\\\\n",
       "\t6 & c & 0.0486236 \\\\\n",
       "\t7 & d & 0.704482 \\\\\n",
       "\t8 & c & 0.378524 \\\\\n",
       "\t9 & c & 0.124788 \\\\\n",
       "\t10 & b & 0.271907 \\\\\n",
       "\t11 & d & 0.805776 \\\\\n",
       "\t12 & d & 0.907694 \\\\\n",
       "\t13 & d & 0.584602 \\\\\n",
       "\t14 & c & 0.188223 \\\\\n",
       "\t15 & c & 0.650717 \\\\\n",
       "\t$\\dots$ & $\\dots$ & $\\dots$ \\\\\n",
       "\\end{tabular}\n"
      ],
      "text/plain": [
       "\u001b[1m100×2 DataFrame\u001b[0m\n",
       "\u001b[1m Row \u001b[0m│\u001b[1m id   \u001b[0m\u001b[1m v         \u001b[0m\n",
       "\u001b[1m     \u001b[0m│\u001b[90m Char \u001b[0m\u001b[90m Float64   \u001b[0m\n",
       "─────┼─────────────────\n",
       "   1 │ b     0.865976\n",
       "   2 │ a     0.133306\n",
       "   3 │ d     0.13789\n",
       "  ⋮  │  ⋮        ⋮\n",
       "  98 │ b     0.666072\n",
       "  99 │ c     0.627473\n",
       " 100 │ b     0.436655\n",
       "\u001b[36m        94 rows omitted\u001b[0m"
      ]
     },
     "execution_count": 58,
     "metadata": {},
     "output_type": "execute_result"
    }
   ],
   "source": [
    "x = DataFrame(id=rand('a':'d', 100), v=rand(100))"
   ]
  },
  {
   "cell_type": "code",
   "execution_count": 59,
   "metadata": {},
   "outputs": [
    {
     "data": {
      "text/html": [
       "<div class=\"data-frame\"><p>4 rows × 2 columns</p><table class=\"data-frame\"><thead><tr><th></th><th>id</th><th>v_mean</th></tr><tr><th></th><th title=\"Char\">Char</th><th title=\"Float64\">Float64</th></tr></thead><tbody><tr><th>1</th><td>b</td><td>0.531336</td></tr><tr><th>2</th><td>a</td><td>0.390951</td></tr><tr><th>3</th><td>d</td><td>0.546437</td></tr><tr><th>4</th><td>c</td><td>0.462542</td></tr></tbody></table></div>"
      ],
      "text/latex": [
       "\\begin{tabular}{r|cc}\n",
       "\t& id & v\\_mean\\\\\n",
       "\t\\hline\n",
       "\t& Char & Float64\\\\\n",
       "\t\\hline\n",
       "\t1 & b & 0.531336 \\\\\n",
       "\t2 & a & 0.390951 \\\\\n",
       "\t3 & d & 0.546437 \\\\\n",
       "\t4 & c & 0.462542 \\\\\n",
       "\\end{tabular}\n"
      ],
      "text/plain": [
       "\u001b[1m4×2 DataFrame\u001b[0m\n",
       "\u001b[1m Row \u001b[0m│\u001b[1m id   \u001b[0m\u001b[1m v_mean   \u001b[0m\n",
       "\u001b[1m     \u001b[0m│\u001b[90m Char \u001b[0m\u001b[90m Float64  \u001b[0m\n",
       "─────┼────────────────\n",
       "   1 │ b     0.531336\n",
       "   2 │ a     0.390951\n",
       "   3 │ d     0.546437\n",
       "   4 │ c     0.462542"
      ]
     },
     "execution_count": 59,
     "metadata": {},
     "output_type": "execute_result"
    }
   ],
   "source": [
    "# apply a function to each group of a data frame\n",
    "# combine keeps as many rows as are returned from the function\n",
    "@pipe x |> groupby(_, :id) |> combine(_, :v=>mean)"
   ]
  },
  {
   "cell_type": "code",
   "execution_count": 60,
   "metadata": {},
   "outputs": [
    {
     "data": {
      "text/plain": [
       "Base.OneTo(100)"
      ]
     },
     "execution_count": 60,
     "metadata": {},
     "output_type": "execute_result"
    }
   ],
   "source": [
    "x.id2 = axes(x, 1)"
   ]
  },
  {
   "cell_type": "code",
   "execution_count": 61,
   "metadata": {},
   "outputs": [
    {
     "data": {
      "text/html": [
       "<div class=\"data-frame\"><p>100 rows × 4 columns</p><table class=\"data-frame\"><thead><tr><th></th><th>id</th><th>v</th><th>id2</th><th>v_mean</th></tr><tr><th></th><th title=\"Char\">Char</th><th title=\"Float64\">Float64</th><th title=\"Int64\">Int64</th><th title=\"Float64\">Float64</th></tr></thead><tbody><tr><th>1</th><td>b</td><td>0.865976</td><td>1</td><td>0.531336</td></tr><tr><th>2</th><td>a</td><td>0.133306</td><td>2</td><td>0.390951</td></tr><tr><th>3</th><td>d</td><td>0.13789</td><td>3</td><td>0.546437</td></tr><tr><th>4</th><td>c</td><td>0.34311</td><td>4</td><td>0.462542</td></tr><tr><th>5</th><td>a</td><td>0.0466959</td><td>5</td><td>0.390951</td></tr><tr><th>6</th><td>c</td><td>0.0486236</td><td>6</td><td>0.462542</td></tr><tr><th>7</th><td>d</td><td>0.704482</td><td>7</td><td>0.546437</td></tr><tr><th>8</th><td>c</td><td>0.378524</td><td>8</td><td>0.462542</td></tr><tr><th>9</th><td>c</td><td>0.124788</td><td>9</td><td>0.462542</td></tr><tr><th>10</th><td>b</td><td>0.271907</td><td>10</td><td>0.531336</td></tr><tr><th>11</th><td>d</td><td>0.805776</td><td>11</td><td>0.546437</td></tr><tr><th>12</th><td>d</td><td>0.907694</td><td>12</td><td>0.546437</td></tr><tr><th>13</th><td>d</td><td>0.584602</td><td>13</td><td>0.546437</td></tr><tr><th>14</th><td>c</td><td>0.188223</td><td>14</td><td>0.462542</td></tr><tr><th>15</th><td>c</td><td>0.650717</td><td>15</td><td>0.462542</td></tr><tr><th>&vellip;</th><td>&vellip;</td><td>&vellip;</td><td>&vellip;</td><td>&vellip;</td></tr></tbody></table></div>"
      ],
      "text/latex": [
       "\\begin{tabular}{r|cccc}\n",
       "\t& id & v & id2 & v\\_mean\\\\\n",
       "\t\\hline\n",
       "\t& Char & Float64 & Int64 & Float64\\\\\n",
       "\t\\hline\n",
       "\t1 & b & 0.865976 & 1 & 0.531336 \\\\\n",
       "\t2 & a & 0.133306 & 2 & 0.390951 \\\\\n",
       "\t3 & d & 0.13789 & 3 & 0.546437 \\\\\n",
       "\t4 & c & 0.34311 & 4 & 0.462542 \\\\\n",
       "\t5 & a & 0.0466959 & 5 & 0.390951 \\\\\n",
       "\t6 & c & 0.0486236 & 6 & 0.462542 \\\\\n",
       "\t7 & d & 0.704482 & 7 & 0.546437 \\\\\n",
       "\t8 & c & 0.378524 & 8 & 0.462542 \\\\\n",
       "\t9 & c & 0.124788 & 9 & 0.462542 \\\\\n",
       "\t10 & b & 0.271907 & 10 & 0.531336 \\\\\n",
       "\t11 & d & 0.805776 & 11 & 0.546437 \\\\\n",
       "\t12 & d & 0.907694 & 12 & 0.546437 \\\\\n",
       "\t13 & d & 0.584602 & 13 & 0.546437 \\\\\n",
       "\t14 & c & 0.188223 & 14 & 0.462542 \\\\\n",
       "\t15 & c & 0.650717 & 15 & 0.462542 \\\\\n",
       "\t$\\dots$ & $\\dots$ & $\\dots$ & $\\dots$ & $\\dots$ \\\\\n",
       "\\end{tabular}\n"
      ],
      "text/plain": [
       "\u001b[1m100×4 DataFrame\u001b[0m\n",
       "\u001b[1m Row \u001b[0m│\u001b[1m id   \u001b[0m\u001b[1m v         \u001b[0m\u001b[1m id2   \u001b[0m\u001b[1m v_mean   \u001b[0m\n",
       "\u001b[1m     \u001b[0m│\u001b[90m Char \u001b[0m\u001b[90m Float64   \u001b[0m\u001b[90m Int64 \u001b[0m\u001b[90m Float64  \u001b[0m\n",
       "─────┼──────────────────────────────────\n",
       "   1 │ b     0.865976       1  0.531336\n",
       "   2 │ a     0.133306       2  0.390951\n",
       "   3 │ d     0.13789        3  0.546437\n",
       "  ⋮  │  ⋮        ⋮        ⋮       ⋮\n",
       "  98 │ b     0.666072      98  0.531336\n",
       "  99 │ c     0.627473      99  0.462542\n",
       " 100 │ b     0.436655     100  0.531336\n",
       "\u001b[36m                         94 rows omitted\u001b[0m"
      ]
     },
     "execution_count": 61,
     "metadata": {},
     "output_type": "execute_result"
    }
   ],
   "source": [
    "# select and transform keep as many rows as are in the source data frame and in correct order\n",
    "# additionally transform keeps all columns from the source\n",
    "@pipe x |> groupby(_, :id) |> transform(_, :v=>mean)"
   ]
  },
  {
   "cell_type": "code",
   "execution_count": 62,
   "metadata": {},
   "outputs": [
    {
     "data": {
      "text/html": [
       "<div class=\"data-frame\"><p>100 rows × 3 columns</p><table class=\"data-frame\"><thead><tr><th></th><th>id</th><th>id2</th><th>v_mean</th></tr><tr><th></th><th title=\"Char\">Char</th><th title=\"Int64\">Int64</th><th title=\"Float64\">Float64</th></tr></thead><tbody><tr><th>1</th><td>b</td><td>1</td><td>0.531336</td></tr><tr><th>2</th><td>b</td><td>10</td><td>0.531336</td></tr><tr><th>3</th><td>b</td><td>16</td><td>0.531336</td></tr><tr><th>4</th><td>b</td><td>27</td><td>0.531336</td></tr><tr><th>5</th><td>b</td><td>28</td><td>0.531336</td></tr><tr><th>6</th><td>b</td><td>29</td><td>0.531336</td></tr><tr><th>7</th><td>b</td><td>30</td><td>0.531336</td></tr><tr><th>8</th><td>b</td><td>36</td><td>0.531336</td></tr><tr><th>9</th><td>b</td><td>37</td><td>0.531336</td></tr><tr><th>10</th><td>b</td><td>49</td><td>0.531336</td></tr><tr><th>11</th><td>b</td><td>55</td><td>0.531336</td></tr><tr><th>12</th><td>b</td><td>57</td><td>0.531336</td></tr><tr><th>13</th><td>b</td><td>58</td><td>0.531336</td></tr><tr><th>14</th><td>b</td><td>63</td><td>0.531336</td></tr><tr><th>15</th><td>b</td><td>66</td><td>0.531336</td></tr><tr><th>&vellip;</th><td>&vellip;</td><td>&vellip;</td><td>&vellip;</td></tr></tbody></table></div>"
      ],
      "text/latex": [
       "\\begin{tabular}{r|ccc}\n",
       "\t& id & id2 & v\\_mean\\\\\n",
       "\t\\hline\n",
       "\t& Char & Int64 & Float64\\\\\n",
       "\t\\hline\n",
       "\t1 & b & 1 & 0.531336 \\\\\n",
       "\t2 & b & 10 & 0.531336 \\\\\n",
       "\t3 & b & 16 & 0.531336 \\\\\n",
       "\t4 & b & 27 & 0.531336 \\\\\n",
       "\t5 & b & 28 & 0.531336 \\\\\n",
       "\t6 & b & 29 & 0.531336 \\\\\n",
       "\t7 & b & 30 & 0.531336 \\\\\n",
       "\t8 & b & 36 & 0.531336 \\\\\n",
       "\t9 & b & 37 & 0.531336 \\\\\n",
       "\t10 & b & 49 & 0.531336 \\\\\n",
       "\t11 & b & 55 & 0.531336 \\\\\n",
       "\t12 & b & 57 & 0.531336 \\\\\n",
       "\t13 & b & 58 & 0.531336 \\\\\n",
       "\t14 & b & 63 & 0.531336 \\\\\n",
       "\t15 & b & 66 & 0.531336 \\\\\n",
       "\t$\\dots$ & $\\dots$ & $\\dots$ & $\\dots$ \\\\\n",
       "\\end{tabular}\n"
      ],
      "text/plain": [
       "\u001b[1m100×3 DataFrame\u001b[0m\n",
       "\u001b[1m Row \u001b[0m│\u001b[1m id   \u001b[0m\u001b[1m id2   \u001b[0m\u001b[1m v_mean   \u001b[0m\n",
       "\u001b[1m     \u001b[0m│\u001b[90m Char \u001b[0m\u001b[90m Int64 \u001b[0m\u001b[90m Float64  \u001b[0m\n",
       "─────┼───────────────────────\n",
       "   1 │ b         1  0.531336\n",
       "   2 │ b        10  0.531336\n",
       "   3 │ b        16  0.531336\n",
       "  ⋮  │  ⋮      ⋮       ⋮\n",
       "  98 │ c        92  0.462542\n",
       "  99 │ c        94  0.462542\n",
       " 100 │ c        99  0.462542\n",
       "\u001b[36m              94 rows omitted\u001b[0m"
      ]
     },
     "execution_count": 62,
     "metadata": {},
     "output_type": "execute_result"
    }
   ],
   "source": [
    "# note that combine reorders rows by group of GroupedDataFrame\n",
    "@pipe x |> groupby(_, :id) |> combine(_, :id2, :v=>mean)"
   ]
  },
  {
   "cell_type": "code",
   "execution_count": 63,
   "metadata": {},
   "outputs": [
    {
     "data": {
      "text/html": [
       "<div class=\"data-frame\"><p>4 rows × 2 columns</p><table class=\"data-frame\"><thead><tr><th></th><th>id</th><th>res</th></tr><tr><th></th><th title=\"Char\">Char</th><th title=\"Float64\">Float64</th></tr></thead><tbody><tr><th>1</th><td>b</td><td>0.531336</td></tr><tr><th>2</th><td>a</td><td>0.390951</td></tr><tr><th>3</th><td>d</td><td>0.546437</td></tr><tr><th>4</th><td>c</td><td>0.462542</td></tr></tbody></table></div>"
      ],
      "text/latex": [
       "\\begin{tabular}{r|cc}\n",
       "\t& id & res\\\\\n",
       "\t\\hline\n",
       "\t& Char & Float64\\\\\n",
       "\t\\hline\n",
       "\t1 & b & 0.531336 \\\\\n",
       "\t2 & a & 0.390951 \\\\\n",
       "\t3 & d & 0.546437 \\\\\n",
       "\t4 & c & 0.462542 \\\\\n",
       "\\end{tabular}\n"
      ],
      "text/plain": [
       "\u001b[1m4×2 DataFrame\u001b[0m\n",
       "\u001b[1m Row \u001b[0m│\u001b[1m id   \u001b[0m\u001b[1m res      \u001b[0m\n",
       "\u001b[1m     \u001b[0m│\u001b[90m Char \u001b[0m\u001b[90m Float64  \u001b[0m\n",
       "─────┼────────────────\n",
       "   1 │ b     0.531336\n",
       "   2 │ a     0.390951\n",
       "   3 │ d     0.546437\n",
       "   4 │ c     0.462542"
      ]
     },
     "execution_count": 63,
     "metadata": {},
     "output_type": "execute_result"
    }
   ],
   "source": [
    "# we give a custom name for the result column\n",
    "@pipe x |> groupby(_, :id) |> combine(_, :v=>mean=>:res)"
   ]
  },
  {
   "cell_type": "code",
   "execution_count": 64,
   "metadata": {},
   "outputs": [
    {
     "data": {
      "text/html": [
       "<div class=\"data-frame\"><p>4 rows × 4 columns</p><table class=\"data-frame\"><thead><tr><th></th><th>id</th><th>res1</th><th>res2</th><th>n</th></tr><tr><th></th><th title=\"Char\">Char</th><th title=\"Float64\">Float64</th><th title=\"Float64\">Float64</th><th title=\"Int64\">Int64</th></tr></thead><tbody><tr><th>1</th><td>b</td><td>0.531336</td><td>14.8774</td><td>28</td></tr><tr><th>2</th><td>a</td><td>0.390951</td><td>3.90951</td><td>10</td></tr><tr><th>3</th><td>d</td><td>0.546437</td><td>17.486</td><td>32</td></tr><tr><th>4</th><td>c</td><td>0.462542</td><td>13.8763</td><td>30</td></tr></tbody></table></div>"
      ],
      "text/latex": [
       "\\begin{tabular}{r|cccc}\n",
       "\t& id & res1 & res2 & n\\\\\n",
       "\t\\hline\n",
       "\t& Char & Float64 & Float64 & Int64\\\\\n",
       "\t\\hline\n",
       "\t1 & b & 0.531336 & 14.8774 & 28 \\\\\n",
       "\t2 & a & 0.390951 & 3.90951 & 10 \\\\\n",
       "\t3 & d & 0.546437 & 17.486 & 32 \\\\\n",
       "\t4 & c & 0.462542 & 13.8763 & 30 \\\\\n",
       "\\end{tabular}\n"
      ],
      "text/plain": [
       "\u001b[1m4×4 DataFrame\u001b[0m\n",
       "\u001b[1m Row \u001b[0m│\u001b[1m id   \u001b[0m\u001b[1m res1     \u001b[0m\u001b[1m res2     \u001b[0m\u001b[1m n     \u001b[0m\n",
       "\u001b[1m     \u001b[0m│\u001b[90m Char \u001b[0m\u001b[90m Float64  \u001b[0m\u001b[90m Float64  \u001b[0m\u001b[90m Int64 \u001b[0m\n",
       "─────┼─────────────────────────────────\n",
       "   1 │ b     0.531336  14.8774      28\n",
       "   2 │ a     0.390951   3.90951     10\n",
       "   3 │ d     0.546437  17.486       32\n",
       "   4 │ c     0.462542  13.8763      30"
      ]
     },
     "execution_count": 64,
     "metadata": {},
     "output_type": "execute_result"
    }
   ],
   "source": [
    "# you can have multiple operations\n",
    "@pipe x |> groupby(_, :id) |> combine(_, :v=>mean=>:res1, :v=>sum=>:res2, nrow=>:n)"
   ]
  },
  {
   "cell_type": "markdown",
   "metadata": {},
   "source": [
    "Additional notes:\n",
    "* `select!` and `transform!` perform operations in-place\n",
    "* The general syntax for transformation is `source_columns => function => target_column`\n",
    "* if you pass multiple columns to a function they are treated as positional arguments\n",
    "* `ByRow` and `AsTable` work exactly like discussed for operations on data frames in 05_columns.ipynb\n",
    "* you can automatically groupby again the result of `combine`, `select` etc. by passing `ungroup=false` keyword argument to them\n",
    "* similarly `keepkeys` keyword argument allows you to drop grouping columns from the resulting data frame"
   ]
  },
  {
   "cell_type": "markdown",
   "metadata": {},
   "source": [
    "It is also allowed to pass a function to all these functions (also - as a special case, as a first argument). In this case the return value can be a table. In particular it allows for an easy dropping of groups if you return an empty table from the function.\n",
    "\n",
    "If you pass a function you can use a `do` block syntax. In case of passing a function it gets a `SubDataFrame` as its argument.\n",
    "\n",
    "Here is an example:"
   ]
  },
  {
   "cell_type": "code",
   "execution_count": 65,
   "metadata": {},
   "outputs": [
    {
     "data": {
      "text/html": [
       "<div class=\"data-frame\"><p>3 rows × 2 columns</p><table class=\"data-frame\"><thead><tr><th></th><th>id</th><th>n</th></tr><tr><th></th><th title=\"Char\">Char</th><th title=\"Int64\">Int64</th></tr></thead><tbody><tr><th>1</th><td>b</td><td>28</td></tr><tr><th>2</th><td>d</td><td>32</td></tr><tr><th>3</th><td>c</td><td>30</td></tr></tbody></table></div>"
      ],
      "text/latex": [
       "\\begin{tabular}{r|cc}\n",
       "\t& id & n\\\\\n",
       "\t\\hline\n",
       "\t& Char & Int64\\\\\n",
       "\t\\hline\n",
       "\t1 & b & 28 \\\\\n",
       "\t2 & d & 32 \\\\\n",
       "\t3 & c & 30 \\\\\n",
       "\\end{tabular}\n"
      ],
      "text/plain": [
       "\u001b[1m3×2 DataFrame\u001b[0m\n",
       "\u001b[1m Row \u001b[0m│\u001b[1m id   \u001b[0m\u001b[1m n     \u001b[0m\n",
       "\u001b[1m     \u001b[0m│\u001b[90m Char \u001b[0m\u001b[90m Int64 \u001b[0m\n",
       "─────┼─────────────\n",
       "   1 │ b        28\n",
       "   2 │ d        32\n",
       "   3 │ c        30"
      ]
     },
     "execution_count": 65,
     "metadata": {},
     "output_type": "execute_result"
    }
   ],
   "source": [
    "combine(groupby(x, :id)) do sdf\n",
    "    n = nrow(sdf)\n",
    "    n < 25 ? DataFrame() : DataFrame(n=n) # drop groups with low number of rows\n",
    "end"
   ]
  },
  {
   "cell_type": "markdown",
   "metadata": {},
   "source": [
    "You can also produce multiple columns in a single operation, e.g.:"
   ]
  },
  {
   "cell_type": "code",
   "execution_count": 66,
   "metadata": {},
   "outputs": [
    {
     "data": {
      "text/html": [
       "<div class=\"data-frame\"><p>4 rows × 2 columns</p><table class=\"data-frame\"><thead><tr><th></th><th>id</th><th>val</th></tr><tr><th></th><th title=\"Int64\">Int64</th><th title=\"Int64\">Int64</th></tr></thead><tbody><tr><th>1</th><td>1</td><td>1</td></tr><tr><th>2</th><td>1</td><td>2</td></tr><tr><th>3</th><td>2</td><td>3</td></tr><tr><th>4</th><td>2</td><td>4</td></tr></tbody></table></div>"
      ],
      "text/latex": [
       "\\begin{tabular}{r|cc}\n",
       "\t& id & val\\\\\n",
       "\t\\hline\n",
       "\t& Int64 & Int64\\\\\n",
       "\t\\hline\n",
       "\t1 & 1 & 1 \\\\\n",
       "\t2 & 1 & 2 \\\\\n",
       "\t3 & 2 & 3 \\\\\n",
       "\t4 & 2 & 4 \\\\\n",
       "\\end{tabular}\n"
      ],
      "text/plain": [
       "\u001b[1m4×2 DataFrame\u001b[0m\n",
       "\u001b[1m Row \u001b[0m│\u001b[1m id    \u001b[0m\u001b[1m val   \u001b[0m\n",
       "\u001b[1m     \u001b[0m│\u001b[90m Int64 \u001b[0m\u001b[90m Int64 \u001b[0m\n",
       "─────┼──────────────\n",
       "   1 │     1      1\n",
       "   2 │     1      2\n",
       "   3 │     2      3\n",
       "   4 │     2      4"
      ]
     },
     "execution_count": 66,
     "metadata": {},
     "output_type": "execute_result"
    }
   ],
   "source": [
    "df = DataFrame(id=[1,1,2,2], val=[1,2,3,4])"
   ]
  },
  {
   "cell_type": "code",
   "execution_count": 67,
   "metadata": {},
   "outputs": [
    {
     "data": {
      "text/html": [
       "<div class=\"data-frame\"><p>2 rows × 3 columns</p><table class=\"data-frame\"><thead><tr><th></th><th>id</th><th>x1</th><th>x2</th></tr><tr><th></th><th title=\"Int64\">Int64</th><th title=\"Int64\">Int64</th><th title=\"Int64\">Int64</th></tr></thead><tbody><tr><th>1</th><td>1</td><td>1</td><td>2</td></tr><tr><th>2</th><td>2</td><td>3</td><td>4</td></tr></tbody></table></div>"
      ],
      "text/latex": [
       "\\begin{tabular}{r|ccc}\n",
       "\t& id & x1 & x2\\\\\n",
       "\t\\hline\n",
       "\t& Int64 & Int64 & Int64\\\\\n",
       "\t\\hline\n",
       "\t1 & 1 & 1 & 2 \\\\\n",
       "\t2 & 2 & 3 & 4 \\\\\n",
       "\\end{tabular}\n"
      ],
      "text/plain": [
       "\u001b[1m2×3 DataFrame\u001b[0m\n",
       "\u001b[1m Row \u001b[0m│\u001b[1m id    \u001b[0m\u001b[1m x1    \u001b[0m\u001b[1m x2    \u001b[0m\n",
       "\u001b[1m     \u001b[0m│\u001b[90m Int64 \u001b[0m\u001b[90m Int64 \u001b[0m\u001b[90m Int64 \u001b[0m\n",
       "─────┼─────────────────────\n",
       "   1 │     1      1      2\n",
       "   2 │     2      3      4"
      ]
     },
     "execution_count": 67,
     "metadata": {},
     "output_type": "execute_result"
    }
   ],
   "source": [
    "@pipe df |> groupby(_, :id) |> combine(_, :val => (x -> [x]) => AsTable)"
   ]
  },
  {
   "cell_type": "code",
   "execution_count": 68,
   "metadata": {},
   "outputs": [
    {
     "data": {
      "text/html": [
       "<div class=\"data-frame\"><p>2 rows × 3 columns</p><table class=\"data-frame\"><thead><tr><th></th><th>id</th><th>c1</th><th>c2</th></tr><tr><th></th><th title=\"Int64\">Int64</th><th title=\"Int64\">Int64</th><th title=\"Int64\">Int64</th></tr></thead><tbody><tr><th>1</th><td>1</td><td>1</td><td>2</td></tr><tr><th>2</th><td>2</td><td>3</td><td>4</td></tr></tbody></table></div>"
      ],
      "text/latex": [
       "\\begin{tabular}{r|ccc}\n",
       "\t& id & c1 & c2\\\\\n",
       "\t\\hline\n",
       "\t& Int64 & Int64 & Int64\\\\\n",
       "\t\\hline\n",
       "\t1 & 1 & 1 & 2 \\\\\n",
       "\t2 & 2 & 3 & 4 \\\\\n",
       "\\end{tabular}\n"
      ],
      "text/plain": [
       "\u001b[1m2×3 DataFrame\u001b[0m\n",
       "\u001b[1m Row \u001b[0m│\u001b[1m id    \u001b[0m\u001b[1m c1    \u001b[0m\u001b[1m c2    \u001b[0m\n",
       "\u001b[1m     \u001b[0m│\u001b[90m Int64 \u001b[0m\u001b[90m Int64 \u001b[0m\u001b[90m Int64 \u001b[0m\n",
       "─────┼─────────────────────\n",
       "   1 │     1      1      2\n",
       "   2 │     2      3      4"
      ]
     },
     "execution_count": 68,
     "metadata": {},
     "output_type": "execute_result"
    }
   ],
   "source": [
    "@pipe df |> groupby(_, :id) |> combine(_, :val => (x -> [x]) => [:c1, :c2])"
   ]
  },
  {
   "cell_type": "markdown",
   "metadata": {},
   "source": [
    "### Aggregation of a data frame using `mapcols`"
   ]
  },
  {
   "cell_type": "code",
   "execution_count": 74,
   "metadata": {},
   "outputs": [
    {
     "data": {
      "text/html": [
       "<div class=\"data-frame\"><p>10 rows × 10 columns (omitted printing of 2 columns)</p><table class=\"data-frame\"><thead><tr><th></th><th>x1</th><th>x2</th><th>x3</th><th>x4</th><th>x5</th><th>x6</th><th>x7</th><th>x8</th></tr><tr><th></th><th title=\"Float64\">Float64</th><th title=\"Float64\">Float64</th><th title=\"Float64\">Float64</th><th title=\"Float64\">Float64</th><th title=\"Float64\">Float64</th><th title=\"Float64\">Float64</th><th title=\"Float64\">Float64</th><th title=\"Float64\">Float64</th></tr></thead><tbody><tr><th>1</th><td>0.182812</td><td>0.612727</td><td>0.753226</td><td>0.680121</td><td>0.482326</td><td>0.598521</td><td>0.456732</td><td>0.723451</td></tr><tr><th>2</th><td>0.283253</td><td>0.0679383</td><td>0.654286</td><td>0.688255</td><td>0.84735</td><td>0.182331</td><td>0.563584</td><td>0.884393</td></tr><tr><th>3</th><td>0.908733</td><td>0.480239</td><td>0.591067</td><td>0.518461</td><td>0.306559</td><td>0.885562</td><td>0.764665</td><td>0.637497</td></tr><tr><th>4</th><td>0.22613</td><td>0.568681</td><td>0.197451</td><td>0.398094</td><td>0.957018</td><td>0.0704187</td><td>0.640163</td><td>0.346357</td></tr><tr><th>5</th><td>0.168576</td><td>0.500923</td><td>0.212915</td><td>0.744626</td><td>0.28706</td><td>0.221732</td><td>0.732459</td><td>0.952325</td></tr><tr><th>6</th><td>0.729484</td><td>0.940589</td><td>0.734262</td><td>0.997328</td><td>0.896466</td><td>0.0379262</td><td>0.549559</td><td>0.432979</td></tr><tr><th>7</th><td>0.710631</td><td>0.589167</td><td>0.645778</td><td>0.243991</td><td>0.84781</td><td>0.227995</td><td>0.541966</td><td>0.835238</td></tr><tr><th>8</th><td>0.181397</td><td>0.339051</td><td>0.0182818</td><td>0.815847</td><td>0.00507345</td><td>0.95117</td><td>0.909666</td><td>0.465249</td></tr><tr><th>9</th><td>0.494481</td><td>0.565876</td><td>0.52434</td><td>0.629434</td><td>0.179599</td><td>0.814441</td><td>0.275937</td><td>0.608417</td></tr><tr><th>10</th><td>0.623516</td><td>0.34997</td><td>0.742189</td><td>0.128856</td><td>0.124592</td><td>0.864321</td><td>0.759717</td><td>0.988641</td></tr></tbody></table></div>"
      ],
      "text/latex": [
       "\\begin{tabular}{r|ccccccccc}\n",
       "\t& x1 & x2 & x3 & x4 & x5 & x6 & x7 & x8 & \\\\\n",
       "\t\\hline\n",
       "\t& Float64 & Float64 & Float64 & Float64 & Float64 & Float64 & Float64 & Float64 & \\\\\n",
       "\t\\hline\n",
       "\t1 & 0.182812 & 0.612727 & 0.753226 & 0.680121 & 0.482326 & 0.598521 & 0.456732 & 0.723451 & $\\dots$ \\\\\n",
       "\t2 & 0.283253 & 0.0679383 & 0.654286 & 0.688255 & 0.84735 & 0.182331 & 0.563584 & 0.884393 & $\\dots$ \\\\\n",
       "\t3 & 0.908733 & 0.480239 & 0.591067 & 0.518461 & 0.306559 & 0.885562 & 0.764665 & 0.637497 & $\\dots$ \\\\\n",
       "\t4 & 0.22613 & 0.568681 & 0.197451 & 0.398094 & 0.957018 & 0.0704187 & 0.640163 & 0.346357 & $\\dots$ \\\\\n",
       "\t5 & 0.168576 & 0.500923 & 0.212915 & 0.744626 & 0.28706 & 0.221732 & 0.732459 & 0.952325 & $\\dots$ \\\\\n",
       "\t6 & 0.729484 & 0.940589 & 0.734262 & 0.997328 & 0.896466 & 0.0379262 & 0.549559 & 0.432979 & $\\dots$ \\\\\n",
       "\t7 & 0.710631 & 0.589167 & 0.645778 & 0.243991 & 0.84781 & 0.227995 & 0.541966 & 0.835238 & $\\dots$ \\\\\n",
       "\t8 & 0.181397 & 0.339051 & 0.0182818 & 0.815847 & 0.00507345 & 0.95117 & 0.909666 & 0.465249 & $\\dots$ \\\\\n",
       "\t9 & 0.494481 & 0.565876 & 0.52434 & 0.629434 & 0.179599 & 0.814441 & 0.275937 & 0.608417 & $\\dots$ \\\\\n",
       "\t10 & 0.623516 & 0.34997 & 0.742189 & 0.128856 & 0.124592 & 0.864321 & 0.759717 & 0.988641 & $\\dots$ \\\\\n",
       "\\end{tabular}\n"
      ],
      "text/plain": [
       "\u001b[1m10×10 DataFrame\u001b[0m\n",
       "\u001b[1m Row \u001b[0m│\u001b[1m x1       \u001b[0m\u001b[1m x2        \u001b[0m\u001b[1m x3        \u001b[0m\u001b[1m x4       \u001b[0m\u001b[1m x5         \u001b[0m\u001b[1m x6        \u001b[0m\u001b[1m x7    \u001b[0m ⋯\n",
       "\u001b[1m     \u001b[0m│\u001b[90m Float64  \u001b[0m\u001b[90m Float64   \u001b[0m\u001b[90m Float64   \u001b[0m\u001b[90m Float64  \u001b[0m\u001b[90m Float64    \u001b[0m\u001b[90m Float64   \u001b[0m\u001b[90m Float6\u001b[0m ⋯\n",
       "─────┼──────────────────────────────────────────────────────────────────────────\n",
       "   1 │ 0.182812  0.612727   0.753226   0.680121  0.482326    0.598521   0.4567 ⋯\n",
       "   2 │ 0.283253  0.0679383  0.654286   0.688255  0.84735     0.182331   0.5635\n",
       "   3 │ 0.908733  0.480239   0.591067   0.518461  0.306559    0.885562   0.7646\n",
       "  ⋮  │    ⋮          ⋮          ⋮         ⋮          ⋮           ⋮         ⋮   ⋱\n",
       "   8 │ 0.181397  0.339051   0.0182818  0.815847  0.00507345  0.95117    0.9096\n",
       "   9 │ 0.494481  0.565876   0.52434    0.629434  0.179599    0.814441   0.2759 ⋯\n",
       "  10 │ 0.623516  0.34997    0.742189   0.128856  0.124592    0.864321   0.7597\n",
       "\u001b[36m                                                    4 columns and 4 rows omitted\u001b[0m"
      ]
     },
     "execution_count": 74,
     "metadata": {},
     "output_type": "execute_result"
    }
   ],
   "source": [
    "x = DataFrame(rand(10, 10), :auto)"
   ]
  },
  {
   "cell_type": "markdown",
   "metadata": {},
   "source": [
    "Return a DataFrame where each column of df is transformed using function f. f must return AbstractVector objects all with the same length or scalars (all values other than AbstractVector are considered to be a scalar).\n",
    "\n",
    "Note that mapcols guarantees not to reuse the columns from df in the returned DataFrame. If f returns its argument then it gets copied before being stored."
   ]
  },
  {
   "cell_type": "code",
   "execution_count": 75,
   "metadata": {},
   "outputs": [
    {
     "data": {
      "text/html": [
       "<div class=\"data-frame\"><p>1 rows × 10 columns (omitted printing of 1 columns)</p><table class=\"data-frame\"><thead><tr><th></th><th>x1</th><th>x2</th><th>x3</th><th>x4</th><th>x5</th><th>x6</th><th>x7</th><th>x8</th><th>x9</th></tr><tr><th></th><th title=\"Float64\">Float64</th><th title=\"Float64\">Float64</th><th title=\"Float64\">Float64</th><th title=\"Float64\">Float64</th><th title=\"Float64\">Float64</th><th title=\"Float64\">Float64</th><th title=\"Float64\">Float64</th><th title=\"Float64\">Float64</th><th title=\"Float64\">Float64</th></tr></thead><tbody><tr><th>1</th><td>0.450901</td><td>0.501516</td><td>0.50738</td><td>0.584501</td><td>0.493385</td><td>0.485442</td><td>0.619445</td><td>0.687455</td><td>0.388143</td></tr></tbody></table></div>"
      ],
      "text/latex": [
       "\\begin{tabular}{r|cccccccccc}\n",
       "\t& x1 & x2 & x3 & x4 & x5 & x6 & x7 & x8 & x9 & \\\\\n",
       "\t\\hline\n",
       "\t& Float64 & Float64 & Float64 & Float64 & Float64 & Float64 & Float64 & Float64 & Float64 & \\\\\n",
       "\t\\hline\n",
       "\t1 & 0.450901 & 0.501516 & 0.50738 & 0.584501 & 0.493385 & 0.485442 & 0.619445 & 0.687455 & 0.388143 & $\\dots$ \\\\\n",
       "\\end{tabular}\n"
      ],
      "text/plain": [
       "\u001b[1m1×10 DataFrame\u001b[0m\n",
       "\u001b[1m Row \u001b[0m│\u001b[1m x1       \u001b[0m\u001b[1m x2       \u001b[0m\u001b[1m x3      \u001b[0m\u001b[1m x4       \u001b[0m\u001b[1m x5       \u001b[0m\u001b[1m x6       \u001b[0m\u001b[1m x7       \u001b[0m\u001b[1m x8\u001b[0m ⋯\n",
       "\u001b[1m     \u001b[0m│\u001b[90m Float64  \u001b[0m\u001b[90m Float64  \u001b[0m\u001b[90m Float64 \u001b[0m\u001b[90m Float64  \u001b[0m\u001b[90m Float64  \u001b[0m\u001b[90m Float64  \u001b[0m\u001b[90m Float64  \u001b[0m\u001b[90m Fl\u001b[0m ⋯\n",
       "─────┼──────────────────────────────────────────────────────────────────────────\n",
       "   1 │ 0.450901  0.501516  0.50738  0.584501  0.493385  0.485442  0.619445  0. ⋯\n",
       "\u001b[36m                                                               3 columns omitted\u001b[0m"
      ]
     },
     "execution_count": 75,
     "metadata": {},
     "output_type": "execute_result"
    }
   ],
   "source": [
    "mapcols(mean, x)"
   ]
  },
  {
   "cell_type": "markdown",
   "metadata": {},
   "source": [
    "### Mapping rows and columns using `eachcol` and `eachrow`\n",
    "- `eachcol`: Return a DataFrameColumns object that is a vector-like that allows iterating an AbstractDataFrame column by column.\n",
    "- `eachrow`: Return a DataFrameRows that iterates a data frame row by row, with each row represented as a DataFrameRow."
   ]
  },
  {
   "cell_type": "code",
   "execution_count": 76,
   "metadata": {},
   "outputs": [
    {
     "data": {
      "text/plain": [
       "10-element Vector{Float64}:\n",
       " 0.4509012945450682\n",
       " 0.5015160723388339\n",
       " 0.5073797698183354\n",
       " 0.5845012201765751\n",
       " 0.4933852410817835\n",
       " 0.4854418159279823\n",
       " 0.6194448560863139\n",
       " 0.687454676782226\n",
       " 0.38814273770955515\n",
       " 0.44211277899501245"
      ]
     },
     "execution_count": 76,
     "metadata": {},
     "output_type": "execute_result"
    }
   ],
   "source": [
    "map(mean, eachcol(x)) # map a function over each column and return a vector"
   ]
  },
  {
   "cell_type": "code",
   "execution_count": 77,
   "metadata": {},
   "outputs": [
    {
     "name": "stdout",
     "output_type": "stream",
     "text": [
      "x1: 0.4509012945450682\n",
      "x2: 0.5015160723388339\n",
      "x3: 0.5073797698183354\n",
      "x4: 0.5845012201765751\n",
      "x5: 0.4933852410817835\n",
      "x6: 0.4854418159279823\n",
      "x7: 0.6194448560863139\n",
      "x8: 0.687454676782226\n",
      "x9: 0.38814273770955515\n",
      "x10: 0.44211277899501245\n"
     ]
    }
   ],
   "source": [
    "# an iteration returns a Pair with column name and values\n",
    "foreach(c -> println(c[1], \": \", mean(c[2])), pairs(eachcol(x)))"
   ]
  },
  {
   "cell_type": "code",
   "execution_count": 80,
   "metadata": {},
   "outputs": [
    {
     "data": {
      "text/plain": [
       "10-element Vector{Float64}:\n",
       " 0.2983582560850262\n",
       " 4.169266348339091\n",
       " 1.8922518112508993\n",
       " 0.3976394896336222\n",
       " 0.33653159895425633\n",
       " 0.7755607112245911\n",
       " 1.2061622545161395\n",
       " 0.5350133238662731\n",
       " 0.8738331412073833\n",
       " 1.781627172904762"
      ]
     },
     "execution_count": 80,
     "metadata": {},
     "output_type": "execute_result"
    }
   ],
   "source": [
    "# now the returned value is DataFrameRow which works as a NamedTuple but is a view to a parent DataFrame\n",
    "map(r -> r.x1/r.x2, eachrow(x)) # map applies a function to each value of an array and returns a new array containing the resulting values:"
   ]
  },
  {
   "cell_type": "code",
   "execution_count": 81,
   "metadata": {},
   "outputs": [
    {
     "data": {
      "text/html": [
       "<p>10×10 DataFrameRows</p><div class=\"data-frame\"><table class=\"data-frame\"><thead><tr><th></th><th>x1</th><th>x2</th><th>x3</th><th>x4</th><th>x5</th><th>x6</th><th>x7</th><th>x8</th></tr><tr><th></th><th title=\"Float64\">Float64</th><th title=\"Float64\">Float64</th><th title=\"Float64\">Float64</th><th title=\"Float64\">Float64</th><th title=\"Float64\">Float64</th><th title=\"Float64\">Float64</th><th title=\"Float64\">Float64</th><th title=\"Float64\">Float64</th></tr></thead><tbody><tr><th>1</th><td>0.182812</td><td>0.612727</td><td>0.753226</td><td>0.680121</td><td>0.482326</td><td>0.598521</td><td>0.456732</td><td>0.723451</td></tr><tr><th>2</th><td>0.283253</td><td>0.0679383</td><td>0.654286</td><td>0.688255</td><td>0.84735</td><td>0.182331</td><td>0.563584</td><td>0.884393</td></tr><tr><th>3</th><td>0.908733</td><td>0.480239</td><td>0.591067</td><td>0.518461</td><td>0.306559</td><td>0.885562</td><td>0.764665</td><td>0.637497</td></tr><tr><th>4</th><td>0.22613</td><td>0.568681</td><td>0.197451</td><td>0.398094</td><td>0.957018</td><td>0.0704187</td><td>0.640163</td><td>0.346357</td></tr><tr><th>5</th><td>0.168576</td><td>0.500923</td><td>0.212915</td><td>0.744626</td><td>0.28706</td><td>0.221732</td><td>0.732459</td><td>0.952325</td></tr><tr><th>6</th><td>0.729484</td><td>0.940589</td><td>0.734262</td><td>0.997328</td><td>0.896466</td><td>0.0379262</td><td>0.549559</td><td>0.432979</td></tr><tr><th>7</th><td>0.710631</td><td>0.589167</td><td>0.645778</td><td>0.243991</td><td>0.84781</td><td>0.227995</td><td>0.541966</td><td>0.835238</td></tr><tr><th>8</th><td>0.181397</td><td>0.339051</td><td>0.0182818</td><td>0.815847</td><td>0.00507345</td><td>0.95117</td><td>0.909666</td><td>0.465249</td></tr><tr><th>9</th><td>0.494481</td><td>0.565876</td><td>0.52434</td><td>0.629434</td><td>0.179599</td><td>0.814441</td><td>0.275937</td><td>0.608417</td></tr><tr><th>10</th><td>0.623516</td><td>0.34997</td><td>0.742189</td><td>0.128856</td><td>0.124592</td><td>0.864321</td><td>0.759717</td><td>0.988641</td></tr></tbody></table></div>"
      ],
      "text/latex": [
       "\\begin{tabular}{r|ccccccccc}\n",
       "\t& x1 & x2 & x3 & x4 & x5 & x6 & x7 & x8 & \\\\\n",
       "\t\\hline\n",
       "\t& Float64 & Float64 & Float64 & Float64 & Float64 & Float64 & Float64 & Float64 & \\\\\n",
       "\t\\hline\n",
       "\t1 & 0.182812 & 0.612727 & 0.753226 & 0.680121 & 0.482326 & 0.598521 & 0.456732 & 0.723451 & $\\dots$ \\\\\n",
       "\t2 & 0.283253 & 0.0679383 & 0.654286 & 0.688255 & 0.84735 & 0.182331 & 0.563584 & 0.884393 & $\\dots$ \\\\\n",
       "\t3 & 0.908733 & 0.480239 & 0.591067 & 0.518461 & 0.306559 & 0.885562 & 0.764665 & 0.637497 & $\\dots$ \\\\\n",
       "\t4 & 0.22613 & 0.568681 & 0.197451 & 0.398094 & 0.957018 & 0.0704187 & 0.640163 & 0.346357 & $\\dots$ \\\\\n",
       "\t5 & 0.168576 & 0.500923 & 0.212915 & 0.744626 & 0.28706 & 0.221732 & 0.732459 & 0.952325 & $\\dots$ \\\\\n",
       "\t6 & 0.729484 & 0.940589 & 0.734262 & 0.997328 & 0.896466 & 0.0379262 & 0.549559 & 0.432979 & $\\dots$ \\\\\n",
       "\t7 & 0.710631 & 0.589167 & 0.645778 & 0.243991 & 0.84781 & 0.227995 & 0.541966 & 0.835238 & $\\dots$ \\\\\n",
       "\t8 & 0.181397 & 0.339051 & 0.0182818 & 0.815847 & 0.00507345 & 0.95117 & 0.909666 & 0.465249 & $\\dots$ \\\\\n",
       "\t9 & 0.494481 & 0.565876 & 0.52434 & 0.629434 & 0.179599 & 0.814441 & 0.275937 & 0.608417 & $\\dots$ \\\\\n",
       "\t10 & 0.623516 & 0.34997 & 0.742189 & 0.128856 & 0.124592 & 0.864321 & 0.759717 & 0.988641 & $\\dots$ \\\\\n",
       "\\end{tabular}\n"
      ],
      "text/plain": [
       "\u001b[1m10×10 DataFrameRows\u001b[0m\n",
       "\u001b[1m Row \u001b[0m│\u001b[1m x1       \u001b[0m\u001b[1m x2        \u001b[0m\u001b[1m x3        \u001b[0m\u001b[1m x4       \u001b[0m\u001b[1m x5         \u001b[0m\u001b[1m x6        \u001b[0m\u001b[1m x7    \u001b[0m ⋯\n",
       "\u001b[1m     \u001b[0m│\u001b[90m Float64  \u001b[0m\u001b[90m Float64   \u001b[0m\u001b[90m Float64   \u001b[0m\u001b[90m Float64  \u001b[0m\u001b[90m Float64    \u001b[0m\u001b[90m Float64   \u001b[0m\u001b[90m Float6\u001b[0m ⋯\n",
       "─────┼──────────────────────────────────────────────────────────────────────────\n",
       "   1 │ 0.182812  0.612727   0.753226   0.680121  0.482326    0.598521   0.4567 ⋯\n",
       "   2 │ 0.283253  0.0679383  0.654286   0.688255  0.84735     0.182331   0.5635\n",
       "   3 │ 0.908733  0.480239   0.591067   0.518461  0.306559    0.885562   0.7646\n",
       "  ⋮  │    ⋮          ⋮          ⋮         ⋮          ⋮           ⋮         ⋮   ⋱\n",
       "   8 │ 0.181397  0.339051   0.0182818  0.815847  0.00507345  0.95117    0.9096\n",
       "   9 │ 0.494481  0.565876   0.52434    0.629434  0.179599    0.814441   0.2759 ⋯\n",
       "  10 │ 0.623516  0.34997    0.742189   0.128856  0.124592    0.864321   0.7597\n",
       "\u001b[36m                                                    4 columns and 4 rows omitted\u001b[0m"
      ]
     },
     "execution_count": 81,
     "metadata": {},
     "output_type": "execute_result"
    }
   ],
   "source": [
    "# it prints like a data frame, only the caption is different so that you know the type of the object\n",
    "er = eachrow(x)"
   ]
  },
  {
   "cell_type": "code",
   "execution_count": 82,
   "metadata": {},
   "outputs": [
    {
     "data": {
      "text/plain": [
       "10-element Vector{Float64}:\n",
       " 0.1828122356601809\n",
       " 0.2832529533057573\n",
       " 0.9087325273131777\n",
       " 0.22612984152942328\n",
       " 0.16857639077024\n",
       " 0.7294842350352777\n",
       " 0.7106311654577566\n",
       " 0.18139666389868614\n",
       " 0.4944809197469764\n",
       " 0.623516012733206"
      ]
     },
     "execution_count": 82,
     "metadata": {},
     "output_type": "execute_result"
    }
   ],
   "source": [
    "er.x1 # you can access columns of a parent data frame directly"
   ]
  },
  {
   "cell_type": "code",
   "execution_count": 83,
   "metadata": {},
   "outputs": [
    {
     "data": {
      "text/html": [
       "<p>10×10 DataFrameColumns</p><div class=\"data-frame\"><table class=\"data-frame\"><thead><tr><th></th><th>x1</th><th>x2</th><th>x3</th><th>x4</th><th>x5</th><th>x6</th><th>x7</th><th>x8</th></tr><tr><th></th><th title=\"Float64\">Float64</th><th title=\"Float64\">Float64</th><th title=\"Float64\">Float64</th><th title=\"Float64\">Float64</th><th title=\"Float64\">Float64</th><th title=\"Float64\">Float64</th><th title=\"Float64\">Float64</th><th title=\"Float64\">Float64</th></tr></thead><tbody><tr><th>1</th><td>0.182812</td><td>0.612727</td><td>0.753226</td><td>0.680121</td><td>0.482326</td><td>0.598521</td><td>0.456732</td><td>0.723451</td></tr><tr><th>2</th><td>0.283253</td><td>0.0679383</td><td>0.654286</td><td>0.688255</td><td>0.84735</td><td>0.182331</td><td>0.563584</td><td>0.884393</td></tr><tr><th>3</th><td>0.908733</td><td>0.480239</td><td>0.591067</td><td>0.518461</td><td>0.306559</td><td>0.885562</td><td>0.764665</td><td>0.637497</td></tr><tr><th>4</th><td>0.22613</td><td>0.568681</td><td>0.197451</td><td>0.398094</td><td>0.957018</td><td>0.0704187</td><td>0.640163</td><td>0.346357</td></tr><tr><th>5</th><td>0.168576</td><td>0.500923</td><td>0.212915</td><td>0.744626</td><td>0.28706</td><td>0.221732</td><td>0.732459</td><td>0.952325</td></tr><tr><th>6</th><td>0.729484</td><td>0.940589</td><td>0.734262</td><td>0.997328</td><td>0.896466</td><td>0.0379262</td><td>0.549559</td><td>0.432979</td></tr><tr><th>7</th><td>0.710631</td><td>0.589167</td><td>0.645778</td><td>0.243991</td><td>0.84781</td><td>0.227995</td><td>0.541966</td><td>0.835238</td></tr><tr><th>8</th><td>0.181397</td><td>0.339051</td><td>0.0182818</td><td>0.815847</td><td>0.00507345</td><td>0.95117</td><td>0.909666</td><td>0.465249</td></tr><tr><th>9</th><td>0.494481</td><td>0.565876</td><td>0.52434</td><td>0.629434</td><td>0.179599</td><td>0.814441</td><td>0.275937</td><td>0.608417</td></tr><tr><th>10</th><td>0.623516</td><td>0.34997</td><td>0.742189</td><td>0.128856</td><td>0.124592</td><td>0.864321</td><td>0.759717</td><td>0.988641</td></tr></tbody></table></div>"
      ],
      "text/latex": [
       "\\begin{tabular}{r|ccccccccc}\n",
       "\t& x1 & x2 & x3 & x4 & x5 & x6 & x7 & x8 & \\\\\n",
       "\t\\hline\n",
       "\t& Float64 & Float64 & Float64 & Float64 & Float64 & Float64 & Float64 & Float64 & \\\\\n",
       "\t\\hline\n",
       "\t1 & 0.182812 & 0.612727 & 0.753226 & 0.680121 & 0.482326 & 0.598521 & 0.456732 & 0.723451 & $\\dots$ \\\\\n",
       "\t2 & 0.283253 & 0.0679383 & 0.654286 & 0.688255 & 0.84735 & 0.182331 & 0.563584 & 0.884393 & $\\dots$ \\\\\n",
       "\t3 & 0.908733 & 0.480239 & 0.591067 & 0.518461 & 0.306559 & 0.885562 & 0.764665 & 0.637497 & $\\dots$ \\\\\n",
       "\t4 & 0.22613 & 0.568681 & 0.197451 & 0.398094 & 0.957018 & 0.0704187 & 0.640163 & 0.346357 & $\\dots$ \\\\\n",
       "\t5 & 0.168576 & 0.500923 & 0.212915 & 0.744626 & 0.28706 & 0.221732 & 0.732459 & 0.952325 & $\\dots$ \\\\\n",
       "\t6 & 0.729484 & 0.940589 & 0.734262 & 0.997328 & 0.896466 & 0.0379262 & 0.549559 & 0.432979 & $\\dots$ \\\\\n",
       "\t7 & 0.710631 & 0.589167 & 0.645778 & 0.243991 & 0.84781 & 0.227995 & 0.541966 & 0.835238 & $\\dots$ \\\\\n",
       "\t8 & 0.181397 & 0.339051 & 0.0182818 & 0.815847 & 0.00507345 & 0.95117 & 0.909666 & 0.465249 & $\\dots$ \\\\\n",
       "\t9 & 0.494481 & 0.565876 & 0.52434 & 0.629434 & 0.179599 & 0.814441 & 0.275937 & 0.608417 & $\\dots$ \\\\\n",
       "\t10 & 0.623516 & 0.34997 & 0.742189 & 0.128856 & 0.124592 & 0.864321 & 0.759717 & 0.988641 & $\\dots$ \\\\\n",
       "\\end{tabular}\n"
      ],
      "text/plain": [
       "\u001b[1m10×10 DataFrameColumns\u001b[0m\n",
       "\u001b[1m Row \u001b[0m│\u001b[1m x1       \u001b[0m\u001b[1m x2        \u001b[0m\u001b[1m x3        \u001b[0m\u001b[1m x4       \u001b[0m\u001b[1m x5         \u001b[0m\u001b[1m x6        \u001b[0m\u001b[1m x7    \u001b[0m ⋯\n",
       "\u001b[1m     \u001b[0m│\u001b[90m Float64  \u001b[0m\u001b[90m Float64   \u001b[0m\u001b[90m Float64   \u001b[0m\u001b[90m Float64  \u001b[0m\u001b[90m Float64    \u001b[0m\u001b[90m Float64   \u001b[0m\u001b[90m Float6\u001b[0m ⋯\n",
       "─────┼──────────────────────────────────────────────────────────────────────────\n",
       "   1 │ 0.182812  0.612727   0.753226   0.680121  0.482326    0.598521   0.4567 ⋯\n",
       "   2 │ 0.283253  0.0679383  0.654286   0.688255  0.84735     0.182331   0.5635\n",
       "   3 │ 0.908733  0.480239   0.591067   0.518461  0.306559    0.885562   0.7646\n",
       "  ⋮  │    ⋮          ⋮          ⋮         ⋮          ⋮           ⋮         ⋮   ⋱\n",
       "   8 │ 0.181397  0.339051   0.0182818  0.815847  0.00507345  0.95117    0.9096\n",
       "   9 │ 0.494481  0.565876   0.52434    0.629434  0.179599    0.814441   0.2759 ⋯\n",
       "  10 │ 0.623516  0.34997    0.742189   0.128856  0.124592    0.864321   0.7597\n",
       "\u001b[36m                                                    4 columns and 4 rows omitted\u001b[0m"
      ]
     },
     "execution_count": 83,
     "metadata": {},
     "output_type": "execute_result"
    }
   ],
   "source": [
    "# it prints like a data frame, only the caption is different so that you know the type of the object\n",
    "ec = eachcol(x)"
   ]
  },
  {
   "cell_type": "code",
   "execution_count": 84,
   "metadata": {},
   "outputs": [
    {
     "data": {
      "text/plain": [
       "10-element Vector{Float64}:\n",
       " 0.1828122356601809\n",
       " 0.2832529533057573\n",
       " 0.9087325273131777\n",
       " 0.22612984152942328\n",
       " 0.16857639077024\n",
       " 0.7294842350352777\n",
       " 0.7106311654577566\n",
       " 0.18139666389868614\n",
       " 0.4944809197469764\n",
       " 0.623516012733206"
      ]
     },
     "execution_count": 84,
     "metadata": {},
     "output_type": "execute_result"
    }
   ],
   "source": [
    "ec.x1 # you can access columns of a parent data frame directly"
   ]
  },
  {
   "cell_type": "markdown",
   "metadata": {},
   "source": [
    "### Transposing"
   ]
  },
  {
   "cell_type": "markdown",
   "metadata": {},
   "source": [
    "you can transpose a data frame using `permutedims`:"
   ]
  },
  {
   "cell_type": "code",
   "execution_count": 85,
   "metadata": {},
   "outputs": [
    {
     "data": {
      "text/html": [
       "<div class=\"data-frame\"><p>3 rows × 4 columns</p><table class=\"data-frame\"><thead><tr><th></th><th>x1</th><th>x2</th><th>x3</th><th>x4</th></tr><tr><th></th><th title=\"Int64\">Int64</th><th title=\"Int64\">Int64</th><th title=\"Int64\">Int64</th><th title=\"Int64\">Int64</th></tr></thead><tbody><tr><th>1</th><td>1</td><td>4</td><td>7</td><td>10</td></tr><tr><th>2</th><td>2</td><td>5</td><td>8</td><td>11</td></tr><tr><th>3</th><td>3</td><td>6</td><td>9</td><td>12</td></tr></tbody></table></div>"
      ],
      "text/latex": [
       "\\begin{tabular}{r|cccc}\n",
       "\t& x1 & x2 & x3 & x4\\\\\n",
       "\t\\hline\n",
       "\t& Int64 & Int64 & Int64 & Int64\\\\\n",
       "\t\\hline\n",
       "\t1 & 1 & 4 & 7 & 10 \\\\\n",
       "\t2 & 2 & 5 & 8 & 11 \\\\\n",
       "\t3 & 3 & 6 & 9 & 12 \\\\\n",
       "\\end{tabular}\n"
      ],
      "text/plain": [
       "\u001b[1m3×4 DataFrame\u001b[0m\n",
       "\u001b[1m Row \u001b[0m│\u001b[1m x1    \u001b[0m\u001b[1m x2    \u001b[0m\u001b[1m x3    \u001b[0m\u001b[1m x4    \u001b[0m\n",
       "\u001b[1m     \u001b[0m│\u001b[90m Int64 \u001b[0m\u001b[90m Int64 \u001b[0m\u001b[90m Int64 \u001b[0m\u001b[90m Int64 \u001b[0m\n",
       "─────┼────────────────────────────\n",
       "   1 │     1      4      7     10\n",
       "   2 │     2      5      8     11\n",
       "   3 │     3      6      9     12"
      ]
     },
     "execution_count": 85,
     "metadata": {},
     "output_type": "execute_result"
    }
   ],
   "source": [
    "df = DataFrame(reshape(1:12, 3, 4), :auto)"
   ]
  },
  {
   "cell_type": "code",
   "execution_count": 86,
   "metadata": {},
   "outputs": [
    {
     "data": {
      "text/plain": [
       "3-element Vector{String}:\n",
       " \"a\"\n",
       " \"b\"\n",
       " \"c\""
      ]
     },
     "execution_count": 86,
     "metadata": {},
     "output_type": "execute_result"
    }
   ],
   "source": [
    "df.names = [\"a\", \"b\", \"c\"]"
   ]
  },
  {
   "cell_type": "code",
   "execution_count": 87,
   "metadata": {},
   "outputs": [
    {
     "data": {
      "text/html": [
       "<div class=\"data-frame\"><p>4 rows × 4 columns</p><table class=\"data-frame\"><thead><tr><th></th><th>names</th><th>a</th><th>b</th><th>c</th></tr><tr><th></th><th title=\"String\">String</th><th title=\"Int64\">Int64</th><th title=\"Int64\">Int64</th><th title=\"Int64\">Int64</th></tr></thead><tbody><tr><th>1</th><td>x1</td><td>1</td><td>2</td><td>3</td></tr><tr><th>2</th><td>x2</td><td>4</td><td>5</td><td>6</td></tr><tr><th>3</th><td>x3</td><td>7</td><td>8</td><td>9</td></tr><tr><th>4</th><td>x4</td><td>10</td><td>11</td><td>12</td></tr></tbody></table></div>"
      ],
      "text/latex": [
       "\\begin{tabular}{r|cccc}\n",
       "\t& names & a & b & c\\\\\n",
       "\t\\hline\n",
       "\t& String & Int64 & Int64 & Int64\\\\\n",
       "\t\\hline\n",
       "\t1 & x1 & 1 & 2 & 3 \\\\\n",
       "\t2 & x2 & 4 & 5 & 6 \\\\\n",
       "\t3 & x3 & 7 & 8 & 9 \\\\\n",
       "\t4 & x4 & 10 & 11 & 12 \\\\\n",
       "\\end{tabular}\n"
      ],
      "text/plain": [
       "\u001b[1m4×4 DataFrame\u001b[0m\n",
       "\u001b[1m Row \u001b[0m│\u001b[1m names  \u001b[0m\u001b[1m a     \u001b[0m\u001b[1m b     \u001b[0m\u001b[1m c     \u001b[0m\n",
       "\u001b[1m     \u001b[0m│\u001b[90m String \u001b[0m\u001b[90m Int64 \u001b[0m\u001b[90m Int64 \u001b[0m\u001b[90m Int64 \u001b[0m\n",
       "─────┼─────────────────────────────\n",
       "   1 │ x1          1      2      3\n",
       "   2 │ x2          4      5      6\n",
       "   3 │ x3          7      8      9\n",
       "   4 │ x4         10     11     12"
      ]
     },
     "execution_count": 87,
     "metadata": {},
     "output_type": "execute_result"
    }
   ],
   "source": [
    "permutedims(df, :names)"
   ]
  },
  {
   "cell_type": "code",
   "execution_count": null,
   "metadata": {},
   "outputs": [],
   "source": []
  }
 ],
 "metadata": {
  "@webio": {
   "lastCommId": null,
   "lastKernelId": null
  },
  "kernelspec": {
   "display_name": "Julia 1.6.1",
   "language": "julia",
   "name": "julia-1.6"
  },
  "language_info": {
   "file_extension": ".jl",
   "mimetype": "application/julia",
   "name": "julia",
   "version": "1.6.1"
  }
 },
 "nbformat": 4,
 "nbformat_minor": 1
}
