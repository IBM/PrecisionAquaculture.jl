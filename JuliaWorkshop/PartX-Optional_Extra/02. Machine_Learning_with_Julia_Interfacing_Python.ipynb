{
 "cells": [
  {
   "cell_type": "markdown",
   "metadata": {},
   "source": [
    "## Machine Learning with Julia Interfacing Python"
   ]
  },
  {
   "cell_type": "code",
   "execution_count": 1,
   "metadata": {},
   "outputs": [
    {
     "name": "stderr",
     "output_type": "stream",
     "text": [
      "┌ Info: Precompiling RCall [6f49c342-dc21-5d91-9882-a32aef131414]\n",
      "└ @ Base loading.jl:1317\n"
     ]
    }
   ],
   "source": [
    "using Pkg\n",
    "Pkg.activate(\"../..\")\n",
    "Pkg.instantiate()\n",
    "using PyCall\n",
    "using RCall\n",
    "#using DecisionTree\n",
    "using DataFrames\n",
    "ENV[\"COLUMNS\"]=1000; # for dataframe column size"
   ]
  },
  {
   "cell_type": "markdown",
   "metadata": {},
   "source": [
    "### R\"\" vs py\"\" String Macro"
   ]
  },
  {
   "cell_type": "markdown",
   "metadata": {},
   "source": [
    "- R\"\" executes R commands inside the string and returns an R object \n",
    "- py\"\" executes Python commands with implicit conversion of python objects into Julia data type."
   ]
  },
  {
   "cell_type": "code",
   "execution_count": 2,
   "metadata": {},
   "outputs": [
    {
     "data": {
      "text/plain": [
       "5"
      ]
     },
     "execution_count": 2,
     "metadata": {},
     "output_type": "execute_result"
    }
   ],
   "source": [
    "py\"1+4\" # returns julia numeric value by implicit conversion"
   ]
  },
  {
   "cell_type": "code",
   "execution_count": 3,
   "metadata": {},
   "outputs": [
    {
     "data": {
      "text/plain": [
       "RObject{RealSxp}\n",
       "[1] 2\n"
      ]
     },
     "execution_count": 3,
     "metadata": {},
     "output_type": "execute_result"
    }
   ],
   "source": [
    "R\"result=1+1\" # returns an RObject"
   ]
  },
  {
   "cell_type": "code",
   "execution_count": 4,
   "metadata": {},
   "outputs": [
    {
     "data": {
      "text/plain": [
       "2.0"
      ]
     },
     "execution_count": 4,
     "metadata": {},
     "output_type": "execute_result"
    }
   ],
   "source": [
    "@rget result # use @rget macro to copy value from R to Julia"
   ]
  },
  {
   "cell_type": "code",
   "execution_count": 5,
   "metadata": {},
   "outputs": [
    {
     "data": {
      "text/plain": [
       "2.0"
      ]
     },
     "execution_count": 5,
     "metadata": {},
     "output_type": "execute_result"
    }
   ],
   "source": [
    "R\"1+1\" |> rcopy # or use rcopy to directoy convert R object into Julia data type "
   ]
  },
  {
   "cell_type": "markdown",
   "metadata": {},
   "source": [
    "### Defining a function in Python"
   ]
  },
  {
   "cell_type": "code",
   "execution_count": 6,
   "metadata": {},
   "outputs": [],
   "source": [
    "py\"\"\"\n",
    "\n",
    "import numpy as np\n",
    "\n",
    "def mysin(x):\n",
    "   return np.sin(x)\n",
    "\"\"\""
   ]
  },
  {
   "cell_type": "code",
   "execution_count": 7,
   "metadata": {},
   "outputs": [
    {
     "data": {
      "text/plain": [
       "-0.5440211108893699"
      ]
     },
     "execution_count": 7,
     "metadata": {},
     "output_type": "execute_result"
    }
   ],
   "source": [
    "py\"mysin(10)\" # calling python function"
   ]
  },
  {
   "cell_type": "code",
   "execution_count": 8,
   "metadata": {},
   "outputs": [
    {
     "data": {
      "text/plain": [
       "-0.5440211108893699"
      ]
     },
     "execution_count": 8,
     "metadata": {},
     "output_type": "execute_result"
    }
   ],
   "source": [
    "py\"np.sin(10)\"  # calling directly numpy sin function"
   ]
  },
  {
   "cell_type": "code",
   "execution_count": 9,
   "metadata": {},
   "outputs": [
    {
     "data": {
      "text/plain": [
       "-0.5440211108893699"
      ]
     },
     "execution_count": 9,
     "metadata": {},
     "output_type": "execute_result"
    }
   ],
   "source": [
    "pyimport(\"numpy\").sin(10) # import numpy and call sin directly"
   ]
  },
  {
   "cell_type": "markdown",
   "metadata": {},
   "source": [
    "### Defining a function in R"
   ]
  },
  {
   "cell_type": "code",
   "execution_count": 10,
   "metadata": {},
   "outputs": [],
   "source": [
    "R\"\"\"\n",
    "mysin <- function(x) {\n",
    "   sin(x)\n",
    "}\n",
    "\"\"\";"
   ]
  },
  {
   "cell_type": "code",
   "execution_count": 11,
   "metadata": {},
   "outputs": [
    {
     "data": {
      "text/plain": [
       "-0.5440211108893699"
      ]
     },
     "execution_count": 11,
     "metadata": {},
     "output_type": "execute_result"
    }
   ],
   "source": [
    "R\"mysin(10)\" |> rcopy   # R\"\" returns an object which rcopy converts to Julia data"
   ]
  },
  {
   "cell_type": "markdown",
   "metadata": {},
   "source": [
    "## Copying from-to R/Julia"
   ]
  },
  {
   "cell_type": "code",
   "execution_count": 12,
   "metadata": {},
   "outputs": [
    {
     "data": {
      "text/html": [
       "<table class=\"data-frame\"><thead><tr><th></th><th>Sepal_Length</th><th>Sepal_Width</th><th>Petal_Length</th><th>Petal_Width</th><th>Species</th></tr><tr><th></th><th>Float64</th><th>Float64</th><th>Float64</th><th>Float64</th><th>Cat…</th></tr></thead><tbody><p>5 rows × 5 columns</p><tr><th>1</th><td>5.1</td><td>3.5</td><td>1.4</td><td>0.2</td><td>setosa</td></tr><tr><th>2</th><td>4.9</td><td>3.0</td><td>1.4</td><td>0.2</td><td>setosa</td></tr><tr><th>3</th><td>4.7</td><td>3.2</td><td>1.3</td><td>0.2</td><td>setosa</td></tr><tr><th>4</th><td>4.6</td><td>3.1</td><td>1.5</td><td>0.2</td><td>setosa</td></tr><tr><th>5</th><td>5.0</td><td>3.6</td><td>1.4</td><td>0.2</td><td>setosa</td></tr></tbody></table>"
      ],
      "text/latex": [
       "\\begin{tabular}{r|ccccc}\n",
       "\t& Sepal\\_Length & Sepal\\_Width & Petal\\_Length & Petal\\_Width & Species\\\\\n",
       "\t\\hline\n",
       "\t& Float64 & Float64 & Float64 & Float64 & Cat…\\\\\n",
       "\t\\hline\n",
       "\t1 & 5.1 & 3.5 & 1.4 & 0.2 & setosa \\\\\n",
       "\t2 & 4.9 & 3.0 & 1.4 & 0.2 & setosa \\\\\n",
       "\t3 & 4.7 & 3.2 & 1.3 & 0.2 & setosa \\\\\n",
       "\t4 & 4.6 & 3.1 & 1.5 & 0.2 & setosa \\\\\n",
       "\t5 & 5.0 & 3.6 & 1.4 & 0.2 & setosa \\\\\n",
       "\\end{tabular}\n"
      ],
      "text/plain": [
       "\u001b[1m5×5 DataFrame\u001b[0m\n",
       "\u001b[1m Row \u001b[0m│\u001b[1m Sepal_Length \u001b[0m\u001b[1m Sepal_Width \u001b[0m\u001b[1m Petal_Length \u001b[0m\u001b[1m Petal_Width \u001b[0m\u001b[1m Species \u001b[0m\n",
       "\u001b[1m     \u001b[0m│\u001b[90m Float64      \u001b[0m\u001b[90m Float64     \u001b[0m\u001b[90m Float64      \u001b[0m\u001b[90m Float64     \u001b[0m\u001b[90m Cat…    \u001b[0m\n",
       "─────┼───────────────────────────────────────────────────────────────\n",
       "   1 │          5.1          3.5           1.4          0.2  setosa\n",
       "   2 │          4.9          3.0           1.4          0.2  setosa\n",
       "   3 │          4.7          3.2           1.3          0.2  setosa\n",
       "   4 │          4.6          3.1           1.5          0.2  setosa\n",
       "   5 │          5.0          3.6           1.4          0.2  setosa"
      ]
     },
     "execution_count": 12,
     "metadata": {},
     "output_type": "execute_result"
    }
   ],
   "source": [
    "iris = R\"iris\" |> rcopy # copy iris dataset from R to Julia\n",
    "iris |> (x->first(x,5))"
   ]
  },
  {
   "cell_type": "code",
   "execution_count": 13,
   "metadata": {},
   "outputs": [
    {
     "data": {
      "text/html": [
       "<table class=\"data-frame\"><thead><tr><th></th><th>a</th><th>b</th></tr><tr><th></th><th>Float64</th><th>Float64</th></tr></thead><tbody><p>5 rows × 2 columns</p><tr><th>1</th><td>0.962206</td><td>0.850389</td></tr><tr><th>2</th><td>0.562167</td><td>0.971044</td></tr><tr><th>3</th><td>0.786401</td><td>0.203564</td></tr><tr><th>4</th><td>0.946357</td><td>0.255096</td></tr><tr><th>5</th><td>0.710502</td><td>0.571561</td></tr></tbody></table>"
      ],
      "text/latex": [
       "\\begin{tabular}{r|cc}\n",
       "\t& a & b\\\\\n",
       "\t\\hline\n",
       "\t& Float64 & Float64\\\\\n",
       "\t\\hline\n",
       "\t1 & 0.962206 & 0.850389 \\\\\n",
       "\t2 & 0.562167 & 0.971044 \\\\\n",
       "\t3 & 0.786401 & 0.203564 \\\\\n",
       "\t4 & 0.946357 & 0.255096 \\\\\n",
       "\t5 & 0.710502 & 0.571561 \\\\\n",
       "\\end{tabular}\n"
      ],
      "text/plain": [
       "\u001b[1m5×2 DataFrame\u001b[0m\n",
       "\u001b[1m Row \u001b[0m│\u001b[1m a        \u001b[0m\u001b[1m b        \u001b[0m\n",
       "\u001b[1m     \u001b[0m│\u001b[90m Float64  \u001b[0m\u001b[90m Float64  \u001b[0m\n",
       "─────┼────────────────────\n",
       "   1 │ 0.962206  0.850389\n",
       "   2 │ 0.562167  0.971044\n",
       "   3 │ 0.786401  0.203564\n",
       "   4 │ 0.946357  0.255096\n",
       "   5 │ 0.710502  0.571561"
      ]
     },
     "execution_count": 13,
     "metadata": {},
     "output_type": "execute_result"
    }
   ],
   "source": [
    "df = DataFrame(a=rand(5),b=rand(5)) # create dataframe"
   ]
  },
  {
   "cell_type": "code",
   "execution_count": 14,
   "metadata": {},
   "outputs": [
    {
     "data": {
      "text/html": [
       "<table class=\"data-frame\"><thead><tr><th></th><th>a</th><th>b</th></tr><tr><th></th><th>Float64</th><th>Float64</th></tr></thead><tbody><p>5 rows × 2 columns</p><tr><th>1</th><td>0.962206</td><td>0.850389</td></tr><tr><th>2</th><td>0.562167</td><td>0.971044</td></tr><tr><th>3</th><td>0.786401</td><td>0.203564</td></tr><tr><th>4</th><td>0.946357</td><td>0.255096</td></tr><tr><th>5</th><td>0.710502</td><td>0.571561</td></tr></tbody></table>"
      ],
      "text/latex": [
       "\\begin{tabular}{r|cc}\n",
       "\t& a & b\\\\\n",
       "\t\\hline\n",
       "\t& Float64 & Float64\\\\\n",
       "\t\\hline\n",
       "\t1 & 0.962206 & 0.850389 \\\\\n",
       "\t2 & 0.562167 & 0.971044 \\\\\n",
       "\t3 & 0.786401 & 0.203564 \\\\\n",
       "\t4 & 0.946357 & 0.255096 \\\\\n",
       "\t5 & 0.710502 & 0.571561 \\\\\n",
       "\\end{tabular}\n"
      ],
      "text/plain": [
       "\u001b[1m5×2 DataFrame\u001b[0m\n",
       "\u001b[1m Row \u001b[0m│\u001b[1m a        \u001b[0m\u001b[1m b        \u001b[0m\n",
       "\u001b[1m     \u001b[0m│\u001b[90m Float64  \u001b[0m\u001b[90m Float64  \u001b[0m\n",
       "─────┼────────────────────\n",
       "   1 │ 0.962206  0.850389\n",
       "   2 │ 0.562167  0.971044\n",
       "   3 │ 0.786401  0.203564\n",
       "   4 │ 0.946357  0.255096\n",
       "   5 │ 0.710502  0.571561"
      ]
     },
     "execution_count": 14,
     "metadata": {},
     "output_type": "execute_result"
    }
   ],
   "source": [
    "@rput df # copy df to R"
   ]
  },
  {
   "cell_type": "code",
   "execution_count": 15,
   "metadata": {},
   "outputs": [
    {
     "data": {
      "text/plain": [
       "RObject{VecSxp}\n",
       "          a         b\n",
       "1 0.9622061 0.8503888\n",
       "2 0.5621671 0.9710441\n",
       "3 0.7864015 0.2035640\n",
       "4 0.9463574 0.2550957\n",
       "5 0.7105016 0.5715613\n"
      ]
     },
     "execution_count": 15,
     "metadata": {},
     "output_type": "execute_result"
    }
   ],
   "source": [
    "R\"df\" # check if R got df"
   ]
  },
  {
   "cell_type": "markdown",
   "metadata": {},
   "source": [
    "### Plotting with R and Python"
   ]
  },
  {
   "cell_type": "code",
   "execution_count": 16,
   "metadata": {},
   "outputs": [
    {
     "data": {
      "image/png": "[encoded data removed]"
     },
     "metadata": {},
     "output_type": "display_data"
    },
    {
     "data": {
      "text/plain": [
       "RObject{VecSxp}\n"
      ]
     },
     "execution_count": 16,
     "metadata": {},
     "output_type": "execute_result"
    }
   ],
   "source": [
    "R\"\"\"\n",
    "library(ggplot2)\n",
    "\n",
    "ggplot(iris,aes(x=Sepal.Length,y=Petal.Width))+geom_point(aes(color=Species))\n",
    "\"\"\""
   ]
  },
  {
   "cell_type": "code",
   "execution_count": 17,
   "metadata": {},
   "outputs": [],
   "source": [
    "# won't run in binder\n",
    "py\"\"\"\n",
    "import matplotlib.pyplot as plt\n",
    "from mpl_toolkits.mplot3d import Axes3D\n",
    "from sklearn import datasets\n",
    "from sklearn.decomposition import PCA\n",
    "\n",
    "# import some data to play with\n",
    "iris = datasets.load_iris()\n",
    "X = iris.data[:, :2]  # we only take the first two features.\n",
    "y = iris.target\n",
    "\n",
    "x_min, x_max = X[:, 0].min() - .5, X[:, 0].max() + .5\n",
    "y_min, y_max = X[:, 1].min() - .5, X[:, 1].max() + .5\n",
    "\n",
    "plt.figure(2, figsize=(8, 6))\n",
    "plt.clf()\n",
    "\n",
    "# Plot the training points\n",
    "plt.scatter(X[:, 0], X[:, 1], c=y, cmap=plt.cm.Set1,\n",
    "            edgecolor='k')\n",
    "plt.xlabel('Sepal length')\n",
    "plt.ylabel('Sepal width')\n",
    "\n",
    "plt.xlim(x_min, x_max)\n",
    "plt.ylim(y_min, y_max)\n",
    "plt.xticks(())\n",
    "plt.yticks(())\n",
    "\n",
    "# To getter a better understanding of interaction of the dimensions\n",
    "# plot the first three PCA dimensions\n",
    "fig = plt.figure(1, figsize=(8, 6))\n",
    "ax = Axes3D(fig, elev=-150, azim=110)\n",
    "X_reduced = PCA(n_components=3).fit_transform(iris.data)\n",
    "ax.scatter(X_reduced[:, 0], X_reduced[:, 1], X_reduced[:, 2], c=y,\n",
    "           cmap=plt.cm.Set1, edgecolor='k', s=40)\n",
    "ax.set_title(\"First three PCA directions\")\n",
    "ax.set_xlabel(\"1st eigenvector\")\n",
    "ax.w_xaxis.set_ticklabels([])\n",
    "ax.set_ylabel(\"2nd eigenvector\")\n",
    "ax.w_yaxis.set_ticklabels([])\n",
    "ax.set_zlabel(\"3rd eigenvector\")\n",
    "ax.w_zaxis.set_ticklabels([])\n",
    "\n",
    "plt.show()\n",
    "\"\"\""
   ]
  },
  {
   "cell_type": "markdown",
   "metadata": {},
   "source": [
    "###   Scikitlearn classifiers using Julia bindings of Python (PyCall.jl)"
   ]
  },
  {
   "cell_type": "markdown",
   "metadata": {},
   "source": [
    "Let's load the `car` dataset for this example.\n",
    "\n",
    "We use `VegaDatasets` a collection of standard datasets popular in Julia. This data lives at https://github.com/vega/vega-datasets and https://cdn.jsdelivr.net/npm/vega-datasets."
   ]
  },
  {
   "cell_type": "code",
   "execution_count": null,
   "metadata": {},
   "outputs": [],
   "source": [
    "using VegaDatasets\n",
    "cars=dataset(\"cars\") |> DataFrame;\n",
    "first(cars,5)"
   ]
  },
  {
   "cell_type": "code",
   "execution_count": null,
   "metadata": {},
   "outputs": [],
   "source": [
    "@rput cars\n",
    "cars = R\"cars = cars[complete.cases(cars),]\" |> rcopy;"
   ]
  },
  {
   "cell_type": "code",
   "execution_count": null,
   "metadata": {},
   "outputs": [],
   "source": [
    "using PyCall\n",
    "LNM = pyimport(\"sklearn.linear_model\");\n",
    "learner=LNM.LogisticRegression()\n",
    "\n",
    "x=cars[:,[2,4,5,6,7]] |> Matrix\n",
    "y=cars[:,:Cylinders] |> Array;\n",
    "\n",
    "model=learner.fit(x, y)\n",
    "yhat = model.predict(x)\n",
    "accuracy = sum(yhat .== y) / length(y)\n",
    "println(\"accuracy: $accuracy\")"
   ]
  },
  {
   "cell_type": "code",
   "execution_count": null,
   "metadata": {},
   "outputs": [],
   "source": [
    "R\"table($yhat,$y)\""
   ]
  },
  {
   "cell_type": "code",
   "execution_count": null,
   "metadata": {},
   "outputs": [],
   "source": [
    "learner"
   ]
  },
  {
   "cell_type": "code",
   "execution_count": null,
   "metadata": {},
   "outputs": [],
   "source": [
    "using ScikitLearn.CrossValidation: cross_val_score\n",
    "\n",
    "KNN = pyimport(\"sklearn.neighbors\")\n",
    "\n",
    "modelKNN = KNN.KNeighborsClassifier(3)\n",
    "\n",
    "cross_val_score(modelKNN, x, y; cv=10)  # 5-fold"
   ]
  },
  {
   "cell_type": "code",
   "execution_count": null,
   "metadata": {},
   "outputs": [],
   "source": [
    "using ScikitLearn.GridSearch: GridSearchCV\n",
    "\n",
    "GS=pyimport(\"sklearn.model_selection\");\n",
    "\n",
    "lbgfs=LNM.LogisticRegression(multi_class=\"auto\",solver=\"lbfgs\")"
   ]
  },
  {
   "cell_type": "code",
   "execution_count": null,
   "metadata": {},
   "outputs": [],
   "source": [
    "gridsearch = GS.GridSearchCV(lbgfs, Dict(:C => 0.1:0.1:2.0))\n",
    "res=gridsearch.fit(x, y)\n",
    "println(\"Best parameters: $(res.best_params_)\")"
   ]
  },
  {
   "cell_type": "code",
   "execution_count": null,
   "metadata": {},
   "outputs": [],
   "source": [
    "Cparams=convert.(Float64,res.cv_results_[\"param_C\"])\n",
    "score = res.cv_results_[\"std_test_score\"]\n",
    "R\"plot($Cparams,$score,type='l')\";"
   ]
  },
  {
   "cell_type": "code",
   "execution_count": null,
   "metadata": {},
   "outputs": [],
   "source": [
    "using PyCall\n",
    "const ENS=pyimport(\"sklearn.ensemble\")\n",
    "const LM=pyimport(\"sklearn.linear_model\")\n",
    "const DA=pyimport(\"sklearn.discriminant_analysis\")\n",
    "const NN=pyimport(\"sklearn.neighbors\")\n",
    "const SVM=pyimport(\"sklearn.svm\")\n",
    "const TREE=pyimport(\"sklearn.tree\")\n",
    "const ANN=pyimport(\"sklearn.neural_network\")\n",
    "const GP=pyimport(\"sklearn.gaussian_process\")\n",
    "const KR=pyimport(\"sklearn.kernel_ridge\")\n",
    "const NB=pyimport(\"sklearn.naive_bayes\")\n",
    "const ISO=pyimport(\"sklearn.isotonic\")"
   ]
  },
  {
   "cell_type": "code",
   "execution_count": null,
   "metadata": {},
   "outputs": [],
   "source": [
    "learners = Dict(\n",
    "  \"AdaBoostClassifier\" => ENS.AdaBoostClassifier,\n",
    "  \"BaggingClassifier\" => ENS.BaggingClassifier,\n",
    "  \"ExtraTreesClassifier\" => ENS.ExtraTreesClassifier,\n",
    "  \"VotingClassifier\" => ENS.VotingClassifier,\n",
    "  \"GradientBoostingClassifier\" => ENS.GradientBoostingClassifier,\n",
    "  \"RandomForestClassifier\" => ENS.RandomForestClassifier,\n",
    "  \"LDA\" => DA.LinearDiscriminantAnalysis,\n",
    "  \"QDA\" => DA.QuadraticDiscriminantAnalysis,\n",
    "  \"LogisticRegression\" => LM.LogisticRegression,\n",
    "  \"PassiveAggressiveClassifier\" => LM.PassiveAggressiveClassifier,\n",
    "  \"RidgeClassifier\" => LM.RidgeClassifier,\n",
    "  \"RidgeClassifierCV\" => LM.RidgeClassifierCV,\n",
    "  \"SGDClassifier\" => LM.SGDClassifier,\n",
    "  \"KNeighborsClassifier\" => NN.KNeighborsClassifier,\n",
    "  \"RadiusNeighborsClassifier\" => NN.RadiusNeighborsClassifier,\n",
    "  \"NearestCentroid\" => NN.NearestCentroid,\n",
    "  \"SVC\" => SVM.SVC,\n",
    "  \"LinearSVC\" => SVM.LinearSVC,\n",
    "  \"NuSVC\" => SVM.NuSVC,\n",
    "  \"MLPClassifier\" => ANN.MLPClassifier,\n",
    "  \"GaussianProcessClassifier\" => GP.GaussianProcessClassifier,\n",
    "  \"DecisionTreeClassifier\" => TREE.DecisionTreeClassifier,\n",
    "  \"GaussianNB\" => NB.GaussianNB,\n",
    "  \"MultinomialNB\" => NB.MultinomialNB,\n",
    "  \"ComplementNB\" => NB.ComplementNB,\n",
    "  \"BernoulliNB\" => NB.BernoulliNB\n",
    ");"
   ]
  },
  {
   "cell_type": "code",
   "execution_count": null,
   "metadata": {},
   "outputs": [],
   "source": [
    "function sktrain(learner,x,y)\n",
    "    model = learner()\n",
    "    xx = x |> Matrix\n",
    "    yy = y |> Array\n",
    "    model.fit(xx,yy)\n",
    "    return model\n",
    "end"
   ]
  },
  {
   "cell_type": "code",
   "execution_count": null,
   "metadata": {},
   "outputs": [],
   "source": [
    "function skpredict(themodel,x)\n",
    "    xx = x |> Matrix\n",
    "    return themodel.predict(xx) |> collect\n",
    "end"
   ]
  },
  {
   "cell_type": "code",
   "execution_count": null,
   "metadata": {},
   "outputs": [],
   "source": [
    "R\"\"\"\n",
    "library('caret')\n",
    "cars = cars[complete.cases(cars),]\n",
    "cars$Cylinders = as.factor(cars$Cylinders)\n",
    "\n",
    "trainIndex <- createDataPartition(cars$Cylinders, p = .8,list=F)\n",
    "train = cars[trainIndex,]\n",
    "test = cars[-trainIndex,]\n",
    "\"\"\"\n",
    "@rget train test;"
   ]
  },
  {
   "cell_type": "code",
   "execution_count": null,
   "metadata": {},
   "outputs": [],
   "source": [
    "xtrain=train[:,[2,4,5,6,7]] |> Matrix\n",
    "ytrain=train[:,:Cylinders] |> Array;\n",
    "xtest=test[:,[2,4,5,6,7]] |> Matrix\n",
    "ytest=test[:,:Cylinders] |> Array;"
   ]
  },
  {
   "cell_type": "markdown",
   "metadata": {},
   "source": [
    "### Try ExtraTrees Classifier"
   ]
  },
  {
   "cell_type": "code",
   "execution_count": null,
   "metadata": {},
   "outputs": [],
   "source": [
    "modelLR = sktrain(learners[\"ExtraTreesClassifier\"],xtrain,ytrain)\n",
    "yhat = skpredict(modelLR,xtest);\n",
    "acc=sum(yhat .== ytest) / length(yhat)"
   ]
  },
  {
   "cell_type": "markdown",
   "metadata": {},
   "source": [
    "### Try AdaBoost Classifier"
   ]
  },
  {
   "cell_type": "code",
   "execution_count": null,
   "metadata": {},
   "outputs": [],
   "source": [
    "modelLR = sktrain(learners[\"AdaBoostClassifier\"],x,y)\n",
    "res = skpredict(modelLR,x);\n",
    "acc=sum(res .== y) / length(y)"
   ]
  },
  {
   "cell_type": "markdown",
   "metadata": {},
   "source": [
    "### Try RandomForest Classifier"
   ]
  },
  {
   "cell_type": "code",
   "execution_count": null,
   "metadata": {},
   "outputs": [],
   "source": [
    "modelLR = sktrain(learners[\"RandomForestClassifier\"],x,y)\n",
    "res = skpredict(modelLR,x);\n",
    "acc=sum(res .== y) / length(y)"
   ]
  },
  {
   "cell_type": "markdown",
   "metadata": {},
   "source": [
    "### Let's use R's Caret to predict Cars' Cylinders"
   ]
  },
  {
   "cell_type": "code",
   "execution_count": null,
   "metadata": {},
   "outputs": [],
   "source": [
    "using RCall\n",
    "R\"\"\"\n",
    "library(caret)\n",
    "library(e1071)\n",
    "library(randomForest)\n",
    "library(xgboost)\n",
    "\"\"\""
   ]
  },
  {
   "cell_type": "code",
   "execution_count": null,
   "metadata": {},
   "outputs": [],
   "source": [
    "function crtrain(learner,x::DataFrame,y::Vector)\n",
    "    xx = x |> DataFrame # DataFrame(x)\n",
    "    yy = y |> Vector\n",
    "    model = rcall(:train,xx,yy,method=learner)\n",
    "    return model\n",
    "end"
   ]
  },
  {
   "cell_type": "code",
   "execution_count": null,
   "metadata": {},
   "outputs": [],
   "source": [
    "function crtpredict(model,x)\n",
    "    xx = x |> DataFrame\n",
    "    res = rcall(:predict,model,xx) #in robj\n",
    "    return rcopy(res) |> collect  # return extracted robj\n",
    "end"
   ]
  },
  {
   "cell_type": "markdown",
   "metadata": {},
   "source": [
    "### Let's try RandForest in R"
   ]
  },
  {
   "cell_type": "code",
   "execution_count": null,
   "metadata": {},
   "outputs": [],
   "source": [
    "xtrain=train[:,[2,4,5,6,7]] |> DataFrame\n",
    "ytrain=train[:,:Cylinders] |> Array;\n",
    "xtest=test[:,[2,4,5,6,7]] |> DataFrame\n",
    "ytest=test[:,:Cylinders] |> Array;"
   ]
  },
  {
   "cell_type": "code",
   "execution_count": null,
   "metadata": {},
   "outputs": [],
   "source": [
    "crtmodel = crtrain(\"rf\",xtrain,ytrain)\n",
    "ypred = crtpredict(crtmodel,xtest);\n",
    "acc = sum(ypred .== ytest) / length(ytest)"
   ]
  },
  {
   "cell_type": "code",
   "execution_count": null,
   "metadata": {},
   "outputs": [],
   "source": [
    "crtmodel = crtrain(\"svmRadial\",xtrain,ytrain)\n",
    "ypred = crtpredict(crtmodel,xtest) \n",
    "sum(ypred .== ytest) / length(ytest)"
   ]
  },
  {
   "cell_type": "code",
   "execution_count": null,
   "metadata": {},
   "outputs": [],
   "source": [
    "crtmodel = crtrain(\"treebag\",xtrain,ytrain)\n",
    "ypred = crtpredict(crtmodel,xtest) \n",
    "sum(ypred .== ytest) / length(ytest)"
   ]
  },
  {
   "cell_type": "code",
   "execution_count": null,
   "metadata": {},
   "outputs": [],
   "source": []
  }
 ],
 "metadata": {
  "@webio": {
   "lastCommId": null,
   "lastKernelId": null
  },
  "kernelspec": {
   "display_name": "Julia 1.6.1",
   "language": "julia",
   "name": "julia-1.6"
  },
  "language_info": {
   "file_extension": ".jl",
   "mimetype": "application/julia",
   "name": "julia",
   "version": "1.6.1"
  }
 },
 "nbformat": 4,
 "nbformat_minor": 2
}
