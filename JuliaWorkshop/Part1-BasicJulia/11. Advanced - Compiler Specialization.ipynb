{
 "cells": [
  {
   "cell_type": "markdown",
   "metadata": {},
   "source": [
    "# Is Julia fast?"
   ]
  },
  {
   "cell_type": "markdown",
   "metadata": {},
   "source": [
    "Julia isn't fast *per se*.\n",
    "\n",
    "One can write terribly slow code in any language, including Julia.\n",
    "\n",
    "So let's ask a different question."
   ]
  },
  {
   "cell_type": "markdown",
   "metadata": {},
   "source": [
    "# *Can* Julia be fast?"
   ]
  },
  {
   "cell_type": "markdown",
   "metadata": {},
   "source": [
    "#### A quick speed comparison"
   ]
  },
  {
   "cell_type": "markdown",
   "metadata": {},
   "source": [
    "Note that the clean and concise Julia implementation is **beating numpy's C implementation for small matrices** and is **on-par for large matrix sizes**.\n",
    "\n",
    "At the same time, the Julia code is *generic* and works for arbitrary types!"
   ]
  },
  {
   "cell_type": "markdown",
   "metadata": {},
   "source": [
    "It even works for non-numerical types. The only requirement is that the type has a *one* (identity element) and a multiplication operation defined."
   ]
  },
  {
   "cell_type": "markdown",
   "metadata": {},
   "source": [
    "Here, `one(String) == \"\"` since the empty string is the identity under multiplication (string concatenation)."
   ]
  },
  {
   "cell_type": "markdown",
   "metadata": {},
   "source": [
    "# How can Julia be fast?"
   ]
  },
  {
   "cell_type": "markdown",
   "metadata": {},
   "source": [
    " \n",
    "**AST = Abstract Syntax Tree**\n",
    "\n",
    "**SSA = Static Single Assignment**\n",
    "\n",
    "**[LLVM](https://de.wikipedia.org/wiki/LLVM) = Low Level Virtual Machine**"
   ]
  },
  {
   "cell_type": "markdown",
   "metadata": {},
   "source": [
    "### Specialization and code inspection"
   ]
  },
  {
   "cell_type": "markdown",
   "metadata": {},
   "source": [
    "**Julia specializes on the types of function arguments.**\n",
    "\n",
    "When a function is called for the first time, Julia compiles efficient machine code for the given input types.\n",
    "\n",
    "If it is called again, the already existing machine code is reused, until we call the function with different input types."
   ]
  },
  {
   "cell_type": "code",
   "execution_count": 1,
   "metadata": {},
   "outputs": [
    {
     "data": {
      "text/plain": [
       "func (generic function with 1 method)"
      ]
     },
     "execution_count": 1,
     "metadata": {},
     "output_type": "execute_result"
    }
   ],
   "source": [
    "func(x,y) = x^2 + y"
   ]
  },
  {
   "cell_type": "code",
   "execution_count": null,
   "metadata": {},
   "outputs": [],
   "source": [
    "@code"
   ]
  },
  {
   "cell_type": "code",
   "execution_count": 3,
   "metadata": {},
   "outputs": [
    {
     "name": "stdout",
     "output_type": "stream",
     "text": [
      "  0.000003 seconds (4 allocations: 160 bytes)\n",
      "  0.000003 seconds (4 allocations: 160 bytes)\n"
     ]
    },
    {
     "data": {
      "text/plain": [
       "3"
      ]
     },
     "execution_count": 3,
     "metadata": {},
     "output_type": "execute_result"
    }
   ],
   "source": [
    "@time func(1,2)\n",
    "@time func(1,2)"
   ]
  },
  {
   "cell_type": "markdown",
   "metadata": {},
   "source": [
    "**First call:** compilation + running the code\n",
    "\n",
    "**Second call:** running the code"
   ]
  },
  {
   "cell_type": "code",
   "execution_count": null,
   "metadata": {},
   "outputs": [],
   "source": [
    "@time func(1,2)"
   ]
  },
  {
   "cell_type": "markdown",
   "metadata": {},
   "source": [
    "If the input types change, Julia compiles a new specialization of the function."
   ]
  },
  {
   "cell_type": "code",
   "execution_count": 6,
   "metadata": {},
   "outputs": [
    {
     "name": "stdout",
     "output_type": "stream",
     "text": [
      "  0.000002 seconds (5 allocations: 176 bytes)\n",
      "  0.000004 seconds (5 allocations: 176 bytes)\n"
     ]
    },
    {
     "data": {
      "text/plain": [
       "6.49"
      ]
     },
     "execution_count": 6,
     "metadata": {},
     "output_type": "execute_result"
    }
   ],
   "source": [
    "@time func(1.3,4.8)\n",
    "@time func(1.3,4.8)"
   ]
  },
  {
   "cell_type": "markdown",
   "metadata": {},
   "source": [
    "We now have two efficient codes, one for all `Int64` inputs and another one for all `Float64` arguments, in the cache."
   ]
  },
  {
   "cell_type": "markdown",
   "metadata": {},
   "source": [
    "### *But I really want to see what happens!*"
   ]
  },
  {
   "cell_type": "markdown",
   "metadata": {},
   "source": [
    "We can inspect the code at all transformation stages with a bunch of macros:\n",
    "\n",
    "* The AST after parsing (**`@macroexpand`**)\n",
    "* The AST after lowering (**`@code_typed`**, **`@code_warntype`**)\n",
    "* The AST after type inference and optimization (**`@code_lowered`**)\n",
    "* The LLVM IR (**`@code_llvm`**)\n",
    "* The assembly machine code (**`@code_native`**)"
   ]
  },
  {
   "cell_type": "code",
   "execution_count": 7,
   "metadata": {},
   "outputs": [
    {
     "data": {
      "text/plain": [
       "CodeInfo(\n",
       "\u001b[90m1 ─\u001b[39m %1 = Base.mul_int(x, x)\u001b[36m::Int64\u001b[39m\n",
       "\u001b[90m│  \u001b[39m %2 = Base.add_int(%1, y)\u001b[36m::Int64\u001b[39m\n",
       "\u001b[90m└──\u001b[39m      return %2\n",
       ") => Int64"
      ]
     },
     "execution_count": 7,
     "metadata": {},
     "output_type": "execute_result"
    }
   ],
   "source": [
    "@code_typed func(1,2)"
   ]
  },
  {
   "cell_type": "code",
   "execution_count": 8,
   "metadata": {},
   "outputs": [
    {
     "data": {
      "text/plain": [
       "CodeInfo(\n",
       "\u001b[90m1 ─\u001b[39m %1 = Core.apply_type(Base.Val, 2)\n",
       "\u001b[90m│  \u001b[39m %2 = (%1)()\n",
       "\u001b[90m│  \u001b[39m %3 = Base.literal_pow(Main.:^, x, %2)\n",
       "\u001b[90m│  \u001b[39m %4 = %3 + y\n",
       "\u001b[90m└──\u001b[39m      return %4\n",
       ")"
      ]
     },
     "execution_count": 8,
     "metadata": {},
     "output_type": "execute_result"
    }
   ],
   "source": [
    "@code_lowered func(1,2)"
   ]
  },
  {
   "cell_type": "code",
   "execution_count": 9,
   "metadata": {},
   "outputs": [
    {
     "name": "stdout",
     "output_type": "stream",
     "text": [
      "\n",
      ";  @ In[1]:1 within `func'\n",
      "define i64 @julia_func_16454(i64, i64) {\n",
      "top:\n",
      "; ┌ @ intfuncs.jl:244 within `literal_pow'\n",
      "; │┌ @ int.jl:54 within `*'\n",
      "    %2 = mul i64 %0, %0\n",
      "; └└\n",
      "; ┌ @ int.jl:53 within `+'\n",
      "   %3 = add i64 %2, %1\n",
      "; └\n",
      "  ret i64 %3\n",
      "}\n"
     ]
    }
   ],
   "source": [
    "@code_llvm func(1,2)"
   ]
  },
  {
   "cell_type": "markdown",
   "metadata": {},
   "source": [
    "We can remove the comments (lines starting with `;` using `debuginfo=:none`)."
   ]
  },
  {
   "cell_type": "code",
   "execution_count": 10,
   "metadata": {},
   "outputs": [
    {
     "name": "stdout",
     "output_type": "stream",
     "text": [
      "\n",
      "define i64 @julia_func_16454(i64, i64) {\n",
      "top:\n",
      "  %2 = mul i64 %0, %0\n",
      "  %3 = add i64 %2, %1\n",
      "  ret i64 %3\n",
      "}\n"
     ]
    }
   ],
   "source": [
    "@code_llvm debuginfo=:none func(1,2)"
   ]
  },
  {
   "cell_type": "code",
   "execution_count": 11,
   "metadata": {},
   "outputs": [
    {
     "name": "stdout",
     "output_type": "stream",
     "text": [
      "\t.section\t__TEXT,__text,regular,pure_instructions\n",
      "; ┌ @ In[1]:1 within `func'\n",
      "; │┌ @ intfuncs.jl:244 within `literal_pow'\n",
      "; ││┌ @ In[1]:1 within `*'\n",
      "\timulq\t%rdi, %rdi\n",
      "; │└└\n",
      "; │┌ @ int.jl:53 within `+'\n",
      "\tleaq\t(%rdi,%rsi), %rax\n",
      "; │└\n",
      "\tretq\n",
      "\tnopl\t(%rax)\n",
      "; └\n"
     ]
    }
   ],
   "source": [
    "@code_native func(1,2)"
   ]
  },
  {
   "cell_type": "markdown",
   "metadata": {},
   "source": [
    "Let's compare this to `Float64` input."
   ]
  },
  {
   "cell_type": "code",
   "execution_count": null,
   "metadata": {},
   "outputs": [],
   "source": [
    "@code_native func(1.2,2.9)"
   ]
  },
  {
   "cell_type": "markdown",
   "metadata": {},
   "source": [
    "## How important is code specialization?"
   ]
  },
  {
   "cell_type": "markdown",
   "metadata": {},
   "source": [
    "Let's try to estimate the performance gain by specialization.\n",
    "\n",
    "We wrap our numbers into a custom type which internally stores them as `Any` to prevent specialization.\n",
    "\n",
    "(This is qualitatively comparable to what Python does.)"
   ]
  },
  {
   "cell_type": "code",
   "execution_count": 12,
   "metadata": {},
   "outputs": [
    {
     "data": {
      "text/plain": [
       "operation (generic function with 2 methods)"
      ]
     },
     "execution_count": 12,
     "metadata": {},
     "output_type": "execute_result"
    }
   ],
   "source": [
    "struct Anything\n",
    "    value::Any\n",
    "end\n",
    "\n",
    "struct Specialized{T<:Number}\n",
    "   value::T \n",
    "end\n",
    "\n",
    "operation(x::Specialized) = x.value^2 + sqrt(x.value)\n",
    "operation(x::Anything) = x.value^2 + sqrt(x.value)"
   ]
  },
  {
   "cell_type": "code",
   "execution_count": 14,
   "metadata": {},
   "outputs": [
    {
     "name": "stdout",
     "output_type": "stream",
     "text": [
      "  1.853 ns (0 allocations: 0 bytes)\n",
      "  67.373 ns (3 allocations: 48 bytes)\n"
     ]
    }
   ],
   "source": [
    "using BenchmarkTools\n",
    "\n",
    "y = Specialized(2.0)\n",
    "@btime operation($y);\n",
    "\n",
    "x = Anything(2.0)\n",
    "@btime operation($x);"
   ]
  },
  {
   "cell_type": "markdown",
   "metadata": {},
   "source": [
    "**That's about an 40 times slowdown!**"
   ]
  },
  {
   "cell_type": "code",
   "execution_count": 15,
   "metadata": {},
   "outputs": [
    {
     "name": "stdout",
     "output_type": "stream",
     "text": [
      "\t.section\t__TEXT,__text,regular,pure_instructions\n",
      "; ┌ @ In[12]:9 within `operation'\n",
      "; │┌ @ intfuncs.jl:244 within `literal_pow'\n",
      "; ││┌ @ In[12]:9 within `*'\n",
      "\tpushq\t%rax\n",
      "\tvmovsd\t(%rdi), %xmm0           ## xmm0 = mem[0],zero\n",
      "; │└└\n",
      "; │┌ @ math.jl:493 within `sqrt'\n",
      "; ││┌ @ float.jl:452 within `<'\n",
      "\tvxorps\t%xmm1, %xmm1, %xmm1\n",
      "\tvucomisd\t%xmm0, %xmm1\n",
      "; ││└\n",
      "\tja\tL29\n",
      "; │└\n",
      "; │┌ @ intfuncs.jl:244 within `literal_pow'\n",
      "; ││┌ @ float.jl:399 within `*'\n",
      "\tvmulsd\t%xmm0, %xmm0, %xmm1\n",
      "; │└└\n",
      "; │┌ @ math.jl:494 within `sqrt'\n",
      "\tvsqrtsd\t%xmm0, %xmm0, %xmm0\n",
      "; │└\n",
      "; │┌ @ float.jl:395 within `+'\n",
      "\tvaddsd\t%xmm0, %xmm1, %xmm0\n",
      "; │└\n",
      "\tpopq\t%rax\n",
      "\tretq\n",
      "; │┌ @ math.jl:493 within `sqrt'\n",
      "L29:\n",
      "\tmovabsq\t$throw_complex_domainerror, %rax\n",
      "\tmovabsq\t$4446453176, %rdi       ## imm = 0x109077DB8\n",
      "\tcallq\t*%rax\n",
      "\tud2\n",
      "\tnopw\t%cs:(%rax,%rax)\n",
      "; └└\n"
     ]
    }
   ],
   "source": [
    "@code_native operation(y)"
   ]
  },
  {
   "cell_type": "code",
   "execution_count": 16,
   "metadata": {},
   "outputs": [
    {
     "name": "stdout",
     "output_type": "stream",
     "text": [
      "\t.section\t__TEXT,__text,regular,pure_instructions\n",
      "; ┌ @ In[12]:10 within `operation'\n",
      "\tpushq\t%rbp\n",
      "\tmovq\t%rsp, %rbp\n",
      "\tpushq\t%r15\n",
      "\tpushq\t%r14\n",
      "\tpushq\t%r12\n",
      "\tpushq\t%rbx\n",
      "\tandq\t$-32, %rsp\n",
      "\tsubq\t$96, %rsp\n",
      "\tmovq\t%rsi, %rbx\n",
      "\tvxorps\t%xmm0, %xmm0, %xmm0\n",
      "\tvmovaps\t%ymm0, 32(%rsp)\n",
      "\tmovq\t%rbx, 72(%rsp)\n",
      "\tmovabsq\t$jl_get_ptls_states_fast, %rax\n",
      "\tvzeroupper\n",
      "\tcallq\t*%rax\n",
      "\tmovq\t%rax, %r14\n",
      "\tmovq\t$4, 32(%rsp)\n",
      "\tmovq\t(%r14), %rax\n",
      "\tmovq\t%rax, 40(%rsp)\n",
      "\tleaq\t32(%rsp), %rax\n",
      "\tmovq\t%rax, (%r14)\n",
      "\tmovq\t(%rbx), %r15\n",
      "; │┌ @ Base.jl:20 within `getproperty'\n",
      "\tmovq\t(%r15), %rax\n",
      "; │└\n",
      "\tmovq\t-8(%rax), %rcx\n",
      "\tmovabsq\t$jl_system_image_data, %rdx\n",
      "\tmovq\t%rdx, (%rsp)\n",
      "\tmovabsq\t$jl_system_image_data, %rdx\n",
      "\tmovq\t%rdx, 8(%rsp)\n",
      "\tshrq\t$4, %rcx\n",
      "\tcmpq\t$281079417, %rcx        ## imm = 0x10C0EE79\n",
      "\tje\tL177\n",
      "\tmovq\t%rax, 16(%rsp)\n",
      "\tmovabsq\t$jl_system_image_data, %rax\n",
      "\tmovq\t%rax, 24(%rsp)\n",
      "\tmovabsq\t$jl_apply_generic, %rax\n",
      "\tmovq\t%rsp, %rdi\n",
      "\tmovl\t$4, %esi\n",
      "\tcallq\t*%rax\n",
      "\tmovq\t%rax, %rbx\n",
      "\tjmp\tL240\n",
      "L177:\n",
      "\tmovabsq\t$jl_system_image_data, %rax\n",
      "\tmovq\t%rax, 16(%rsp)\n",
      "\tmovabsq\t$jl_system_image_data, %rax\n",
      "\tmovq\t%rax, 24(%rsp)\n",
      "\tmovabsq\t$jl_invoke, %rax\n",
      "\tmovabsq\t$4403987216, %rdi       ## imm = 0x1067F8310\n",
      "\tmovq\t%rsp, %rsi\n",
      "\tmovl\t$4, %edx\n",
      "\tcallq\t*%rax\n",
      "\tmovq\t%rax, %rbx\n",
      "; │┌ @ Base.jl:20 within `getproperty'\n",
      "L240:\n",
      "\tmovq\t(%r15), %rax\n",
      "\tmovq\t%rbx, 56(%rsp)\n",
      "; │└\n",
      "\tmovabsq\t$jl_system_image_data, %rcx\n",
      "\tmovq\t%rcx, (%rsp)\n",
      "\tmovq\t%rax, 8(%rsp)\n",
      "\tmovabsq\t$jl_apply_generic, %r12\n",
      "\tmovq\t%rsp, %r15\n",
      "\tmovl\t$2, %esi\n",
      "\tmovq\t%r15, %rdi\n",
      "\tcallq\t*%r12\n",
      "\tmovq\t%rax, 48(%rsp)\n",
      "\tmovabsq\t$jl_system_image_data, %rcx\n",
      "\tmovq\t%rcx, (%rsp)\n",
      "\tmovq\t%rbx, 8(%rsp)\n",
      "\tmovq\t%rax, 16(%rsp)\n",
      "\tmovl\t$3, %esi\n",
      "\tmovq\t%r15, %rdi\n",
      "\tcallq\t*%r12\n",
      "\tmovq\t40(%rsp), %rcx\n",
      "\tmovq\t%rcx, (%r14)\n",
      "\tleaq\t-32(%rbp), %rsp\n",
      "\tpopq\t%rbx\n",
      "\tpopq\t%r12\n",
      "\tpopq\t%r14\n",
      "\tpopq\t%r15\n",
      "\tpopq\t%rbp\n",
      "\tretq\n",
      "; └\n"
     ]
    }
   ],
   "source": [
    "@code_native operation(x)"
   ]
  },
  {
   "cell_type": "markdown",
   "metadata": {},
   "source": [
    "# Make run-time the fun time."
   ]
  },
  {
   "cell_type": "markdown",
   "metadata": {},
   "source": [
    "In scientific computations, we typically run a piece of code many times over and over again. Think of a Monte Carlo simulation, for example, where we perform the update and the Metropolis check millions of times.\n",
    "\n",
    "**Therefore, we want our run-time to be as short as possible.**\n",
    "\n",
    "On the other hand, for a given set of input arguments, Julia compiles the piece of code only once, as we have seen above. The time it takes to compile our code is almost always negligible compared to the duration of the full computation.\n",
    "\n",
    "A general strategy is therefore to move parts of the computation to compile-time."
   ]
  },
  {
   "cell_type": "markdown",
   "metadata": {},
   "source": [
    "Since Julia specializes on types, at compile-time **only type information is available to the compiler.**"
   ]
  },
  {
   "cell_type": "code",
   "execution_count": null,
   "metadata": {},
   "outputs": [],
   "source": [
    "f1(x::Int) = x + 1\n",
    "f2(x::Int) = x + 2\n",
    "\n",
    "function f_slow(x::Int, p::Bool)\n",
    "    if p                                # check depends on the value of p\n",
    "        return f1(x)\n",
    "    else\n",
    "        return f2(x)\n",
    "    end\n",
    "end"
   ]
  },
  {
   "cell_type": "code",
   "execution_count": null,
   "metadata": {},
   "outputs": [],
   "source": [
    "@code_llvm debuginfo=:none f_slow(1, true)"
   ]
  },
  {
   "cell_type": "markdown",
   "metadata": {},
   "source": [
    "We can eliminate the if branch by moving the condition check to the type domain. This way, it **will only be evaluated once at compile-time.**"
   ]
  },
  {
   "cell_type": "code",
   "execution_count": null,
   "metadata": {},
   "outputs": [],
   "source": [
    "abstract type Boolean end\n",
    "struct True <: Boolean end # type domain true\n",
    "struct False <: Boolean end # type domain false\n",
    "\n",
    "function f_fast(x::Int, p::Boolean)\n",
    "    if typeof(p) == True                # check solely based on the type of p\n",
    "        return f1(x)\n",
    "    else\n",
    "        return f2(x)\n",
    "    end\n",
    "end"
   ]
  },
  {
   "cell_type": "code",
   "execution_count": null,
   "metadata": {},
   "outputs": [],
   "source": [
    "@code_llvm debuginfo=:none f_fast(1, True())"
   ]
  },
  {
   "cell_type": "markdown",
   "metadata": {},
   "source": [
    "# Are explicit type annotations necessary? (like in C or Fortran)"
   ]
  },
  {
   "cell_type": "markdown",
   "metadata": {},
   "source": [
    "Note that Julia's type inference is powerful. Specifying types **is not** necessary for best performance!"
   ]
  },
  {
   "cell_type": "code",
   "execution_count": null,
   "metadata": {},
   "outputs": [],
   "source": [
    "function my_function(x)\n",
    "    y = rand()\n",
    "    z = rand()\n",
    "    x+y+z\n",
    "end\n",
    "\n",
    "function my_function_typed(x::Int)::Float64\n",
    "    y::Float64 = rand()\n",
    "    z::Float64 = rand()\n",
    "    x+y+z\n",
    "end"
   ]
  },
  {
   "cell_type": "code",
   "execution_count": null,
   "metadata": {},
   "outputs": [],
   "source": [
    "@btime my_function(10);\n",
    "@btime my_function_typed(10);"
   ]
  },
  {
   "cell_type": "markdown",
   "metadata": {},
   "source": [
    " However, annotating types explicitly can serve a purpose.\n",
    "\n",
    "* **Define a user interface/type filter** (will throw error if incompatible type is given)\n",
    "* Enforce conversions\n",
    "* Rarely, help the compiler infer types in tricky situations"
   ]
  },
  {
   "cell_type": "markdown",
   "metadata": {},
   "source": [
    "# Core messages of this Notebook\n",
    "\n",
    "* Julia **can be fast.**\n",
    "* **A function is compiled when called for the first time** with a given set of argument types.\n",
    "* The are **multiple compilation steps** all of which can be inspected through macros like `@code_warntype`.\n",
    "* **Code specialization** based on the types of all of the input arguments is important for speed.\n",
    "* Calculations can be moved to compile-time to make run-time faster.\n",
    "* In virtually all cases, **explicit type annotations are irrelevant for performance**.\n",
    "* Type annotations in function signatures define a **type filter/user interface**."
   ]
  }
 ],
 "metadata": {
  "@webio": {
   "lastCommId": null,
   "lastKernelId": null
  },
  "kernelspec": {
   "display_name": "Julia 1.2.0",
   "language": "julia",
   "name": "julia-1.2"
  },
  "language_info": {
   "file_extension": ".jl",
   "mimetype": "application/julia",
   "name": "julia",
   "version": "1.2.0"
  }
 },
 "nbformat": 4,
 "nbformat_minor": 4
}
