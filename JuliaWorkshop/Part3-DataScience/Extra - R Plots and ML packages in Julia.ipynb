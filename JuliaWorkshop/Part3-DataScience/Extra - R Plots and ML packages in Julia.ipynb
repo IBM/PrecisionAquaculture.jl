{
 "cells": [
  {
   "cell_type": "markdown",
   "metadata": {},
   "source": [
    "## Load RCall\n",
    "- run R instance in the background\n",
    "- establish connection between Julia and R\n",
    "- uses the R_HOME or default R location in certain OS to run R binary\n"
   ]
  },
  {
   "cell_type": "code",
   "execution_count": null,
   "metadata": {},
   "outputs": [],
   "source": [
    "using RCall"
   ]
  },
  {
   "cell_type": "markdown",
   "metadata": {},
   "source": [
    "## R\"\" string macro\n",
    "- easiest way to interface with R\n",
    "- exact R statements\n",
    "- returns an R object which can be converted to Julia using rcopy"
   ]
  },
  {
   "cell_type": "code",
   "execution_count": null,
   "metadata": {},
   "outputs": [],
   "source": [
    "aq_j=R\"airquality\" |> rcopy # get an R data and covert to julia dataframe"
   ]
  },
  {
   "cell_type": "code",
   "execution_count": null,
   "metadata": {},
   "outputs": [],
   "source": [
    "first(aq_j,3)  # convert to Julia dataframe"
   ]
  },
  {
   "cell_type": "code",
   "execution_count": null,
   "metadata": {},
   "outputs": [],
   "source": [
    "using DataVoyager\n",
    "aq_j |> Voyager"
   ]
  },
  {
   "cell_type": "code",
   "execution_count": null,
   "metadata": {},
   "outputs": [],
   "source": [
    "using DataVoyager"
   ]
  },
  {
   "cell_type": "markdown",
   "metadata": {},
   "source": [
    "## Let's load ggplot2 and plot airquality"
   ]
  },
  {
   "cell_type": "code",
   "execution_count": null,
   "metadata": {},
   "outputs": [],
   "source": [
    "R\"library(ggplot2)\""
   ]
  },
  {
   "cell_type": "code",
   "execution_count": null,
   "metadata": {},
   "outputs": [],
   "source": [
    "p1=R\"ggplot(data=airquality)+geom_point(aes(x=Wind,y=Solar.R,color=Temp))\""
   ]
  },
  {
   "cell_type": "code",
   "execution_count": null,
   "metadata": {},
   "outputs": [],
   "source": [
    "p1=R\"ggplot(data=airquality)+geom_point(aes(x=Wind,y=Ozone,color=Temp))+facet_grid(Month ~ .)\""
   ]
  },
  {
   "cell_type": "code",
   "execution_count": null,
   "metadata": {},
   "outputs": [],
   "source": [
    "rcopy(p1) # translate robj to julia which is a dictionary type"
   ]
  },
  {
   "cell_type": "code",
   "execution_count": null,
   "metadata": {},
   "outputs": [],
   "source": [
    "p1=R\"ggplot(data=airquality)+geom_point(aes(x=Ozone,y=Solar.R,color=Temp))\""
   ]
  },
  {
   "cell_type": "code",
   "execution_count": null,
   "metadata": {},
   "outputs": [],
   "source": [
    "R\"plot(airquality)\""
   ]
  },
  {
   "cell_type": "code",
   "execution_count": null,
   "metadata": {},
   "outputs": [],
   "source": [
    "R\"library(randomForest)\""
   ]
  },
  {
   "cell_type": "code",
   "execution_count": null,
   "metadata": {},
   "outputs": [],
   "source": [
    "R\"rfmodel=randomForest(Temp ~ .,data=airquality,na.action=na.omit)\" # regression"
   ]
  },
  {
   "cell_type": "code",
   "execution_count": null,
   "metadata": {},
   "outputs": [],
   "source": [
    "R\"varImpPlot(rfmodel)\""
   ]
  },
  {
   "cell_type": "code",
   "execution_count": null,
   "metadata": {},
   "outputs": [],
   "source": [
    "R\"rfmodel\""
   ]
  },
  {
   "cell_type": "code",
   "execution_count": null,
   "metadata": {},
   "outputs": [],
   "source": [
    "R\"randomForest(as.factor(Month) ~ .,data=airquality,na.action=na.omit)\" # classification"
   ]
  },
  {
   "cell_type": "code",
   "execution_count": null,
   "metadata": {},
   "outputs": [],
   "source": [
    "R\"library(caret)\""
   ]
  },
  {
   "cell_type": "markdown",
   "metadata": {},
   "source": [
    "## Train model using Caret\n",
    "This function sets up a grid of tuning parameters for a number of classification and regression routines, fits each model and calculates a resampling based performance measure.\n",
    "\n",
    "For particular model, a grid of parameters (if any) is created and the model is trained on slightly different data for each candidate combination of tuning parameters. Across each data set, the performance of held-out samples is calculated and the mean and standard deviation is summarized for each combination. The combination with the optimal resampling statistic is chosen as the final model and the entire training set is used to fit a final model.\n",
    "\n",
    "For Random Forest model (`rf` in method below), the hyperparameter interrogated is `mtry` which denotes the number of variables randomly sampled as candidates at each split. "
   ]
  },
  {
   "cell_type": "code",
   "execution_count": null,
   "metadata": {},
   "outputs": [],
   "source": [
    "R\"crf=train(Temp ~ .,data=airquality,method='rf',na.action=na.omit)\""
   ]
  },
  {
   "cell_type": "markdown",
   "metadata": {},
   "source": [
    "The train function can be used to\n",
    "\n",
    "  -  evaluate, using resampling, the effect of model tuning parameters on performance\n",
    "  -  choose the “optimal” model across these parameters\n",
    "  -  estimate model performance from a training set\n"
   ]
  },
  {
   "cell_type": "code",
   "execution_count": null,
   "metadata": {},
   "outputs": [],
   "source": [
    "R\"ctreebag=train(Temp ~ .,data=airquality,method='treebag',na.action=na.omit)\""
   ]
  },
  {
   "cell_type": "code",
   "execution_count": null,
   "metadata": {},
   "outputs": [],
   "source": [
    "crf_j=rcopy(@rget crf);\n",
    "ctreebag_j=rcopy(@rget ctreebag)"
   ]
  },
  {
   "cell_type": "markdown",
   "metadata": {},
   "source": [
    "## Grid search for parameter optimization\n",
    "\n",
    "The tuning parameter grid can be specified by the user. The argument tuneGrid can take a data frame with columns for each tuning parameter. The column names should be the same as the fitting function’s arguments. For the `Random Forest (rf)` example this argument would be `mtry` (number of variables randomly sampled as candidates at each split)."
   ]
  },
  {
   "cell_type": "code",
   "execution_count": 30,
   "metadata": {},
   "outputs": [
    {
     "data": {
      "text/plain": [
       "RObject{VecSxp}\n",
       "   .mtry\n",
       "1      1\n",
       "2      2\n",
       "3      3\n",
       "4      4\n",
       "5      5\n",
       "6      6\n",
       "7      7\n",
       "8      8\n",
       "9      9\n",
       "10    10\n"
      ]
     },
     "execution_count": 30,
     "metadata": {},
     "output_type": "execute_result"
    }
   ],
   "source": [
    "R\"tunegrid <- expand.grid(.mtry=c(1:10))\""
   ]
  },
  {
   "cell_type": "markdown",
   "metadata": {},
   "source": [
    "## trainControl\n",
    "The function trainControl generates parameters that further control how models are created, with a large number of possible values. These include:\n",
    "- `method`: The resampling method: \"boot\", \"cv\", \"LOOCV\", \"LGOCV\", \"repeatedcv\", \"timeslice\", \"none\" and \"oob\". \n",
    "- `number` and `repeats`: number controls with the number of folds in K-fold cross-validation or number of resampling iterations for bootstrapping and leave-group-out cross-validation. repeats applied only to repeated K-fold cross-validation. Suppose that method = \"repeatedcv\", number = 10 and repeats = 3,then three separate 10-fold cross-validations are used as the resampling scheme.\n",
    "- `search`: the method adopted to search the hyperparameter space. Common methods are `random` or an exhaustive `grid` search"
   ]
  },
  {
   "cell_type": "code",
   "execution_count": 31,
   "metadata": {},
   "outputs": [
    {
     "data": {
      "text/plain": [
       "RObject{VecSxp}\n",
       "$method\n",
       "[1] \"repeatedcv\"\n",
       "\n",
       "$number\n",
       "[1] 3\n",
       "\n",
       "$repeats\n",
       "[1] 3\n",
       "\n",
       "$search\n",
       "[1] \"grid\"\n",
       "\n",
       "$p\n",
       "[1] 0.75\n",
       "\n",
       "$initialWindow\n",
       "NULL\n",
       "\n",
       "$horizon\n",
       "[1] 1\n",
       "\n",
       "$fixedWindow\n",
       "[1] TRUE\n",
       "\n",
       "$skip\n",
       "[1] 0\n",
       "\n",
       "$verboseIter\n",
       "[1] FALSE\n",
       "\n",
       "$returnData\n",
       "[1] TRUE\n",
       "\n",
       "$returnResamp\n",
       "[1] \"final\"\n",
       "\n",
       "$savePredictions\n",
       "[1] FALSE\n",
       "\n",
       "$classProbs\n",
       "[1] FALSE\n",
       "\n",
       "$summaryFunction\n",
       "function (data, lev = NULL, model = NULL) \n",
       "{\n",
       "    if (is.character(data$obs)) \n",
       "        data$obs <- factor(data$obs, levels = lev)\n",
       "    postResample(data[, \"pred\"], data[, \"obs\"])\n",
       "}\n",
       "<bytecode: 0x7fb1162f6258>\n",
       "<environment: namespace:caret>\n",
       "\n",
       "$selectionFunction\n",
       "[1] \"best\"\n",
       "\n",
       "$preProcOptions\n",
       "$preProcOptions$thresh\n",
       "[1] 0.95\n",
       "\n",
       "$preProcOptions$ICAcomp\n",
       "[1] 3\n",
       "\n",
       "$preProcOptions$k\n",
       "[1] 5\n",
       "\n",
       "$preProcOptions$freqCut\n",
       "[1] 19\n",
       "\n",
       "$preProcOptions$uniqueCut\n",
       "[1] 10\n",
       "\n",
       "$preProcOptions$cutoff\n",
       "[1] 0.9\n",
       "\n",
       "\n",
       "$sampling\n",
       "NULL\n",
       "\n",
       "$index\n",
       "NULL\n",
       "\n",
       "$indexOut\n",
       "NULL\n",
       "\n",
       "$indexFinal\n",
       "NULL\n",
       "\n",
       "$timingSamps\n",
       "[1] 0\n",
       "\n",
       "$predictionBounds\n",
       "[1] FALSE FALSE\n",
       "\n",
       "$seeds\n",
       "[1] NA\n",
       "\n",
       "$adaptive\n",
       "$adaptive$min\n",
       "[1] 5\n",
       "\n",
       "$adaptive$alpha\n",
       "[1] 0.05\n",
       "\n",
       "$adaptive$method\n",
       "[1] \"gls\"\n",
       "\n",
       "$adaptive$complete\n",
       "[1] TRUE\n",
       "\n",
       "\n",
       "$trim\n",
       "[1] FALSE\n",
       "\n",
       "$allowParallel\n",
       "[1] TRUE\n",
       "\n"
      ]
     },
     "execution_count": 31,
     "metadata": {},
     "output_type": "execute_result"
    }
   ],
   "source": [
    "R\"control <- trainControl(method='repeatedcv', number=3, repeats=3, search='grid')\""
   ]
  },
  {
   "cell_type": "code",
   "execution_count": null,
   "metadata": {},
   "outputs": [],
   "source": [
    "R\"crf=train(Temp ~ .,data=airquality,method='rf',na.action=na.omit,tuneGrid=tunegrid, trControl=control)\""
   ]
  },
  {
   "cell_type": "code",
   "execution_count": null,
   "metadata": {},
   "outputs": [],
   "source": [
    "R\"plot(crf)\""
   ]
  },
  {
   "cell_type": "code",
   "execution_count": null,
   "metadata": {},
   "outputs": [],
   "source": [
    "R\"dcomp=airquality[complete.cases(airquality),]\"\n",
    "R\"bestmtry <- tuneRF(dcomp[,-4],dcomp[,4], ntree=500)\""
   ]
  },
  {
   "cell_type": "code",
   "execution_count": null,
   "metadata": {},
   "outputs": [],
   "source": [
    "iris_j=rcopy(R\"iris\")"
   ]
  },
  {
   "cell_type": "code",
   "execution_count": null,
   "metadata": {},
   "outputs": [],
   "source": [
    "model=R\"train(Species ~ .,data=$iris_j,method='rf')\""
   ]
  },
  {
   "cell_type": "code",
   "execution_count": null,
   "metadata": {},
   "outputs": [],
   "source": [
    "rcopy(model)"
   ]
  },
  {
   "cell_type": "code",
   "execution_count": null,
   "metadata": {},
   "outputs": [],
   "source": []
  }
 ],
 "metadata": {
  "@webio": {
   "lastCommId": null,
   "lastKernelId": null
  },
  "kernelspec": {
   "display_name": "Julia 1.6.1",
   "language": "julia",
   "name": "julia-1.6"
  },
  "language_info": {
   "file_extension": ".jl",
   "mimetype": "application/julia",
   "name": "julia",
   "version": "1.6.1"
  }
 },
 "nbformat": 4,
 "nbformat_minor": 2
}
