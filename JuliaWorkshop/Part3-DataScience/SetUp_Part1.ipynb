{
 "cells": [
  {
   "cell_type": "code",
   "execution_count": 2,
   "metadata": {},
   "outputs": [],
   "source": [
    "using Pkg\n",
    "Pkg.activate(\".\")\n",
    "Pkg.instantiate()\n",
    "Pkg.update()"
   ]
  },
  {
   "cell_type": "code",
   "execution_count": 15,
   "metadata": {},
   "outputs": [],
   "source": [
    "Pkg.add(\"PyCall\")\n",
    "Pkg.add(\"RCall\")\n",
    "Pkg.add(\"DataFrames\")\n",
    "Pkg.add(\"DecisionTree\")\n",
    "Pkg.add(\"ScikitLearn\")\n",
    "Pkg.add(\"VegaDatasets\")\n",
    "Pkg.add(\"RDatasets\")"
   ]
  },
  {
   "cell_type": "code",
   "execution_count": 3,
   "metadata": {},
   "outputs": [],
   "source": [
    "Pkg.add(\"TSML\")"
   ]
  },
  {
   "cell_type": "code",
   "execution_count": 11,
   "metadata": {},
   "outputs": [],
   "source": [
    "using BenchmarkTools\n",
    "using IJulia\n",
    "using Libdl\n",
    "using LinearAlgebra\n",
    "using Plots\n",
    "using PyCall\n",
    "using Statistics"
   ]
  },
  {
   "cell_type": "code",
   "execution_count": null,
   "metadata": {},
   "outputs": [],
   "source": [
    "BenchmarkTools = \"6e4b80f9-dd63-53aa-95a3-0cdb28fa8baf\"\n",
    "IJulia = \"7073ff75-c697-5162-941a-fcdaad2a7d2a\"\n",
    "Libdl = \"8f399da3-3557-5675-b5ff-fb832c97cbdb\"\n",
    "LinearAlgebra = \"37e2e46d-f89d-539d-b4ee-838fcccc9c8e\"\n",
    "Plots = \"91a5bcdd-55d7-5caf-9e0b-520d859cae80\"\n",
    "PyCall = \"438e738f-606a-5dbb-bf0a-cddfbfd45ab0\"\n",
    "Statistics = \"10745b16-79ce-11e8-11f9-7d13ad32a3b2\""
   ]
  }
 ],
 "metadata": {
  "kernelspec": {
   "display_name": "Julia 1.6.1",
   "language": "julia",
   "name": "julia-1.6"
  },
  "language_info": {
   "file_extension": ".jl",
   "mimetype": "application/julia",
   "name": "julia",
   "version": "1.6.1"
  }
 },
 "nbformat": 4,
 "nbformat_minor": 4
}
