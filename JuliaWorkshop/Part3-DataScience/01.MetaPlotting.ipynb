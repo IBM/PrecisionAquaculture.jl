{
 "cells": [
  {
   "cell_type": "markdown",
   "metadata": {},
   "source": [
    "# Meta-Plotting\n",
    "\n",
    "Adapted from Tom Breloff notebook: http://www.breloff.com\n",
    "\n",
    "Data visualization is the process of translating large data sets and metrics into charts, graphs and other visuals. The resulting visual representation of data makes it easier to identify and share real-time trends, outliers, and new insights about the information represented in the data.  \n",
    "\n",
    "Data visualization is useful for data cleaning, exploring data structure, detecting outliers and unusual groups, identifying trends and clusters, spotting local patterns, evaluating modeling output, and presenting results. It is essential for exploratory data analysis and data mining to check data quality and to help analysts become familiar with the structure and features of the data before them. This is a part of data analysis that is underplayed in textbooks, yet ever-present in actual investigations. More on visualisation for data science is [here](https://hdsr.mitpress.mit.edu/pub/zok97i7p/release/3)\n",
    "\n",
    "Visualisation allows us to:\n",
    "- Uncover insights and see patterns within complex data without relying on a data scientist.\n",
    "- Understand your next steps and spend less time performing data analysis. Quickly act on decisions.\n",
    "- Share insights with others in an easy-to-understand form.\n",
    "- Have unified view of data and its implications for our application\n"
   ]
  },
  {
   "cell_type": "markdown",
   "metadata": {},
   "source": [
    "First lets instantiate our environment"
   ]
  },
  {
   "cell_type": "code",
   "execution_count": null,
   "metadata": {},
   "outputs": [],
   "source": [
    "using Pkg\n",
    "Pkg.activate(\"../../\")\n",
    "Pkg.instantiate()"
   ]
  },
  {
   "cell_type": "code",
   "execution_count": null,
   "metadata": {},
   "outputs": [],
   "source": [
    "using Plots"
   ]
  },
  {
   "cell_type": "code",
   "execution_count": null,
   "metadata": {},
   "outputs": [],
   "source": [
    "gr()\n",
    "plot(-2π:0.1:2π,[sin, cos])"
   ]
  },
  {
   "cell_type": "code",
   "execution_count": null,
   "metadata": {},
   "outputs": [],
   "source": [
    "linspace(a,b,l)=range(a,stop=b,length=l)\n",
    "x=range(-10,stop=10,length=100)\n",
    "y=range(-10,stop=10,length=100)\n",
    "z(x,y) = sin(x)+cos(y)"
   ]
  },
  {
   "cell_type": "code",
   "execution_count": null,
   "metadata": {},
   "outputs": [],
   "source": [
    "surface(x,y,z)"
   ]
  },
  {
   "cell_type": "code",
   "execution_count": null,
   "metadata": {},
   "outputs": [],
   "source": [
    "x = range(2,stop=40,length=200)\n",
    "surface(x,x,z)"
   ]
  },
  {
   "cell_type": "code",
   "execution_count": null,
   "metadata": {},
   "outputs": [],
   "source": [
    "gr()\n",
    "x = linspace(-5,5,50)\n",
    "y = linspace(-3,10,30)\n",
    "ff(x,y) = sin(x) + x*cos(y)^2\n",
    "sts = [:contour, :heatmap, :surface, :wireframe]\n",
    "plot(x, y, ff, st = sts, layout = length(sts))"
   ]
  },
  {
   "cell_type": "markdown",
   "metadata": {},
   "source": [
    "# Let's make a cool animated plot"
   ]
  },
  {
   "cell_type": "code",
   "execution_count": null,
   "metadata": {},
   "outputs": [],
   "source": [
    "gr(reuse=true);@gif for i in linspace(0,2π,50)\n",
    "    X = Y = linspace(-5,5,40)\n",
    "    surface(X, Y, (x,y) -> sin(x+10cos(i))+cos(y))\n",
    "end"
   ]
  },
  {
   "cell_type": "code",
   "execution_count": null,
   "metadata": {},
   "outputs": [],
   "source": []
  }
 ],
 "metadata": {
  "@webio": {
   "lastCommId": null,
   "lastKernelId": null
  },
  "kernelspec": {
   "display_name": "Julia 1.6.1",
   "language": "julia",
   "name": "julia-1.6"
  },
  "language_info": {
   "file_extension": ".jl",
   "mimetype": "application/julia",
   "name": "julia",
   "version": "1.6.1"
  }
 },
 "nbformat": 4,
 "nbformat_minor": 2
}
